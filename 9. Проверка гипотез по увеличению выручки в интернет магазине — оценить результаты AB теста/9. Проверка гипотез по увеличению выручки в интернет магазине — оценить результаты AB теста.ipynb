{
 "cells": [
  {
   "cell_type": "markdown",
   "metadata": {},
   "source": [
    "# Описание проекта\n",
    "\n",
    "Нужно провести анализ гипотез для увеличения выручки крупного интернет-магазина. Гипотезы подготовлены отделом маркетинга совместно с отделом аналитики.\n",
    "\n",
    "Основные задачи:\n",
    "   - Приоритизировать гипотезы\n",
    "   - Анализ A/B-теста\n",
    "\n",
    "Данные:\n",
    "  - 9 гипотез по увеличению выручки интернет-магазина с указанными параметрами Reach, Impact, Confidence, Effort.\n",
    "  - Результаты проведённых A/B-тестов."
   ]
  },
  {
   "cell_type": "markdown",
   "metadata": {},
   "source": [
    "# Импортируем библиотеки"
   ]
  },
  {
   "cell_type": "code",
   "execution_count": 1,
   "metadata": {},
   "outputs": [],
   "source": [
    "import pandas as pd\n",
    "import numpy as np\n",
    "import matplotlib.pyplot as plt\n",
    "from scipy import stats as stats\n",
    "import datetime as dt\n",
    "import seaborn as sns\n",
    "pd.set_option(\"display.float_format\", \"{:.2f}\".format)\n",
    "pd.options.display.max_colwidth = 1"
   ]
  },
  {
   "cell_type": "markdown",
   "metadata": {},
   "source": [
    "# Загружаем данные"
   ]
  },
  {
   "cell_type": "code",
   "execution_count": 2,
   "metadata": {},
   "outputs": [],
   "source": [
    "hypothesis, orders, visitors = (\n",
    "    pd.read_csv('/datasets/hypothesis.csv'),\n",
    "    pd.read_csv('/datasets/orders.csv'),\n",
    "    pd.read_csv('/datasets/visitors.csv')\n",
    ")"
   ]
  },
  {
   "cell_type": "markdown",
   "metadata": {},
   "source": [
    "## Описание и обзор данных\n",
    "\n",
    "Структура /datasets/hypothesis.csv:\n",
    "\n",
    "- Hypothesis — краткое описание гипотезы;\n",
    "- Reach — охват пользователей по 10-балльной шкале;\n",
    "- Impact — влияние на пользователей по 10-балльной шкале;\n",
    "- Confidence — уверенность в гипотезе по 10-балльной шкале;\n",
    "- Efforts — затраты ресурсов на проверку гипотезы по 10-балльной шкале. \n",
    "\n",
    "Структура /datasets/orders.csv:\n",
    "\n",
    "- transactionId — идентификатор заказа;\n",
    "- visitorId — идентификатор пользователя, совершившего заказ;\n",
    "- date — дата, когда был совершён заказ;\n",
    "- revenue — выручка заказа;\n",
    "- group — группа A/B-теста, в которую попал заказ.\n",
    "\n",
    "Структура /datasets/visitors.csv:\n",
    "\n",
    "- date — дата;\n",
    "- group — группа A/B-теста;\n",
    "- visitors — количество пользователей в указанную дату в указанной группе A/B-теста"
   ]
  },
  {
   "cell_type": "code",
   "execution_count": 3,
   "metadata": {},
   "outputs": [
    {
     "data": {
      "text/html": [
       "<div>\n",
       "<style scoped>\n",
       "    .dataframe tbody tr th:only-of-type {\n",
       "        vertical-align: middle;\n",
       "    }\n",
       "\n",
       "    .dataframe tbody tr th {\n",
       "        vertical-align: top;\n",
       "    }\n",
       "\n",
       "    .dataframe thead th {\n",
       "        text-align: right;\n",
       "    }\n",
       "</style>\n",
       "<table border=\"1\" class=\"dataframe\">\n",
       "  <thead>\n",
       "    <tr style=\"text-align: right;\">\n",
       "      <th></th>\n",
       "      <th>Hypothesis</th>\n",
       "      <th>Reach</th>\n",
       "      <th>Impact</th>\n",
       "      <th>Confidence</th>\n",
       "      <th>Efforts</th>\n",
       "    </tr>\n",
       "  </thead>\n",
       "  <tbody>\n",
       "    <tr>\n",
       "      <th>5</th>\n",
       "      <td>Добавить страницу отзывов клиентов о магазине, что позволит увеличить количество заказов</td>\n",
       "      <td>3</td>\n",
       "      <td>2</td>\n",
       "      <td>2</td>\n",
       "      <td>3</td>\n",
       "    </tr>\n",
       "  </tbody>\n",
       "</table>\n",
       "</div>"
      ],
      "text/plain": [
       "                                                                                 Hypothesis  \\\n",
       "5  Добавить страницу отзывов клиентов о магазине, что позволит увеличить количество заказов   \n",
       "\n",
       "   Reach  Impact  Confidence  Efforts  \n",
       "5  3      2       2           3        "
      ]
     },
     "metadata": {},
     "output_type": "display_data"
    },
    {
     "name": "stdout",
     "output_type": "stream",
     "text": [
      "<class 'pandas.core.frame.DataFrame'>\n",
      "RangeIndex: 9 entries, 0 to 8\n",
      "Data columns (total 5 columns):\n",
      " #   Column      Non-Null Count  Dtype \n",
      "---  ------      --------------  ----- \n",
      " 0   Hypothesis  9 non-null      object\n",
      " 1   Reach       9 non-null      int64 \n",
      " 2   Impact      9 non-null      int64 \n",
      " 3   Confidence  9 non-null      int64 \n",
      " 4   Efforts     9 non-null      int64 \n",
      "dtypes: int64(4), object(1)\n",
      "memory usage: 488.0+ bytes\n"
     ]
    },
    {
     "data": {
      "text/plain": [
       "None"
      ]
     },
     "metadata": {},
     "output_type": "display_data"
    },
    {
     "name": "stdout",
     "output_type": "stream",
     "text": [
      "количество дубликатов: 0\n"
     ]
    },
    {
     "data": {
      "text/html": [
       "<div>\n",
       "<style scoped>\n",
       "    .dataframe tbody tr th:only-of-type {\n",
       "        vertical-align: middle;\n",
       "    }\n",
       "\n",
       "    .dataframe tbody tr th {\n",
       "        vertical-align: top;\n",
       "    }\n",
       "\n",
       "    .dataframe thead th {\n",
       "        text-align: right;\n",
       "    }\n",
       "</style>\n",
       "<table border=\"1\" class=\"dataframe\">\n",
       "  <thead>\n",
       "    <tr style=\"text-align: right;\">\n",
       "      <th></th>\n",
       "      <th>transactionId</th>\n",
       "      <th>visitorId</th>\n",
       "      <th>date</th>\n",
       "      <th>revenue</th>\n",
       "      <th>group</th>\n",
       "    </tr>\n",
       "  </thead>\n",
       "  <tbody>\n",
       "    <tr>\n",
       "      <th>550</th>\n",
       "      <td>3894221956</td>\n",
       "      <td>3584855583</td>\n",
       "      <td>2019-08-29</td>\n",
       "      <td>9750</td>\n",
       "      <td>B</td>\n",
       "    </tr>\n",
       "  </tbody>\n",
       "</table>\n",
       "</div>"
      ],
      "text/plain": [
       "     transactionId   visitorId        date  revenue group\n",
       "550  3894221956     3584855583  2019-08-29  9750     B   "
      ]
     },
     "metadata": {},
     "output_type": "display_data"
    },
    {
     "name": "stdout",
     "output_type": "stream",
     "text": [
      "<class 'pandas.core.frame.DataFrame'>\n",
      "RangeIndex: 1197 entries, 0 to 1196\n",
      "Data columns (total 5 columns):\n",
      " #   Column         Non-Null Count  Dtype \n",
      "---  ------         --------------  ----- \n",
      " 0   transactionId  1197 non-null   int64 \n",
      " 1   visitorId      1197 non-null   int64 \n",
      " 2   date           1197 non-null   object\n",
      " 3   revenue        1197 non-null   int64 \n",
      " 4   group          1197 non-null   object\n",
      "dtypes: int64(3), object(2)\n",
      "memory usage: 46.9+ KB\n"
     ]
    },
    {
     "data": {
      "text/plain": [
       "None"
      ]
     },
     "metadata": {},
     "output_type": "display_data"
    },
    {
     "name": "stdout",
     "output_type": "stream",
     "text": [
      "количество дубликатов: 0\n"
     ]
    },
    {
     "data": {
      "text/html": [
       "<div>\n",
       "<style scoped>\n",
       "    .dataframe tbody tr th:only-of-type {\n",
       "        vertical-align: middle;\n",
       "    }\n",
       "\n",
       "    .dataframe tbody tr th {\n",
       "        vertical-align: top;\n",
       "    }\n",
       "\n",
       "    .dataframe thead th {\n",
       "        text-align: right;\n",
       "    }\n",
       "</style>\n",
       "<table border=\"1\" class=\"dataframe\">\n",
       "  <thead>\n",
       "    <tr style=\"text-align: right;\">\n",
       "      <th></th>\n",
       "      <th>date</th>\n",
       "      <th>group</th>\n",
       "      <th>visitors</th>\n",
       "    </tr>\n",
       "  </thead>\n",
       "  <tbody>\n",
       "    <tr>\n",
       "      <th>8</th>\n",
       "      <td>2019-08-09</td>\n",
       "      <td>A</td>\n",
       "      <td>617</td>\n",
       "    </tr>\n",
       "  </tbody>\n",
       "</table>\n",
       "</div>"
      ],
      "text/plain": [
       "         date group  visitors\n",
       "8  2019-08-09  A     617     "
      ]
     },
     "metadata": {},
     "output_type": "display_data"
    },
    {
     "name": "stdout",
     "output_type": "stream",
     "text": [
      "<class 'pandas.core.frame.DataFrame'>\n",
      "RangeIndex: 62 entries, 0 to 61\n",
      "Data columns (total 3 columns):\n",
      " #   Column    Non-Null Count  Dtype \n",
      "---  ------    --------------  ----- \n",
      " 0   date      62 non-null     object\n",
      " 1   group     62 non-null     object\n",
      " 2   visitors  62 non-null     int64 \n",
      "dtypes: int64(1), object(2)\n",
      "memory usage: 1.6+ KB\n"
     ]
    },
    {
     "data": {
      "text/plain": [
       "None"
      ]
     },
     "metadata": {},
     "output_type": "display_data"
    },
    {
     "name": "stdout",
     "output_type": "stream",
     "text": [
      "количество дубликатов: 0\n"
     ]
    }
   ],
   "source": [
    "for a in [hypothesis, orders, visitors]:\n",
    "    display(a.sample())\n",
    "    display(a.info())\n",
    "    print('количество дубликатов:', a.duplicated().sum())"
   ]
  },
  {
   "cell_type": "markdown",
   "metadata": {},
   "source": [
    "В данных отсутствуют дубликаты и пропуски. Но даты имеют неудобный тип данных и нужно немного поправить регистр."
   ]
  },
  {
   "cell_type": "code",
   "execution_count": 4,
   "metadata": {},
   "outputs": [
    {
     "data": {
      "text/html": [
       "<div>\n",
       "<style scoped>\n",
       "    .dataframe tbody tr th:only-of-type {\n",
       "        vertical-align: middle;\n",
       "    }\n",
       "\n",
       "    .dataframe tbody tr th {\n",
       "        vertical-align: top;\n",
       "    }\n",
       "\n",
       "    .dataframe thead th {\n",
       "        text-align: right;\n",
       "    }\n",
       "</style>\n",
       "<table border=\"1\" class=\"dataframe\">\n",
       "  <thead>\n",
       "    <tr style=\"text-align: right;\">\n",
       "      <th></th>\n",
       "      <th>transaction_id</th>\n",
       "      <th>visitor_id</th>\n",
       "      <th>date</th>\n",
       "      <th>revenue</th>\n",
       "      <th>group</th>\n",
       "    </tr>\n",
       "  </thead>\n",
       "  <tbody>\n",
       "    <tr>\n",
       "      <th>230</th>\n",
       "      <td>3124204494</td>\n",
       "      <td>2927087541</td>\n",
       "      <td>2019-08-23</td>\n",
       "      <td>27550</td>\n",
       "      <td>A</td>\n",
       "    </tr>\n",
       "  </tbody>\n",
       "</table>\n",
       "</div>"
      ],
      "text/plain": [
       "     transaction_id  visitor_id        date  revenue group\n",
       "230  3124204494      2927087541  2019-08-23  27550    A   "
      ]
     },
     "metadata": {},
     "output_type": "display_data"
    },
    {
     "data": {
      "text/html": [
       "<div>\n",
       "<style scoped>\n",
       "    .dataframe tbody tr th:only-of-type {\n",
       "        vertical-align: middle;\n",
       "    }\n",
       "\n",
       "    .dataframe tbody tr th {\n",
       "        vertical-align: top;\n",
       "    }\n",
       "\n",
       "    .dataframe thead th {\n",
       "        text-align: right;\n",
       "    }\n",
       "</style>\n",
       "<table border=\"1\" class=\"dataframe\">\n",
       "  <thead>\n",
       "    <tr style=\"text-align: right;\">\n",
       "      <th></th>\n",
       "      <th>hypothesis</th>\n",
       "      <th>reach</th>\n",
       "      <th>impact</th>\n",
       "      <th>confidence</th>\n",
       "      <th>efforts</th>\n",
       "    </tr>\n",
       "  </thead>\n",
       "  <tbody>\n",
       "    <tr>\n",
       "      <th>5</th>\n",
       "      <td>Добавить страницу отзывов клиентов о магазине, что позволит увеличить количество заказов</td>\n",
       "      <td>3</td>\n",
       "      <td>2</td>\n",
       "      <td>2</td>\n",
       "      <td>3</td>\n",
       "    </tr>\n",
       "  </tbody>\n",
       "</table>\n",
       "</div>"
      ],
      "text/plain": [
       "                                                                                 hypothesis  \\\n",
       "5  Добавить страницу отзывов клиентов о магазине, что позволит увеличить количество заказов   \n",
       "\n",
       "   reach  impact  confidence  efforts  \n",
       "5  3      2       2           3        "
      ]
     },
     "metadata": {},
     "output_type": "display_data"
    }
   ],
   "source": [
    "for a in [hypothesis]:\n",
    "    a.columns = [b.lower() for b in a.columns.values]\n",
    "orders.columns = [x.replace('Id', '_id') for x in orders.columns.values] \n",
    "    \n",
    "orders['date'] = pd.to_datetime(orders['date']).dt.date\n",
    "visitors['date'] = pd.to_datetime(visitors['date']).dt.date\n",
    "\n",
    "display(orders.sample(), hypothesis.sample())"
   ]
  },
  {
   "cell_type": "markdown",
   "metadata": {},
   "source": [
    " ## Приоритезация гипотез"
   ]
  },
  {
   "cell_type": "code",
   "execution_count": 5,
   "metadata": {},
   "outputs": [
    {
     "data": {
      "text/html": [
       "<div>\n",
       "<style scoped>\n",
       "    .dataframe tbody tr th:only-of-type {\n",
       "        vertical-align: middle;\n",
       "    }\n",
       "\n",
       "    .dataframe tbody tr th {\n",
       "        vertical-align: top;\n",
       "    }\n",
       "\n",
       "    .dataframe thead th {\n",
       "        text-align: right;\n",
       "    }\n",
       "</style>\n",
       "<table border=\"1\" class=\"dataframe\">\n",
       "  <thead>\n",
       "    <tr style=\"text-align: right;\">\n",
       "      <th></th>\n",
       "      <th>hypothesis</th>\n",
       "      <th>ICE</th>\n",
       "    </tr>\n",
       "  </thead>\n",
       "  <tbody>\n",
       "    <tr>\n",
       "      <th>8</th>\n",
       "      <td>Запустить акцию, дающую скидку на товар в день рождения</td>\n",
       "      <td>16.20</td>\n",
       "    </tr>\n",
       "    <tr>\n",
       "      <th>0</th>\n",
       "      <td>Добавить два новых канала привлечения трафика, что позволит привлекать на 30% больше пользователей</td>\n",
       "      <td>13.33</td>\n",
       "    </tr>\n",
       "    <tr>\n",
       "      <th>7</th>\n",
       "      <td>Добавить форму подписки на все основные страницы, чтобы собрать базу клиентов для email-рассылок</td>\n",
       "      <td>11.20</td>\n",
       "    </tr>\n",
       "    <tr>\n",
       "      <th>6</th>\n",
       "      <td>Показать на главной странице баннеры с актуальными акциями и распродажами, чтобы увеличить конверсию</td>\n",
       "      <td>8.00</td>\n",
       "    </tr>\n",
       "    <tr>\n",
       "      <th>2</th>\n",
       "      <td>Добавить блоки рекомендаций товаров на сайт интернет магазина, чтобы повысить конверсию и средний чек заказа</td>\n",
       "      <td>7.00</td>\n",
       "    </tr>\n",
       "    <tr>\n",
       "      <th>1</th>\n",
       "      <td>Запустить собственную службу доставки, что сократит срок доставки заказов</td>\n",
       "      <td>2.00</td>\n",
       "    </tr>\n",
       "    <tr>\n",
       "      <th>5</th>\n",
       "      <td>Добавить страницу отзывов клиентов о магазине, что позволит увеличить количество заказов</td>\n",
       "      <td>1.33</td>\n",
       "    </tr>\n",
       "    <tr>\n",
       "      <th>3</th>\n",
       "      <td>Изменить структура категорий, что увеличит конверсию, т.к. пользователи быстрее найдут нужный товар</td>\n",
       "      <td>1.12</td>\n",
       "    </tr>\n",
       "    <tr>\n",
       "      <th>4</th>\n",
       "      <td>Изменить цвет фона главной страницы, чтобы увеличить вовлеченность пользователей</td>\n",
       "      <td>1.00</td>\n",
       "    </tr>\n",
       "  </tbody>\n",
       "</table>\n",
       "</div>"
      ],
      "text/plain": [
       "                                                                                                     hypothesis  \\\n",
       "8  Запустить акцию, дающую скидку на товар в день рождения                                                        \n",
       "0  Добавить два новых канала привлечения трафика, что позволит привлекать на 30% больше пользователей             \n",
       "7  Добавить форму подписки на все основные страницы, чтобы собрать базу клиентов для email-рассылок               \n",
       "6  Показать на главной странице баннеры с актуальными акциями и распродажами, чтобы увеличить конверсию           \n",
       "2  Добавить блоки рекомендаций товаров на сайт интернет магазина, чтобы повысить конверсию и средний чек заказа   \n",
       "1  Запустить собственную службу доставки, что сократит срок доставки заказов                                      \n",
       "5  Добавить страницу отзывов клиентов о магазине, что позволит увеличить количество заказов                       \n",
       "3  Изменить структура категорий, что увеличит конверсию, т.к. пользователи быстрее найдут нужный товар            \n",
       "4  Изменить цвет фона главной страницы, чтобы увеличить вовлеченность пользователей                               \n",
       "\n",
       "    ICE  \n",
       "8 16.20  \n",
       "0 13.33  \n",
       "7 11.20  \n",
       "6 8.00   \n",
       "2 7.00   \n",
       "1 2.00   \n",
       "5 1.33   \n",
       "3 1.12   \n",
       "4 1.00   "
      ]
     },
     "metadata": {},
     "output_type": "display_data"
    }
   ],
   "source": [
    "hypothesis['ICE'] = hypothesis['impact']*hypothesis['confidence']/hypothesis['efforts']\n",
    "\n",
    "display(hypothesis[['hypothesis','ICE']].sort_values(by='ICE', ascending=False))"
   ]
  },
  {
   "cell_type": "code",
   "execution_count": 6,
   "metadata": {},
   "outputs": [
    {
     "data": {
      "text/html": [
       "<div>\n",
       "<style scoped>\n",
       "    .dataframe tbody tr th:only-of-type {\n",
       "        vertical-align: middle;\n",
       "    }\n",
       "\n",
       "    .dataframe tbody tr th {\n",
       "        vertical-align: top;\n",
       "    }\n",
       "\n",
       "    .dataframe thead th {\n",
       "        text-align: right;\n",
       "    }\n",
       "</style>\n",
       "<table border=\"1\" class=\"dataframe\">\n",
       "  <thead>\n",
       "    <tr style=\"text-align: right;\">\n",
       "      <th></th>\n",
       "      <th>hypothesis</th>\n",
       "      <th>RICE</th>\n",
       "    </tr>\n",
       "  </thead>\n",
       "  <tbody>\n",
       "    <tr>\n",
       "      <th>7</th>\n",
       "      <td>Добавить форму подписки на все основные страницы, чтобы собрать базу клиентов для email-рассылок</td>\n",
       "      <td>112.00</td>\n",
       "    </tr>\n",
       "    <tr>\n",
       "      <th>2</th>\n",
       "      <td>Добавить блоки рекомендаций товаров на сайт интернет магазина, чтобы повысить конверсию и средний чек заказа</td>\n",
       "      <td>56.00</td>\n",
       "    </tr>\n",
       "    <tr>\n",
       "      <th>0</th>\n",
       "      <td>Добавить два новых канала привлечения трафика, что позволит привлекать на 30% больше пользователей</td>\n",
       "      <td>40.00</td>\n",
       "    </tr>\n",
       "    <tr>\n",
       "      <th>6</th>\n",
       "      <td>Показать на главной странице баннеры с актуальными акциями и распродажами, чтобы увеличить конверсию</td>\n",
       "      <td>40.00</td>\n",
       "    </tr>\n",
       "    <tr>\n",
       "      <th>8</th>\n",
       "      <td>Запустить акцию, дающую скидку на товар в день рождения</td>\n",
       "      <td>16.20</td>\n",
       "    </tr>\n",
       "    <tr>\n",
       "      <th>3</th>\n",
       "      <td>Изменить структура категорий, что увеличит конверсию, т.к. пользователи быстрее найдут нужный товар</td>\n",
       "      <td>9.00</td>\n",
       "    </tr>\n",
       "    <tr>\n",
       "      <th>1</th>\n",
       "      <td>Запустить собственную службу доставки, что сократит срок доставки заказов</td>\n",
       "      <td>4.00</td>\n",
       "    </tr>\n",
       "    <tr>\n",
       "      <th>5</th>\n",
       "      <td>Добавить страницу отзывов клиентов о магазине, что позволит увеличить количество заказов</td>\n",
       "      <td>4.00</td>\n",
       "    </tr>\n",
       "    <tr>\n",
       "      <th>4</th>\n",
       "      <td>Изменить цвет фона главной страницы, чтобы увеличить вовлеченность пользователей</td>\n",
       "      <td>3.00</td>\n",
       "    </tr>\n",
       "  </tbody>\n",
       "</table>\n",
       "</div>"
      ],
      "text/plain": [
       "                                                                                                     hypothesis  \\\n",
       "7  Добавить форму подписки на все основные страницы, чтобы собрать базу клиентов для email-рассылок               \n",
       "2  Добавить блоки рекомендаций товаров на сайт интернет магазина, чтобы повысить конверсию и средний чек заказа   \n",
       "0  Добавить два новых канала привлечения трафика, что позволит привлекать на 30% больше пользователей             \n",
       "6  Показать на главной странице баннеры с актуальными акциями и распродажами, чтобы увеличить конверсию           \n",
       "8  Запустить акцию, дающую скидку на товар в день рождения                                                        \n",
       "3  Изменить структура категорий, что увеличит конверсию, т.к. пользователи быстрее найдут нужный товар            \n",
       "1  Запустить собственную службу доставки, что сократит срок доставки заказов                                      \n",
       "5  Добавить страницу отзывов клиентов о магазине, что позволит увеличить количество заказов                       \n",
       "4  Изменить цвет фона главной страницы, чтобы увеличить вовлеченность пользователей                               \n",
       "\n",
       "    RICE  \n",
       "7 112.00  \n",
       "2 56.00   \n",
       "0 40.00   \n",
       "6 40.00   \n",
       "8 16.20   \n",
       "3 9.00    \n",
       "1 4.00    \n",
       "5 4.00    \n",
       "4 3.00    "
      ]
     },
     "metadata": {},
     "output_type": "display_data"
    }
   ],
   "source": [
    "hypothesis['RICE'] = hypothesis['reach']*hypothesis['impact']*hypothesis['confidence']/hypothesis['efforts']\n",
    "\n",
    "display(hypothesis[['hypothesis','RICE']].sort_values(by='RICE', ascending=False))"
   ]
  },
  {
   "cell_type": "code",
   "execution_count": 7,
   "metadata": {},
   "outputs": [
    {
     "data": {
      "text/html": [
       "<div>\n",
       "<style scoped>\n",
       "    .dataframe tbody tr th:only-of-type {\n",
       "        vertical-align: middle;\n",
       "    }\n",
       "\n",
       "    .dataframe tbody tr th {\n",
       "        vertical-align: top;\n",
       "    }\n",
       "\n",
       "    .dataframe thead th {\n",
       "        text-align: right;\n",
       "    }\n",
       "</style>\n",
       "<table border=\"1\" class=\"dataframe\">\n",
       "  <thead>\n",
       "    <tr style=\"text-align: right;\">\n",
       "      <th></th>\n",
       "      <th>hypothesis</th>\n",
       "      <th>RICE</th>\n",
       "      <th>ICE</th>\n",
       "    </tr>\n",
       "  </thead>\n",
       "  <tbody>\n",
       "    <tr>\n",
       "      <th>7</th>\n",
       "      <td>Добавить форму подписки на все основные страницы, чтобы собрать базу клиентов для email-рассылок</td>\n",
       "      <td>112.00</td>\n",
       "      <td>11.20</td>\n",
       "    </tr>\n",
       "    <tr>\n",
       "      <th>2</th>\n",
       "      <td>Добавить блоки рекомендаций товаров на сайт интернет магазина, чтобы повысить конверсию и средний чек заказа</td>\n",
       "      <td>56.00</td>\n",
       "      <td>7.00</td>\n",
       "    </tr>\n",
       "    <tr>\n",
       "      <th>0</th>\n",
       "      <td>Добавить два новых канала привлечения трафика, что позволит привлекать на 30% больше пользователей</td>\n",
       "      <td>40.00</td>\n",
       "      <td>13.33</td>\n",
       "    </tr>\n",
       "    <tr>\n",
       "      <th>6</th>\n",
       "      <td>Показать на главной странице баннеры с актуальными акциями и распродажами, чтобы увеличить конверсию</td>\n",
       "      <td>40.00</td>\n",
       "      <td>8.00</td>\n",
       "    </tr>\n",
       "    <tr>\n",
       "      <th>8</th>\n",
       "      <td>Запустить акцию, дающую скидку на товар в день рождения</td>\n",
       "      <td>16.20</td>\n",
       "      <td>16.20</td>\n",
       "    </tr>\n",
       "  </tbody>\n",
       "</table>\n",
       "</div>"
      ],
      "text/plain": [
       "                                                                                                     hypothesis  \\\n",
       "7  Добавить форму подписки на все основные страницы, чтобы собрать базу клиентов для email-рассылок               \n",
       "2  Добавить блоки рекомендаций товаров на сайт интернет магазина, чтобы повысить конверсию и средний чек заказа   \n",
       "0  Добавить два новых канала привлечения трафика, что позволит привлекать на 30% больше пользователей             \n",
       "6  Показать на главной странице баннеры с актуальными акциями и распродажами, чтобы увеличить конверсию           \n",
       "8  Запустить акцию, дающую скидку на товар в день рождения                                                        \n",
       "\n",
       "    RICE   ICE  \n",
       "7 112.00 11.20  \n",
       "2 56.00  7.00   \n",
       "0 40.00  13.33  \n",
       "6 40.00  8.00   \n",
       "8 16.20  16.20  "
      ]
     },
     "metadata": {},
     "output_type": "display_data"
    }
   ],
   "source": [
    "display(hypothesis[['hypothesis','RICE','ICE']].sort_values(by='RICE', ascending=False).head(5))"
   ]
  },
  {
   "cell_type": "markdown",
   "metadata": {},
   "source": [
    "Гипотезы под номерами 8, 7, 6, 2, 0 входят в топ 5 обоих методов. Гипотеза номер 7 набрала большее количество баллов по методу RICE, потому что имеет максимальный охват среди прочих. По методу ICE она на входит в топ 3 с небольшим отрывом по количеству набранных баллов. Гипотеза номер 8 набравшая максимальное количество баллов по методу ICE теоретически может иметь тоже большой охват. Но это не произойдёт единовременно."
   ]
  },
  {
   "cell_type": "markdown",
   "metadata": {},
   "source": [
    "## Анализ A/B-теста"
   ]
  },
  {
   "cell_type": "markdown",
   "metadata": {},
   "source": [
    "В данные могли попасть пользователи, которые совершили покупку в обоих группах, проверим."
   ]
  },
  {
   "cell_type": "code",
   "execution_count": 8,
   "metadata": {},
   "outputs": [
    {
     "name": "stdout",
     "output_type": "stream",
     "text": [
      "Пользователей, попавших в обе группы: 58\n",
      "Сумма заказов этих пользователей: 1558935\n",
      "Количество заказов: 181\n"
     ]
    }
   ],
   "source": [
    "doubles = orders.groupby(['visitor_id']).agg({'group' : 'nunique', 'transaction_id' : 'count', 'revenue' : 'sum'}).reset_index()\n",
    "print(f\"Пользователей, попавших в обе группы: {doubles[doubles.group != 1]['visitor_id'].count()}\")\n",
    "print(f\"Сумма заказов этих пользователей: {doubles[doubles.group != 1]['revenue'].sum()}\")\n",
    "print(f\"Количество заказов: {doubles[doubles.group != 1]['transaction_id'].sum()}\")"
   ]
  },
  {
   "cell_type": "markdown",
   "metadata": {},
   "source": [
    "Поскольку нам неизвестно какая из версий страницы оказала влияние на принятие решения о покупке, отсеем этих пользователей из дальнейшего анализа."
   ]
  },
  {
   "cell_type": "code",
   "execution_count": 9,
   "metadata": {},
   "outputs": [
    {
     "data": {
      "text/plain": [
       "1031"
      ]
     },
     "metadata": {},
     "output_type": "display_data"
    },
    {
     "data": {
      "text/plain": [
       "973"
      ]
     },
     "metadata": {},
     "output_type": "display_data"
    }
   ],
   "source": [
    "filtred_id = doubles[doubles.group != 1]['visitor_id']\n",
    "display(orders['visitor_id'].nunique())\n",
    "orders = orders.query('visitor_id not in @filtred_id')\n",
    "display(orders['visitor_id'].nunique())"
   ]
  },
  {
   "cell_type": "markdown",
   "metadata": {},
   "source": [
    "### Построим график кумулятивной выручки по группам"
   ]
  },
  {
   "cell_type": "code",
   "execution_count": 10,
   "metadata": {},
   "outputs": [
    {
     "data": {
      "image/png": "[encoded data removed]",
      "text/plain": [
       "<Figure size 1008x360 with 1 Axes>"
      ]
     },
     "metadata": {
      "needs_background": "light"
     },
     "output_type": "display_data"
    }
   ],
   "source": [
    "dates_groups = orders[['date','group']].drop_duplicates()\n",
    "orders_aggregated = dates_groups.apply(lambda x: orders[np.logical_and(orders['date'] <= x['date'], orders['group'] == x['group'])]\\\n",
    ".agg({'date' : 'max', 'group' : 'max', 'transaction_id' : 'nunique', 'visitor_id' : 'nunique', 'revenue' : 'sum'}), axis=1).sort_values(by=['date','group'])\n",
    "visitors_agg = dates_groups.apply(lambda x: visitors[np.logical_and(visitors['date'] <= x['date'], visitors['group'] == x['group'])].agg({'date' : 'max', 'group' : 'max', 'visitors' : 'sum'}), axis=1).sort_values(by=['date','group'])\n",
    "\n",
    "cmltv_data = orders_aggregated.merge(visitors_agg, left_on=['date', 'group'], right_on=['date', 'group'])\n",
    "cmltv_data.columns = ['date', 'group', 'orders', 'buyers', 'revenue', 'visitors']\n",
    "\n",
    "cmltv_revenue_a = cmltv_data[cmltv_data['group']=='A'][['date','revenue', 'orders']]\n",
    "cmltv_revenue_b = cmltv_data[cmltv_data['group']=='B'][['date','revenue', 'orders']]\n",
    "\n",
    "plt.figure(figsize=(14, 5))\n",
    "plt.plot(cmltv_revenue_a['date'], cmltv_revenue_a['revenue'], label='A')\n",
    "plt.plot(cmltv_revenue_b['date'], cmltv_revenue_b['revenue'], label='B')\n",
    "plt.title('Кумулятивная выручка')\n",
    "plt.xlabel('Период')\n",
    "plt.ylabel('Выручка')\n",
    "plt.legend() \n",
    "plt.show()"
   ]
  },
  {
   "cell_type": "markdown",
   "metadata": {},
   "source": [
    "Во второй половине августа выручка категории В сильно вырывается вперёд и продолжает лидировать до окончания теста. Вероятно влияние оказал аномально большой заказ."
   ]
  },
  {
   "cell_type": "markdown",
   "metadata": {},
   "source": [
    "### Построим график кумулятивного среднего чека по группам"
   ]
  },
  {
   "cell_type": "code",
   "execution_count": 11,
   "metadata": {},
   "outputs": [
    {
     "data": {
      "image/png": "[encoded data removed]",
      "text/plain": [
       "<Figure size 1008x360 with 1 Axes>"
      ]
     },
     "metadata": {
      "needs_background": "light"
     },
     "output_type": "display_data"
    }
   ],
   "source": [
    "plt.figure(figsize=(14, 5))\n",
    "plt.plot(cmltv_revenue_a['date'], cmltv_revenue_a['revenue']/cmltv_revenue_a['orders'], label='A')\n",
    "plt.plot(cmltv_revenue_b['date'], cmltv_revenue_b['revenue']/cmltv_revenue_b['orders'], label='B')\n",
    "plt.title('Кумулятивный средний чек')\n",
    "plt.xlabel('Период')\n",
    "plt.ylabel('Значение среднего чека')\n",
    "plt.legend()\n",
    "plt.show()"
   ]
  },
  {
   "cell_type": "markdown",
   "metadata": {},
   "source": [
    "Видны колебания значений кумулятивного среднего чека, хотя в районе середины теста значения показывают равномерное сближение. И снова во второй половине августа сильный скачок роста у группы В."
   ]
  },
  {
   "cell_type": "markdown",
   "metadata": {},
   "source": [
    "### Построим график относительного изменения кумулятивного среднего чека группы B к группе A"
   ]
  },
  {
   "cell_type": "code",
   "execution_count": 12,
   "metadata": {},
   "outputs": [
    {
     "data": {
      "image/png": "[encoded data removed]",
      "text/plain": [
       "<Figure size 1008x360 with 1 Axes>"
      ]
     },
     "metadata": {
      "needs_background": "light"
     },
     "output_type": "display_data"
    }
   ],
   "source": [
    "merged_cmltv_revenue = cmltv_revenue_a.merge(cmltv_revenue_b, left_on='date', right_on='date', how='left', suffixes=['A', 'B'])\n",
    "plt.figure(figsize=(14, 5))\n",
    "plt.plot(merged_cmltv_revenue['date'], (merged_cmltv_revenue['revenueB']/merged_cmltv_revenue['ordersB'])/(merged_cmltv_revenue['revenueA']/merged_cmltv_revenue['ordersA'])-1)\n",
    "plt.axhline(y=0, color='black', linestyle='--')\n",
    "plt.xlabel('Период')\n",
    "plt.ylabel('Значение среднего чека')\n",
    "plt.title('Процентное соотношение')\n",
    "plt.show()"
   ]
  },
  {
   "cell_type": "markdown",
   "metadata": {},
   "source": [
    "На графике видны значительные и резкие изменения. Результат с сильным ростом во второй половине месяца снова виден."
   ]
  },
  {
   "cell_type": "markdown",
   "metadata": {},
   "source": [
    "### Построим график кумулятивного среднего количества заказов на посетителя по группам."
   ]
  },
  {
   "cell_type": "code",
   "execution_count": 13,
   "metadata": {},
   "outputs": [
    {
     "data": {
      "image/png": "[encoded data removed]",
      "text/plain": [
       "<Figure size 1008x360 with 1 Axes>"
      ]
     },
     "metadata": {
      "needs_background": "light"
     },
     "output_type": "display_data"
    }
   ],
   "source": [
    "cmltv_data['conversion'] = cmltv_data['orders']/cmltv_data['visitors']\n",
    "\n",
    "cmltv_data_a = cmltv_data[cmltv_data['group']=='A']\n",
    "\n",
    "cmltv_data_b = cmltv_data[cmltv_data['group']=='B']\n",
    "\n",
    "plt.figure(figsize=(14, 5))\n",
    "plt.plot(cmltv_data_a['date'], cmltv_data_a['conversion'], label='A')\n",
    "plt.plot(cmltv_data_b['date'], cmltv_data_b['conversion'], label='B')\n",
    "plt.legend()\n",
    "plt.xlabel('Значение среднего чека')\n",
    "plt.ylabel('Конверсия')\n",
    "plt.title('Кумулятивная конверсия среднего количества заказов на посетителя')\n",
    "plt.show()"
   ]
  },
  {
   "cell_type": "markdown",
   "metadata": {},
   "source": [
    "Обе группы начали тест с разных значений. Далее группа A показывает снижение результата. Обе группы постепенно стабилизируются. Конверсия среднего количества заказов в группе В выглядит лучше."
   ]
  },
  {
   "cell_type": "markdown",
   "metadata": {},
   "source": [
    "### Построим график относительного изменения кумулятивного среднего количества заказов на посетителя группы B к группе A"
   ]
  },
  {
   "cell_type": "code",
   "execution_count": 14,
   "metadata": {},
   "outputs": [
    {
     "data": {
      "image/png": "[encoded data removed]",
      "text/plain": [
       "<Figure size 1008x360 with 1 Axes>"
      ]
     },
     "metadata": {
      "needs_background": "light"
     },
     "output_type": "display_data"
    }
   ],
   "source": [
    "merged_cmltv_conversions = cmltv_data_a[['date','conversion']].merge(cmltv_data_b[['date','conversion']], left_on='date', right_on='date', how='left', suffixes=['A', 'B'])\n",
    "\n",
    "plt.figure(figsize=(14, 5))\n",
    "plt.plot(merged_cmltv_conversions['date'], merged_cmltv_conversions['conversionB']/merged_cmltv_conversions['conversionA']-1, label=\"Относительный прирост конверсии группы B относительно группы A\")\n",
    "plt.legend()\n",
    "plt.axhline(y=0, color='black', linestyle='--')\n",
    "plt.axhline(y=0.2, color='grey', linestyle='--')\n",
    "plt.xlabel('Период')\n",
    "plt.ylabel('Процентное соотношение')\n",
    "plt.title('Относительный прирост конверсии группы B к группе A')\n",
    "plt.show()"
   ]
  },
  {
   "cell_type": "markdown",
   "metadata": {},
   "source": [
    "Группа В показывает лучшую конверсию относительно группы А. В отдельных моментах превышает отметку в 20% и держится около этого значения."
   ]
  },
  {
   "cell_type": "markdown",
   "metadata": {},
   "source": [
    "Графики кумулятивных метрик и их изменений позволяют предположить, что в группе B есть аномально большие заказы, которые сильно влияют на прирост среднего чека."
   ]
  },
  {
   "cell_type": "markdown",
   "metadata": {},
   "source": [
    "### Построим точечный график количества заказов по пользователям"
   ]
  },
  {
   "cell_type": "code",
   "execution_count": 15,
   "metadata": {},
   "outputs": [
    {
     "data": {
      "image/png": "[encoded data removed]",
      "text/plain": [
       "<Figure size 1008x360 with 1 Axes>"
      ]
     },
     "metadata": {
      "needs_background": "light"
     },
     "output_type": "display_data"
    }
   ],
   "source": [
    "orders_by_users = orders.groupby('visitor_id', as_index=False).agg({'transaction_id': 'nunique'})\n",
    "orders_by_users.columns = ['visitor_id', 'orders']\n",
    "\n",
    "plt.figure(figsize=(14, 5))\n",
    "x_values = pd.Series(range(0, len(orders_by_users)))\n",
    "plt.scatter(x_values, orders_by_users['orders'])\n",
    "plt.xlabel('Пользователи')\n",
    "plt.ylabel('Количесвто заказов')\n",
    "plt.title('Количество заказов по пользователям')\n",
    "plt.show()"
   ]
  },
  {
   "cell_type": "markdown",
   "metadata": {},
   "source": [
    "Приемущественно пользователи сделали 1 заказ, но некоторые - 2. 3 заказа сделали всего 7 человек."
   ]
  },
  {
   "cell_type": "markdown",
   "metadata": {},
   "source": [
    "### 95-й и 99-й перцентили количества заказов на пользователя"
   ]
  },
  {
   "cell_type": "code",
   "execution_count": 16,
   "metadata": {},
   "outputs": [
    {
     "name": "stdout",
     "output_type": "stream",
     "text": [
      "95-й и 99-й перцентили количества заказов на пользователя: [1. 2.]\n",
      "Доля пользователей, кторые оформили больше 1 заказа: 3.70%\n"
     ]
    }
   ],
   "source": [
    "print(\"95-й и 99-й перцентили количества заказов на пользователя:\", np.percentile(orders_by_users['orders'], [95, 99])) \n",
    "print('Доля пользователей, кторые оформили больше 1 заказа:','{:.2%}'.format(len(orders_by_users[orders_by_users['orders'] > 1]) / len(orders_by_users)))"
   ]
  },
  {
   "cell_type": "markdown",
   "metadata": {},
   "source": [
    "\n",
    "Пользователей оформивших один заказ подавляющее большенство, более 96%. Следует отсеять как аномальных пользователей с 2 и 3 заказами."
   ]
  },
  {
   "cell_type": "markdown",
   "metadata": {},
   "source": [
    "### Построим точечный график стоимостей заказов"
   ]
  },
  {
   "cell_type": "code",
   "execution_count": 17,
   "metadata": {},
   "outputs": [
    {
     "data": {
      "image/png": "[encoded data removed]",
      "text/plain": [
       "<Figure size 1008x360 with 1 Axes>"
      ]
     },
     "metadata": {
      "needs_background": "light"
     },
     "output_type": "display_data"
    }
   ],
   "source": [
    "plt.figure(figsize=(14, 5))\n",
    "x_values = pd.Series(range(0, len(orders['revenue'])))\n",
    "plt.scatter(x_values, orders['revenue']) \n",
    "plt.xlabel('Пользователи')\n",
    "plt.ylabel('Стоимость заказа')\n",
    "plt.title('Стоимость заказов по пользователям')\n",
    "plt.show()"
   ]
  },
  {
   "cell_type": "markdown",
   "metadata": {},
   "source": [
    "График показывает, что заказов с аномальной стоимостью не так много. Один \"очень\" аномальный заказ на сумму более 1 млн.\n",
    "Масштабируем график по стоимости заказа чтобы увидеть данные более предметно."
   ]
  },
  {
   "cell_type": "code",
   "execution_count": 18,
   "metadata": {},
   "outputs": [
    {
     "data": {
      "image/png": "[encoded data removed]",
      "text/plain": [
       "<Figure size 1008x360 with 1 Axes>"
      ]
     },
     "metadata": {
      "needs_background": "light"
     },
     "output_type": "display_data"
    }
   ],
   "source": [
    "plt.figure(figsize=(14, 5))\n",
    "plt.scatter(x_values, orders['revenue']) \n",
    "plt.title('Стоимость заказов по пользователям')\n",
    "plt.xlabel('Пользователи')\n",
    "plt.ylabel('Стоимость заказа')\n",
    "plt.ylim([0,100000])\n",
    "plt.show()"
   ]
  },
  {
   "cell_type": "markdown",
   "metadata": {},
   "source": [
    "На графике видно, что в основном стомисоть заказов скапливается у значений около 5 тысяч. Посмотрим на цифры в деталях."
   ]
  },
  {
   "cell_type": "code",
   "execution_count": 19,
   "metadata": {},
   "outputs": [
    {
     "data": {
      "text/plain": [
       "count   1016.00   \n",
       "mean    8300.81   \n",
       "std     42121.99  \n",
       "min     50.00     \n",
       "50%     2955.00   \n",
       "95%     26785.00  \n",
       "99%     53904.00  \n",
       "max     1294500.00\n",
       "Name: revenue, dtype: float64"
      ]
     },
     "metadata": {},
     "output_type": "display_data"
    }
   ],
   "source": [
    "display(orders['revenue'].describe(percentiles=[0.95, 0.99]))"
   ]
  },
  {
   "cell_type": "markdown",
   "metadata": {},
   "source": [
    "50% заказов по сумме не превышают 2955. 95% заказов до 26785. Всё что выше 27000 можно считать аномальными."
   ]
  },
  {
   "cell_type": "markdown",
   "metadata": {},
   "source": [
    "### Посчитаем статистическую значимость различий в среднем количестве заказов на посетителя между группами по «сырым» данным"
   ]
  },
  {
   "cell_type": "markdown",
   "metadata": {},
   "source": [
    "Соберём списки для анализа конверсии по группамю."
   ]
  },
  {
   "cell_type": "code",
   "execution_count": 20,
   "metadata": {},
   "outputs": [],
   "source": [
    "visitors_daily_a = visitors[visitors['group'] == 'A'][['date', 'visitors']]\n",
    "visitors_daily_a.columns = ['date', 'visitors_pdate_a']\n",
    "\n",
    "visitors_a_cmltv = visitors_daily_a.apply(\n",
    "    lambda x: visitors_daily_a[visitors_daily_a['date'] <= x['date']].agg(\n",
    "        {'date': 'max', 'visitors_pdate_a': 'sum'}\n",
    "    ),\n",
    "    axis=1,\n",
    ")\n",
    "visitors_a_cmltv.columns = ['date', 'visitors_a_cmltv']\n",
    "\n",
    "visitors_daily_b = visitors[visitors['group'] == 'B'][['date', 'visitors']]\n",
    "visitors_daily_b.columns = ['date', 'visitors_pdate_b']\n",
    "\n",
    "visitors_b_cmltv = visitors_daily_b.apply(\n",
    "    lambda x: visitors_daily_b[visitors_daily_b['date'] <= x['date']].agg(\n",
    "        {'date': 'max', 'visitors_pdate_b': 'sum'}\n",
    "    ),\n",
    "    axis=1,\n",
    ")\n",
    "visitors_b_cmltv.columns = ['date', 'visitors_cmltv_b']\n",
    "\n",
    "\n",
    "orders_daily_a = (\n",
    "    orders[orders['group'] == 'A'][['date', 'transaction_id', 'visitor_id', 'revenue']]\n",
    "    .groupby('date', as_index=False)\n",
    "    .agg({'transaction_id': pd.Series.nunique, 'revenue': 'sum'})\n",
    ")\n",
    "\n",
    "\n",
    "\n",
    "orders_daily_a.columns = ['date', 'orders_pdate_a', 'revenue_pdate_a']\n",
    "\n",
    "orders_a_cmltv = orders_daily_a.apply(\n",
    "    lambda x: orders_daily_a[orders_daily_a['date'] <= x['date']].agg(\n",
    "        {'date': 'max', 'orders_pdate_a': 'sum', 'revenue_pdate_a': 'sum'}\n",
    "    ),\n",
    "    axis=1,\n",
    ").sort_values(by=['date'])\n",
    "orders_a_cmltv.columns = [\n",
    "    'date',\n",
    "    'orders_cmltv_a',\n",
    "    'revenue_cmltv_a',\n",
    "]\n",
    "\n",
    "orders_daily_b = (\n",
    "    orders[orders['group'] == 'B'][['date', 'transaction_id', 'visitor_id', 'revenue']]\n",
    "    .groupby('date', as_index=False)\n",
    "    .agg({'transaction_id': pd.Series.nunique, 'revenue': 'sum'})\n",
    ")\n",
    "orders_daily_b.columns = ['date', 'orders_pdate_b', 'revenue_pdate_b']\n",
    "\n",
    "orders_b_cmltv = orders_daily_b.apply(\n",
    "    lambda x: orders_daily_b[orders_daily_b['date'] <= x['date']].agg(\n",
    "        {'date': 'max', 'orders_pdate_b': 'sum', 'revenue_pdate_b': 'sum'}\n",
    "    ),\n",
    "    axis=1,\n",
    ").sort_values(by=['date'])\n",
    "orders_b_cmltv.columns = [\n",
    "    'date',\n",
    "    'orders_cmltv_b',\n",
    "    'revenue_cmltv_b',\n",
    "]\n",
    "\n",
    "\n",
    "data = (\n",
    "    orders_daily_a.merge(\n",
    "        orders_daily_b, left_on='date', right_on='date', how='left'\n",
    "    )\n",
    "    .merge(orders_a_cmltv, left_on='date', right_on='date', how='left')\n",
    "    .merge(orders_b_cmltv, left_on='date', right_on='date', how='left')\n",
    "    .merge(visitors_daily_a, left_on='date', right_on='date', how='left')\n",
    "    .merge(visitors_daily_b, left_on='date', right_on='date', how='left')\n",
    "    .merge(visitors_a_cmltv, left_on='date', right_on='date', how='left')\n",
    "    .merge(visitors_b_cmltv, left_on='date', right_on='date', how='left')\n",
    ")\n",
    "\n",
    "orders_by_user_a = (\n",
    "    orders[orders['group'] == 'A']\n",
    "    .groupby('visitor_id', as_index=False)\n",
    "    .agg({'transaction_id': pd.Series.nunique})\n",
    ")\n",
    "orders_by_user_a.columns = ['visitor_id', 'orders']\n",
    "\n",
    "orders_by_user_b = (\n",
    "    orders[orders['group'] == 'B']\n",
    "    .groupby('visitor_id', as_index=False)\n",
    "    .agg({'transaction_id': pd.Series.nunique})\n",
    ")\n",
    "orders_by_user_b.columns = ['visitor_id', 'orders']\n",
    "\n",
    "sample_a = pd.concat([orders_by_user_a['orders'],pd.Series(0, index=np.arange(data['visitors_pdate_a'].sum() - len(orders_by_user_a['orders'])), name='orders')],axis=0)\n",
    "\n",
    "sample_b = pd.concat([orders_by_user_b['orders'],pd.Series(0, index=np.arange(data['visitors_pdate_b'].sum() - len(orders_by_user_b['orders'])), name='orders')],axis=0)"
   ]
  },
  {
   "cell_type": "markdown",
   "metadata": {},
   "source": [
    "Для анализа данных используем непараметрический тест Уилкоксона-Манна-Уитни, так как есть выбивающиееся значения, которые могут повлиять на результат. Уровень статистической значимости установим 0.05\n",
    "\n",
    "В дальнейших тестах будем проверять следующие гипотезы:\n",
    " - Нулевая гипотеза H0 - статистически значимых различий в конверсии между группами нет.\n",
    "\n",
    " - Гипотеза H1 - статистически значимые различия есть."
   ]
  },
  {
   "cell_type": "code",
   "execution_count": 21,
   "metadata": {},
   "outputs": [
    {
     "name": "stdout",
     "output_type": "stream",
     "text": [
      "p-value: 0.011\n",
      "Относительный прирост: 16 %\n"
     ]
    }
   ],
   "source": [
    "print('p-value:', \"{0:.3f}\".format(stats.mannwhitneyu(sample_a, sample_b)[1]))\n",
    "print('Относительный прирост:', round((sample_b.mean() / sample_a.mean() - 1)*100),'%')"
   ]
  },
  {
   "cell_type": "markdown",
   "metadata": {},
   "source": [
    "По \"сырым\" данным есть различия между группами A и B: p-value меньше 0.05. Нулевую гипотезу о том, что статистически значимых различий в конверсии между группами нет, следует отвергнуть. Относительный прирост среднего группы В к конверсии группы А 16%."
   ]
  },
  {
   "cell_type": "markdown",
   "metadata": {},
   "source": [
    "### Посчитаем статистическую значимость различий в среднем чеке заказа между группами по «сырым» данным"
   ]
  },
  {
   "cell_type": "code",
   "execution_count": 22,
   "metadata": {},
   "outputs": [
    {
     "name": "stdout",
     "output_type": "stream",
     "text": [
      "p-value: 0.829\n",
      "Различие в среднем чеке: 29 %\n"
     ]
    }
   ],
   "source": [
    "print('p-value:','{0:.3f}'.format(stats.mannwhitneyu(orders[orders['group']=='A']['revenue'], orders[orders['group']=='B']['revenue'])[1]))\n",
    "print(\"Различие в среднем чеке:\", round((orders[orders['group']=='B']['revenue'].mean()/orders[orders['group']=='A']['revenue'].mean()-1)*100),'%') "
   ]
  },
  {
   "cell_type": "markdown",
   "metadata": {},
   "source": [
    "Различий по сырым данным между средними чеками: P-value значительно больше 0.05. Нет оснований отвергать нулевую гипотезу. Средний чек группы А значительно ниже среднего чека группы В."
   ]
  },
  {
   "cell_type": "markdown",
   "metadata": {},
   "source": [
    "### Посчитаем статистическую значимость различий в среднем количестве заказов на посетителя между группами по «очищенным» данным"
   ]
  },
  {
   "cell_type": "markdown",
   "metadata": {},
   "source": [
    "Отфильтруем аномальных пользователей."
   ]
  },
  {
   "cell_type": "code",
   "execution_count": 23,
   "metadata": {
    "scrolled": true
   },
   "outputs": [
    {
     "name": "stdout",
     "output_type": "stream",
     "text": [
      "568     113298937\n",
      "1099    148427295\n",
      "928     204675465\n",
      "33      249864742\n",
      "684     358944393\n",
      "Name: visitor_id, dtype: int64\n",
      "Количество анормальных пользователей: 86\n"
     ]
    }
   ],
   "source": [
    "users_with_many_orders = pd.concat(\n",
    "    [\n",
    "        orders_by_user_a[orders_by_user_a['orders'] > 1]['visitor_id'],\n",
    "        orders_by_user_b[orders_by_user_b['orders'] > 1]['visitor_id'],\n",
    "    ],\n",
    "    axis=0,\n",
    ")\n",
    "users_with_exp_orders = orders[orders['revenue'] > 27000]['visitor_id']\n",
    "abnorm_users = (\n",
    "    pd.concat([users_with_many_orders, users_with_exp_orders], axis=0)\n",
    "    .drop_duplicates()\n",
    "    .sort_values()\n",
    ")\n",
    "\n",
    "sample_a_fitred= pd.concat(\n",
    "    [\n",
    "        orders_by_user_a[\n",
    "            np.logical_not(orders_by_user_a['visitor_id'].isin(abnorm_users))\n",
    "        ]['orders'],\n",
    "        pd.Series(\n",
    "            0,\n",
    "            index=np.arange(\n",
    "                data['visitors_pdate_a'].sum() - len(orders_by_user_a['orders'])\n",
    "            ),\n",
    "            name='orders',\n",
    "        ),\n",
    "    ],\n",
    "    axis=0,\n",
    ")\n",
    "\n",
    "sample_b_fitred = pd.concat(\n",
    "    [\n",
    "        orders_by_user_b[\n",
    "            np.logical_not(orders_by_user_b['visitor_id'].isin(abnorm_users))\n",
    "        ]['orders'],\n",
    "        pd.Series(\n",
    "            0,\n",
    "            index=np.arange(\n",
    "                data['visitors_pdate_b'].sum() - len(orders_by_user_b['orders'])\n",
    "            ),\n",
    "            name='orders',\n",
    "        ),\n",
    "    ],\n",
    "    axis=0,\n",
    ") \n",
    "\n",
    "print(abnorm_users.head(5))\n",
    "print(\"Количество анормальных пользователей:\", abnorm_users.shape[0]) "
   ]
  },
  {
   "cell_type": "code",
   "execution_count": 24,
   "metadata": {},
   "outputs": [
    {
     "name": "stdout",
     "output_type": "stream",
     "text": [
      "p-value: 0.016\n",
      "Относительный прирост: 17 %\n"
     ]
    }
   ],
   "source": [
    "print('p-value:','{0:.3f}'.format(stats.mannwhitneyu(sample_a_fitred, sample_b_fitred)[1]))\n",
    "print('Относительный прирост:', round((sample_b_fitred.mean()/sample_a_fitred.mean()-1)*100),'%')"
   ]
  },
  {
   "cell_type": "markdown",
   "metadata": {},
   "source": [
    "Различия между группами A и B по \"очищенным\" данным есть: p-value меньше 0.05. Нулевую гипотезу о том, что статистически значимых различий в конверсии между группами нет, следует отвергнуть. Относительный прирост среднего группы В к конверсии группы А 17,4%."
   ]
  },
  {
   "cell_type": "markdown",
   "metadata": {},
   "source": [
    "### Посчитаем статистическую значимость различий в среднем чеке заказа между группами по «очищенным» данным"
   ]
  },
  {
   "cell_type": "code",
   "execution_count": 25,
   "metadata": {},
   "outputs": [
    {
     "name": "stdout",
     "output_type": "stream",
     "text": [
      "p-value: 0.727\n",
      "Различие в среднем чеке: -3 %\n"
     ]
    }
   ],
   "source": [
    "print('p-value:',\n",
    "    '{0:.3f}'.format(\n",
    "        stats.mannwhitneyu(\n",
    "            orders[\n",
    "                np.logical_and(\n",
    "                    orders['group'] == 'A',\n",
    "                    np.logical_not(orders['visitor_id'].isin(abnorm_users)),\n",
    "                )\n",
    "            ]['revenue'],\n",
    "            orders[\n",
    "                np.logical_and(\n",
    "                    orders['group'] == 'B',\n",
    "                    np.logical_not(orders['visitor_id'].isin(abnorm_users)),\n",
    "                )\n",
    "            ]['revenue'],\n",
    "        )[1]\n",
    "    )\n",
    ")\n",
    "\n",
    "print(\n",
    "    \"Различие в среднем чеке:\", round((\n",
    "        orders[\n",
    "            np.logical_and(\n",
    "                orders['group'] == 'B',\n",
    "                np.logical_not(orders['visitor_id'].isin(abnorm_users)),\n",
    "            )\n",
    "        ]['revenue'].mean()\n",
    "        / orders[\n",
    "            np.logical_and(\n",
    "                orders['group'] == 'A',\n",
    "                np.logical_not(orders['visitor_id'].isin(abnorm_users)),\n",
    "            )\n",
    "        ]['revenue'].mean()\n",
    "        - 1\n",
    "    )*100),'%'\n",
    ")"
   ]
  },
  {
   "cell_type": "markdown",
   "metadata": {},
   "source": [
    "Уровень P-value стал ниже, но остался больше 0.05. Отвергать нулевую гипотезу и считать, что в среднем чеке есть различия, по-прежнему нет. Средний чек группы B без шума стал ниже среднего чека группы A"
   ]
  },
  {
   "cell_type": "markdown",
   "metadata": {},
   "source": [
    "# Выводы\n",
    " - Гипотеза под номером 7 за счёт максимального охвата среди прочих имеет высший приоритет.\n",
    " \n",
    " - Как по сырым данным, так и по отфильтрованным данным есть статистически различие по конверсии между группами.\n",
    "\n",
    " - Несмотря на фильтрацию аномальных заказов, статистически значимого различия по среднему чеку между группами нет.\n",
    "\n",
    " - Группа B имеет лучшее среднее количества заказов на посетителя , чем у группы A: график различия конверсии между группами показываетимеют тенденцию к росту, либо стабильность около среднего значения.\n",
    "\n",
    " - Тест можно остановить. Виден прирост конверсии в группе B, но на среднем чеке проверяемая гипотеза не сказалась.\n",
    " \n",
    " Рекоммендация: \n",
    " \n",
    " отрегулировать работу правильного логирования пользователей, что бы исключить в дальнейшем пересечение групп."
   ]
  }
 ],
 "metadata": {
  "ExecuteTimeLog": [
   {
    "duration": 1330,
    "start_time": "2023-05-18T08:27:12.636Z"
   },
   {
    "duration": 403,
    "start_time": "2023-05-18T08:30:25.479Z"
   },
   {
    "duration": 84,
    "start_time": "2023-05-18T08:32:36.437Z"
   },
   {
    "duration": 132,
    "start_time": "2023-05-18T08:36:44.215Z"
   },
   {
    "duration": 73,
    "start_time": "2023-05-18T08:37:31.275Z"
   },
   {
    "duration": 69,
    "start_time": "2023-05-18T08:38:26.579Z"
   },
   {
    "duration": 336,
    "start_time": "2023-05-18T08:40:15.317Z"
   },
   {
    "duration": 48,
    "start_time": "2023-05-18T08:40:24.528Z"
   },
   {
    "duration": 1179,
    "start_time": "2023-05-18T08:40:48.527Z"
   },
   {
    "duration": 76,
    "start_time": "2023-05-18T08:40:49.708Z"
   },
   {
    "duration": 63,
    "start_time": "2023-05-18T08:40:49.785Z"
   },
   {
    "duration": 55,
    "start_time": "2023-05-18T08:40:58.282Z"
   },
   {
    "duration": 25,
    "start_time": "2023-05-18T08:41:29.630Z"
   },
   {
    "duration": 20,
    "start_time": "2023-05-18T08:41:40.062Z"
   },
   {
    "duration": 40,
    "start_time": "2023-05-18T08:42:00.614Z"
   },
   {
    "duration": 111,
    "start_time": "2023-05-18T08:42:39.774Z"
   },
   {
    "duration": 45,
    "start_time": "2023-05-18T08:43:19.108Z"
   },
   {
    "duration": 51,
    "start_time": "2023-05-18T08:43:28.706Z"
   },
   {
    "duration": 40,
    "start_time": "2023-05-18T08:43:55.164Z"
   },
   {
    "duration": 64,
    "start_time": "2023-05-18T08:44:21.170Z"
   },
   {
    "duration": 63,
    "start_time": "2023-05-18T08:44:35.153Z"
   },
   {
    "duration": 56,
    "start_time": "2023-05-18T08:44:48.970Z"
   },
   {
    "duration": 8,
    "start_time": "2023-05-18T08:48:32.515Z"
   },
   {
    "duration": 69,
    "start_time": "2023-05-18T08:50:31.483Z"
   },
   {
    "duration": 67,
    "start_time": "2023-05-18T08:52:41.270Z"
   },
   {
    "duration": 20,
    "start_time": "2023-05-18T08:52:53.897Z"
   },
   {
    "duration": 62,
    "start_time": "2023-05-18T08:54:43.061Z"
   },
   {
    "duration": 9,
    "start_time": "2023-05-18T08:55:43.827Z"
   },
   {
    "duration": 41,
    "start_time": "2023-05-18T08:58:49.511Z"
   },
   {
    "duration": 3,
    "start_time": "2023-05-18T09:02:29.074Z"
   },
   {
    "duration": 263,
    "start_time": "2023-05-18T09:02:30.891Z"
   },
   {
    "duration": 27,
    "start_time": "2023-05-18T09:03:18.390Z"
   },
   {
    "duration": 2,
    "start_time": "2023-05-18T09:07:10.110Z"
   },
   {
    "duration": 72,
    "start_time": "2023-05-18T09:07:11.142Z"
   },
   {
    "duration": 44,
    "start_time": "2023-05-18T09:07:12.684Z"
   },
   {
    "duration": 7,
    "start_time": "2023-05-18T09:07:38.287Z"
   },
   {
    "duration": 26,
    "start_time": "2023-05-18T09:07:45.395Z"
   },
   {
    "duration": 6,
    "start_time": "2023-05-18T09:08:53.389Z"
   },
   {
    "duration": 7,
    "start_time": "2023-05-18T09:09:04.975Z"
   },
   {
    "duration": 7,
    "start_time": "2023-05-18T09:09:23.379Z"
   },
   {
    "duration": 8,
    "start_time": "2023-05-18T09:17:37.897Z"
   },
   {
    "duration": 9,
    "start_time": "2023-05-18T09:24:12.522Z"
   },
   {
    "duration": 21,
    "start_time": "2023-05-18T09:25:29.502Z"
   },
   {
    "duration": 7,
    "start_time": "2023-05-18T09:27:57.220Z"
   },
   {
    "duration": 3,
    "start_time": "2023-05-18T09:29:16.305Z"
   },
   {
    "duration": 73,
    "start_time": "2023-05-18T09:29:17.281Z"
   },
   {
    "duration": 46,
    "start_time": "2023-05-18T09:29:17.657Z"
   },
   {
    "duration": 8,
    "start_time": "2023-05-18T09:29:18.014Z"
   },
   {
    "duration": 8,
    "start_time": "2023-05-18T09:29:18.673Z"
   },
   {
    "duration": 8,
    "start_time": "2023-05-18T09:29:22.822Z"
   },
   {
    "duration": 3,
    "start_time": "2023-05-18T09:31:08.352Z"
   },
   {
    "duration": 10,
    "start_time": "2023-05-18T09:31:19.356Z"
   },
   {
    "duration": 5,
    "start_time": "2023-05-18T09:31:26.498Z"
   },
   {
    "duration": 1064,
    "start_time": "2023-05-18T09:31:31.485Z"
   },
   {
    "duration": 88,
    "start_time": "2023-05-18T09:31:32.550Z"
   },
   {
    "duration": 42,
    "start_time": "2023-05-18T09:31:32.639Z"
   },
   {
    "duration": 16,
    "start_time": "2023-05-18T09:31:32.682Z"
   },
   {
    "duration": 26,
    "start_time": "2023-05-18T09:31:32.700Z"
   },
   {
    "duration": 9,
    "start_time": "2023-05-18T09:32:03.218Z"
   },
   {
    "duration": 4,
    "start_time": "2023-05-18T09:32:24.411Z"
   },
   {
    "duration": 3,
    "start_time": "2023-05-18T09:32:30.056Z"
   },
   {
    "duration": 83,
    "start_time": "2023-05-18T09:32:31.172Z"
   },
   {
    "duration": 43,
    "start_time": "2023-05-18T09:32:32.402Z"
   },
   {
    "duration": 5,
    "start_time": "2023-05-18T09:32:34.177Z"
   },
   {
    "duration": 19,
    "start_time": "2023-05-18T09:32:35.384Z"
   },
   {
    "duration": 66,
    "start_time": "2023-05-18T09:32:43.779Z"
   },
   {
    "duration": 3,
    "start_time": "2023-05-18T09:33:49.610Z"
   },
   {
    "duration": 77,
    "start_time": "2023-05-18T09:33:51.679Z"
   },
   {
    "duration": 53,
    "start_time": "2023-05-18T09:33:53.319Z"
   },
   {
    "duration": 8,
    "start_time": "2023-05-18T09:33:55.251Z"
   },
   {
    "duration": 14,
    "start_time": "2023-05-18T09:33:56.582Z"
   },
   {
    "duration": 9,
    "start_time": "2023-05-18T09:36:26.899Z"
   },
   {
    "duration": 9,
    "start_time": "2023-05-18T09:36:40.003Z"
   },
   {
    "duration": 7,
    "start_time": "2023-05-18T10:03:07.871Z"
   },
   {
    "duration": 8,
    "start_time": "2023-05-18T10:04:16.475Z"
   },
   {
    "duration": 11,
    "start_time": "2023-05-18T10:05:15.025Z"
   },
   {
    "duration": 687,
    "start_time": "2023-05-18T10:43:43.566Z"
   },
   {
    "duration": 688,
    "start_time": "2023-05-18T10:45:10.566Z"
   },
   {
    "duration": 642,
    "start_time": "2023-05-18T10:45:32.021Z"
   },
   {
    "duration": 529,
    "start_time": "2023-05-18T10:46:36.813Z"
   },
   {
    "duration": 1170,
    "start_time": "2023-05-18T10:56:33.972Z"
   },
   {
    "duration": 87,
    "start_time": "2023-05-18T10:56:35.144Z"
   },
   {
    "duration": 52,
    "start_time": "2023-05-18T10:56:35.232Z"
   },
   {
    "duration": 15,
    "start_time": "2023-05-18T10:56:35.295Z"
   },
   {
    "duration": 19,
    "start_time": "2023-05-18T10:56:35.312Z"
   },
   {
    "duration": 11,
    "start_time": "2023-05-18T10:56:35.333Z"
   },
   {
    "duration": 10,
    "start_time": "2023-05-18T10:56:35.345Z"
   },
   {
    "duration": 180,
    "start_time": "2023-05-18T10:56:35.357Z"
   },
   {
    "duration": 579,
    "start_time": "2023-05-18T11:00:36.015Z"
   },
   {
    "duration": 13,
    "start_time": "2023-05-18T11:00:50.011Z"
   },
   {
    "duration": 12,
    "start_time": "2023-05-18T11:04:33.182Z"
   },
   {
    "duration": 10,
    "start_time": "2023-05-18T11:04:34.809Z"
   },
   {
    "duration": 9,
    "start_time": "2023-05-18T11:04:36.766Z"
   },
   {
    "duration": 8,
    "start_time": "2023-05-18T11:04:37.798Z"
   },
   {
    "duration": 13,
    "start_time": "2023-05-18T11:04:41.060Z"
   },
   {
    "duration": 1106,
    "start_time": "2023-05-18T11:05:02.950Z"
   },
   {
    "duration": 85,
    "start_time": "2023-05-18T11:05:04.058Z"
   },
   {
    "duration": 56,
    "start_time": "2023-05-18T11:05:04.145Z"
   },
   {
    "duration": 9,
    "start_time": "2023-05-18T11:05:04.204Z"
   },
   {
    "duration": 27,
    "start_time": "2023-05-18T11:05:04.215Z"
   },
   {
    "duration": 12,
    "start_time": "2023-05-18T11:05:04.243Z"
   },
   {
    "duration": 19,
    "start_time": "2023-05-18T11:05:04.257Z"
   },
   {
    "duration": 130,
    "start_time": "2023-05-18T11:05:04.278Z"
   },
   {
    "duration": 0,
    "start_time": "2023-05-18T11:05:04.409Z"
   },
   {
    "duration": 11,
    "start_time": "2023-05-18T11:05:48.318Z"
   },
   {
    "duration": 13,
    "start_time": "2023-05-18T11:05:53.958Z"
   },
   {
    "duration": 11,
    "start_time": "2023-05-18T11:06:10.871Z"
   },
   {
    "duration": 14,
    "start_time": "2023-05-18T11:06:16.799Z"
   },
   {
    "duration": 1280,
    "start_time": "2023-05-18T11:06:27.159Z"
   },
   {
    "duration": 90,
    "start_time": "2023-05-18T11:06:28.441Z"
   },
   {
    "duration": 42,
    "start_time": "2023-05-18T11:06:28.533Z"
   },
   {
    "duration": 20,
    "start_time": "2023-05-18T11:06:28.577Z"
   },
   {
    "duration": 15,
    "start_time": "2023-05-18T11:06:28.602Z"
   },
   {
    "duration": 10,
    "start_time": "2023-05-18T11:06:28.619Z"
   },
   {
    "duration": 24,
    "start_time": "2023-05-18T11:06:28.630Z"
   },
   {
    "duration": 12,
    "start_time": "2023-05-18T11:06:28.656Z"
   },
   {
    "duration": 471,
    "start_time": "2023-05-18T11:06:28.669Z"
   },
   {
    "duration": 12,
    "start_time": "2023-05-18T11:07:40.804Z"
   },
   {
    "duration": 16,
    "start_time": "2023-05-18T11:08:12.005Z"
   },
   {
    "duration": 14,
    "start_time": "2023-05-18T11:08:20.387Z"
   },
   {
    "duration": 9,
    "start_time": "2023-05-18T11:08:21.256Z"
   },
   {
    "duration": 11,
    "start_time": "2023-05-18T11:08:21.818Z"
   },
   {
    "duration": 9,
    "start_time": "2023-05-18T11:08:24.099Z"
   },
   {
    "duration": 370,
    "start_time": "2023-05-18T11:08:25.301Z"
   },
   {
    "duration": 13,
    "start_time": "2023-05-18T11:09:50.768Z"
   },
   {
    "duration": 21,
    "start_time": "2023-05-18T11:11:32.585Z"
   },
   {
    "duration": 83,
    "start_time": "2023-05-18T11:12:15.198Z"
   },
   {
    "duration": 9,
    "start_time": "2023-05-18T11:12:47.669Z"
   },
   {
    "duration": 8,
    "start_time": "2023-05-18T11:13:30.062Z"
   },
   {
    "duration": 71,
    "start_time": "2023-05-18T11:13:44.477Z"
   },
   {
    "duration": 9,
    "start_time": "2023-05-18T11:14:08.503Z"
   },
   {
    "duration": 3,
    "start_time": "2023-05-18T11:25:44.179Z"
   },
   {
    "duration": 5,
    "start_time": "2023-05-18T11:27:26.879Z"
   },
   {
    "duration": 100,
    "start_time": "2023-05-18T11:28:00.883Z"
   },
   {
    "duration": 52,
    "start_time": "2023-05-18T11:28:20.883Z"
   },
   {
    "duration": 6,
    "start_time": "2023-05-18T11:28:27.251Z"
   },
   {
    "duration": 7,
    "start_time": "2023-05-18T11:28:39.005Z"
   },
   {
    "duration": 7,
    "start_time": "2023-05-18T11:28:49.467Z"
   },
   {
    "duration": 7,
    "start_time": "2023-05-18T11:28:58.413Z"
   },
   {
    "duration": 1044,
    "start_time": "2023-05-18T11:29:14.189Z"
   },
   {
    "duration": 76,
    "start_time": "2023-05-18T11:29:15.234Z"
   },
   {
    "duration": 42,
    "start_time": "2023-05-18T11:29:15.311Z"
   },
   {
    "duration": 12,
    "start_time": "2023-05-18T11:29:15.354Z"
   },
   {
    "duration": 9,
    "start_time": "2023-05-18T11:29:15.368Z"
   },
   {
    "duration": 8,
    "start_time": "2023-05-18T11:29:15.384Z"
   },
   {
    "duration": 23,
    "start_time": "2023-05-18T11:29:15.393Z"
   },
   {
    "duration": 12,
    "start_time": "2023-05-18T11:29:15.417Z"
   },
   {
    "duration": 11,
    "start_time": "2023-05-18T11:29:15.431Z"
   },
   {
    "duration": 355,
    "start_time": "2023-05-18T11:29:15.444Z"
   },
   {
    "duration": 7,
    "start_time": "2023-05-18T11:29:32.216Z"
   },
   {
    "duration": 1054,
    "start_time": "2023-05-18T11:29:38.088Z"
   },
   {
    "duration": 76,
    "start_time": "2023-05-18T11:29:39.144Z"
   },
   {
    "duration": 42,
    "start_time": "2023-05-18T11:29:39.221Z"
   },
   {
    "duration": 17,
    "start_time": "2023-05-18T11:29:39.264Z"
   },
   {
    "duration": 12,
    "start_time": "2023-05-18T11:29:39.283Z"
   },
   {
    "duration": 8,
    "start_time": "2023-05-18T11:29:39.296Z"
   },
   {
    "duration": 12,
    "start_time": "2023-05-18T11:29:39.306Z"
   },
   {
    "duration": 16,
    "start_time": "2023-05-18T11:29:39.319Z"
   },
   {
    "duration": 7,
    "start_time": "2023-05-18T11:29:39.337Z"
   },
   {
    "duration": 369,
    "start_time": "2023-05-18T11:29:39.345Z"
   },
   {
    "duration": 8,
    "start_time": "2023-05-18T11:29:52.719Z"
   },
   {
    "duration": 1104,
    "start_time": "2023-05-18T11:29:57.959Z"
   },
   {
    "duration": 75,
    "start_time": "2023-05-18T11:29:59.065Z"
   },
   {
    "duration": 42,
    "start_time": "2023-05-18T11:29:59.141Z"
   },
   {
    "duration": 13,
    "start_time": "2023-05-18T11:29:59.185Z"
   },
   {
    "duration": 19,
    "start_time": "2023-05-18T11:29:59.199Z"
   },
   {
    "duration": 9,
    "start_time": "2023-05-18T11:29:59.219Z"
   },
   {
    "duration": 12,
    "start_time": "2023-05-18T11:29:59.229Z"
   },
   {
    "duration": 9,
    "start_time": "2023-05-18T11:29:59.243Z"
   },
   {
    "duration": 12,
    "start_time": "2023-05-18T11:29:59.254Z"
   },
   {
    "duration": 298,
    "start_time": "2023-05-18T11:29:59.267Z"
   },
   {
    "duration": 7,
    "start_time": "2023-05-18T11:30:35.909Z"
   },
   {
    "duration": 8,
    "start_time": "2023-05-18T11:31:26.389Z"
   },
   {
    "duration": 7,
    "start_time": "2023-05-18T11:31:41.663Z"
   },
   {
    "duration": 6,
    "start_time": "2023-05-18T11:32:33.331Z"
   },
   {
    "duration": 1031,
    "start_time": "2023-05-18T11:32:44.718Z"
   },
   {
    "duration": 77,
    "start_time": "2023-05-18T11:32:45.751Z"
   },
   {
    "duration": 42,
    "start_time": "2023-05-18T11:32:45.829Z"
   },
   {
    "duration": 13,
    "start_time": "2023-05-18T11:32:45.872Z"
   },
   {
    "duration": 16,
    "start_time": "2023-05-18T11:32:45.887Z"
   },
   {
    "duration": 33,
    "start_time": "2023-05-18T11:32:45.904Z"
   },
   {
    "duration": 34,
    "start_time": "2023-05-18T11:32:45.938Z"
   },
   {
    "duration": 27,
    "start_time": "2023-05-18T11:32:45.973Z"
   },
   {
    "duration": 26,
    "start_time": "2023-05-18T11:32:46.001Z"
   },
   {
    "duration": 500,
    "start_time": "2023-05-18T11:32:46.029Z"
   },
   {
    "duration": 8,
    "start_time": "2023-05-18T11:32:54.543Z"
   },
   {
    "duration": 1110,
    "start_time": "2023-05-18T11:33:01.156Z"
   },
   {
    "duration": 76,
    "start_time": "2023-05-18T11:33:02.268Z"
   },
   {
    "duration": 42,
    "start_time": "2023-05-18T11:33:02.345Z"
   },
   {
    "duration": 14,
    "start_time": "2023-05-18T11:33:02.388Z"
   },
   {
    "duration": 35,
    "start_time": "2023-05-18T11:33:02.403Z"
   },
   {
    "duration": 9,
    "start_time": "2023-05-18T11:33:02.439Z"
   },
   {
    "duration": 9,
    "start_time": "2023-05-18T11:33:02.449Z"
   },
   {
    "duration": 29,
    "start_time": "2023-05-18T11:33:02.459Z"
   },
   {
    "duration": 8,
    "start_time": "2023-05-18T11:33:02.489Z"
   },
   {
    "duration": 454,
    "start_time": "2023-05-18T11:33:02.498Z"
   },
   {
    "duration": 952,
    "start_time": "2023-05-18T11:34:17.386Z"
   },
   {
    "duration": 77,
    "start_time": "2023-05-18T11:34:18.340Z"
   },
   {
    "duration": 44,
    "start_time": "2023-05-18T11:34:18.418Z"
   },
   {
    "duration": 15,
    "start_time": "2023-05-18T11:34:18.464Z"
   },
   {
    "duration": 20,
    "start_time": "2023-05-18T11:34:18.480Z"
   },
   {
    "duration": 19,
    "start_time": "2023-05-18T11:34:18.502Z"
   },
   {
    "duration": 12,
    "start_time": "2023-05-18T11:34:18.522Z"
   },
   {
    "duration": 10,
    "start_time": "2023-05-18T11:34:18.536Z"
   },
   {
    "duration": 12,
    "start_time": "2023-05-18T11:34:18.547Z"
   },
   {
    "duration": 431,
    "start_time": "2023-05-18T11:34:18.561Z"
   },
   {
    "duration": 8,
    "start_time": "2023-05-18T11:35:10.600Z"
   },
   {
    "duration": 1053,
    "start_time": "2023-05-18T11:35:20.084Z"
   },
   {
    "duration": 75,
    "start_time": "2023-05-18T11:35:21.138Z"
   },
   {
    "duration": 44,
    "start_time": "2023-05-18T11:35:21.215Z"
   },
   {
    "duration": 14,
    "start_time": "2023-05-18T11:35:21.262Z"
   },
   {
    "duration": 46,
    "start_time": "2023-05-18T11:35:21.277Z"
   },
   {
    "duration": 24,
    "start_time": "2023-05-18T11:35:21.324Z"
   },
   {
    "duration": 35,
    "start_time": "2023-05-18T11:35:21.350Z"
   },
   {
    "duration": 38,
    "start_time": "2023-05-18T11:35:21.386Z"
   },
   {
    "duration": 10,
    "start_time": "2023-05-18T11:35:21.425Z"
   },
   {
    "duration": 426,
    "start_time": "2023-05-18T11:35:21.437Z"
   },
   {
    "duration": 10,
    "start_time": "2023-05-18T11:36:23.200Z"
   },
   {
    "duration": 1187,
    "start_time": "2023-05-18T11:36:31.448Z"
   },
   {
    "duration": 75,
    "start_time": "2023-05-18T11:36:32.637Z"
   },
   {
    "duration": 40,
    "start_time": "2023-05-18T11:36:32.713Z"
   },
   {
    "duration": 14,
    "start_time": "2023-05-18T11:36:32.754Z"
   },
   {
    "duration": 14,
    "start_time": "2023-05-18T11:36:32.769Z"
   },
   {
    "duration": 8,
    "start_time": "2023-05-18T11:36:32.784Z"
   },
   {
    "duration": 7,
    "start_time": "2023-05-18T11:36:32.793Z"
   },
   {
    "duration": 11,
    "start_time": "2023-05-18T11:36:32.801Z"
   },
   {
    "duration": 7,
    "start_time": "2023-05-18T11:36:32.813Z"
   },
   {
    "duration": 454,
    "start_time": "2023-05-18T11:36:32.821Z"
   },
   {
    "duration": 8,
    "start_time": "2023-05-18T11:37:38.650Z"
   },
   {
    "duration": 10,
    "start_time": "2023-05-18T11:37:55.711Z"
   },
   {
    "duration": 8,
    "start_time": "2023-05-18T11:38:03.707Z"
   },
   {
    "duration": 1028,
    "start_time": "2023-05-18T11:38:18.013Z"
   },
   {
    "duration": 78,
    "start_time": "2023-05-18T11:38:19.042Z"
   },
   {
    "duration": 42,
    "start_time": "2023-05-18T11:38:19.121Z"
   },
   {
    "duration": 13,
    "start_time": "2023-05-18T11:38:19.164Z"
   },
   {
    "duration": 10,
    "start_time": "2023-05-18T11:38:19.178Z"
   },
   {
    "duration": 8,
    "start_time": "2023-05-18T11:38:19.189Z"
   },
   {
    "duration": 8,
    "start_time": "2023-05-18T11:38:19.198Z"
   },
   {
    "duration": 16,
    "start_time": "2023-05-18T11:38:19.207Z"
   },
   {
    "duration": 8,
    "start_time": "2023-05-18T11:38:19.224Z"
   },
   {
    "duration": 464,
    "start_time": "2023-05-18T11:38:19.233Z"
   },
   {
    "duration": 94,
    "start_time": "2023-05-18T11:39:15.445Z"
   },
   {
    "duration": 1086,
    "start_time": "2023-05-18T11:40:16.353Z"
   },
   {
    "duration": 82,
    "start_time": "2023-05-18T11:40:17.442Z"
   },
   {
    "duration": 48,
    "start_time": "2023-05-18T11:40:17.525Z"
   },
   {
    "duration": 16,
    "start_time": "2023-05-18T11:40:17.574Z"
   },
   {
    "duration": 22,
    "start_time": "2023-05-18T11:40:17.592Z"
   },
   {
    "duration": 9,
    "start_time": "2023-05-18T11:40:17.616Z"
   },
   {
    "duration": 10,
    "start_time": "2023-05-18T11:40:17.626Z"
   },
   {
    "duration": 11,
    "start_time": "2023-05-18T11:40:17.637Z"
   },
   {
    "duration": 8,
    "start_time": "2023-05-18T11:40:17.650Z"
   },
   {
    "duration": 516,
    "start_time": "2023-05-18T11:40:17.659Z"
   },
   {
    "duration": 1100,
    "start_time": "2023-05-18T11:40:35.558Z"
   },
   {
    "duration": 77,
    "start_time": "2023-05-18T11:40:36.660Z"
   },
   {
    "duration": 43,
    "start_time": "2023-05-18T11:40:36.738Z"
   },
   {
    "duration": 14,
    "start_time": "2023-05-18T11:40:36.783Z"
   },
   {
    "duration": 25,
    "start_time": "2023-05-18T11:40:36.799Z"
   },
   {
    "duration": 10,
    "start_time": "2023-05-18T11:40:36.825Z"
   },
   {
    "duration": 13,
    "start_time": "2023-05-18T11:40:36.836Z"
   },
   {
    "duration": 29,
    "start_time": "2023-05-18T11:40:36.851Z"
   },
   {
    "duration": 9,
    "start_time": "2023-05-18T11:40:36.882Z"
   },
   {
    "duration": 546,
    "start_time": "2023-05-18T11:40:36.892Z"
   },
   {
    "duration": 432,
    "start_time": "2023-05-18T11:41:05.874Z"
   },
   {
    "duration": 386,
    "start_time": "2023-05-18T11:42:28.376Z"
   },
   {
    "duration": 413,
    "start_time": "2023-05-18T11:42:51.774Z"
   },
   {
    "duration": 385,
    "start_time": "2023-05-18T11:48:00.339Z"
   },
   {
    "duration": 1360,
    "start_time": "2023-05-18T11:48:47.782Z"
   },
   {
    "duration": 77,
    "start_time": "2023-05-18T11:48:49.144Z"
   },
   {
    "duration": 41,
    "start_time": "2023-05-18T11:48:49.222Z"
   },
   {
    "duration": 10,
    "start_time": "2023-05-18T11:48:49.265Z"
   },
   {
    "duration": 12,
    "start_time": "2023-05-18T11:48:49.276Z"
   },
   {
    "duration": 14,
    "start_time": "2023-05-18T11:48:49.289Z"
   },
   {
    "duration": 11,
    "start_time": "2023-05-18T11:48:49.304Z"
   },
   {
    "duration": 14,
    "start_time": "2023-05-18T11:48:49.316Z"
   },
   {
    "duration": 10,
    "start_time": "2023-05-18T11:48:49.331Z"
   },
   {
    "duration": 516,
    "start_time": "2023-05-18T11:48:49.344Z"
   },
   {
    "duration": 502,
    "start_time": "2023-05-18T11:49:44.348Z"
   },
   {
    "duration": 480,
    "start_time": "2023-05-18T11:49:59.441Z"
   },
   {
    "duration": 1056,
    "start_time": "2023-05-18T11:50:22.893Z"
   },
   {
    "duration": 77,
    "start_time": "2023-05-18T11:50:23.990Z"
   },
   {
    "duration": 46,
    "start_time": "2023-05-18T11:50:24.068Z"
   },
   {
    "duration": 15,
    "start_time": "2023-05-18T11:50:24.116Z"
   },
   {
    "duration": 21,
    "start_time": "2023-05-18T11:50:24.133Z"
   },
   {
    "duration": 30,
    "start_time": "2023-05-18T11:50:24.156Z"
   },
   {
    "duration": 16,
    "start_time": "2023-05-18T11:50:24.188Z"
   },
   {
    "duration": 21,
    "start_time": "2023-05-18T11:50:24.206Z"
   },
   {
    "duration": 9,
    "start_time": "2023-05-18T11:50:24.228Z"
   },
   {
    "duration": 489,
    "start_time": "2023-05-18T11:50:24.238Z"
   },
   {
    "duration": 418,
    "start_time": "2023-05-18T11:51:22.748Z"
   },
   {
    "duration": 160,
    "start_time": "2023-05-18T11:58:01.443Z"
   },
   {
    "duration": 265,
    "start_time": "2023-05-18T13:10:40.880Z"
   },
   {
    "duration": 272,
    "start_time": "2023-05-18T13:11:02.095Z"
   },
   {
    "duration": 56,
    "start_time": "2023-05-18T13:16:33.835Z"
   },
   {
    "duration": 114,
    "start_time": "2023-05-18T13:19:15.984Z"
   },
   {
    "duration": 249,
    "start_time": "2023-05-18T13:20:49.910Z"
   },
   {
    "duration": 165,
    "start_time": "2023-05-18T13:21:05.336Z"
   },
   {
    "duration": 332,
    "start_time": "2023-05-18T13:34:00.892Z"
   },
   {
    "duration": 252,
    "start_time": "2023-05-18T13:35:35.258Z"
   },
   {
    "duration": 239,
    "start_time": "2023-05-18T13:35:47.721Z"
   },
   {
    "duration": 306,
    "start_time": "2023-05-18T13:36:24.150Z"
   },
   {
    "duration": 293,
    "start_time": "2023-05-18T13:36:49.954Z"
   },
   {
    "duration": 240,
    "start_time": "2023-05-18T13:37:41.321Z"
   },
   {
    "duration": 368,
    "start_time": "2023-05-18T13:39:13.874Z"
   },
   {
    "duration": 371,
    "start_time": "2023-05-18T13:39:20.217Z"
   },
   {
    "duration": 347,
    "start_time": "2023-05-18T13:40:36.413Z"
   },
   {
    "duration": 366,
    "start_time": "2023-05-18T13:40:54.672Z"
   },
   {
    "duration": 373,
    "start_time": "2023-05-18T13:43:28.099Z"
   },
   {
    "duration": 259,
    "start_time": "2023-05-18T13:44:44.010Z"
   },
   {
    "duration": 191,
    "start_time": "2023-05-18T13:45:44.309Z"
   },
   {
    "duration": 335,
    "start_time": "2023-05-18T13:46:41.052Z"
   },
   {
    "duration": 8,
    "start_time": "2023-05-18T13:58:25.688Z"
   },
   {
    "duration": 15,
    "start_time": "2023-05-18T13:58:54.656Z"
   },
   {
    "duration": 7,
    "start_time": "2023-05-18T13:59:16.705Z"
   },
   {
    "duration": 8,
    "start_time": "2023-05-18T13:59:36.151Z"
   },
   {
    "duration": 108,
    "start_time": "2023-05-18T14:06:43.227Z"
   },
   {
    "duration": 108,
    "start_time": "2023-05-18T14:07:17.572Z"
   },
   {
    "duration": 116,
    "start_time": "2023-05-18T14:07:32.297Z"
   },
   {
    "duration": 136,
    "start_time": "2023-05-18T14:07:53.696Z"
   },
   {
    "duration": 68,
    "start_time": "2023-05-18T14:11:49.624Z"
   },
   {
    "duration": 4,
    "start_time": "2023-05-18T14:13:23.165Z"
   },
   {
    "duration": 6,
    "start_time": "2023-05-18T14:16:25.720Z"
   },
   {
    "duration": 280,
    "start_time": "2023-05-18T14:17:34.279Z"
   },
   {
    "duration": 6,
    "start_time": "2023-05-18T14:18:34.520Z"
   },
   {
    "duration": 10,
    "start_time": "2023-05-18T14:19:22.192Z"
   },
   {
    "duration": 6,
    "start_time": "2023-05-18T14:20:54.396Z"
   },
   {
    "duration": 5,
    "start_time": "2023-05-18T14:23:36.898Z"
   },
   {
    "duration": 5,
    "start_time": "2023-05-18T14:23:51.889Z"
   },
   {
    "duration": 60,
    "start_time": "2023-05-20T12:20:04.064Z"
   },
   {
    "duration": 1283,
    "start_time": "2023-05-20T12:20:40.840Z"
   },
   {
    "duration": 192,
    "start_time": "2023-05-20T12:20:42.125Z"
   },
   {
    "duration": 48,
    "start_time": "2023-05-20T12:20:42.318Z"
   },
   {
    "duration": 17,
    "start_time": "2023-05-20T12:20:42.367Z"
   },
   {
    "duration": 11,
    "start_time": "2023-05-20T12:20:42.385Z"
   },
   {
    "duration": 11,
    "start_time": "2023-05-20T12:20:42.398Z"
   },
   {
    "duration": 9,
    "start_time": "2023-05-20T12:20:42.410Z"
   },
   {
    "duration": 11,
    "start_time": "2023-05-20T12:20:42.421Z"
   },
   {
    "duration": 42,
    "start_time": "2023-05-20T12:20:42.433Z"
   },
   {
    "duration": 505,
    "start_time": "2023-05-20T12:20:42.477Z"
   },
   {
    "duration": 192,
    "start_time": "2023-05-20T12:20:42.983Z"
   },
   {
    "duration": 318,
    "start_time": "2023-05-20T12:20:43.176Z"
   },
   {
    "duration": 198,
    "start_time": "2023-05-20T12:20:43.497Z"
   },
   {
    "duration": 322,
    "start_time": "2023-05-20T12:20:43.696Z"
   },
   {
    "duration": 201,
    "start_time": "2023-05-20T12:20:44.019Z"
   },
   {
    "duration": 7,
    "start_time": "2023-05-20T12:20:44.222Z"
   },
   {
    "duration": 186,
    "start_time": "2023-05-20T12:20:44.232Z"
   },
   {
    "duration": 1569,
    "start_time": "2023-05-20T12:28:05.513Z"
   },
   {
    "duration": 77,
    "start_time": "2023-05-20T12:28:07.084Z"
   },
   {
    "duration": 59,
    "start_time": "2023-05-20T12:28:07.164Z"
   },
   {
    "duration": 17,
    "start_time": "2023-05-20T12:28:07.225Z"
   },
   {
    "duration": 15,
    "start_time": "2023-05-20T12:28:07.276Z"
   },
   {
    "duration": 13,
    "start_time": "2023-05-20T12:28:07.293Z"
   },
   {
    "duration": 12,
    "start_time": "2023-05-20T12:28:07.308Z"
   },
   {
    "duration": 16,
    "start_time": "2023-05-20T12:28:07.323Z"
   },
   {
    "duration": 49,
    "start_time": "2023-05-20T12:28:07.341Z"
   },
   {
    "duration": 582,
    "start_time": "2023-05-20T12:28:07.393Z"
   },
   {
    "duration": 237,
    "start_time": "2023-05-20T12:28:07.977Z"
   },
   {
    "duration": 274,
    "start_time": "2023-05-20T12:28:08.216Z"
   },
   {
    "duration": 230,
    "start_time": "2023-05-20T12:28:08.492Z"
   },
   {
    "duration": 303,
    "start_time": "2023-05-20T12:28:08.724Z"
   },
   {
    "duration": 113,
    "start_time": "2023-05-20T12:28:09.029Z"
   },
   {
    "duration": 0,
    "start_time": "2023-05-20T12:28:09.144Z"
   },
   {
    "duration": 0,
    "start_time": "2023-05-20T12:28:09.145Z"
   },
   {
    "duration": 145,
    "start_time": "2023-05-20T12:29:21.591Z"
   },
   {
    "duration": 232,
    "start_time": "2023-05-20T12:33:14.564Z"
   },
   {
    "duration": 151,
    "start_time": "2023-05-20T12:33:31.399Z"
   },
   {
    "duration": 133,
    "start_time": "2023-05-20T12:33:45.238Z"
   },
   {
    "duration": 159,
    "start_time": "2023-05-20T12:34:00.015Z"
   },
   {
    "duration": 136,
    "start_time": "2023-05-20T12:34:11.879Z"
   },
   {
    "duration": 136,
    "start_time": "2023-05-20T12:34:30.319Z"
   },
   {
    "duration": 9,
    "start_time": "2023-05-20T12:38:08.400Z"
   },
   {
    "duration": 8,
    "start_time": "2023-05-20T12:38:19.065Z"
   },
   {
    "duration": 1111,
    "start_time": "2023-05-20T12:40:04.736Z"
   },
   {
    "duration": 76,
    "start_time": "2023-05-20T12:40:05.850Z"
   },
   {
    "duration": 51,
    "start_time": "2023-05-20T12:40:05.927Z"
   },
   {
    "duration": 15,
    "start_time": "2023-05-20T12:40:05.980Z"
   },
   {
    "duration": 42,
    "start_time": "2023-05-20T12:40:05.997Z"
   },
   {
    "duration": 15,
    "start_time": "2023-05-20T12:40:06.041Z"
   },
   {
    "duration": 13,
    "start_time": "2023-05-20T12:40:06.058Z"
   },
   {
    "duration": 14,
    "start_time": "2023-05-20T12:40:06.072Z"
   },
   {
    "duration": 10,
    "start_time": "2023-05-20T12:40:06.087Z"
   },
   {
    "duration": 559,
    "start_time": "2023-05-20T12:40:06.100Z"
   },
   {
    "duration": 227,
    "start_time": "2023-05-20T12:40:06.661Z"
   },
   {
    "duration": 306,
    "start_time": "2023-05-20T12:40:06.889Z"
   },
   {
    "duration": 210,
    "start_time": "2023-05-20T12:40:07.197Z"
   },
   {
    "duration": 339,
    "start_time": "2023-05-20T12:40:07.409Z"
   },
   {
    "duration": 107,
    "start_time": "2023-05-20T12:40:07.750Z"
   },
   {
    "duration": 0,
    "start_time": "2023-05-20T12:40:07.860Z"
   },
   {
    "duration": 0,
    "start_time": "2023-05-20T12:40:07.862Z"
   },
   {
    "duration": 0,
    "start_time": "2023-05-20T12:40:07.864Z"
   },
   {
    "duration": 0,
    "start_time": "2023-05-20T12:40:07.875Z"
   },
   {
    "duration": 9,
    "start_time": "2023-05-20T12:42:12.872Z"
   },
   {
    "duration": 19,
    "start_time": "2023-05-20T12:42:34.076Z"
   },
   {
    "duration": 11,
    "start_time": "2023-05-20T12:42:39.263Z"
   },
   {
    "duration": 12,
    "start_time": "2023-05-20T12:42:50.693Z"
   },
   {
    "duration": 17,
    "start_time": "2023-05-20T12:45:02.945Z"
   },
   {
    "duration": 14,
    "start_time": "2023-05-20T12:45:32.236Z"
   },
   {
    "duration": 154,
    "start_time": "2023-05-20T12:46:47.449Z"
   },
   {
    "duration": 19,
    "start_time": "2023-05-20T12:47:22.184Z"
   },
   {
    "duration": 203,
    "start_time": "2023-05-20T12:47:29.136Z"
   },
   {
    "duration": 6,
    "start_time": "2023-05-20T12:47:46.801Z"
   },
   {
    "duration": 152,
    "start_time": "2023-05-20T12:47:49.958Z"
   },
   {
    "duration": 11,
    "start_time": "2023-05-20T12:47:58.480Z"
   },
   {
    "duration": 9,
    "start_time": "2023-05-20T12:48:04.209Z"
   },
   {
    "duration": 62,
    "start_time": "2023-05-20T13:31:58.075Z"
   },
   {
    "duration": 74,
    "start_time": "2023-05-20T13:32:17.255Z"
   },
   {
    "duration": 95,
    "start_time": "2023-05-20T13:33:13.389Z"
   },
   {
    "duration": 116,
    "start_time": "2023-05-20T13:34:20.560Z"
   },
   {
    "duration": 151,
    "start_time": "2023-05-20T13:34:38.125Z"
   },
   {
    "duration": 201,
    "start_time": "2023-05-20T13:35:12.450Z"
   },
   {
    "duration": 303,
    "start_time": "2023-05-20T13:37:19.080Z"
   },
   {
    "duration": 1150,
    "start_time": "2023-05-20T13:38:22.715Z"
   },
   {
    "duration": 83,
    "start_time": "2023-05-20T13:38:23.868Z"
   },
   {
    "duration": 68,
    "start_time": "2023-05-20T13:38:23.953Z"
   },
   {
    "duration": 23,
    "start_time": "2023-05-20T13:38:24.023Z"
   },
   {
    "duration": 15,
    "start_time": "2023-05-20T13:38:24.079Z"
   },
   {
    "duration": 14,
    "start_time": "2023-05-20T13:38:24.096Z"
   },
   {
    "duration": 11,
    "start_time": "2023-05-20T13:38:24.112Z"
   },
   {
    "duration": 14,
    "start_time": "2023-05-20T13:38:24.126Z"
   },
   {
    "duration": 13,
    "start_time": "2023-05-20T13:38:24.175Z"
   },
   {
    "duration": 529,
    "start_time": "2023-05-20T13:38:24.190Z"
   },
   {
    "duration": 224,
    "start_time": "2023-05-20T13:38:24.721Z"
   },
   {
    "duration": 313,
    "start_time": "2023-05-20T13:38:24.947Z"
   },
   {
    "duration": 215,
    "start_time": "2023-05-20T13:38:25.262Z"
   },
   {
    "duration": 319,
    "start_time": "2023-05-20T13:38:25.479Z"
   },
   {
    "duration": 149,
    "start_time": "2023-05-20T13:38:25.800Z"
   },
   {
    "duration": 100,
    "start_time": "2023-05-20T13:38:25.951Z"
   },
   {
    "duration": 0,
    "start_time": "2023-05-20T13:38:26.053Z"
   },
   {
    "duration": 0,
    "start_time": "2023-05-20T13:38:26.054Z"
   },
   {
    "duration": 0,
    "start_time": "2023-05-20T13:38:26.056Z"
   },
   {
    "duration": 352,
    "start_time": "2023-05-20T13:38:49.170Z"
   },
   {
    "duration": 12,
    "start_time": "2023-05-20T13:40:15.300Z"
   },
   {
    "duration": 5,
    "start_time": "2023-05-20T13:40:25.089Z"
   },
   {
    "duration": 314,
    "start_time": "2023-05-20T13:41:11.246Z"
   },
   {
    "duration": 374,
    "start_time": "2023-05-20T13:47:55.192Z"
   },
   {
    "duration": 1040,
    "start_time": "2023-05-20T13:49:35.832Z"
   },
   {
    "duration": 75,
    "start_time": "2023-05-20T13:49:36.874Z"
   },
   {
    "duration": 44,
    "start_time": "2023-05-20T13:49:36.951Z"
   },
   {
    "duration": 15,
    "start_time": "2023-05-20T13:49:36.997Z"
   },
   {
    "duration": 10,
    "start_time": "2023-05-20T13:49:37.013Z"
   },
   {
    "duration": 9,
    "start_time": "2023-05-20T13:49:37.024Z"
   },
   {
    "duration": 40,
    "start_time": "2023-05-20T13:49:37.035Z"
   },
   {
    "duration": 12,
    "start_time": "2023-05-20T13:49:37.077Z"
   },
   {
    "duration": 9,
    "start_time": "2023-05-20T13:49:37.091Z"
   },
   {
    "duration": 517,
    "start_time": "2023-05-20T13:49:37.103Z"
   },
   {
    "duration": 195,
    "start_time": "2023-05-20T13:49:37.622Z"
   },
   {
    "duration": 256,
    "start_time": "2023-05-20T13:49:37.819Z"
   },
   {
    "duration": 194,
    "start_time": "2023-05-20T13:49:38.076Z"
   },
   {
    "duration": 316,
    "start_time": "2023-05-20T13:49:38.272Z"
   },
   {
    "duration": 152,
    "start_time": "2023-05-20T13:49:38.590Z"
   },
   {
    "duration": 6,
    "start_time": "2023-05-20T13:49:38.743Z"
   },
   {
    "duration": 136,
    "start_time": "2023-05-20T13:49:38.750Z"
   },
   {
    "duration": 8,
    "start_time": "2023-05-20T13:49:38.887Z"
   },
   {
    "duration": 387,
    "start_time": "2023-05-20T13:49:38.896Z"
   },
   {
    "duration": 15,
    "start_time": "2023-05-20T13:49:39.285Z"
   },
   {
    "duration": 334,
    "start_time": "2023-05-20T13:50:07.362Z"
   },
   {
    "duration": 23,
    "start_time": "2023-05-20T13:57:26.220Z"
   },
   {
    "duration": 294,
    "start_time": "2023-05-20T13:57:35.992Z"
   },
   {
    "duration": 259,
    "start_time": "2023-05-20T14:04:57.497Z"
   },
   {
    "duration": 31,
    "start_time": "2023-05-20T14:05:02.082Z"
   },
   {
    "duration": 1091,
    "start_time": "2023-05-20T14:05:28.416Z"
   },
   {
    "duration": 77,
    "start_time": "2023-05-20T14:05:29.509Z"
   },
   {
    "duration": 50,
    "start_time": "2023-05-20T14:05:29.588Z"
   },
   {
    "duration": 14,
    "start_time": "2023-05-20T14:05:29.640Z"
   },
   {
    "duration": 11,
    "start_time": "2023-05-20T14:05:29.676Z"
   },
   {
    "duration": 13,
    "start_time": "2023-05-20T14:05:29.690Z"
   },
   {
    "duration": 8,
    "start_time": "2023-05-20T14:05:29.705Z"
   },
   {
    "duration": 17,
    "start_time": "2023-05-20T14:05:29.714Z"
   },
   {
    "duration": 9,
    "start_time": "2023-05-20T14:05:29.732Z"
   },
   {
    "duration": 586,
    "start_time": "2023-05-20T14:05:29.742Z"
   },
   {
    "duration": 205,
    "start_time": "2023-05-20T14:05:30.330Z"
   },
   {
    "duration": 287,
    "start_time": "2023-05-20T14:05:30.536Z"
   },
   {
    "duration": 205,
    "start_time": "2023-05-20T14:05:30.825Z"
   },
   {
    "duration": 310,
    "start_time": "2023-05-20T14:05:31.032Z"
   },
   {
    "duration": 154,
    "start_time": "2023-05-20T14:05:31.344Z"
   },
   {
    "duration": 7,
    "start_time": "2023-05-20T14:05:31.500Z"
   },
   {
    "duration": 173,
    "start_time": "2023-05-20T14:05:31.509Z"
   },
   {
    "duration": 9,
    "start_time": "2023-05-20T14:05:31.684Z"
   },
   {
    "duration": 201,
    "start_time": "2023-05-20T14:05:31.694Z"
   },
   {
    "duration": 0,
    "start_time": "2023-05-20T14:05:31.897Z"
   },
   {
    "duration": 0,
    "start_time": "2023-05-20T14:05:31.898Z"
   },
   {
    "duration": 309,
    "start_time": "2023-05-20T14:06:47.884Z"
   },
   {
    "duration": 334,
    "start_time": "2023-05-20T14:06:54.656Z"
   },
   {
    "duration": 23,
    "start_time": "2023-05-20T14:06:55.665Z"
   },
   {
    "duration": 9,
    "start_time": "2023-05-20T14:10:51.748Z"
   },
   {
    "duration": 9,
    "start_time": "2023-05-20T14:11:12.189Z"
   },
   {
    "duration": 11,
    "start_time": "2023-05-20T14:11:21.603Z"
   },
   {
    "duration": 11,
    "start_time": "2023-05-20T14:11:34.346Z"
   },
   {
    "duration": 1110,
    "start_time": "2023-05-20T14:15:24.670Z"
   },
   {
    "duration": 75,
    "start_time": "2023-05-20T14:15:25.782Z"
   },
   {
    "duration": 49,
    "start_time": "2023-05-20T14:15:25.859Z"
   },
   {
    "duration": 16,
    "start_time": "2023-05-20T14:15:25.911Z"
   },
   {
    "duration": 11,
    "start_time": "2023-05-20T14:15:25.928Z"
   },
   {
    "duration": 36,
    "start_time": "2023-05-20T14:15:25.940Z"
   },
   {
    "duration": 12,
    "start_time": "2023-05-20T14:15:25.978Z"
   },
   {
    "duration": 18,
    "start_time": "2023-05-20T14:15:25.991Z"
   },
   {
    "duration": 26,
    "start_time": "2023-05-20T14:15:26.011Z"
   },
   {
    "duration": 500,
    "start_time": "2023-05-20T14:15:26.039Z"
   },
   {
    "duration": 194,
    "start_time": "2023-05-20T14:15:26.540Z"
   },
   {
    "duration": 267,
    "start_time": "2023-05-20T14:15:26.735Z"
   },
   {
    "duration": 197,
    "start_time": "2023-05-20T14:15:27.004Z"
   },
   {
    "duration": 286,
    "start_time": "2023-05-20T14:15:27.203Z"
   },
   {
    "duration": 157,
    "start_time": "2023-05-20T14:15:27.491Z"
   },
   {
    "duration": 6,
    "start_time": "2023-05-20T14:15:27.650Z"
   },
   {
    "duration": 160,
    "start_time": "2023-05-20T14:15:27.658Z"
   },
   {
    "duration": 8,
    "start_time": "2023-05-20T14:15:27.819Z"
   },
   {
    "duration": 411,
    "start_time": "2023-05-20T14:15:27.829Z"
   },
   {
    "duration": 23,
    "start_time": "2023-05-20T14:15:28.242Z"
   },
   {
    "duration": 14,
    "start_time": "2023-05-20T14:15:28.266Z"
   },
   {
    "duration": 16,
    "start_time": "2023-05-20T14:15:28.282Z"
   },
   {
    "duration": 10,
    "start_time": "2023-05-20T14:16:48.600Z"
   },
   {
    "duration": 8,
    "start_time": "2023-05-20T14:16:56.354Z"
   },
   {
    "duration": 418,
    "start_time": "2023-05-20T14:18:07.347Z"
   },
   {
    "duration": 9,
    "start_time": "2023-05-20T14:18:26.521Z"
   },
   {
    "duration": 1110,
    "start_time": "2023-05-20T14:20:19.870Z"
   },
   {
    "duration": 77,
    "start_time": "2023-05-20T14:20:20.982Z"
   },
   {
    "duration": 54,
    "start_time": "2023-05-20T14:20:21.061Z"
   },
   {
    "duration": 17,
    "start_time": "2023-05-20T14:20:21.117Z"
   },
   {
    "duration": 45,
    "start_time": "2023-05-20T14:20:21.136Z"
   },
   {
    "duration": 10,
    "start_time": "2023-05-20T14:20:21.183Z"
   },
   {
    "duration": 9,
    "start_time": "2023-05-20T14:20:21.195Z"
   },
   {
    "duration": 12,
    "start_time": "2023-05-20T14:20:21.206Z"
   },
   {
    "duration": 9,
    "start_time": "2023-05-20T14:20:21.220Z"
   },
   {
    "duration": 538,
    "start_time": "2023-05-20T14:20:21.231Z"
   },
   {
    "duration": 184,
    "start_time": "2023-05-20T14:20:21.770Z"
   },
   {
    "duration": 291,
    "start_time": "2023-05-20T14:20:21.956Z"
   },
   {
    "duration": 196,
    "start_time": "2023-05-20T14:20:22.248Z"
   },
   {
    "duration": 317,
    "start_time": "2023-05-20T14:20:22.446Z"
   },
   {
    "duration": 155,
    "start_time": "2023-05-20T14:20:22.764Z"
   },
   {
    "duration": 6,
    "start_time": "2023-05-20T14:20:22.920Z"
   },
   {
    "duration": 162,
    "start_time": "2023-05-20T14:20:22.928Z"
   },
   {
    "duration": 8,
    "start_time": "2023-05-20T14:20:23.091Z"
   },
   {
    "duration": 384,
    "start_time": "2023-05-20T14:20:23.101Z"
   },
   {
    "duration": 25,
    "start_time": "2023-05-20T14:20:23.486Z"
   },
   {
    "duration": 10,
    "start_time": "2023-05-20T14:20:23.512Z"
   },
   {
    "duration": 16,
    "start_time": "2023-05-20T14:20:23.523Z"
   },
   {
    "duration": 17,
    "start_time": "2023-05-20T14:24:58.662Z"
   },
   {
    "duration": 16,
    "start_time": "2023-05-20T14:27:06.166Z"
   },
   {
    "duration": 1155,
    "start_time": "2023-05-20T14:27:13.911Z"
   },
   {
    "duration": 76,
    "start_time": "2023-05-20T14:27:15.069Z"
   },
   {
    "duration": 48,
    "start_time": "2023-05-20T14:27:15.147Z"
   },
   {
    "duration": 16,
    "start_time": "2023-05-20T14:27:15.196Z"
   },
   {
    "duration": 21,
    "start_time": "2023-05-20T14:27:15.215Z"
   },
   {
    "duration": 9,
    "start_time": "2023-05-20T14:27:15.238Z"
   },
   {
    "duration": 34,
    "start_time": "2023-05-20T14:27:15.249Z"
   },
   {
    "duration": 16,
    "start_time": "2023-05-20T14:27:15.285Z"
   },
   {
    "duration": 27,
    "start_time": "2023-05-20T14:27:15.303Z"
   },
   {
    "duration": 513,
    "start_time": "2023-05-20T14:27:15.331Z"
   },
   {
    "duration": 185,
    "start_time": "2023-05-20T14:27:15.846Z"
   },
   {
    "duration": 271,
    "start_time": "2023-05-20T14:27:16.033Z"
   },
   {
    "duration": 195,
    "start_time": "2023-05-20T14:27:16.305Z"
   },
   {
    "duration": 282,
    "start_time": "2023-05-20T14:27:16.504Z"
   },
   {
    "duration": 142,
    "start_time": "2023-05-20T14:27:16.788Z"
   },
   {
    "duration": 5,
    "start_time": "2023-05-20T14:27:16.932Z"
   },
   {
    "duration": 147,
    "start_time": "2023-05-20T14:27:16.938Z"
   },
   {
    "duration": 8,
    "start_time": "2023-05-20T14:27:17.086Z"
   },
   {
    "duration": 377,
    "start_time": "2023-05-20T14:27:17.095Z"
   },
   {
    "duration": 21,
    "start_time": "2023-05-20T14:27:17.474Z"
   },
   {
    "duration": 9,
    "start_time": "2023-05-20T14:27:17.497Z"
   },
   {
    "duration": 17,
    "start_time": "2023-05-20T14:27:17.508Z"
   },
   {
    "duration": 13,
    "start_time": "2023-05-20T14:29:42.359Z"
   },
   {
    "duration": 315,
    "start_time": "2023-05-20T14:37:20.563Z"
   },
   {
    "duration": 22,
    "start_time": "2023-05-20T14:37:23.710Z"
   },
   {
    "duration": 112,
    "start_time": "2023-05-20T14:40:30.012Z"
   },
   {
    "duration": 32,
    "start_time": "2023-05-20T14:41:20.262Z"
   },
   {
    "duration": 33,
    "start_time": "2023-05-20T14:41:30.299Z"
   },
   {
    "duration": 53,
    "start_time": "2023-05-20T15:37:18.335Z"
   },
   {
    "duration": 104,
    "start_time": "2023-05-20T15:39:21.218Z"
   },
   {
    "duration": 15,
    "start_time": "2023-05-20T15:40:12.093Z"
   },
   {
    "duration": 23,
    "start_time": "2023-05-20T15:40:25.817Z"
   },
   {
    "duration": 13,
    "start_time": "2023-05-20T15:41:52.491Z"
   },
   {
    "duration": 32,
    "start_time": "2023-05-20T15:59:29.762Z"
   },
   {
    "duration": 319,
    "start_time": "2023-05-20T15:59:41.558Z"
   },
   {
    "duration": 359,
    "start_time": "2023-05-20T16:19:11.267Z"
   },
   {
    "duration": 214,
    "start_time": "2023-05-20T16:20:22.476Z"
   },
   {
    "duration": 227,
    "start_time": "2023-05-20T16:22:13.617Z"
   },
   {
    "duration": 338,
    "start_time": "2023-05-20T16:32:10.970Z"
   },
   {
    "duration": 375,
    "start_time": "2023-05-20T16:33:01.046Z"
   },
   {
    "duration": 1311,
    "start_time": "2023-05-21T07:40:54.650Z"
   },
   {
    "duration": 75,
    "start_time": "2023-05-21T07:40:55.963Z"
   },
   {
    "duration": 57,
    "start_time": "2023-05-21T07:40:56.040Z"
   },
   {
    "duration": 15,
    "start_time": "2023-05-21T07:40:56.099Z"
   },
   {
    "duration": 12,
    "start_time": "2023-05-21T07:40:56.116Z"
   },
   {
    "duration": 14,
    "start_time": "2023-05-21T07:40:56.130Z"
   },
   {
    "duration": 8,
    "start_time": "2023-05-21T07:40:56.145Z"
   },
   {
    "duration": 11,
    "start_time": "2023-05-21T07:40:56.175Z"
   },
   {
    "duration": 10,
    "start_time": "2023-05-21T07:40:56.187Z"
   },
   {
    "duration": 535,
    "start_time": "2023-05-21T07:40:56.198Z"
   },
   {
    "duration": 194,
    "start_time": "2023-05-21T07:40:56.734Z"
   },
   {
    "duration": 257,
    "start_time": "2023-05-21T07:40:56.929Z"
   },
   {
    "duration": 190,
    "start_time": "2023-05-21T07:40:57.187Z"
   },
   {
    "duration": 316,
    "start_time": "2023-05-21T07:40:57.380Z"
   },
   {
    "duration": 160,
    "start_time": "2023-05-21T07:40:57.698Z"
   },
   {
    "duration": 6,
    "start_time": "2023-05-21T07:40:57.859Z"
   },
   {
    "duration": 143,
    "start_time": "2023-05-21T07:40:57.875Z"
   },
   {
    "duration": 8,
    "start_time": "2023-05-21T07:40:58.019Z"
   },
   {
    "duration": 411,
    "start_time": "2023-05-21T07:40:58.028Z"
   },
   {
    "duration": 35,
    "start_time": "2023-05-21T07:40:58.441Z"
   },
   {
    "duration": 9,
    "start_time": "2023-05-21T07:40:58.477Z"
   },
   {
    "duration": 13,
    "start_time": "2023-05-21T07:40:58.487Z"
   },
   {
    "duration": 22,
    "start_time": "2023-05-21T07:40:58.502Z"
   },
   {
    "duration": 12,
    "start_time": "2023-05-21T07:40:58.525Z"
   },
   {
    "duration": 1137,
    "start_time": "2023-05-21T07:46:56.746Z"
   },
   {
    "duration": 76,
    "start_time": "2023-05-21T07:46:57.884Z"
   },
   {
    "duration": 49,
    "start_time": "2023-05-21T07:46:57.961Z"
   },
   {
    "duration": 15,
    "start_time": "2023-05-21T07:46:58.011Z"
   },
   {
    "duration": 10,
    "start_time": "2023-05-21T07:46:58.028Z"
   },
   {
    "duration": 40,
    "start_time": "2023-05-21T07:46:58.039Z"
   },
   {
    "duration": 11,
    "start_time": "2023-05-21T07:46:58.081Z"
   },
   {
    "duration": 12,
    "start_time": "2023-05-21T07:46:58.093Z"
   },
   {
    "duration": 10,
    "start_time": "2023-05-21T07:46:58.106Z"
   },
   {
    "duration": 543,
    "start_time": "2023-05-21T07:46:58.118Z"
   },
   {
    "duration": 182,
    "start_time": "2023-05-21T07:46:58.662Z"
   },
   {
    "duration": 302,
    "start_time": "2023-05-21T07:46:58.846Z"
   },
   {
    "duration": 199,
    "start_time": "2023-05-21T07:46:59.150Z"
   },
   {
    "duration": 313,
    "start_time": "2023-05-21T07:46:59.351Z"
   },
   {
    "duration": 144,
    "start_time": "2023-05-21T07:46:59.666Z"
   },
   {
    "duration": 6,
    "start_time": "2023-05-21T07:46:59.812Z"
   },
   {
    "duration": 145,
    "start_time": "2023-05-21T07:46:59.820Z"
   },
   {
    "duration": 12,
    "start_time": "2023-05-21T07:46:59.967Z"
   },
   {
    "duration": 380,
    "start_time": "2023-05-21T07:46:59.981Z"
   },
   {
    "duration": 27,
    "start_time": "2023-05-21T07:47:00.363Z"
   },
   {
    "duration": 10,
    "start_time": "2023-05-21T07:47:00.392Z"
   },
   {
    "duration": 21,
    "start_time": "2023-05-21T07:47:00.403Z"
   },
   {
    "duration": 43,
    "start_time": "2023-05-21T07:47:00.426Z"
   },
   {
    "duration": 13,
    "start_time": "2023-05-21T07:47:00.470Z"
   },
   {
    "duration": 1133,
    "start_time": "2023-05-21T08:04:49.750Z"
   },
   {
    "duration": 76,
    "start_time": "2023-05-21T08:04:50.885Z"
   },
   {
    "duration": 47,
    "start_time": "2023-05-21T08:04:50.962Z"
   },
   {
    "duration": 16,
    "start_time": "2023-05-21T08:04:51.010Z"
   },
   {
    "duration": 20,
    "start_time": "2023-05-21T08:04:51.027Z"
   },
   {
    "duration": 10,
    "start_time": "2023-05-21T08:04:51.048Z"
   },
   {
    "duration": 15,
    "start_time": "2023-05-21T08:04:51.059Z"
   },
   {
    "duration": 11,
    "start_time": "2023-05-21T08:04:51.076Z"
   },
   {
    "duration": 8,
    "start_time": "2023-05-21T08:04:51.088Z"
   },
   {
    "duration": 600,
    "start_time": "2023-05-21T08:04:51.097Z"
   },
   {
    "duration": 200,
    "start_time": "2023-05-21T08:04:51.699Z"
   },
   {
    "duration": 269,
    "start_time": "2023-05-21T08:04:51.900Z"
   },
   {
    "duration": 195,
    "start_time": "2023-05-21T08:04:52.174Z"
   },
   {
    "duration": 334,
    "start_time": "2023-05-21T08:04:52.371Z"
   },
   {
    "duration": 161,
    "start_time": "2023-05-21T08:04:52.706Z"
   },
   {
    "duration": 10,
    "start_time": "2023-05-21T08:04:52.869Z"
   },
   {
    "duration": 145,
    "start_time": "2023-05-21T08:04:52.880Z"
   },
   {
    "duration": 8,
    "start_time": "2023-05-21T08:04:53.026Z"
   },
   {
    "duration": 363,
    "start_time": "2023-05-21T08:04:53.035Z"
   },
   {
    "duration": 21,
    "start_time": "2023-05-21T08:04:53.400Z"
   },
   {
    "duration": 8,
    "start_time": "2023-05-21T08:04:53.422Z"
   },
   {
    "duration": 22,
    "start_time": "2023-05-21T08:04:53.432Z"
   },
   {
    "duration": 34,
    "start_time": "2023-05-21T08:04:53.455Z"
   },
   {
    "duration": 12,
    "start_time": "2023-05-21T08:04:53.491Z"
   },
   {
    "duration": 1535,
    "start_time": "2023-05-21T09:48:11.681Z"
   },
   {
    "duration": 1201,
    "start_time": "2023-05-21T09:48:16.261Z"
   },
   {
    "duration": 217,
    "start_time": "2023-05-21T09:48:17.464Z"
   },
   {
    "duration": 56,
    "start_time": "2023-05-21T09:48:17.682Z"
   },
   {
    "duration": 16,
    "start_time": "2023-05-21T09:48:17.740Z"
   },
   {
    "duration": 11,
    "start_time": "2023-05-21T09:48:17.758Z"
   },
   {
    "duration": 10,
    "start_time": "2023-05-21T09:48:17.770Z"
   },
   {
    "duration": 10,
    "start_time": "2023-05-21T09:48:17.782Z"
   },
   {
    "duration": 18,
    "start_time": "2023-05-21T09:48:17.829Z"
   },
   {
    "duration": 9,
    "start_time": "2023-05-21T09:48:17.849Z"
   },
   {
    "duration": 581,
    "start_time": "2023-05-21T09:48:17.860Z"
   },
   {
    "duration": 215,
    "start_time": "2023-05-21T09:48:18.443Z"
   },
   {
    "duration": 296,
    "start_time": "2023-05-21T09:48:18.659Z"
   },
   {
    "duration": 224,
    "start_time": "2023-05-21T09:48:18.957Z"
   },
   {
    "duration": 377,
    "start_time": "2023-05-21T09:48:19.184Z"
   },
   {
    "duration": 192,
    "start_time": "2023-05-21T09:48:19.563Z"
   },
   {
    "duration": 8,
    "start_time": "2023-05-21T09:48:19.757Z"
   },
   {
    "duration": 241,
    "start_time": "2023-05-21T09:48:19.767Z"
   },
   {
    "duration": 29,
    "start_time": "2023-05-21T09:48:20.010Z"
   },
   {
    "duration": 409,
    "start_time": "2023-05-21T09:48:20.041Z"
   },
   {
    "duration": 25,
    "start_time": "2023-05-21T09:48:20.452Z"
   },
   {
    "duration": 9,
    "start_time": "2023-05-21T09:48:20.479Z"
   },
   {
    "duration": 15,
    "start_time": "2023-05-21T09:48:20.490Z"
   },
   {
    "duration": 32,
    "start_time": "2023-05-21T09:48:20.528Z"
   },
   {
    "duration": 16,
    "start_time": "2023-05-21T09:48:20.562Z"
   },
   {
    "duration": 74,
    "start_time": "2023-05-21T09:49:37.913Z"
   },
   {
    "duration": 148,
    "start_time": "2023-05-21T10:00:04.194Z"
   },
   {
    "duration": 138,
    "start_time": "2023-05-21T10:00:27.377Z"
   },
   {
    "duration": 258,
    "start_time": "2023-05-21T10:04:31.670Z"
   },
   {
    "duration": 1110,
    "start_time": "2023-05-21T10:04:40.826Z"
   },
   {
    "duration": 78,
    "start_time": "2023-05-21T10:04:41.938Z"
   },
   {
    "duration": 48,
    "start_time": "2023-05-21T10:04:42.018Z"
   },
   {
    "duration": 17,
    "start_time": "2023-05-21T10:04:42.068Z"
   },
   {
    "duration": 42,
    "start_time": "2023-05-21T10:04:42.086Z"
   },
   {
    "duration": 11,
    "start_time": "2023-05-21T10:04:42.129Z"
   },
   {
    "duration": 10,
    "start_time": "2023-05-21T10:04:42.141Z"
   },
   {
    "duration": 12,
    "start_time": "2023-05-21T10:04:42.153Z"
   },
   {
    "duration": 10,
    "start_time": "2023-05-21T10:04:42.167Z"
   },
   {
    "duration": 561,
    "start_time": "2023-05-21T10:04:42.180Z"
   },
   {
    "duration": 227,
    "start_time": "2023-05-21T10:04:42.743Z"
   },
   {
    "duration": 256,
    "start_time": "2023-05-21T10:04:42.971Z"
   },
   {
    "duration": 227,
    "start_time": "2023-05-21T10:04:43.229Z"
   },
   {
    "duration": 296,
    "start_time": "2023-05-21T10:04:43.458Z"
   },
   {
    "duration": 160,
    "start_time": "2023-05-21T10:04:43.755Z"
   },
   {
    "duration": 12,
    "start_time": "2023-05-21T10:04:43.917Z"
   },
   {
    "duration": 149,
    "start_time": "2023-05-21T10:04:43.930Z"
   },
   {
    "duration": 316,
    "start_time": "2023-05-21T10:04:44.081Z"
   },
   {
    "duration": 8,
    "start_time": "2023-05-21T10:04:44.399Z"
   },
   {
    "duration": 326,
    "start_time": "2023-05-21T10:04:44.409Z"
   },
   {
    "duration": 23,
    "start_time": "2023-05-21T10:04:44.737Z"
   },
   {
    "duration": 9,
    "start_time": "2023-05-21T10:04:44.762Z"
   },
   {
    "duration": 13,
    "start_time": "2023-05-21T10:04:44.773Z"
   },
   {
    "duration": 47,
    "start_time": "2023-05-21T10:04:44.787Z"
   },
   {
    "duration": 13,
    "start_time": "2023-05-21T10:04:44.836Z"
   },
   {
    "duration": 161,
    "start_time": "2023-05-21T10:06:05.764Z"
   },
   {
    "duration": 144,
    "start_time": "2023-05-21T10:06:21.958Z"
   },
   {
    "duration": 143,
    "start_time": "2023-05-21T10:08:53.866Z"
   },
   {
    "duration": 14,
    "start_time": "2023-05-21T10:21:27.014Z"
   },
   {
    "duration": 10,
    "start_time": "2023-05-21T10:21:55.755Z"
   },
   {
    "duration": 11,
    "start_time": "2023-05-21T10:22:03.191Z"
   },
   {
    "duration": 17,
    "start_time": "2023-05-21T10:22:10.667Z"
   },
   {
    "duration": 14,
    "start_time": "2023-05-21T10:24:49.867Z"
   },
   {
    "duration": 17,
    "start_time": "2023-05-21T10:25:30.105Z"
   },
   {
    "duration": 15,
    "start_time": "2023-05-21T10:26:39.410Z"
   },
   {
    "duration": 14,
    "start_time": "2023-05-21T10:26:51.810Z"
   },
   {
    "duration": 19,
    "start_time": "2023-05-21T10:29:30.571Z"
   },
   {
    "duration": 18,
    "start_time": "2023-05-21T10:41:10.371Z"
   },
   {
    "duration": 339,
    "start_time": "2023-05-21T10:43:38.667Z"
   },
   {
    "duration": 330,
    "start_time": "2023-05-21T10:44:48.167Z"
   },
   {
    "duration": 406,
    "start_time": "2023-05-21T10:45:39.059Z"
   },
   {
    "duration": 341,
    "start_time": "2023-05-21T10:46:09.155Z"
   },
   {
    "duration": 329,
    "start_time": "2023-05-21T10:46:33.626Z"
   },
   {
    "duration": 1253,
    "start_time": "2023-05-21T10:47:30.826Z"
   },
   {
    "duration": 81,
    "start_time": "2023-05-21T10:47:32.081Z"
   },
   {
    "duration": 48,
    "start_time": "2023-05-21T10:47:32.164Z"
   },
   {
    "duration": 21,
    "start_time": "2023-05-21T10:47:32.214Z"
   },
   {
    "duration": 20,
    "start_time": "2023-05-21T10:47:32.237Z"
   },
   {
    "duration": 10,
    "start_time": "2023-05-21T10:47:32.259Z"
   },
   {
    "duration": 23,
    "start_time": "2023-05-21T10:47:32.270Z"
   },
   {
    "duration": 13,
    "start_time": "2023-05-21T10:47:32.294Z"
   },
   {
    "duration": 21,
    "start_time": "2023-05-21T10:47:32.308Z"
   },
   {
    "duration": 538,
    "start_time": "2023-05-21T10:47:32.331Z"
   },
   {
    "duration": 200,
    "start_time": "2023-05-21T10:47:32.871Z"
   },
   {
    "duration": 255,
    "start_time": "2023-05-21T10:47:33.073Z"
   },
   {
    "duration": 219,
    "start_time": "2023-05-21T10:47:33.330Z"
   },
   {
    "duration": 317,
    "start_time": "2023-05-21T10:47:33.550Z"
   },
   {
    "duration": 159,
    "start_time": "2023-05-21T10:47:33.869Z"
   },
   {
    "duration": 6,
    "start_time": "2023-05-21T10:47:34.030Z"
   },
   {
    "duration": 157,
    "start_time": "2023-05-21T10:47:34.037Z"
   },
   {
    "duration": 217,
    "start_time": "2023-05-21T10:47:34.196Z"
   },
   {
    "duration": 13,
    "start_time": "2023-05-21T10:47:34.414Z"
   },
   {
    "duration": 318,
    "start_time": "2023-05-21T10:47:34.429Z"
   },
   {
    "duration": 17,
    "start_time": "2023-05-21T10:47:34.748Z"
   },
   {
    "duration": 23,
    "start_time": "2023-05-21T10:47:34.766Z"
   },
   {
    "duration": 9,
    "start_time": "2023-05-21T10:47:34.791Z"
   },
   {
    "duration": 16,
    "start_time": "2023-05-21T10:47:34.827Z"
   },
   {
    "duration": 28,
    "start_time": "2023-05-21T10:47:34.845Z"
   },
   {
    "duration": 13,
    "start_time": "2023-05-21T10:47:34.875Z"
   },
   {
    "duration": 415,
    "start_time": "2023-05-21T10:47:49.476Z"
   },
   {
    "duration": 14,
    "start_time": "2023-05-21T10:53:42.422Z"
   },
   {
    "duration": 14,
    "start_time": "2023-05-21T10:54:04.672Z"
   },
   {
    "duration": 15,
    "start_time": "2023-05-21T10:54:19.855Z"
   },
   {
    "duration": 12,
    "start_time": "2023-05-21T11:04:38.058Z"
   },
   {
    "duration": 1327,
    "start_time": "2023-05-22T14:32:24.296Z"
   },
   {
    "duration": 191,
    "start_time": "2023-05-22T14:32:25.626Z"
   },
   {
    "duration": 46,
    "start_time": "2023-05-22T14:32:25.818Z"
   },
   {
    "duration": 15,
    "start_time": "2023-05-22T14:32:25.866Z"
   },
   {
    "duration": 41,
    "start_time": "2023-05-22T14:32:25.883Z"
   },
   {
    "duration": 33,
    "start_time": "2023-05-22T14:32:25.926Z"
   },
   {
    "duration": 10,
    "start_time": "2023-05-22T14:32:25.961Z"
   },
   {
    "duration": 11,
    "start_time": "2023-05-22T14:32:25.972Z"
   },
   {
    "duration": 10,
    "start_time": "2023-05-22T14:32:25.985Z"
   },
   {
    "duration": 536,
    "start_time": "2023-05-22T14:32:25.996Z"
   },
   {
    "duration": 199,
    "start_time": "2023-05-22T14:32:26.534Z"
   },
   {
    "duration": 318,
    "start_time": "2023-05-22T14:32:26.734Z"
   },
   {
    "duration": 221,
    "start_time": "2023-05-22T14:32:27.053Z"
   },
   {
    "duration": 298,
    "start_time": "2023-05-22T14:32:27.277Z"
   },
   {
    "duration": 161,
    "start_time": "2023-05-22T14:32:27.576Z"
   },
   {
    "duration": 7,
    "start_time": "2023-05-22T14:32:27.738Z"
   },
   {
    "duration": 199,
    "start_time": "2023-05-22T14:32:27.746Z"
   },
   {
    "duration": 151,
    "start_time": "2023-05-22T14:32:27.946Z"
   },
   {
    "duration": 8,
    "start_time": "2023-05-22T14:32:28.099Z"
   },
   {
    "duration": 320,
    "start_time": "2023-05-22T14:32:28.117Z"
   },
   {
    "duration": 10,
    "start_time": "2023-05-22T14:32:28.439Z"
   },
   {
    "duration": 34,
    "start_time": "2023-05-22T14:32:28.450Z"
   },
   {
    "duration": 9,
    "start_time": "2023-05-22T14:32:28.485Z"
   },
   {
    "duration": 32,
    "start_time": "2023-05-22T14:32:28.495Z"
   },
   {
    "duration": 33,
    "start_time": "2023-05-22T14:32:28.528Z"
   },
   {
    "duration": 11,
    "start_time": "2023-05-22T14:32:28.562Z"
   },
   {
    "duration": 54,
    "start_time": "2023-05-22T14:42:53.071Z"
   },
   {
    "duration": 22,
    "start_time": "2023-05-22T15:03:21.612Z"
   },
   {
    "duration": 21,
    "start_time": "2023-05-22T15:03:27.241Z"
   },
   {
    "duration": 21,
    "start_time": "2023-05-22T15:04:53.542Z"
   },
   {
    "duration": 35,
    "start_time": "2023-05-22T15:04:58.692Z"
   },
   {
    "duration": 23,
    "start_time": "2023-05-22T15:05:07.792Z"
   },
   {
    "duration": 21,
    "start_time": "2023-05-22T15:05:11.844Z"
   },
   {
    "duration": 22,
    "start_time": "2023-05-22T15:05:16.537Z"
   },
   {
    "duration": 21,
    "start_time": "2023-05-22T15:05:25.820Z"
   },
   {
    "duration": 21,
    "start_time": "2023-05-22T15:05:36.108Z"
   },
   {
    "duration": 23,
    "start_time": "2023-05-22T15:05:43.913Z"
   },
   {
    "duration": 21,
    "start_time": "2023-05-22T15:05:52.780Z"
   },
   {
    "duration": 23,
    "start_time": "2023-05-22T15:07:00.260Z"
   },
   {
    "duration": 23,
    "start_time": "2023-05-22T15:07:42.476Z"
   },
   {
    "duration": 22,
    "start_time": "2023-05-22T15:08:32.176Z"
   },
   {
    "duration": 20,
    "start_time": "2023-05-22T15:08:44.184Z"
   },
   {
    "duration": 47,
    "start_time": "2023-05-22T15:11:02.646Z"
   },
   {
    "duration": 22,
    "start_time": "2023-05-22T15:11:19.439Z"
   },
   {
    "duration": 4,
    "start_time": "2023-05-22T15:14:42.299Z"
   },
   {
    "duration": 11,
    "start_time": "2023-05-22T15:15:03.242Z"
   },
   {
    "duration": 11,
    "start_time": "2023-05-22T15:15:25.452Z"
   },
   {
    "duration": 12,
    "start_time": "2023-05-22T15:15:35.349Z"
   },
   {
    "duration": 10,
    "start_time": "2023-05-22T15:15:46.938Z"
   },
   {
    "duration": 11,
    "start_time": "2023-05-22T15:16:09.313Z"
   },
   {
    "duration": 9,
    "start_time": "2023-05-22T15:16:23.456Z"
   },
   {
    "duration": 20,
    "start_time": "2023-05-22T15:20:02.048Z"
   },
   {
    "duration": 28,
    "start_time": "2023-05-22T15:20:11.821Z"
   },
   {
    "duration": 14,
    "start_time": "2023-05-22T15:24:52.027Z"
   },
   {
    "duration": 54,
    "start_time": "2023-05-22T15:25:19.348Z"
   },
   {
    "duration": 45,
    "start_time": "2023-05-22T15:25:33.745Z"
   },
   {
    "duration": 16,
    "start_time": "2023-05-22T15:25:40.415Z"
   },
   {
    "duration": 12,
    "start_time": "2023-05-22T15:25:56.593Z"
   },
   {
    "duration": 98,
    "start_time": "2023-05-22T15:26:19.561Z"
   },
   {
    "duration": 13,
    "start_time": "2023-05-22T15:27:08.697Z"
   },
   {
    "duration": 12,
    "start_time": "2023-05-22T15:27:27.104Z"
   },
   {
    "duration": 13,
    "start_time": "2023-05-22T15:27:36.229Z"
   },
   {
    "duration": 13,
    "start_time": "2023-05-22T15:27:49.976Z"
   },
   {
    "duration": 14,
    "start_time": "2023-05-22T15:28:00.700Z"
   },
   {
    "duration": 13,
    "start_time": "2023-05-22T15:28:27.905Z"
   },
   {
    "duration": 21,
    "start_time": "2023-05-22T15:34:37.006Z"
   },
   {
    "duration": 53,
    "start_time": "2023-05-22T15:43:48.695Z"
   },
   {
    "duration": 1195,
    "start_time": "2023-05-22T15:43:59.661Z"
   },
   {
    "duration": 99,
    "start_time": "2023-05-22T15:44:00.858Z"
   },
   {
    "duration": 64,
    "start_time": "2023-05-22T15:44:00.959Z"
   },
   {
    "duration": 27,
    "start_time": "2023-05-22T15:44:01.026Z"
   },
   {
    "duration": 64,
    "start_time": "2023-05-22T15:44:01.055Z"
   },
   {
    "duration": 72,
    "start_time": "2023-05-22T15:44:01.121Z"
   },
   {
    "duration": 62,
    "start_time": "2023-05-22T15:44:01.194Z"
   },
   {
    "duration": 39,
    "start_time": "2023-05-22T15:44:01.258Z"
   },
   {
    "duration": 37,
    "start_time": "2023-05-22T15:44:01.299Z"
   },
   {
    "duration": 705,
    "start_time": "2023-05-22T15:44:01.340Z"
   },
   {
    "duration": 245,
    "start_time": "2023-05-22T15:44:02.047Z"
   },
   {
    "duration": 306,
    "start_time": "2023-05-22T15:44:02.294Z"
   },
   {
    "duration": 247,
    "start_time": "2023-05-22T15:44:02.602Z"
   },
   {
    "duration": 312,
    "start_time": "2023-05-22T15:44:02.852Z"
   },
   {
    "duration": 163,
    "start_time": "2023-05-22T15:44:03.166Z"
   },
   {
    "duration": 8,
    "start_time": "2023-05-22T15:44:03.330Z"
   },
   {
    "duration": 202,
    "start_time": "2023-05-22T15:44:03.339Z"
   },
   {
    "duration": 234,
    "start_time": "2023-05-22T15:44:03.544Z"
   },
   {
    "duration": 7,
    "start_time": "2023-05-22T15:44:03.780Z"
   },
   {
    "duration": 376,
    "start_time": "2023-05-22T15:44:03.789Z"
   },
   {
    "duration": 24,
    "start_time": "2023-05-22T15:44:04.166Z"
   },
   {
    "duration": 10,
    "start_time": "2023-05-22T15:44:04.192Z"
   },
   {
    "duration": 32,
    "start_time": "2023-05-22T15:44:04.204Z"
   },
   {
    "duration": 38,
    "start_time": "2023-05-22T15:44:04.237Z"
   },
   {
    "duration": 13,
    "start_time": "2023-05-22T15:44:04.277Z"
   },
   {
    "duration": 1142,
    "start_time": "2023-05-22T20:05:58.031Z"
   },
   {
    "duration": 71,
    "start_time": "2023-05-22T20:05:59.177Z"
   },
   {
    "duration": 51,
    "start_time": "2023-05-22T20:05:59.250Z"
   },
   {
    "duration": 18,
    "start_time": "2023-05-22T20:05:59.302Z"
   },
   {
    "duration": 11,
    "start_time": "2023-05-22T20:05:59.323Z"
   },
   {
    "duration": 45,
    "start_time": "2023-05-22T20:05:59.336Z"
   },
   {
    "duration": 10,
    "start_time": "2023-05-22T20:05:59.383Z"
   },
   {
    "duration": 14,
    "start_time": "2023-05-22T20:05:59.395Z"
   },
   {
    "duration": 11,
    "start_time": "2023-05-22T20:05:59.410Z"
   },
   {
    "duration": 568,
    "start_time": "2023-05-22T20:05:59.422Z"
   },
   {
    "duration": 216,
    "start_time": "2023-05-22T20:05:59.992Z"
   },
   {
    "duration": 285,
    "start_time": "2023-05-22T20:06:00.210Z"
   },
   {
    "duration": 220,
    "start_time": "2023-05-22T20:06:00.497Z"
   },
   {
    "duration": 297,
    "start_time": "2023-05-22T20:06:00.720Z"
   },
   {
    "duration": 175,
    "start_time": "2023-05-22T20:06:01.020Z"
   },
   {
    "duration": 7,
    "start_time": "2023-05-22T20:06:01.197Z"
   },
   {
    "duration": 168,
    "start_time": "2023-05-22T20:06:01.206Z"
   },
   {
    "duration": 250,
    "start_time": "2023-05-22T20:06:01.378Z"
   },
   {
    "duration": 8,
    "start_time": "2023-05-22T20:06:01.630Z"
   },
   {
    "duration": 356,
    "start_time": "2023-05-22T20:06:01.640Z"
   },
   {
    "duration": 22,
    "start_time": "2023-05-22T20:06:01.998Z"
   },
   {
    "duration": 32,
    "start_time": "2023-05-22T20:06:02.022Z"
   },
   {
    "duration": 35,
    "start_time": "2023-05-22T20:06:02.055Z"
   },
   {
    "duration": 53,
    "start_time": "2023-05-22T20:06:02.091Z"
   },
   {
    "duration": 13,
    "start_time": "2023-05-22T20:06:02.146Z"
   },
   {
    "duration": 1170,
    "start_time": "2023-05-22T20:14:45.234Z"
   },
   {
    "duration": 75,
    "start_time": "2023-05-22T20:14:46.406Z"
   },
   {
    "duration": 52,
    "start_time": "2023-05-22T20:14:46.482Z"
   },
   {
    "duration": 49,
    "start_time": "2023-05-22T20:14:46.536Z"
   },
   {
    "duration": 13,
    "start_time": "2023-05-22T20:14:46.589Z"
   },
   {
    "duration": 11,
    "start_time": "2023-05-22T20:14:46.603Z"
   },
   {
    "duration": 9,
    "start_time": "2023-05-22T20:14:46.616Z"
   },
   {
    "duration": 14,
    "start_time": "2023-05-22T20:14:46.627Z"
   },
   {
    "duration": 43,
    "start_time": "2023-05-22T20:14:46.643Z"
   },
   {
    "duration": 555,
    "start_time": "2023-05-22T20:14:46.687Z"
   },
   {
    "duration": 212,
    "start_time": "2023-05-22T20:14:47.244Z"
   },
   {
    "duration": 315,
    "start_time": "2023-05-22T20:14:47.458Z"
   },
   {
    "duration": 214,
    "start_time": "2023-05-22T20:14:47.779Z"
   },
   {
    "duration": 349,
    "start_time": "2023-05-22T20:14:47.996Z"
   },
   {
    "duration": 174,
    "start_time": "2023-05-22T20:14:48.347Z"
   },
   {
    "duration": 7,
    "start_time": "2023-05-22T20:14:48.523Z"
   },
   {
    "duration": 173,
    "start_time": "2023-05-22T20:14:48.532Z"
   },
   {
    "duration": 246,
    "start_time": "2023-05-22T20:14:48.707Z"
   },
   {
    "duration": 9,
    "start_time": "2023-05-22T20:14:48.954Z"
   },
   {
    "duration": 386,
    "start_time": "2023-05-22T20:14:48.965Z"
   },
   {
    "duration": 28,
    "start_time": "2023-05-22T20:14:49.353Z"
   },
   {
    "duration": 11,
    "start_time": "2023-05-22T20:14:49.383Z"
   },
   {
    "duration": 15,
    "start_time": "2023-05-22T20:14:49.396Z"
   },
   {
    "duration": 29,
    "start_time": "2023-05-22T20:14:49.412Z"
   },
   {
    "duration": 39,
    "start_time": "2023-05-22T20:14:49.443Z"
   }
  ],
  "kernelspec": {
   "display_name": "Python 3 (ipykernel)",
   "language": "python",
   "name": "python3"
  },
  "language_info": {
   "codemirror_mode": {
    "name": "ipython",
    "version": 3
   },
   "file_extension": ".py",
   "mimetype": "text/x-python",
   "name": "python",
   "nbconvert_exporter": "python",
   "pygments_lexer": "ipython3",
   "version": "3.9.5"
  },
  "toc": {
   "base_numbering": 1,
   "nav_menu": {},
   "number_sections": true,
   "sideBar": true,
   "skip_h1_title": true,
   "title_cell": "Table of Contents",
   "title_sidebar": "Contents",
   "toc_cell": false,
   "toc_position": {
    "height": "calc(100% - 180px)",
    "left": "10px",
    "top": "150px",
    "width": "290.875px"
   },
   "toc_section_display": true,
   "toc_window_display": false
  }
 },
 "nbformat": 4,
 "nbformat_minor": 2
}
