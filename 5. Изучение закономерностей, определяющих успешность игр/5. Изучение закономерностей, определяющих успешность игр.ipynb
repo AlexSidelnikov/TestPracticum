{
 "cells": [
  {
   "cell_type": "markdown",
   "metadata": {},
   "source": [
    "# Изучение закономерностей, определяющих успешность игр\n",
    "\n",
    "# Описание проекта\n",
    "Интернет-магазин «Стримчик» продаёт по всему миру компьютерные игры. Из открытых источников доступны исторические данные о продажах игр, оценки пользователей и экспертов, жанры и платформы (например, Xbox или PlayStation). Нужно выявить определяющие успешность игры закономерности. Это позволит сделать ставку на потенциально популярный продукт и спланировать рекламные кампании.\n",
    "Перед нами данные до 2016 года. Представим, что сейчас декабрь 2016 г., и планируется кампания на 2017-й. Нужно отработать принцип работы с данными. Неважно, прогнозируются продажи на 2017 год по данным 2016-го или же 2027-й — по данным 2026 года.\n",
    "В наборе данных попадается аббревиатура ESRB (Entertainment Software Rating Board) — это ассоциация, определяющая возрастной рейтинг компьютерных игр. ESRB оценивает игровой контент и присваивает ему подходящую возрастную категорию, например, «Для взрослых», «Для детей младшего возраста» или «Для подростков».\n",
    "\n",
    "Описание данных:\n",
    " - Name — название игры\n",
    " - Platform — платформа\n",
    " - Year_of_Release — год выпуска\n",
    " - Genre — жанр игры\n",
    " - NA_sales — продажи в Северной Америке (миллионы проданных копий)\n",
    " - EU_sales — продажи в Европе (миллионы проданных копий)\n",
    " - JP_sales — продажи в Японии (миллионы проданных копий)\n",
    " - Other_sales — продажи в других странах (миллионы проданных копий)\n",
    " - Critic_Score — оценка критиков (максимум 100)\n",
    " - User_Score — оценка пользователей (максимум 10)\n",
    "Rating — рейтинг от организации ESRB (англ. Entertainment Software Rating Board). Эта ассоциация определяет рейтинг компьютерных игр и присваивает им подходящую возрастную категорию.\n",
    "# Данные за 2016 год могут быть неполными."
   ]
  },
  {
   "cell_type": "markdown",
   "metadata": {},
   "source": [
    "# Шаг 1. Откроем файл с данными и изучим общую информацию"
   ]
  },
  {
   "cell_type": "code",
   "execution_count": 1,
   "metadata": {},
   "outputs": [],
   "source": [
    "import pandas as pd\n",
    "import numpy as np\n",
    "import matplotlib.pyplot as plt\n",
    "import seaborn as sns\n",
    "from scipy import stats as st"
   ]
  },
  {
   "cell_type": "code",
   "execution_count": 2,
   "metadata": {},
   "outputs": [
    {
     "name": "stdout",
     "output_type": "stream",
     "text": [
      "<class 'pandas.core.frame.DataFrame'>\n",
      "RangeIndex: 16715 entries, 0 to 16714\n",
      "Data columns (total 11 columns):\n",
      " #   Column           Non-Null Count  Dtype  \n",
      "---  ------           --------------  -----  \n",
      " 0   Name             16713 non-null  object \n",
      " 1   Platform         16715 non-null  object \n",
      " 2   Year_of_Release  16446 non-null  float64\n",
      " 3   Genre            16713 non-null  object \n",
      " 4   NA_sales         16715 non-null  float64\n",
      " 5   EU_sales         16715 non-null  float64\n",
      " 6   JP_sales         16715 non-null  float64\n",
      " 7   Other_sales      16715 non-null  float64\n",
      " 8   Critic_Score     8137 non-null   float64\n",
      " 9   User_Score       10014 non-null  object \n",
      " 10  Rating           9949 non-null   object \n",
      "dtypes: float64(6), object(5)\n",
      "memory usage: 1.4+ MB\n"
     ]
    },
    {
     "data": {
      "text/plain": [
       "0"
      ]
     },
     "execution_count": 2,
     "metadata": {},
     "output_type": "execute_result"
    }
   ],
   "source": [
    "data = pd.read_csv('/datasets/games.csv')\n",
    "data.info()\n",
    "data.sample(10)\n",
    "data.duplicated().sum()"
   ]
  },
  {
   "cell_type": "markdown",
   "metadata": {},
   "source": [
    "# Шаг 2. Подготовим данные"
   ]
  },
  {
   "cell_type": "markdown",
   "metadata": {},
   "source": [
    "Приведём названия стобцов к нижнему регистру. Посмотрим на пропуски."
   ]
  },
  {
   "cell_type": "code",
   "execution_count": 4,
   "metadata": {},
   "outputs": [
    {
     "data": {
      "text/plain": [
       "platform              0\n",
       "na_sales              0\n",
       "eu_sales              0\n",
       "jp_sales              0\n",
       "other_sales           0\n",
       "name                  2\n",
       "genre                 2\n",
       "year_of_release     269\n",
       "user_score         6701\n",
       "rating             6766\n",
       "critic_score       8578\n",
       "dtype: int64"
      ]
     },
     "execution_count": 4,
     "metadata": {},
     "output_type": "execute_result"
    }
   ],
   "source": [
    "data.columns = data.columns.str.lower()\n",
    "data.sample(1)\n",
    "data.isnull().sum().sort_values()"
   ]
  },
  {
   "cell_type": "markdown",
   "metadata": {},
   "source": [
    "Преобразуем данные в нужные типы:\n",
    "- в ['year_of_release'] содержаться информация о годе релиза. Как известно, информация взята из открытых источников и каким-то образом она не поапала в файл с данными. Можем предположить, что при сборе данных какая-то информация была пропущена или её не смогли найти. Для удобства работы переведём в целочисленный. Пропуски заполним меткой. Первая компьютерная игра в мире: Tennis for Two. Она вышла в октябре 1958. Будем учитывать эту метку при работе, если понадобится.\n",
    "- в ['user_score'] содержится информация об оценке пользвателей. Как известно, информация взята из открытых источников и каким-то образом она не попала в файл с данными. Можем предположить, что при сборе данных какая-то информация была пропущена или её не смогли найти. Для удобства работы переведём в число с плавающей точкой. Можно заметить необычное значение 'tbd'. Так как речь идёт о компьютерных играх, предположим, что это аббревиатура. Она не скрывает в себе никаких таинственных смыслов и расшифровывается очень просто - To Be Determined, то есть \"Будет определено\". А пока не определено - проставим np.nan. 0 проставить не можем, так как это значение из области определения релевантных значений"
   ]
  },
  {
   "cell_type": "code",
   "execution_count": 26,
   "metadata": {},
   "outputs": [
    {
     "data": {
      "text/plain": [
       "array([-1. ,  8.3,  4.3,  5.7,  5. ,  6.5,  9.1,  6.1,  7.9,  5.4,  8.1,\n",
       "        6.4,  3.4,  8.5,  4.8,  4.9,  4.5,  6.2,  8.4,  6.3,  7.7,  9.2,\n",
       "        7.6,  8.7,  6.7,  7. ,  4.1,  8.2,  6.8,  5.5,  7.5,  4.4,  5.9,\n",
       "        7.2,  6.9,  3.9,  4.2,  3.2,  8.6,  3.1,  9. ,  7.3,  7.4,  6. ,\n",
       "        4.7,  7.1,  8.8,  5.1,  6.6,  3. ,  5.8,  2.9,  8.9,  2.7,  8. ,\n",
       "        3.5,  7.8,  5.2,  5.6,  4.6,  3.3,  9.3,  4. ,  3.6,  3.7,  2.4,\n",
       "        2.8,  5.3,  1.7,  1.6,  3.8,  1.5,  0.7,  2.5,  2. ,  2.1,  0.2,\n",
       "        1.9,  1.4,  2.3])"
      ]
     },
     "execution_count": 26,
     "metadata": {},
     "output_type": "execute_result"
    }
   ],
   "source": [
    "data['year_of_release'] = data['year_of_release'].fillna(1958)\n",
    "data['year_of_release'] = data['year_of_release'].astype('int')\n",
    "data.loc[data['user_score'] == 'tbd','user_score'] = np.nan\n",
    "data['user_score'] = data['user_score'].astype('float')\n",
    "data['user_score'].unique()"
   ]
  },
  {
   "cell_type": "code",
   "execution_count": 6,
   "metadata": {},
   "outputs": [
    {
     "data": {
      "text/plain": [
       "platform              0\n",
       "year_of_release       0\n",
       "na_sales              0\n",
       "eu_sales              0\n",
       "jp_sales              0\n",
       "other_sales           0\n",
       "name                  2\n",
       "genre                 2\n",
       "rating             6766\n",
       "critic_score       8578\n",
       "user_score         9125\n",
       "dtype: int64"
      ]
     },
     "execution_count": 6,
     "metadata": {},
     "output_type": "execute_result"
    }
   ],
   "source": [
    "data.isnull().sum().sort_values()"
   ]
  },
  {
   "cell_type": "markdown",
   "metadata": {},
   "source": [
    "Пропуски в рейтингах и оценках:\n",
    "- ['user_score'], ['critic_score'] заполнив средним или медианой можно исказить данные, заполним заглушкой для удобства работы\n",
    "- ['rating'] Рейтинг присваивает Entertainment Software Rating Board (ESRB). Это негосударственная организация, основное направление которой - принятие и определение рейтингов для компьютерных видеоигр и другого развлекательного программного обеспечения в США и Канаде. Вероятно, организация коммерческая и локальная. Отсутствие рейтинга может быть по целому ряду причин: игра выпущена в регионе где рейтинг оценивается другой организацией; рейтинг не успели сформировать. Определить самостоятельно невозможно, заполним логически и чтобы было понятно.\n",
    "- ['genre'], ['name'] всего пара пропусков, избавимся."
   ]
  },
  {
   "cell_type": "code",
   "execution_count": 7,
   "metadata": {},
   "outputs": [
    {
     "data": {
      "text/plain": [
       "name               0\n",
       "platform           0\n",
       "year_of_release    0\n",
       "genre              0\n",
       "na_sales           0\n",
       "eu_sales           0\n",
       "jp_sales           0\n",
       "other_sales        0\n",
       "critic_score       0\n",
       "user_score         0\n",
       "rating             0\n",
       "dtype: int64"
      ]
     },
     "execution_count": 7,
     "metadata": {},
     "output_type": "execute_result"
    }
   ],
   "source": [
    "data['user_score'] = data['user_score'].fillna(-1)\n",
    "data['critic_score'] = data['critic_score'].fillna(-1)\n",
    "data['rating'] = data['rating'].fillna('out of rating')\n",
    "data = data.dropna(subset=['name','genre'])\n",
    "data.isnull().sum().sort_values()"
   ]
  },
  {
   "cell_type": "markdown",
   "metadata": {},
   "source": [
    "Посчитаем суммарные продажи во всех регионах и запишем их в отдельный столбец."
   ]
  },
  {
   "cell_type": "code",
   "execution_count": 8,
   "metadata": {},
   "outputs": [
    {
     "data": {
      "text/html": [
       "<div>\n",
       "<style scoped>\n",
       "    .dataframe tbody tr th:only-of-type {\n",
       "        vertical-align: middle;\n",
       "    }\n",
       "\n",
       "    .dataframe tbody tr th {\n",
       "        vertical-align: top;\n",
       "    }\n",
       "\n",
       "    .dataframe thead th {\n",
       "        text-align: right;\n",
       "    }\n",
       "</style>\n",
       "<table border=\"1\" class=\"dataframe\">\n",
       "  <thead>\n",
       "    <tr style=\"text-align: right;\">\n",
       "      <th></th>\n",
       "      <th>name</th>\n",
       "      <th>platform</th>\n",
       "      <th>year_of_release</th>\n",
       "      <th>genre</th>\n",
       "      <th>na_sales</th>\n",
       "      <th>eu_sales</th>\n",
       "      <th>jp_sales</th>\n",
       "      <th>other_sales</th>\n",
       "      <th>critic_score</th>\n",
       "      <th>user_score</th>\n",
       "      <th>rating</th>\n",
       "      <th>total_sales</th>\n",
       "    </tr>\n",
       "  </thead>\n",
       "  <tbody>\n",
       "    <tr>\n",
       "      <th>11802</th>\n",
       "      <td>Legend of the Guardians: The Owls of Ga'Hoole</td>\n",
       "      <td>X360</td>\n",
       "      <td>2010</td>\n",
       "      <td>Action</td>\n",
       "      <td>0.06</td>\n",
       "      <td>0.01</td>\n",
       "      <td>0.0</td>\n",
       "      <td>0.01</td>\n",
       "      <td>60.0</td>\n",
       "      <td>8.0</td>\n",
       "      <td>E10+</td>\n",
       "      <td>0.08</td>\n",
       "    </tr>\n",
       "  </tbody>\n",
       "</table>\n",
       "</div>"
      ],
      "text/plain": [
       "                                                name platform  \\\n",
       "11802  Legend of the Guardians: The Owls of Ga'Hoole     X360   \n",
       "\n",
       "       year_of_release   genre  na_sales  eu_sales  jp_sales  other_sales  \\\n",
       "11802             2010  Action      0.06      0.01       0.0         0.01   \n",
       "\n",
       "       critic_score  user_score rating  total_sales  \n",
       "11802          60.0         8.0   E10+         0.08  "
      ]
     },
     "execution_count": 8,
     "metadata": {},
     "output_type": "execute_result"
    }
   ],
   "source": [
    "data['total_sales'] = data['na_sales'] + data['eu_sales'] + data['jp_sales'] + data['other_sales']\n",
    "data.sample(1)"
   ]
  },
  {
   "cell_type": "markdown",
   "metadata": {},
   "source": [
    "# Шаг 3. Проведём исследовательский анализ данных."
   ]
  },
  {
   "cell_type": "markdown",
   "metadata": {},
   "source": [
    "Посмотрим сколько игр выпускалось в разные годы. Определим более важный период."
   ]
  },
  {
   "cell_type": "code",
   "execution_count": 10,
   "metadata": {},
   "outputs": [
    {
     "data": {
      "text/plain": [
       "<AxesSubplot:title={'center':'Выпуск по годам'}, xlabel='года', ylabel='количество'>"
      ]
     },
     "execution_count": 10,
     "metadata": {},
     "output_type": "execute_result"
    },
    {
     "data": {
      "image/png": "[encoded data removed]",
      "text/plain": [
       "<Figure size 1008x432 with 1 Axes>"
      ]
     },
     "metadata": {
      "needs_background": "light"
     },
     "output_type": "display_data"
    }
   ],
   "source": [
    "data_y = data[data['year_of_release'] != 1958].pivot_table(\n",
    "    index=['year_of_release'], values='name', aggfunc='count').reset_index()\n",
    "data_y.plot(\n",
    "    kind='bar', x='year_of_release', y='name', figsize=(14,6),\n",
    "    grid=True, title='Выпуск по годам', xlabel = 'года', ylabel = 'количество', legend = False)\n"
   ]
  },
  {
   "cell_type": "markdown",
   "metadata": {},
   "source": [
    "Исходя из графика, можно отметить, что активность, хоть и не значительная, начинается после 1990го года. После 2000го года активность стремительно растёт. Пик приходится на 2008-2009 годы. Далее активность снижается.\n",
    "Посмотрим, как менялись продажи по платформам. Выберем платформы с наибольшими суммарными продажами и построим распределение по годам.\n"
   ]
  },
  {
   "cell_type": "code",
   "execution_count": 34,
   "metadata": {},
   "outputs": [
    {
     "data": {
      "text/html": [
       "<div>\n",
       "<style scoped>\n",
       "    .dataframe tbody tr th:only-of-type {\n",
       "        vertical-align: middle;\n",
       "    }\n",
       "\n",
       "    .dataframe tbody tr th {\n",
       "        vertical-align: top;\n",
       "    }\n",
       "\n",
       "    .dataframe thead th {\n",
       "        text-align: right;\n",
       "    }\n",
       "</style>\n",
       "<table border=\"1\" class=\"dataframe\">\n",
       "  <thead>\n",
       "    <tr style=\"text-align: right;\">\n",
       "      <th></th>\n",
       "      <th>platform</th>\n",
       "      <th>total_sales</th>\n",
       "    </tr>\n",
       "  </thead>\n",
       "  <tbody>\n",
       "    <tr>\n",
       "      <th>3</th>\n",
       "      <td>PS4</td>\n",
       "      <td>288.15</td>\n",
       "    </tr>\n",
       "    <tr>\n",
       "      <th>9</th>\n",
       "      <td>XOne</td>\n",
       "      <td>140.36</td>\n",
       "    </tr>\n",
       "    <tr>\n",
       "      <th>0</th>\n",
       "      <td>3DS</td>\n",
       "      <td>86.68</td>\n",
       "    </tr>\n",
       "    <tr>\n",
       "      <th>2</th>\n",
       "      <td>PS3</td>\n",
       "      <td>68.18</td>\n",
       "    </tr>\n",
       "    <tr>\n",
       "      <th>8</th>\n",
       "      <td>X360</td>\n",
       "      <td>48.22</td>\n",
       "    </tr>\n",
       "    <tr>\n",
       "      <th>7</th>\n",
       "      <td>WiiU</td>\n",
       "      <td>42.98</td>\n",
       "    </tr>\n",
       "    <tr>\n",
       "      <th>1</th>\n",
       "      <td>PC</td>\n",
       "      <td>27.05</td>\n",
       "    </tr>\n",
       "    <tr>\n",
       "      <th>5</th>\n",
       "      <td>PSV</td>\n",
       "      <td>22.40</td>\n",
       "    </tr>\n",
       "    <tr>\n",
       "      <th>6</th>\n",
       "      <td>Wii</td>\n",
       "      <td>5.07</td>\n",
       "    </tr>\n",
       "    <tr>\n",
       "      <th>4</th>\n",
       "      <td>PSP</td>\n",
       "      <td>0.36</td>\n",
       "    </tr>\n",
       "  </tbody>\n",
       "</table>\n",
       "</div>"
      ],
      "text/plain": [
       "  platform  total_sales\n",
       "3      PS4       288.15\n",
       "9     XOne       140.36\n",
       "0      3DS        86.68\n",
       "2      PS3        68.18\n",
       "8     X360        48.22\n",
       "7     WiiU        42.98\n",
       "1       PC        27.05\n",
       "5      PSV        22.40\n",
       "6      Wii         5.07\n",
       "4      PSP         0.36"
      ]
     },
     "metadata": {},
     "output_type": "display_data"
    },
    {
     "data": {
      "image/png": "[encoded data removed]",
      "text/plain": [
       "<Figure size 1008x432 with 1 Axes>"
      ]
     },
     "metadata": {
      "needs_background": "light"
     },
     "output_type": "display_data"
    }
   ],
   "source": [
    "data_y_p = data[data['year_of_release'] > 1990].pivot_table(\n",
    "    index=['platform','year_of_release'], values='total_sales', aggfunc='sum').reset_index()\n",
    "\n",
    "platform_sales_top = data_y_p.groupby('platform').agg({'total_sales':'sum'}).reset_index()\n",
    "\n",
    "platform_sales_top = platform_sales_top.sort_values(by='total_sales', ascending=False).head(15)\n",
    "\n",
    "data_y_p = data_y_p.query('platform in @platform_sales_top.platform')\n",
    "\n",
    "display(platform_sales_top)\n",
    "\n",
    "plt.figure(figsize=(14,6))\n",
    "sns.lineplot(data=data_y_p, x='year_of_release', y='total_sales', hue='platform' )\n",
    "plt.title(\"Распределение по годам\")\n",
    "plt.xlabel(\"Год\")\n",
    "plt.ylabel(\"Продажи\")\n",
    "plt.show()"
   ]
  },
  {
   "cell_type": "markdown",
   "metadata": {},
   "source": [
    "График показывает, что жизненный цикл у платформ в основном от 5-ти до 10-ти лет, пик приходится всего на несколько лет. Но можно отметить, что долгожителем является PC. Объяснить это можно тем, что персональный компьютер - это не просто платформа, а полноценное многофункциональное устройство. Даже если не будет игр вообще, компьютер останется.\n",
    "\n",
    "Нам нужно выявить определяющие успешность игры закономерности для того, чтобы спланировать рекламные кампании на 2017 год. Возьмём данные за 2014, 2015 и 2016 годы.\n",
    "Посмотрим, какие платформы лидируют по продажам, растут или падают. Выберем несколько потенциально прибыльных платформ."
   ]
  },
  {
   "cell_type": "code",
   "execution_count": 35,
   "metadata": {},
   "outputs": [
    {
     "data": {
      "text/html": [
       "<div>\n",
       "<style scoped>\n",
       "    .dataframe tbody tr th:only-of-type {\n",
       "        vertical-align: middle;\n",
       "    }\n",
       "\n",
       "    .dataframe tbody tr th {\n",
       "        vertical-align: top;\n",
       "    }\n",
       "\n",
       "    .dataframe thead th {\n",
       "        text-align: right;\n",
       "    }\n",
       "</style>\n",
       "<table border=\"1\" class=\"dataframe\">\n",
       "  <thead>\n",
       "    <tr style=\"text-align: right;\">\n",
       "      <th></th>\n",
       "      <th>platform</th>\n",
       "      <th>total_sales</th>\n",
       "    </tr>\n",
       "  </thead>\n",
       "  <tbody>\n",
       "    <tr>\n",
       "      <th>3</th>\n",
       "      <td>PS4</td>\n",
       "      <td>288.15</td>\n",
       "    </tr>\n",
       "    <tr>\n",
       "      <th>9</th>\n",
       "      <td>XOne</td>\n",
       "      <td>140.36</td>\n",
       "    </tr>\n",
       "    <tr>\n",
       "      <th>0</th>\n",
       "      <td>3DS</td>\n",
       "      <td>86.68</td>\n",
       "    </tr>\n",
       "    <tr>\n",
       "      <th>2</th>\n",
       "      <td>PS3</td>\n",
       "      <td>68.18</td>\n",
       "    </tr>\n",
       "    <tr>\n",
       "      <th>8</th>\n",
       "      <td>X360</td>\n",
       "      <td>48.22</td>\n",
       "    </tr>\n",
       "    <tr>\n",
       "      <th>7</th>\n",
       "      <td>WiiU</td>\n",
       "      <td>42.98</td>\n",
       "    </tr>\n",
       "    <tr>\n",
       "      <th>1</th>\n",
       "      <td>PC</td>\n",
       "      <td>27.05</td>\n",
       "    </tr>\n",
       "    <tr>\n",
       "      <th>5</th>\n",
       "      <td>PSV</td>\n",
       "      <td>22.40</td>\n",
       "    </tr>\n",
       "    <tr>\n",
       "      <th>6</th>\n",
       "      <td>Wii</td>\n",
       "      <td>5.07</td>\n",
       "    </tr>\n",
       "    <tr>\n",
       "      <th>4</th>\n",
       "      <td>PSP</td>\n",
       "      <td>0.36</td>\n",
       "    </tr>\n",
       "  </tbody>\n",
       "</table>\n",
       "</div>"
      ],
      "text/plain": [
       "  platform  total_sales\n",
       "3      PS4       288.15\n",
       "9     XOne       140.36\n",
       "0      3DS        86.68\n",
       "2      PS3        68.18\n",
       "8     X360        48.22\n",
       "7     WiiU        42.98\n",
       "1       PC        27.05\n",
       "5      PSV        22.40\n",
       "6      Wii         5.07\n",
       "4      PSP         0.36"
      ]
     },
     "metadata": {},
     "output_type": "display_data"
    },
    {
     "data": {
      "image/png": "[encoded data removed]",
      "text/plain": [
       "<Figure size 1008x432 with 1 Axes>"
      ]
     },
     "metadata": {
      "needs_background": "light"
     },
     "output_type": "display_data"
    }
   ],
   "source": [
    "data_y_p = data[data['year_of_release'] > 2013].pivot_table(\n",
    "    index=['platform','year_of_release'], values='total_sales', aggfunc='sum').reset_index()\n",
    "\n",
    "platform_sales_top = data_y_p.groupby('platform').agg({'total_sales':'sum'}).reset_index()\n",
    "\n",
    "platform_sales_top = platform_sales_top.sort_values(by='total_sales', ascending=False).head(10)\n",
    "\n",
    "data_y_p = data_y_p.query('platform in @platform_sales_top.platform')\n",
    "\n",
    "display(platform_sales_top)\n",
    "\n",
    "plt.figure(figsize=(14,6))\n",
    "sns.lineplot(data=data_y_p, x='year_of_release', y='total_sales', hue='platform' )\n",
    "plt.title(\"Распределение по годам\")\n",
    "plt.xlabel(\"Год\")\n",
    "plt.ylabel(\"Продажи\")\n",
    "plt.show()"
   ]
  },
  {
   "cell_type": "markdown",
   "metadata": {},
   "source": [
    "Видно, что активность снижается. В топ-3 входят PS4, XOne и 3DS.\n",
    "Построим график по глобальным продажам игр по всем платформам за актуальный период."
   ]
  },
  {
   "cell_type": "code",
   "execution_count": 37,
   "metadata": {},
   "outputs": [
    {
     "data": {
      "image/png": "[encoded data removed]",
      "text/plain": [
       "<Figure size 1008x432 with 1 Axes>"
      ]
     },
     "metadata": {
      "needs_background": "light"
     },
     "output_type": "display_data"
    }
   ],
   "source": [
    "data_y = data[data['year_of_release'] > 2013]\n",
    "plt.figure(figsize=(14,6))\n",
    "sns.boxplot(data=data_y, x='platform', y='total_sales')\n",
    "plt.xlabel('Платформы')\n",
    "plt.ylabel('Продажи')\n",
    "plt.title('Продажи по платформам')\n",
    "plt.show()"
   ]
  },
  {
   "cell_type": "markdown",
   "metadata": {},
   "source": [
    "На графике видно, что в актуальном периоде всего десять платформ. Также нужно отметить, что видно большое количество выбросов. Логично предположить, что это бестселлеры. У платформы PS4 визуально дела обстоят лучше всех. Посмотрим ближе."
   ]
  },
  {
   "cell_type": "code",
   "execution_count": 38,
   "metadata": {},
   "outputs": [
    {
     "data": {
      "text/html": [
       "<div>\n",
       "<style scoped>\n",
       "    .dataframe tbody tr th:only-of-type {\n",
       "        vertical-align: middle;\n",
       "    }\n",
       "\n",
       "    .dataframe tbody tr th {\n",
       "        vertical-align: top;\n",
       "    }\n",
       "\n",
       "    .dataframe thead th {\n",
       "        text-align: right;\n",
       "    }\n",
       "</style>\n",
       "<table border=\"1\" class=\"dataframe\">\n",
       "  <thead>\n",
       "    <tr style=\"text-align: right;\">\n",
       "      <th></th>\n",
       "      <th>platform</th>\n",
       "      <th>total_sales</th>\n",
       "    </tr>\n",
       "  </thead>\n",
       "  <tbody>\n",
       "    <tr>\n",
       "      <th>3</th>\n",
       "      <td>PS4</td>\n",
       "      <td>288.15</td>\n",
       "    </tr>\n",
       "    <tr>\n",
       "      <th>9</th>\n",
       "      <td>XOne</td>\n",
       "      <td>140.36</td>\n",
       "    </tr>\n",
       "    <tr>\n",
       "      <th>0</th>\n",
       "      <td>3DS</td>\n",
       "      <td>86.68</td>\n",
       "    </tr>\n",
       "    <tr>\n",
       "      <th>2</th>\n",
       "      <td>PS3</td>\n",
       "      <td>68.18</td>\n",
       "    </tr>\n",
       "    <tr>\n",
       "      <th>8</th>\n",
       "      <td>X360</td>\n",
       "      <td>48.22</td>\n",
       "    </tr>\n",
       "    <tr>\n",
       "      <th>7</th>\n",
       "      <td>WiiU</td>\n",
       "      <td>42.98</td>\n",
       "    </tr>\n",
       "    <tr>\n",
       "      <th>1</th>\n",
       "      <td>PC</td>\n",
       "      <td>27.05</td>\n",
       "    </tr>\n",
       "    <tr>\n",
       "      <th>5</th>\n",
       "      <td>PSV</td>\n",
       "      <td>22.40</td>\n",
       "    </tr>\n",
       "    <tr>\n",
       "      <th>6</th>\n",
       "      <td>Wii</td>\n",
       "      <td>5.07</td>\n",
       "    </tr>\n",
       "    <tr>\n",
       "      <th>4</th>\n",
       "      <td>PSP</td>\n",
       "      <td>0.36</td>\n",
       "    </tr>\n",
       "  </tbody>\n",
       "</table>\n",
       "</div>"
      ],
      "text/plain": [
       "  platform  total_sales\n",
       "3      PS4       288.15\n",
       "9     XOne       140.36\n",
       "0      3DS        86.68\n",
       "2      PS3        68.18\n",
       "8     X360        48.22\n",
       "7     WiiU        42.98\n",
       "1       PC        27.05\n",
       "5      PSV        22.40\n",
       "6      Wii         5.07\n",
       "4      PSP         0.36"
      ]
     },
     "metadata": {},
     "output_type": "display_data"
    },
    {
     "data": {
      "text/plain": [
       "(0.0, 2.0)"
      ]
     },
     "execution_count": 38,
     "metadata": {},
     "output_type": "execute_result"
    },
    {
     "data": {
      "image/png": "[encoded data removed]",
      "text/plain": [
       "<Figure size 1008x432 with 1 Axes>"
      ]
     },
     "metadata": {
      "needs_background": "light"
     },
     "output_type": "display_data"
    }
   ],
   "source": [
    "display(data_y.groupby('platform').agg({'total_sales':'sum'}).reset_index().sort_values(\n",
    "    by='total_sales', ascending= False ))\n",
    "plt.figure(figsize=(14,6))\n",
    "sns.boxplot(data=data_y, x='platform', y='total_sales')\n",
    "plt.xlabel('Платформы')\n",
    "plt.ylabel('Продажи')\n",
    "plt.title('Продажи по платформам')\n",
    "plt.ylim(0,2)"
   ]
  },
  {
   "cell_type": "markdown",
   "metadata": {},
   "source": [
    "У PS4 самый большой размах и существенно больше выбросов, бестселлеров. У Nintendo 3ds достаточно узкий межквартильный размах, значения однородны. Платформа Xbox One похожа по значениям на PS4: медиана и границы примерно на одинаковом уровне, есть выбросы, но их очевидно меньше.\n",
    "Посмотрим, как влияют на продажи внутри топовой платформы PlayStation 4 отзывы пользователей и критиков. \n",
    "Построим график и посчитаем корреляцию между отзывами и продажами."
   ]
  },
  {
   "cell_type": "code",
   "execution_count": 16,
   "metadata": {},
   "outputs": [
    {
     "name": "stdout",
     "output_type": "stream",
     "text": [
      "Корреляция зависимости от оценки пользователей -0.01\n",
      "Корреляция зависимости от оценки критиков 0.4\n"
     ]
    },
    {
     "data": {
      "image/png": "[encoded data removed]",
      "text/plain": [
       "<Figure size 648x360 with 1 Axes>"
      ]
     },
     "metadata": {
      "needs_background": "light"
     },
     "output_type": "display_data"
    },
    {
     "data": {
      "image/png": "[encoded data removed]",
      "text/plain": [
       "<Figure size 648x360 with 1 Axes>"
      ]
     },
     "metadata": {
      "needs_background": "light"
     },
     "output_type": "display_data"
    }
   ],
   "source": [
    "data_ps4 = data[(data['year_of_release'] > 2013) & (data['platform'] == 'PS4')]\n",
    "data_ps4 = data_ps4[data_ps4['user_score'] != -1]\n",
    "data_ps4.plot(x='total_sales', y='user_score', kind='scatter', alpha=0.4,  figsize=(9,5), title='Зависимость от оценки пользователей')\n",
    "\n",
    "data_ps4 = data[(data['year_of_release'] > 2013) & (data['platform'] == 'PS4')]\n",
    "data_ps4 = data_ps4[data_ps4['critic_score'] != -1]\n",
    "data_ps4.plot(x='total_sales', y='critic_score', kind='scatter', alpha=0.4,  figsize=(9,5), title='Зависимость от оценки критиков')\n",
    "\n",
    "                    \n",
    "print('Корреляция зависимости от оценки пользователей', data_ps4['user_score'].corr(data_ps4['total_sales']).round(decimals=2))\n",
    "print('Корреляция зависимости от оценки критиков',data_ps4['critic_score'].corr(data_ps4['total_sales']).round(decimals=2))"
   ]
  },
  {
   "cell_type": "markdown",
   "metadata": {},
   "source": [
    "Корреляция зависимости от оценки пользователей отрицательная, но очень слабая: -0.01 . Можно предположить, что связь имеет более сложный характер. Например, отзывы одних пользователей могут и не влиять на предпочтения конкретных пользователей. Дело вкуса - для кого-то игра культовая, а для кого-то - скучная.\n",
    "\n",
    "Корреляция зависимости от оценки критиков положительная, средняя: 0.4. На больших цифрах такой показатель может играть существенную роль Выше оценка - больше продажи.\n",
    "\n",
    "Соотнесём выводы с продажами игр на других платформах."
   ]
  },
  {
   "cell_type": "code",
   "execution_count": 17,
   "metadata": {
    "scrolled": false
   },
   "outputs": [
    {
     "name": "stdout",
     "output_type": "stream",
     "text": [
      "Платформа: 3DS\n",
      "Корреляция зависимости от оценки пользователей 0.28\n",
      "Корреляция зависимости от оценки критиков 0.28\n"
     ]
    },
    {
     "data": {
      "image/png": "[encoded data removed]",
      "text/plain": [
       "<Figure size 576x216 with 1 Axes>"
      ]
     },
     "metadata": {
      "needs_background": "light"
     },
     "output_type": "display_data"
    },
    {
     "data": {
      "image/png": "[encoded data removed]",
      "text/plain": [
       "<Figure size 576x216 with 1 Axes>"
      ]
     },
     "metadata": {
      "needs_background": "light"
     },
     "output_type": "display_data"
    },
    {
     "name": "stdout",
     "output_type": "stream",
     "text": [
      "Платформа: XOne\n",
      "Корреляция зависимости от оценки пользователей -0.09\n",
      "Корреляция зависимости от оценки критиков 0.42\n"
     ]
    },
    {
     "data": {
      "image/png": "[encoded data removed]",
      "text/plain": [
       "<Figure size 576x216 with 1 Axes>"
      ]
     },
     "metadata": {
      "needs_background": "light"
     },
     "output_type": "display_data"
    },
    {
     "data": {
      "image/png": "[encoded data removed]",
      "text/plain": [
       "<Figure size 576x216 with 1 Axes>"
      ]
     },
     "metadata": {
      "needs_background": "light"
     },
     "output_type": "display_data"
    },
    {
     "name": "stdout",
     "output_type": "stream",
     "text": [
      "Платформа: WiiU\n",
      "Корреляция зависимости от оценки пользователей 0.41\n",
      "Корреляция зависимости от оценки критиков 0.38\n"
     ]
    },
    {
     "data": {
      "image/png": "[encoded data removed]",
      "text/plain": [
       "<Figure size 576x216 with 1 Axes>"
      ]
     },
     "metadata": {
      "needs_background": "light"
     },
     "output_type": "display_data"
    },
    {
     "data": {
      "image/png": "[encoded data removed]",
      "text/plain": [
       "<Figure size 576x216 with 1 Axes>"
      ]
     },
     "metadata": {
      "needs_background": "light"
     },
     "output_type": "display_data"
    },
    {
     "name": "stdout",
     "output_type": "stream",
     "text": [
      "Платформа: PS3\n",
      "Корреляция зависимости от оценки пользователей 0.16\n",
      "Корреляция зависимости от оценки критиков 0.45\n"
     ]
    },
    {
     "data": {
      "image/png": "[encoded data removed]",
      "text/plain": [
       "<Figure size 576x216 with 1 Axes>"
      ]
     },
     "metadata": {
      "needs_background": "light"
     },
     "output_type": "display_data"
    },
    {
     "data": {
      "image/png": "[encoded data removed]",
      "text/plain": [
       "<Figure size 576x216 with 1 Axes>"
      ]
     },
     "metadata": {
      "needs_background": "light"
     },
     "output_type": "display_data"
    },
    {
     "name": "stdout",
     "output_type": "stream",
     "text": [
      "Платформа: X360\n",
      "Корреляция зависимости от оценки пользователей 0.34\n",
      "Корреляция зависимости от оценки критиков 0.53\n"
     ]
    },
    {
     "data": {
      "image/png": "[encoded data removed]",
      "text/plain": [
       "<Figure size 576x216 with 1 Axes>"
      ]
     },
     "metadata": {
      "needs_background": "light"
     },
     "output_type": "display_data"
    },
    {
     "data": {
      "image/png": "[encoded data removed]",
      "text/plain": [
       "<Figure size 576x216 with 1 Axes>"
      ]
     },
     "metadata": {
      "needs_background": "light"
     },
     "output_type": "display_data"
    }
   ],
   "source": [
    "platform_sales_top_5 = platform_sales_top[\n",
    "    platform_sales_top['platform'] != 'PS4'].sort_values(by='total_sales', ascending=False).head(5)\n",
    "\n",
    "data_s_t = data[data['year_of_release'] > 2013].query(\n",
    "    'platform in @platform_sales_top_5.platform')\n",
    "\n",
    "d = data_s_t['platform'].unique()\n",
    "\n",
    "for p in d:\n",
    "    data_s_t = data_s_t[data_s_t['user_score'] != -1]\n",
    "    data_s_t.query('platform == @p').plot(\n",
    "        x='total_sales', y='user_score', kind='scatter', alpha=0.4,  figsize=(8,3), title= p )\n",
    "                \n",
    "    data_s_t = data_s_t[data_s_t['critic_score'] != -1]\n",
    "    data_s_t.query('platform == @p').plot(\n",
    "        x='total_sales', y='critic_score', kind='scatter', alpha=0.4,  figsize=(8,3), title= p )\n",
    "    print('Платформа:', p)\n",
    "    print('Корреляция зависимости от оценки пользователей', data_s_t.query('platform == @p')['user_score'].corr(\n",
    "        data_s_t['total_sales']).round(decimals=2))\n",
    "    print('Корреляция зависимости от оценки критиков', data_s_t.query('platform == @p')['critic_score'].corr(\n",
    "        data_s_t.query('platform == @p')['total_sales']).round(decimals=2))\n",
    "    plt.show()"
   ]
  },
  {
   "cell_type": "markdown",
   "metadata": {},
   "source": [
    "Корреляция зависимости от оценки, у топовых платформ достаточно разная. Зависимость от оценки критиков выглядит убедительнее, чем зависимости от оценки пользователей, хоть и не у всех платформ. У японской Nintendo 3DS зависимости одинаковые: 0.28. А у американской Xbox One корреляция зависимости от оценки критиков средняя и положительная: 0.42. А зависимость от оценки пользователей отрицательная -0.09, то есть оценка уменьшается, а продажи растут. Значения корреляции у платформы PS4 ближе всего к XOne, два топа с похожими закономерностями.\n",
    "Посмотрим на общее распределение игр по жанрам."
   ]
  },
  {
   "cell_type": "code",
   "execution_count": 18,
   "metadata": {},
   "outputs": [
    {
     "data": {
      "text/html": [
       "<div>\n",
       "<style scoped>\n",
       "    .dataframe tbody tr th:only-of-type {\n",
       "        vertical-align: middle;\n",
       "    }\n",
       "\n",
       "    .dataframe tbody tr th {\n",
       "        vertical-align: top;\n",
       "    }\n",
       "\n",
       "    .dataframe thead th {\n",
       "        text-align: right;\n",
       "    }\n",
       "</style>\n",
       "<table border=\"1\" class=\"dataframe\">\n",
       "  <thead>\n",
       "    <tr style=\"text-align: right;\">\n",
       "      <th></th>\n",
       "      <th>genre</th>\n",
       "      <th>total_sales</th>\n",
       "    </tr>\n",
       "  </thead>\n",
       "  <tbody>\n",
       "    <tr>\n",
       "      <th>0</th>\n",
       "      <td>Action</td>\n",
       "      <td>199.36</td>\n",
       "    </tr>\n",
       "    <tr>\n",
       "      <th>8</th>\n",
       "      <td>Shooter</td>\n",
       "      <td>170.94</td>\n",
       "    </tr>\n",
       "    <tr>\n",
       "      <th>10</th>\n",
       "      <td>Sports</td>\n",
       "      <td>109.48</td>\n",
       "    </tr>\n",
       "    <tr>\n",
       "      <th>7</th>\n",
       "      <td>Role-Playing</td>\n",
       "      <td>101.44</td>\n",
       "    </tr>\n",
       "    <tr>\n",
       "      <th>3</th>\n",
       "      <td>Misc</td>\n",
       "      <td>37.55</td>\n",
       "    </tr>\n",
       "  </tbody>\n",
       "</table>\n",
       "</div>"
      ],
      "text/plain": [
       "           genre  total_sales\n",
       "0         Action       199.36\n",
       "8        Shooter       170.94\n",
       "10        Sports       109.48\n",
       "7   Role-Playing       101.44\n",
       "3           Misc        37.55"
      ]
     },
     "metadata": {},
     "output_type": "display_data"
    },
    {
     "data": {
      "text/plain": [
       "Text(0.5, 1.0, 'продажи по жанрамм')"
      ]
     },
     "execution_count": 18,
     "metadata": {},
     "output_type": "execute_result"
    },
    {
     "data": {
      "image/png": "[encoded data removed]",
      "text/plain": [
       "<Figure size 1008x432 with 1 Axes>"
      ]
     },
     "metadata": {
      "needs_background": "light"
     },
     "output_type": "display_data"
    }
   ],
   "source": [
    "data_top = data[data['year_of_release'] > 2013]\n",
    "genre_top_sales = data_top.groupby('genre').agg({'total_sales':'sum'}).reset_index().sort_values(\n",
    "    by='total_sales', ascending= False ).head()\n",
    "display(genre_top_sales)\n",
    "data_top = data_top.query('genre in @genre_top_sales.genre')\n",
    "plt.figure(figsize=(14,6))\n",
    "plt.ylim(0,5)\n",
    "sns.boxplot(data=data_top, x='genre', y='total_sales')\n",
    "plt.xlabel('жанр')\n",
    "plt.ylabel('продажи')\n",
    "plt.title('продажи по жанрамм')"
   ]
  },
  {
   "cell_type": "markdown",
   "metadata": {},
   "source": [
    "Самыми прибыльными жанрами являются Action и Shooter. На графике видно, что жанр Shooter имеет самый широкий межквартильный размах и самое высокое медианное значение. Несмотря на то, что общие продажи у этого жанра меньше, чем у жанра Action, можно сказать, что он имеет более устойчивый спрос на всех платформах. Вероятно, жанр Action показывает высокие продажи благодаря топовым играм и играм на конкретных платформах. Тоже самое можно сказать и про остальные жанры. Спортивные и ролевые игры примерно на одном уровне около 100 миллионов проданных копий."
   ]
  },
  {
   "cell_type": "markdown",
   "metadata": {},
   "source": [
    "<font color='DarkBlue'><b>Комментарий ревьюера 2</b></font><br>\n",
    "<font color='DarkGreen'>👌 В проекте под \"прибыльностью\" понимается наличие устойчивого спроса пользователей на данный жанр. Можно сделать уникальный сюжет, быстрый движок, красивую графику и вложить немеряно денег в рекламу и продажи игры подпрыгнут. Но нам лучше выбирать игру из жанра, на которой есть постоянный спрос независимо от маркетинговых усилий производителей игр.<br>\n",
    "Это хороший пример, когда на одних и тех же данных разные диаграммы дают разный анализ. Визуализация это не только красивое представление табличных данных, а еще и инструмент анализа.</font>"
   ]
  },
  {
   "cell_type": "markdown",
   "metadata": {},
   "source": [
    "# Шаг 4. Составим портрет пользователя каждого региона"
   ]
  },
  {
   "cell_type": "markdown",
   "metadata": {},
   "source": [
    "Посмотрим на топ 5 платформ по регионам."
   ]
  },
  {
   "cell_type": "code",
   "execution_count": 20,
   "metadata": {},
   "outputs": [
    {
     "data": {
      "image/png": "[encoded data removed]",
      "text/plain": [
       "<Figure size 1152x360 with 3 Axes>"
      ]
     },
     "metadata": {},
     "output_type": "display_data"
    }
   ],
   "source": [
    "data= data[data['year_of_release'] > 2013]\n",
    "data_na_sales = data.groupby(by='platform').agg({'na_sales':'sum'}).sort_values(by='na_sales', ascending=False)\n",
    "data_na_sales.loc['other', 'na_sales'] = data_na_sales.iloc[5:].sum()[0]\n",
    "data_na_sales_top = data_na_sales.sort_values(by='na_sales', ascending=False).head(6).reset_index()\n",
    "\n",
    "data_eu_sales = data.groupby(by='platform').agg({'eu_sales':'sum'}).sort_values(by='eu_sales', ascending=False)\n",
    "data_eu_sales.loc['other', 'eu_sales'] = data_eu_sales.iloc[5:].sum()[0]\n",
    "data_eu_sales_top = data_eu_sales.sort_values(by='eu_sales', ascending=False).head(6).reset_index()\n",
    "\n",
    "data_jp_sales = data.groupby(by='platform').agg({'jp_sales':'sum'}).sort_values(by='jp_sales', ascending=False)\n",
    "data_jp_sales.loc['other', 'jp_sales'] = data_jp_sales.iloc[5:].sum()[0]\n",
    "data_jp_sales_top = data_jp_sales.sort_values(by='jp_sales', ascending=False).head(6).reset_index()\n",
    "\n",
    "\n",
    "fig = plt.figure(figsize=(16, 5))\n",
    "fig.suptitle('Топ-5 платформ в регионах')\n",
    "plt.subplot(1, 3, 1)\n",
    "plt.pie(data = data_na_sales_top, x= 'na_sales', autopct='%1.1f%%', labels = data_na_sales_top['platform'])\n",
    "plt.subplot(1, 3, 2)\n",
    "plt.pie(data = data_eu_sales_top, x= 'eu_sales', autopct='%1.1f%%', labels = data_eu_sales_top['platform'])\n",
    "plt.subplot(1, 3, 3)\n",
    "plt.pie(data = data_jp_sales_top, x= 'jp_sales', autopct='%1.1f%%', labels = data_jp_sales_top['platform'])\n",
    "plt.show()"
   ]
  },
  {
   "cell_type": "markdown",
   "metadata": {},
   "source": [
    " - В Северной америке предпочитают играть в PlayStation 4 и Xbox One.\n",
    " - В Европе с большим отрывом лидирует PlayStation 4.\n",
    " - В Японии самой популярной приставкой является родная им Nintendo 3DS."
   ]
  },
  {
   "cell_type": "code",
   "execution_count": 21,
   "metadata": {},
   "outputs": [
    {
     "data": {
      "image/png": "[encoded data removed]",
      "text/plain": [
       "<Figure size 1152x360 with 3 Axes>"
      ]
     },
     "metadata": {},
     "output_type": "display_data"
    }
   ],
   "source": [
    "data_na_sales = data.groupby(by='genre').agg({'na_sales':'sum'}).sort_values(by='na_sales', ascending=False)\n",
    "data_na_sales.loc['other', 'na_sales'] = data_na_sales.iloc[5:].sum()[0]\n",
    "data_na_sales_top = data_na_sales.sort_values(by='na_sales', ascending=False).head(6).reset_index()\n",
    "\n",
    "data_eu_sales = data.groupby(by='genre').agg({'eu_sales':'sum'}).sort_values(by='eu_sales', ascending=False)\n",
    "data_eu_sales.loc['other', 'eu_sales'] = data_eu_sales.iloc[5:].sum()[0]\n",
    "data_eu_sales_top = data_eu_sales.sort_values(by='eu_sales', ascending=False).head(6).reset_index()\n",
    "\n",
    "data_jp_sales = data.groupby(by='genre').agg({'jp_sales':'sum'}).sort_values(by='jp_sales', ascending=False)\n",
    "data_jp_sales.loc['other', 'jp_sales'] = data_jp_sales.iloc[5:].sum()[0]\n",
    "data_jp_sales_top = data_jp_sales.sort_values(by='jp_sales', ascending=False).head(6).reset_index()\n",
    "\n",
    "\n",
    "fig = plt.figure(figsize=(16, 5))\n",
    "fig.suptitle('Топ-5 жанров в регионах')\n",
    "plt.subplot(1, 3, 1)\n",
    "plt.pie(data = data_na_sales_top, x= 'na_sales', autopct='%1.1f%%', labels = data_na_sales_top['genre'])\n",
    "plt.subplot(1, 3, 2)\n",
    "plt.pie(data = data_eu_sales_top, x= 'eu_sales', autopct='%1.1f%%', labels = data_eu_sales_top['genre'])\n",
    "plt.subplot(1, 3, 3)\n",
    "plt.pie(data = data_jp_sales_top, x= 'jp_sales', autopct='%1.1f%%', labels = data_jp_sales_top['genre'])\n",
    "plt.show()"
   ]
  },
  {
   "cell_type": "markdown",
   "metadata": {},
   "source": [
    " - В Северной америке предпочитают игры в жанрах Shooter и Action.\n",
    " - В Европе тоже больше играют в Shooter и Action, но в Action больше. \n",
    " - В Японии самыми популярными жанрами игр являются Role-Playing и Action, почти одинаково.\n",
    "    \n",
    "Посмотрим, влияет ли рейтинг ESRB на продажи в отдельном регионе."
   ]
  },
  {
   "cell_type": "code",
   "execution_count": 23,
   "metadata": {},
   "outputs": [
    {
     "data": {
      "text/plain": [
       "<AxesSubplot:xlabel='rating', ylabel='na_sales'>"
      ]
     },
     "execution_count": 23,
     "metadata": {},
     "output_type": "execute_result"
    },
    {
     "data": {
      "image/png": "[encoded data removed]",
      "text/plain": [
       "<Figure size 1008x432 with 1 Axes>"
      ]
     },
     "metadata": {
      "needs_background": "light"
     },
     "output_type": "display_data"
    }
   ],
   "source": [
    "data_r = data.pivot_table(index='rating', values=['na_sales', 'eu_sales', 'jp_sales'], aggfunc='sum').reset_index()\n",
    "\n",
    "plt.figure(figsize=(14,6))\n",
    "sns.lineplot(data=data_r, x='rating', y='na_sales', label = 'продажи в Северной Америке')\n",
    "sns.lineplot(data=data_r, x='rating', y='eu_sales', label = 'продажи в Европе')\n",
    "sns.lineplot(data=data_r, x='rating', y='jp_sales', label = 'продажи в Японии')"
   ]
  },
  {
   "cell_type": "markdown",
   "metadata": {},
   "source": [
    "На графике видно, что рейтинг ESRB не оказывает особого влияния на продажи в отдельных регионах: Северная Америкеа и Европа, значения расположены параллельно. Рейтинг М (17+) - самый популярный. В Японии игры с рейтингом \"out of rating\", то есть без рейтинга, лидируют по продажам, а остальные имеют небольшие значения. Дело в том, что игры, выпущенные в Японии, оцениваются другой организацией - Computer Entertainment Rating Organization (CERO)."
   ]
  },
  {
   "cell_type": "markdown",
   "metadata": {},
   "source": [
    "# Шаг 5. Проверим гипотезы"
   ]
  },
  {
   "cell_type": "markdown",
   "metadata": {},
   "source": [
    "Проверим гипотезу: средние пользовательские рейтинги платформ Xbox One и PC одинаковые. Поскольку эта гипотеза об отсутствии различий, обозначим её нулевой: H0. Соответственно, альтернативной гипотезой H1 будет: средний пользовательский рейтинг платформ Xbox One и PC различается. Так как нужно определить статистическую значимость различий средних величин, используем t-критерий. Воспользуемся методом scipy.stats.ttest_1samp, установим критический уровень статистической значимости 5%.\n",
    "\n",
    "- H0: средний пользовательский рейтинг платформ Xbox One и PC одинаковый\n",
    "- H1: средний пользовательский рейтинг платформ Xbox One и PC различается"
   ]
  },
  {
   "cell_type": "code",
   "execution_count": 24,
   "metadata": {},
   "outputs": [
    {
     "name": "stdout",
     "output_type": "stream",
     "text": [
      "p-значение: 0.11601398086668832\n",
      "Не получилось отвергнуть нулевую гипотезу\n",
      "Cредний пользовательский рейтинг платформ Xbox One: 6.595 \n",
      "Cредний пользовательский рейтинг платформ PC: 6.298\n"
     ]
    }
   ],
   "source": [
    "data_top = data[data['user_score'] != -1]\n",
    "\n",
    "alpha = 0.05\n",
    "\n",
    "xone = data_top[data_top['platform'] == 'XOne']['user_score']\n",
    "pc = data_top[data_top['platform'] == 'PC']['user_score']\n",
    "\n",
    "\n",
    "results = st.ttest_ind(xone, pc, equal_var = False)\n",
    "print('p-значение:', results.pvalue)\n",
    "\n",
    "if (results.pvalue < alpha):\n",
    "    print(\"Отвергаем нулевую гипотезу\")\n",
    "else:\n",
    "    print(\"Не получилось отвергнуть нулевую гипотезу\")\n",
    "\n",
    "print('Cредний пользовательский рейтинг платформ Xbox One:', xone.mean().round(3),\n",
    "      '\\n' 'Cредний пользовательский рейтинг платформ PC:', pc.mean().round(3))    "
   ]
  },
  {
   "cell_type": "markdown",
   "metadata": {},
   "source": [
    "Полученное значение явно выше критического уровня статистической значимости.\n",
    "Вероятность относительно высока — данные не противоречат гипотезе.\n",
    "\n",
    "Проверим гипотезу: средние пользовательские рейтинги жанров Action (англ. «действие», экшен-игры) и Sports (англ. «спортивные соревнования») разные. Поскольку гипотеза об отсутствии различий - средний пользовательский рейтинг жанров Action и Sports одинаковый, обозначим её нулевой: H0. Соответственно, альтернативной гипотезой H1 будет: средний пользовательский рейтинг жанров Action и Sports различается. Так как нужно определить статистическую значимость различий средних величин, используем t-критерий. Воспользуемся методом scipy.stats.ttest_1samp, установим критический уровень статистической значимости 5%.\n",
    "- H0: средний пользовательский рейтинг жанров Action и Sports одинаковый\n",
    "- H1: средний пользовательский рейтинг жанров Action и Sports различается"
   ]
  },
  {
   "cell_type": "code",
   "execution_count": 25,
   "metadata": {},
   "outputs": [
    {
     "name": "stdout",
     "output_type": "stream",
     "text": [
      "p-значение: 1.1825550382644557e-14\n",
      "Отвергаем нулевую гипотезу\n",
      "Cредний пользовательский рейтинг жанра Action: 6.761 \n",
      "Cредний пользовательский рейтинг жанра Sports: 5.225\n"
     ]
    }
   ],
   "source": [
    "data_top = data[data['year_of_release'] > 2013]\n",
    "data_top = data_top[data_top['user_score'] != -1]\n",
    "\n",
    "alpha = 0.05\n",
    "\n",
    "action = data_top[data_top['genre'] == 'Action']['user_score']\n",
    "sports = data_top[data_top['genre'] == 'Sports']['user_score']\n",
    "\n",
    "\n",
    "results = st.ttest_ind(action, sports, equal_var = False)\n",
    "print('p-значение:', results.pvalue)\n",
    "\n",
    "if (results.pvalue < alpha):\n",
    "    print(\"Отвергаем нулевую гипотезу\")\n",
    "else:\n",
    "    print(\"Не получилось отвергнуть нулевую гипотезу\")\n",
    "\n",
    "print('Cредний пользовательский рейтинг жанра Action:', action.mean().round(3),\n",
    "      '\\n' 'Cредний пользовательский рейтинг жанра Sports:', sports.mean().round(3))"
   ]
  },
  {
   "cell_type": "markdown",
   "metadata": {},
   "source": [
    "На имеющихся данных, на уровне значимости 5% есть основания отвергнуть нулевую гипотезу о равенстве средних значений пользовательских рейтингов (отзывов) жанров Action и Sports в пользу альтернативной гипотезы."
   ]
  },
  {
   "cell_type": "markdown",
   "metadata": {},
   "source": [
    "# Шаг 6. Общий вывод\n",
    "Компьютерные игры достаточно популярны и их продажи показывают огромные цифры. Но на фоне периода с начала 2000-х по начало 2010-х картина уже не выглядит такой грандиозной. Однако, исходя из данных, индустрия все ещё вполне жива, и покупательская способность очевидна. Игры всё ещё активно выпускаются, а люди продолжают в них играть.\n",
    "\n",
    "Рекомендации:\n",
    "- обязательно учитывать популярность платформы в выбранном регионе:\n",
    "    - Северная Америка и Европа - PlayStation 4 и Xbox One\n",
    "    - Япония - Nintendo 3DS и PlayStation 4\n",
    "    \n",
    "    \n",
    "- обязательно учитывать популярность жанра:\n",
    "    - Северная Америка и Европа - Shooter и Action\n",
    "    - Япония - Role-Playing и Action\n",
    "    \n",
    "    \n",
    "- учитывать влияние оценок критиков:\n",
    "    - выше оценка - больше продажи\n",
    "    \n",
    "    \n",
    "- учитывать популярность рейтинга M (17+) ESRB в Северной Америке и Европе  \n",
    "    \n",
    "- проводить повторный анализ данных не менее чем раз в три года\n",
    "\n",
    "- собирать информацию за актуальный период\n",
    "\n",
    "- при сборе информации более детально учитывать присвоение рейтинга в регионах"
   ]
  }
 ],
 "metadata": {
  "ExecuteTimeLog": [
   {
    "duration": 536,
    "start_time": "2023-03-16T11:14:27.212Z"
   },
   {
    "duration": 53,
    "start_time": "2023-03-16T11:14:50.201Z"
   },
   {
    "duration": 3,
    "start_time": "2023-03-16T11:17:55.337Z"
   },
   {
    "duration": 50,
    "start_time": "2023-03-16T11:17:59.715Z"
   },
   {
    "duration": 207,
    "start_time": "2023-03-16T11:19:05.837Z"
   },
   {
    "duration": 63,
    "start_time": "2023-03-16T11:22:09.801Z"
   },
   {
    "duration": 83,
    "start_time": "2023-03-16T11:23:44.613Z"
   },
   {
    "duration": 10,
    "start_time": "2023-03-16T11:30:08.822Z"
   },
   {
    "duration": 4,
    "start_time": "2023-03-16T11:30:41.200Z"
   },
   {
    "duration": 17,
    "start_time": "2023-03-16T11:30:50.989Z"
   },
   {
    "duration": 14,
    "start_time": "2023-03-16T11:31:06.628Z"
   },
   {
    "duration": 78,
    "start_time": "2023-03-16T11:32:05.521Z"
   },
   {
    "duration": 10,
    "start_time": "2023-03-16T11:33:02.316Z"
   },
   {
    "duration": 1881,
    "start_time": "2023-03-16T11:42:48.932Z"
   },
   {
    "duration": 718,
    "start_time": "2023-03-16T11:43:57.222Z"
   },
   {
    "duration": 79,
    "start_time": "2023-03-16T11:43:57.942Z"
   },
   {
    "duration": 14,
    "start_time": "2023-03-16T11:43:58.656Z"
   },
   {
    "duration": 6,
    "start_time": "2023-03-16T11:43:59.297Z"
   },
   {
    "duration": 9,
    "start_time": "2023-03-16T11:44:01.189Z"
   },
   {
    "duration": 17,
    "start_time": "2023-03-16T11:44:16.917Z"
   },
   {
    "duration": 45,
    "start_time": "2023-03-16T11:44:34.852Z"
   },
   {
    "duration": 16,
    "start_time": "2023-03-16T11:44:43.090Z"
   },
   {
    "duration": 2,
    "start_time": "2023-03-16T11:44:58.756Z"
   },
   {
    "duration": 76,
    "start_time": "2023-03-16T11:44:59.201Z"
   },
   {
    "duration": 13,
    "start_time": "2023-03-16T11:44:59.693Z"
   },
   {
    "duration": 5,
    "start_time": "2023-03-16T11:45:00.318Z"
   },
   {
    "duration": 76,
    "start_time": "2023-03-16T11:45:23.926Z"
   },
   {
    "duration": 105,
    "start_time": "2023-03-16T11:45:34.609Z"
   },
   {
    "duration": 6,
    "start_time": "2023-03-16T11:47:31.452Z"
   },
   {
    "duration": 18,
    "start_time": "2023-03-16T11:49:19.393Z"
   },
   {
    "duration": 7,
    "start_time": "2023-03-16T11:49:42.232Z"
   },
   {
    "duration": 16,
    "start_time": "2023-03-16T11:52:06.920Z"
   },
   {
    "duration": 1112,
    "start_time": "2023-03-16T11:52:14.590Z"
   },
   {
    "duration": 82,
    "start_time": "2023-03-16T11:52:15.704Z"
   },
   {
    "duration": 13,
    "start_time": "2023-03-16T11:52:15.788Z"
   },
   {
    "duration": 6,
    "start_time": "2023-03-16T11:52:15.803Z"
   },
   {
    "duration": 9,
    "start_time": "2023-03-16T11:52:15.811Z"
   },
   {
    "duration": 16,
    "start_time": "2023-03-16T11:52:15.822Z"
   },
   {
    "duration": 3,
    "start_time": "2023-03-16T12:06:34.962Z"
   },
   {
    "duration": 4,
    "start_time": "2023-03-16T12:06:37.896Z"
   },
   {
    "duration": 12,
    "start_time": "2023-03-16T12:07:39.190Z"
   },
   {
    "duration": 91,
    "start_time": "2023-03-16T12:09:34.552Z"
   },
   {
    "duration": 5,
    "start_time": "2023-03-16T12:09:53.904Z"
   },
   {
    "duration": 5,
    "start_time": "2023-03-16T12:13:24.445Z"
   },
   {
    "duration": 6,
    "start_time": "2023-03-16T12:13:46.285Z"
   },
   {
    "duration": 6,
    "start_time": "2023-03-16T12:13:55.701Z"
   },
   {
    "duration": 1174,
    "start_time": "2023-03-16T12:43:02.795Z"
   },
   {
    "duration": 103,
    "start_time": "2023-03-16T12:43:03.971Z"
   },
   {
    "duration": 20,
    "start_time": "2023-03-16T12:43:04.078Z"
   },
   {
    "duration": 9,
    "start_time": "2023-03-16T12:43:04.111Z"
   },
   {
    "duration": 19,
    "start_time": "2023-03-16T12:43:04.122Z"
   },
   {
    "duration": 11,
    "start_time": "2023-03-16T12:43:04.143Z"
   },
   {
    "duration": 1345,
    "start_time": "2023-03-16T12:43:04.157Z"
   },
   {
    "duration": 0,
    "start_time": "2023-03-16T12:43:05.504Z"
   },
   {
    "duration": 10,
    "start_time": "2023-03-16T12:43:37.431Z"
   },
   {
    "duration": 332,
    "start_time": "2023-03-16T12:44:43.653Z"
   },
   {
    "duration": 14,
    "start_time": "2023-03-16T12:45:28.033Z"
   },
   {
    "duration": 11,
    "start_time": "2023-03-16T12:47:57.496Z"
   },
   {
    "duration": 1173,
    "start_time": "2023-03-16T12:48:44.809Z"
   },
   {
    "duration": 83,
    "start_time": "2023-03-16T12:48:45.984Z"
   },
   {
    "duration": 13,
    "start_time": "2023-03-16T12:48:46.069Z"
   },
   {
    "duration": 112,
    "start_time": "2023-03-16T12:48:46.084Z"
   },
   {
    "duration": 0,
    "start_time": "2023-03-16T12:48:46.198Z"
   },
   {
    "duration": 0,
    "start_time": "2023-03-16T12:48:46.199Z"
   },
   {
    "duration": 0,
    "start_time": "2023-03-16T12:48:46.200Z"
   },
   {
    "duration": 0,
    "start_time": "2023-03-16T12:48:46.201Z"
   },
   {
    "duration": 21,
    "start_time": "2023-03-16T13:04:07.993Z"
   },
   {
    "duration": 17,
    "start_time": "2023-03-16T13:04:51.249Z"
   },
   {
    "duration": 1107,
    "start_time": "2023-03-16T13:05:06.271Z"
   },
   {
    "duration": 83,
    "start_time": "2023-03-16T13:05:07.380Z"
   },
   {
    "duration": 14,
    "start_time": "2023-03-16T13:05:07.465Z"
   },
   {
    "duration": 123,
    "start_time": "2023-03-16T13:05:07.481Z"
   },
   {
    "duration": 0,
    "start_time": "2023-03-16T13:05:07.606Z"
   },
   {
    "duration": 0,
    "start_time": "2023-03-16T13:05:07.607Z"
   },
   {
    "duration": 0,
    "start_time": "2023-03-16T13:05:07.612Z"
   },
   {
    "duration": 0,
    "start_time": "2023-03-16T13:05:07.613Z"
   },
   {
    "duration": 18,
    "start_time": "2023-03-16T13:05:29.633Z"
   },
   {
    "duration": 1072,
    "start_time": "2023-03-16T13:05:40.041Z"
   },
   {
    "duration": 84,
    "start_time": "2023-03-16T13:05:41.115Z"
   },
   {
    "duration": 13,
    "start_time": "2023-03-16T13:05:41.201Z"
   },
   {
    "duration": 21,
    "start_time": "2023-03-16T13:05:41.216Z"
   },
   {
    "duration": 8,
    "start_time": "2023-03-16T13:05:41.239Z"
   },
   {
    "duration": 5,
    "start_time": "2023-03-16T13:05:41.249Z"
   },
   {
    "duration": 18,
    "start_time": "2023-03-16T13:05:41.256Z"
   },
   {
    "duration": 68,
    "start_time": "2023-03-16T13:05:41.275Z"
   },
   {
    "duration": 101,
    "start_time": "2023-03-16T13:06:28.875Z"
   },
   {
    "duration": 16,
    "start_time": "2023-03-16T13:07:20.214Z"
   },
   {
    "duration": 10,
    "start_time": "2023-03-16T13:13:48.022Z"
   },
   {
    "duration": 4,
    "start_time": "2023-03-16T13:13:56.150Z"
   },
   {
    "duration": 77,
    "start_time": "2023-03-16T13:13:57.217Z"
   },
   {
    "duration": 13,
    "start_time": "2023-03-16T13:13:57.682Z"
   },
   {
    "duration": 8,
    "start_time": "2023-03-16T13:13:58.186Z"
   },
   {
    "duration": 9,
    "start_time": "2023-03-16T13:13:59.250Z"
   },
   {
    "duration": 6,
    "start_time": "2023-03-16T13:14:01.838Z"
   },
   {
    "duration": 11,
    "start_time": "2023-03-16T13:14:04.166Z"
   },
   {
    "duration": 14,
    "start_time": "2023-03-16T13:14:27.780Z"
   },
   {
    "duration": 15,
    "start_time": "2023-03-16T13:18:36.930Z"
   },
   {
    "duration": 15,
    "start_time": "2023-03-16T13:18:46.694Z"
   },
   {
    "duration": 7,
    "start_time": "2023-03-16T13:25:26.686Z"
   },
   {
    "duration": 24,
    "start_time": "2023-03-16T13:27:28.522Z"
   },
   {
    "duration": 15,
    "start_time": "2023-03-16T13:28:43.607Z"
   },
   {
    "duration": 16,
    "start_time": "2023-03-16T13:29:44.570Z"
   },
   {
    "duration": 16,
    "start_time": "2023-03-16T13:35:06.524Z"
   },
   {
    "duration": 3,
    "start_time": "2023-03-16T13:35:45.354Z"
   },
   {
    "duration": 74,
    "start_time": "2023-03-16T13:35:45.730Z"
   },
   {
    "duration": 14,
    "start_time": "2023-03-16T13:35:45.914Z"
   },
   {
    "duration": 10,
    "start_time": "2023-03-16T13:35:46.106Z"
   },
   {
    "duration": 10,
    "start_time": "2023-03-16T13:35:46.499Z"
   },
   {
    "duration": 5,
    "start_time": "2023-03-16T13:35:46.686Z"
   },
   {
    "duration": 15,
    "start_time": "2023-03-16T13:35:46.881Z"
   },
   {
    "duration": 18,
    "start_time": "2023-03-16T13:35:47.095Z"
   },
   {
    "duration": 15,
    "start_time": "2023-03-16T13:35:47.293Z"
   },
   {
    "duration": 18,
    "start_time": "2023-03-16T13:41:03.806Z"
   },
   {
    "duration": 18,
    "start_time": "2023-03-16T13:42:00.046Z"
   },
   {
    "duration": 9,
    "start_time": "2023-03-16T13:42:37.098Z"
   },
   {
    "duration": 14,
    "start_time": "2023-03-16T13:42:42.885Z"
   },
   {
    "duration": 16,
    "start_time": "2023-03-16T13:43:01.843Z"
   },
   {
    "duration": 15,
    "start_time": "2023-03-16T13:43:19.603Z"
   },
   {
    "duration": 15,
    "start_time": "2023-03-16T13:43:35.912Z"
   },
   {
    "duration": 14,
    "start_time": "2023-03-16T13:43:53.696Z"
   },
   {
    "duration": 6,
    "start_time": "2023-03-16T13:44:00.643Z"
   },
   {
    "duration": 9,
    "start_time": "2023-03-16T13:44:01.003Z"
   },
   {
    "duration": 5,
    "start_time": "2023-03-16T13:44:01.197Z"
   },
   {
    "duration": 16,
    "start_time": "2023-03-16T13:44:01.394Z"
   },
   {
    "duration": 17,
    "start_time": "2023-03-16T13:44:01.585Z"
   },
   {
    "duration": 15,
    "start_time": "2023-03-16T13:44:02.032Z"
   },
   {
    "duration": 1129,
    "start_time": "2023-03-16T13:44:12.794Z"
   },
   {
    "duration": 85,
    "start_time": "2023-03-16T13:44:13.926Z"
   },
   {
    "duration": 18,
    "start_time": "2023-03-16T13:44:14.013Z"
   },
   {
    "duration": 14,
    "start_time": "2023-03-16T13:44:14.033Z"
   },
   {
    "duration": 13,
    "start_time": "2023-03-16T13:44:14.050Z"
   },
   {
    "duration": 22,
    "start_time": "2023-03-16T13:44:14.065Z"
   },
   {
    "duration": 43,
    "start_time": "2023-03-16T13:44:14.089Z"
   },
   {
    "duration": 23,
    "start_time": "2023-03-16T13:44:14.134Z"
   },
   {
    "duration": 21,
    "start_time": "2023-03-16T13:44:14.159Z"
   },
   {
    "duration": 109,
    "start_time": "2023-03-16T13:44:44.203Z"
   },
   {
    "duration": 21,
    "start_time": "2023-03-16T13:44:52.601Z"
   },
   {
    "duration": 279,
    "start_time": "2023-03-16T14:02:37.756Z"
   },
   {
    "duration": 13,
    "start_time": "2023-03-16T14:03:19.030Z"
   },
   {
    "duration": 260,
    "start_time": "2023-03-16T14:03:35.692Z"
   },
   {
    "duration": 1237,
    "start_time": "2023-03-16T14:06:13.648Z"
   },
   {
    "duration": 16,
    "start_time": "2023-03-16T14:06:36.393Z"
   },
   {
    "duration": 161,
    "start_time": "2023-03-16T14:07:13.053Z"
   },
   {
    "duration": 289,
    "start_time": "2023-03-16T14:08:55.853Z"
   },
   {
    "duration": 326,
    "start_time": "2023-03-16T14:09:07.989Z"
   },
   {
    "duration": 19,
    "start_time": "2023-03-16T14:09:30.892Z"
   },
   {
    "duration": 33,
    "start_time": "2023-03-16T14:10:20.636Z"
   },
   {
    "duration": 46,
    "start_time": "2023-03-16T14:10:54.908Z"
   },
   {
    "duration": 18,
    "start_time": "2023-03-16T14:11:07.521Z"
   },
   {
    "duration": 359,
    "start_time": "2023-03-16T14:13:52.336Z"
   },
   {
    "duration": 346,
    "start_time": "2023-03-16T14:16:23.473Z"
   },
   {
    "duration": 341,
    "start_time": "2023-03-16T14:17:42.761Z"
   },
   {
    "duration": 362,
    "start_time": "2023-03-16T14:18:28.893Z"
   },
   {
    "duration": 356,
    "start_time": "2023-03-16T14:18:40.753Z"
   },
   {
    "duration": 352,
    "start_time": "2023-03-16T14:18:51.825Z"
   },
   {
    "duration": 474,
    "start_time": "2023-03-16T14:19:44.133Z"
   },
   {
    "duration": 375,
    "start_time": "2023-03-16T14:19:55.271Z"
   },
   {
    "duration": 371,
    "start_time": "2023-03-16T15:01:09.365Z"
   },
   {
    "duration": 362,
    "start_time": "2023-03-16T15:01:20.974Z"
   },
   {
    "duration": 366,
    "start_time": "2023-03-16T15:01:27.965Z"
   },
   {
    "duration": 486,
    "start_time": "2023-03-16T15:03:19.384Z"
   },
   {
    "duration": 359,
    "start_time": "2023-03-16T15:03:30.125Z"
   },
   {
    "duration": 331,
    "start_time": "2023-03-16T15:03:37.225Z"
   },
   {
    "duration": 376,
    "start_time": "2023-03-16T15:03:46.109Z"
   },
   {
    "duration": 338,
    "start_time": "2023-03-16T15:04:12.466Z"
   },
   {
    "duration": 309,
    "start_time": "2023-03-16T15:06:49.413Z"
   },
   {
    "duration": 330,
    "start_time": "2023-03-16T15:07:20.735Z"
   },
   {
    "duration": 438,
    "start_time": "2023-03-16T15:07:28.405Z"
   },
   {
    "duration": 348,
    "start_time": "2023-03-16T15:07:36.109Z"
   },
   {
    "duration": 80,
    "start_time": "2023-03-16T15:09:18.747Z"
   },
   {
    "duration": 76,
    "start_time": "2023-03-16T15:09:26.413Z"
   },
   {
    "duration": 334,
    "start_time": "2023-03-16T15:09:31.789Z"
   },
   {
    "duration": 18,
    "start_time": "2023-03-16T15:12:57.987Z"
   },
   {
    "duration": 27,
    "start_time": "2023-03-16T15:13:25.586Z"
   },
   {
    "duration": 23,
    "start_time": "2023-03-16T15:14:39.598Z"
   },
   {
    "duration": 322,
    "start_time": "2023-03-16T15:15:22.962Z"
   },
   {
    "duration": 27,
    "start_time": "2023-03-16T15:15:24.202Z"
   },
   {
    "duration": 1286,
    "start_time": "2023-03-16T15:15:38.267Z"
   },
   {
    "duration": 95,
    "start_time": "2023-03-16T15:15:39.555Z"
   },
   {
    "duration": 14,
    "start_time": "2023-03-16T15:15:39.652Z"
   },
   {
    "duration": 14,
    "start_time": "2023-03-16T15:15:39.668Z"
   },
   {
    "duration": 9,
    "start_time": "2023-03-16T15:15:39.685Z"
   },
   {
    "duration": 9,
    "start_time": "2023-03-16T15:15:39.696Z"
   },
   {
    "duration": 18,
    "start_time": "2023-03-16T15:15:39.707Z"
   },
   {
    "duration": 19,
    "start_time": "2023-03-16T15:15:39.727Z"
   },
   {
    "duration": 402,
    "start_time": "2023-03-16T15:15:39.747Z"
   },
   {
    "duration": 35,
    "start_time": "2023-03-16T15:15:40.151Z"
   },
   {
    "duration": 20,
    "start_time": "2023-03-16T15:16:07.192Z"
   },
   {
    "duration": 131,
    "start_time": "2023-03-16T15:17:10.387Z"
   },
   {
    "duration": 21,
    "start_time": "2023-03-16T15:17:23.365Z"
   },
   {
    "duration": 24,
    "start_time": "2023-03-16T15:17:41.415Z"
   },
   {
    "duration": 27,
    "start_time": "2023-03-16T15:22:39.132Z"
   },
   {
    "duration": 23,
    "start_time": "2023-03-16T15:23:31.785Z"
   },
   {
    "duration": 20,
    "start_time": "2023-03-16T15:23:42.857Z"
   },
   {
    "duration": 28,
    "start_time": "2023-03-16T15:26:05.660Z"
   },
   {
    "duration": 26,
    "start_time": "2023-03-16T15:26:18.229Z"
   },
   {
    "duration": 23,
    "start_time": "2023-03-16T15:47:29.829Z"
   },
   {
    "duration": 1200,
    "start_time": "2023-03-16T15:47:39.506Z"
   },
   {
    "duration": 83,
    "start_time": "2023-03-16T15:47:40.709Z"
   },
   {
    "duration": 14,
    "start_time": "2023-03-16T15:47:40.794Z"
   },
   {
    "duration": 14,
    "start_time": "2023-03-16T15:47:40.810Z"
   },
   {
    "duration": 10,
    "start_time": "2023-03-16T15:47:40.826Z"
   },
   {
    "duration": 14,
    "start_time": "2023-03-16T15:47:40.838Z"
   },
   {
    "duration": 32,
    "start_time": "2023-03-16T15:47:40.853Z"
   },
   {
    "duration": 18,
    "start_time": "2023-03-16T15:47:40.887Z"
   },
   {
    "duration": 370,
    "start_time": "2023-03-16T15:47:40.907Z"
   },
   {
    "duration": 754,
    "start_time": "2023-03-16T15:47:41.279Z"
   },
   {
    "duration": 29,
    "start_time": "2023-03-16T15:57:06.825Z"
   },
   {
    "duration": 142,
    "start_time": "2023-03-16T15:58:21.638Z"
   },
   {
    "duration": 65,
    "start_time": "2023-03-16T15:59:03.913Z"
   },
   {
    "duration": 60,
    "start_time": "2023-03-16T16:00:19.945Z"
   },
   {
    "duration": 25,
    "start_time": "2023-03-16T16:01:50.489Z"
   },
   {
    "duration": 35,
    "start_time": "2023-03-16T17:30:46.730Z"
   },
   {
    "duration": 37,
    "start_time": "2023-03-16T17:31:06.378Z"
   },
   {
    "duration": 40,
    "start_time": "2023-03-16T17:35:52.103Z"
   },
   {
    "duration": 35,
    "start_time": "2023-03-16T17:37:40.371Z"
   },
   {
    "duration": 31,
    "start_time": "2023-03-16T17:44:52.496Z"
   },
   {
    "duration": 31,
    "start_time": "2023-03-16T17:46:44.763Z"
   },
   {
    "duration": 27,
    "start_time": "2023-03-16T17:47:02.172Z"
   },
   {
    "duration": 36,
    "start_time": "2023-03-16T17:49:36.254Z"
   },
   {
    "duration": 1436,
    "start_time": "2023-03-16T17:50:16.104Z"
   },
   {
    "duration": 32,
    "start_time": "2023-03-16T17:50:45.591Z"
   },
   {
    "duration": 27,
    "start_time": "2023-03-16T17:51:13.889Z"
   },
   {
    "duration": 31,
    "start_time": "2023-03-16T17:51:46.954Z"
   },
   {
    "duration": 54,
    "start_time": "2023-03-16T18:19:35.680Z"
   },
   {
    "duration": 42,
    "start_time": "2023-03-16T18:19:57.474Z"
   },
   {
    "duration": 42,
    "start_time": "2023-03-16T18:22:42.850Z"
   },
   {
    "duration": 29,
    "start_time": "2023-03-16T18:23:23.025Z"
   },
   {
    "duration": 27,
    "start_time": "2023-03-16T18:24:09.090Z"
   },
   {
    "duration": 28,
    "start_time": "2023-03-16T18:24:37.390Z"
   },
   {
    "duration": 909,
    "start_time": "2023-03-16T18:25:03.362Z"
   },
   {
    "duration": 40,
    "start_time": "2023-03-16T18:26:58.946Z"
   },
   {
    "duration": 30,
    "start_time": "2023-03-16T18:28:18.778Z"
   },
   {
    "duration": 25,
    "start_time": "2023-03-16T18:28:54.728Z"
   },
   {
    "duration": 31,
    "start_time": "2023-03-16T18:29:07.254Z"
   },
   {
    "duration": 26,
    "start_time": "2023-03-16T18:34:00.998Z"
   },
   {
    "duration": 35,
    "start_time": "2023-03-16T18:34:17.120Z"
   },
   {
    "duration": 305,
    "start_time": "2023-03-16T18:34:33.504Z"
   },
   {
    "duration": 135,
    "start_time": "2023-03-16T18:44:14.904Z"
   },
   {
    "duration": 149,
    "start_time": "2023-03-16T18:46:18.358Z"
   },
   {
    "duration": 387,
    "start_time": "2023-03-16T18:46:31.774Z"
   },
   {
    "duration": 340,
    "start_time": "2023-03-16T18:47:38.698Z"
   },
   {
    "duration": 331,
    "start_time": "2023-03-16T18:52:38.138Z"
   },
   {
    "duration": 40,
    "start_time": "2023-03-16T18:52:44.494Z"
   },
   {
    "duration": 36,
    "start_time": "2023-03-16T18:52:51.673Z"
   },
   {
    "duration": 29,
    "start_time": "2023-03-16T18:53:11.235Z"
   },
   {
    "duration": 35,
    "start_time": "2023-03-16T18:54:04.110Z"
   },
   {
    "duration": 28,
    "start_time": "2023-03-16T18:54:12.967Z"
   },
   {
    "duration": 339,
    "start_time": "2023-03-16T18:54:26.646Z"
   },
   {
    "duration": 32,
    "start_time": "2023-03-16T18:57:53.437Z"
   },
   {
    "duration": 344,
    "start_time": "2023-03-16T18:57:59.494Z"
   },
   {
    "duration": 338,
    "start_time": "2023-03-16T18:59:10.594Z"
   },
   {
    "duration": 352,
    "start_time": "2023-03-16T19:00:00.876Z"
   },
   {
    "duration": 348,
    "start_time": "2023-03-16T19:00:11.625Z"
   },
   {
    "duration": 368,
    "start_time": "2023-03-16T19:05:01.166Z"
   },
   {
    "duration": 377,
    "start_time": "2023-03-16T19:06:04.829Z"
   },
   {
    "duration": 441,
    "start_time": "2023-03-16T19:06:38.914Z"
   },
   {
    "duration": 319,
    "start_time": "2023-03-16T19:11:51.778Z"
   },
   {
    "duration": 331,
    "start_time": "2023-03-16T19:20:23.194Z"
   },
   {
    "duration": 333,
    "start_time": "2023-03-16T19:20:41.286Z"
   },
   {
    "duration": 3,
    "start_time": "2023-03-16T19:21:23.002Z"
   },
   {
    "duration": 1075,
    "start_time": "2023-03-16T19:21:29.213Z"
   },
   {
    "duration": 85,
    "start_time": "2023-03-16T19:21:30.290Z"
   },
   {
    "duration": 16,
    "start_time": "2023-03-16T19:21:30.377Z"
   },
   {
    "duration": 30,
    "start_time": "2023-03-16T19:21:30.396Z"
   },
   {
    "duration": 33,
    "start_time": "2023-03-16T19:21:30.429Z"
   },
   {
    "duration": 22,
    "start_time": "2023-03-16T19:21:30.463Z"
   },
   {
    "duration": 33,
    "start_time": "2023-03-16T19:21:30.487Z"
   },
   {
    "duration": 29,
    "start_time": "2023-03-16T19:21:30.521Z"
   },
   {
    "duration": 389,
    "start_time": "2023-03-16T19:21:30.551Z"
   },
   {
    "duration": 341,
    "start_time": "2023-03-16T19:21:30.941Z"
   },
   {
    "duration": 355,
    "start_time": "2023-03-16T19:21:54.257Z"
   },
   {
    "duration": 328,
    "start_time": "2023-03-16T19:22:08.665Z"
   },
   {
    "duration": 361,
    "start_time": "2023-03-16T19:22:24.103Z"
   },
   {
    "duration": 10,
    "start_time": "2023-03-16T19:30:50.829Z"
   },
   {
    "duration": 1196,
    "start_time": "2023-03-16T19:31:36.125Z"
   },
   {
    "duration": 87,
    "start_time": "2023-03-16T19:31:37.323Z"
   },
   {
    "duration": 13,
    "start_time": "2023-03-16T19:31:37.412Z"
   },
   {
    "duration": 13,
    "start_time": "2023-03-16T19:31:37.427Z"
   },
   {
    "duration": 35,
    "start_time": "2023-03-16T19:31:37.441Z"
   },
   {
    "duration": 5,
    "start_time": "2023-03-16T19:31:37.478Z"
   },
   {
    "duration": 16,
    "start_time": "2023-03-16T19:31:37.484Z"
   },
   {
    "duration": 17,
    "start_time": "2023-03-16T19:31:37.502Z"
   },
   {
    "duration": 360,
    "start_time": "2023-03-16T19:31:37.521Z"
   },
   {
    "duration": 366,
    "start_time": "2023-03-16T19:31:37.883Z"
   },
   {
    "duration": 7,
    "start_time": "2023-03-16T19:32:57.706Z"
   },
   {
    "duration": 3,
    "start_time": "2023-03-16T19:33:05.457Z"
   },
   {
    "duration": 73,
    "start_time": "2023-03-16T19:33:05.813Z"
   },
   {
    "duration": 14,
    "start_time": "2023-03-16T19:33:05.994Z"
   },
   {
    "duration": 9,
    "start_time": "2023-03-16T19:33:06.192Z"
   },
   {
    "duration": 9,
    "start_time": "2023-03-16T19:33:07.754Z"
   },
   {
    "duration": 12,
    "start_time": "2023-03-16T19:33:18.846Z"
   },
   {
    "duration": 8,
    "start_time": "2023-03-16T19:34:00.996Z"
   },
   {
    "duration": 48,
    "start_time": "2023-03-17T07:23:21.177Z"
   },
   {
    "duration": 1391,
    "start_time": "2023-03-17T07:23:29.101Z"
   },
   {
    "duration": 138,
    "start_time": "2023-03-17T07:23:30.494Z"
   },
   {
    "duration": 14,
    "start_time": "2023-03-17T07:23:30.634Z"
   },
   {
    "duration": 57,
    "start_time": "2023-03-17T07:23:30.651Z"
   },
   {
    "duration": 44,
    "start_time": "2023-03-17T07:23:30.710Z"
   },
   {
    "duration": 71,
    "start_time": "2023-03-17T07:23:30.756Z"
   },
   {
    "duration": 66,
    "start_time": "2023-03-17T07:23:30.829Z"
   },
   {
    "duration": 101,
    "start_time": "2023-03-17T07:23:30.897Z"
   },
   {
    "duration": 410,
    "start_time": "2023-03-17T07:23:31.000Z"
   },
   {
    "duration": 383,
    "start_time": "2023-03-17T07:23:31.412Z"
   },
   {
    "duration": 18,
    "start_time": "2023-03-17T07:23:31.797Z"
   },
   {
    "duration": 117,
    "start_time": "2023-03-17T07:25:00.098Z"
   },
   {
    "duration": 27,
    "start_time": "2023-03-17T07:25:09.861Z"
   },
   {
    "duration": 24,
    "start_time": "2023-03-17T07:25:56.197Z"
   },
   {
    "duration": 372,
    "start_time": "2023-03-17T07:27:33.734Z"
   },
   {
    "duration": 425,
    "start_time": "2023-03-17T07:28:25.145Z"
   },
   {
    "duration": 386,
    "start_time": "2023-03-17T07:28:56.333Z"
   },
   {
    "duration": 532,
    "start_time": "2023-03-17T07:34:48.624Z"
   },
   {
    "duration": 479,
    "start_time": "2023-03-17T07:35:19.510Z"
   },
   {
    "duration": 562,
    "start_time": "2023-03-17T07:35:48.879Z"
   },
   {
    "duration": 470,
    "start_time": "2023-03-17T07:38:38.615Z"
   },
   {
    "duration": 3,
    "start_time": "2023-03-17T07:41:40.099Z"
   },
   {
    "duration": 465,
    "start_time": "2023-03-17T07:41:41.048Z"
   },
   {
    "duration": 459,
    "start_time": "2023-03-17T07:54:55.057Z"
   },
   {
    "duration": 634,
    "start_time": "2023-03-17T07:55:08.885Z"
   },
   {
    "duration": 388,
    "start_time": "2023-03-17T07:55:17.856Z"
   },
   {
    "duration": 514,
    "start_time": "2023-03-17T07:55:30.848Z"
   },
   {
    "duration": 498,
    "start_time": "2023-03-17T07:55:44.735Z"
   },
   {
    "duration": 183,
    "start_time": "2023-03-17T07:57:28.745Z"
   },
   {
    "duration": 192,
    "start_time": "2023-03-17T07:57:47.016Z"
   },
   {
    "duration": 165,
    "start_time": "2023-03-17T08:02:37.352Z"
   },
   {
    "duration": 153,
    "start_time": "2023-03-17T08:03:02.028Z"
   },
   {
    "duration": 240,
    "start_time": "2023-03-17T08:03:15.599Z"
   },
   {
    "duration": 221,
    "start_time": "2023-03-17T08:03:29.225Z"
   },
   {
    "duration": 22,
    "start_time": "2023-03-17T08:04:16.984Z"
   },
   {
    "duration": 180,
    "start_time": "2023-03-17T08:04:56.130Z"
   },
   {
    "duration": 153,
    "start_time": "2023-03-17T08:05:50.477Z"
   },
   {
    "duration": 198,
    "start_time": "2023-03-17T08:06:01.881Z"
   },
   {
    "duration": 151,
    "start_time": "2023-03-17T08:06:40.652Z"
   },
   {
    "duration": 379,
    "start_time": "2023-03-17T08:07:30.285Z"
   },
   {
    "duration": 184,
    "start_time": "2023-03-17T08:07:39.757Z"
   },
   {
    "duration": 224,
    "start_time": "2023-03-17T08:07:58.548Z"
   },
   {
    "duration": 31,
    "start_time": "2023-03-17T08:08:16.606Z"
   },
   {
    "duration": 164,
    "start_time": "2023-03-17T08:08:27.070Z"
   },
   {
    "duration": 25,
    "start_time": "2023-03-17T08:08:45.189Z"
   },
   {
    "duration": 142,
    "start_time": "2023-03-17T08:08:52.929Z"
   },
   {
    "duration": 199,
    "start_time": "2023-03-17T08:09:14.105Z"
   },
   {
    "duration": 147,
    "start_time": "2023-03-17T08:09:50.442Z"
   },
   {
    "duration": 213,
    "start_time": "2023-03-17T08:09:58.868Z"
   },
   {
    "duration": 203,
    "start_time": "2023-03-17T08:13:53.656Z"
   },
   {
    "duration": 215,
    "start_time": "2023-03-17T08:14:39.273Z"
   },
   {
    "duration": 190,
    "start_time": "2023-03-17T08:19:29.400Z"
   },
   {
    "duration": 175,
    "start_time": "2023-03-17T08:20:11.093Z"
   },
   {
    "duration": 182,
    "start_time": "2023-03-17T08:20:33.810Z"
   },
   {
    "duration": 16,
    "start_time": "2023-03-17T08:22:07.049Z"
   },
   {
    "duration": 19,
    "start_time": "2023-03-17T08:22:59.925Z"
   },
   {
    "duration": 186,
    "start_time": "2023-03-17T08:24:27.085Z"
   },
   {
    "duration": 169,
    "start_time": "2023-03-17T08:25:11.317Z"
   },
   {
    "duration": 19,
    "start_time": "2023-03-17T08:25:51.460Z"
   },
   {
    "duration": 174,
    "start_time": "2023-03-17T08:26:02.817Z"
   },
   {
    "duration": 178,
    "start_time": "2023-03-17T08:26:27.281Z"
   },
   {
    "duration": 160,
    "start_time": "2023-03-17T08:26:50.437Z"
   },
   {
    "duration": 328,
    "start_time": "2023-03-17T08:27:04.661Z"
   },
   {
    "duration": 1358,
    "start_time": "2023-03-17T08:28:57.553Z"
   },
   {
    "duration": 88,
    "start_time": "2023-03-17T08:28:58.914Z"
   },
   {
    "duration": 15,
    "start_time": "2023-03-17T08:28:59.004Z"
   },
   {
    "duration": 14,
    "start_time": "2023-03-17T08:28:59.021Z"
   },
   {
    "duration": 11,
    "start_time": "2023-03-17T08:28:59.037Z"
   },
   {
    "duration": 33,
    "start_time": "2023-03-17T08:28:59.050Z"
   },
   {
    "duration": 23,
    "start_time": "2023-03-17T08:28:59.085Z"
   },
   {
    "duration": 24,
    "start_time": "2023-03-17T08:28:59.110Z"
   },
   {
    "duration": 409,
    "start_time": "2023-03-17T08:28:59.137Z"
   },
   {
    "duration": 458,
    "start_time": "2023-03-17T08:28:59.549Z"
   },
   {
    "duration": 4,
    "start_time": "2023-03-17T08:29:00.009Z"
   },
   {
    "duration": 459,
    "start_time": "2023-03-17T08:29:00.015Z"
   },
   {
    "duration": 200,
    "start_time": "2023-03-17T08:29:00.475Z"
   },
   {
    "duration": 6,
    "start_time": "2023-03-17T08:40:55.917Z"
   },
   {
    "duration": 6,
    "start_time": "2023-03-17T08:40:58.245Z"
   },
   {
    "duration": 7,
    "start_time": "2023-03-17T08:41:55.257Z"
   },
   {
    "duration": 473,
    "start_time": "2023-03-17T08:51:36.540Z"
   },
   {
    "duration": 401,
    "start_time": "2023-03-17T08:51:46.913Z"
   },
   {
    "duration": 477,
    "start_time": "2023-03-17T08:52:53.117Z"
   },
   {
    "duration": 573,
    "start_time": "2023-03-17T08:54:06.130Z"
   },
   {
    "duration": 377,
    "start_time": "2023-03-17T08:55:30.257Z"
   },
   {
    "duration": 435,
    "start_time": "2023-03-17T08:57:13.813Z"
   },
   {
    "duration": 417,
    "start_time": "2023-03-17T08:58:04.788Z"
   },
   {
    "duration": 363,
    "start_time": "2023-03-17T08:58:19.165Z"
   },
   {
    "duration": 444,
    "start_time": "2023-03-17T08:58:53.982Z"
   },
   {
    "duration": 460,
    "start_time": "2023-03-17T08:59:16.040Z"
   },
   {
    "duration": 397,
    "start_time": "2023-03-17T09:00:29.569Z"
   },
   {
    "duration": 463,
    "start_time": "2023-03-17T09:01:20.269Z"
   },
   {
    "duration": 440,
    "start_time": "2023-03-17T09:03:16.705Z"
   },
   {
    "duration": 443,
    "start_time": "2023-03-17T09:03:33.623Z"
   },
   {
    "duration": 505,
    "start_time": "2023-03-17T09:05:57.794Z"
   },
   {
    "duration": 365,
    "start_time": "2023-03-17T09:06:32.225Z"
   },
   {
    "duration": 406,
    "start_time": "2023-03-17T09:11:46.202Z"
   },
   {
    "duration": 385,
    "start_time": "2023-03-17T09:14:55.162Z"
   },
   {
    "duration": 388,
    "start_time": "2023-03-17T09:16:24.075Z"
   },
   {
    "duration": 1419,
    "start_time": "2023-03-17T09:16:35.238Z"
   },
   {
    "duration": 86,
    "start_time": "2023-03-17T09:16:36.659Z"
   },
   {
    "duration": 13,
    "start_time": "2023-03-17T09:16:36.747Z"
   },
   {
    "duration": 30,
    "start_time": "2023-03-17T09:16:36.763Z"
   },
   {
    "duration": 10,
    "start_time": "2023-03-17T09:16:36.795Z"
   },
   {
    "duration": 10,
    "start_time": "2023-03-17T09:16:36.807Z"
   },
   {
    "duration": 46,
    "start_time": "2023-03-17T09:16:36.818Z"
   },
   {
    "duration": 21,
    "start_time": "2023-03-17T09:16:36.866Z"
   },
   {
    "duration": 399,
    "start_time": "2023-03-17T09:16:36.889Z"
   },
   {
    "duration": 572,
    "start_time": "2023-03-17T09:16:37.291Z"
   },
   {
    "duration": 4,
    "start_time": "2023-03-17T09:16:37.867Z"
   },
   {
    "duration": 453,
    "start_time": "2023-03-17T09:16:37.872Z"
   },
   {
    "duration": 187,
    "start_time": "2023-03-17T09:16:38.327Z"
   },
   {
    "duration": 348,
    "start_time": "2023-03-17T09:16:38.515Z"
   },
   {
    "duration": 394,
    "start_time": "2023-03-17T09:18:36.494Z"
   },
   {
    "duration": 470,
    "start_time": "2023-03-17T09:21:12.115Z"
   },
   {
    "duration": 5,
    "start_time": "2023-03-17T09:22:07.930Z"
   },
   {
    "duration": 358,
    "start_time": "2023-03-17T09:22:14.790Z"
   },
   {
    "duration": 420,
    "start_time": "2023-03-17T09:34:55.892Z"
   },
   {
    "duration": 434,
    "start_time": "2023-03-17T09:35:35.754Z"
   },
   {
    "duration": 369,
    "start_time": "2023-03-17T09:38:26.696Z"
   },
   {
    "duration": 429,
    "start_time": "2023-03-17T09:38:35.331Z"
   },
   {
    "duration": 489,
    "start_time": "2023-03-17T09:39:06.015Z"
   },
   {
    "duration": 146,
    "start_time": "2023-03-17T09:39:27.606Z"
   },
   {
    "duration": 17,
    "start_time": "2023-03-17T09:39:59.554Z"
   },
   {
    "duration": 414,
    "start_time": "2023-03-17T09:40:16.204Z"
   },
   {
    "duration": 447,
    "start_time": "2023-03-17T09:41:01.027Z"
   },
   {
    "duration": 458,
    "start_time": "2023-03-17T09:42:00.799Z"
   },
   {
    "duration": 1340,
    "start_time": "2023-03-17T09:42:43.315Z"
   },
   {
    "duration": 97,
    "start_time": "2023-03-17T09:42:44.657Z"
   },
   {
    "duration": 14,
    "start_time": "2023-03-17T09:42:44.756Z"
   },
   {
    "duration": 31,
    "start_time": "2023-03-17T09:42:44.772Z"
   },
   {
    "duration": 20,
    "start_time": "2023-03-17T09:42:44.805Z"
   },
   {
    "duration": 9,
    "start_time": "2023-03-17T09:42:44.828Z"
   },
   {
    "duration": 49,
    "start_time": "2023-03-17T09:42:44.839Z"
   },
   {
    "duration": 27,
    "start_time": "2023-03-17T09:42:44.890Z"
   },
   {
    "duration": 489,
    "start_time": "2023-03-17T09:42:44.919Z"
   },
   {
    "duration": 649,
    "start_time": "2023-03-17T09:42:45.414Z"
   },
   {
    "duration": 3,
    "start_time": "2023-03-17T09:42:46.066Z"
   },
   {
    "duration": 584,
    "start_time": "2023-03-17T09:42:46.072Z"
   },
   {
    "duration": 208,
    "start_time": "2023-03-17T09:42:46.658Z"
   },
   {
    "duration": 397,
    "start_time": "2023-03-17T09:42:46.869Z"
   },
   {
    "duration": 474,
    "start_time": "2023-03-17T09:42:47.268Z"
   },
   {
    "duration": 425,
    "start_time": "2023-03-17T09:43:58.393Z"
   },
   {
    "duration": 506,
    "start_time": "2023-03-17T09:44:19.842Z"
   },
   {
    "duration": 415,
    "start_time": "2023-03-17T09:45:19.171Z"
   },
   {
    "duration": 534,
    "start_time": "2023-03-17T09:46:57.743Z"
   },
   {
    "duration": 408,
    "start_time": "2023-03-17T09:48:37.200Z"
   },
   {
    "duration": 362,
    "start_time": "2023-03-17T09:50:44.899Z"
   },
   {
    "duration": 336,
    "start_time": "2023-03-17T09:53:53.906Z"
   },
   {
    "duration": 56,
    "start_time": "2023-03-17T09:56:44.251Z"
   },
   {
    "duration": 52,
    "start_time": "2023-03-17T09:58:07.760Z"
   },
   {
    "duration": 173,
    "start_time": "2023-03-17T09:58:16.975Z"
   },
   {
    "duration": 168,
    "start_time": "2023-03-17T09:59:46.999Z"
   },
   {
    "duration": 3,
    "start_time": "2023-03-17T10:04:21.996Z"
   },
   {
    "duration": 143,
    "start_time": "2023-03-17T10:09:52.899Z"
   },
   {
    "duration": 442,
    "start_time": "2023-03-17T10:14:26.428Z"
   },
   {
    "duration": 405,
    "start_time": "2023-03-17T10:15:05.283Z"
   },
   {
    "duration": 480,
    "start_time": "2023-03-17T10:15:06.176Z"
   },
   {
    "duration": 354,
    "start_time": "2023-03-17T10:16:11.515Z"
   },
   {
    "duration": 365,
    "start_time": "2023-03-17T10:16:13.928Z"
   },
   {
    "duration": 166,
    "start_time": "2023-03-17T10:16:54.331Z"
   },
   {
    "duration": 409,
    "start_time": "2023-03-17T10:17:10.159Z"
   },
   {
    "duration": 1333,
    "start_time": "2023-03-17T10:17:29.612Z"
   },
   {
    "duration": 99,
    "start_time": "2023-03-17T10:17:30.947Z"
   },
   {
    "duration": 16,
    "start_time": "2023-03-17T10:17:31.048Z"
   },
   {
    "duration": 71,
    "start_time": "2023-03-17T10:17:31.067Z"
   },
   {
    "duration": 36,
    "start_time": "2023-03-17T10:17:31.142Z"
   },
   {
    "duration": 78,
    "start_time": "2023-03-17T10:17:31.180Z"
   },
   {
    "duration": 39,
    "start_time": "2023-03-17T10:17:31.260Z"
   },
   {
    "duration": 27,
    "start_time": "2023-03-17T10:17:31.301Z"
   },
   {
    "duration": 436,
    "start_time": "2023-03-17T10:17:31.331Z"
   },
   {
    "duration": 560,
    "start_time": "2023-03-17T10:17:31.771Z"
   },
   {
    "duration": 3,
    "start_time": "2023-03-17T10:17:32.334Z"
   },
   {
    "duration": 469,
    "start_time": "2023-03-17T10:17:32.339Z"
   },
   {
    "duration": 196,
    "start_time": "2023-03-17T10:17:32.810Z"
   },
   {
    "duration": 396,
    "start_time": "2023-03-17T10:17:33.008Z"
   },
   {
    "duration": 385,
    "start_time": "2023-03-17T10:17:33.407Z"
   },
   {
    "duration": 288,
    "start_time": "2023-03-17T10:17:33.795Z"
   },
   {
    "duration": 429,
    "start_time": "2023-03-17T10:17:34.086Z"
   },
   {
    "duration": 400,
    "start_time": "2023-03-17T10:23:47.575Z"
   },
   {
    "duration": 531,
    "start_time": "2023-03-17T10:24:50.587Z"
   },
   {
    "duration": 457,
    "start_time": "2023-03-17T10:27:27.691Z"
   },
   {
    "duration": 119,
    "start_time": "2023-03-17T11:41:24.802Z"
   },
   {
    "duration": 95,
    "start_time": "2023-03-17T11:43:26.406Z"
   },
   {
    "duration": 112,
    "start_time": "2023-03-17T11:43:38.627Z"
   },
   {
    "duration": 98,
    "start_time": "2023-03-17T11:43:43.198Z"
   },
   {
    "duration": 60,
    "start_time": "2023-03-17T11:44:21.702Z"
   },
   {
    "duration": 66,
    "start_time": "2023-03-17T11:45:13.666Z"
   },
   {
    "duration": 1317,
    "start_time": "2023-03-17T11:45:38.046Z"
   },
   {
    "duration": 94,
    "start_time": "2023-03-17T11:45:39.366Z"
   },
   {
    "duration": 17,
    "start_time": "2023-03-17T11:45:39.463Z"
   },
   {
    "duration": 16,
    "start_time": "2023-03-17T11:45:39.483Z"
   },
   {
    "duration": 11,
    "start_time": "2023-03-17T11:45:39.501Z"
   },
   {
    "duration": 6,
    "start_time": "2023-03-17T11:45:39.514Z"
   },
   {
    "duration": 19,
    "start_time": "2023-03-17T11:45:39.521Z"
   },
   {
    "duration": 51,
    "start_time": "2023-03-17T11:45:39.542Z"
   },
   {
    "duration": 421,
    "start_time": "2023-03-17T11:45:39.595Z"
   },
   {
    "duration": 516,
    "start_time": "2023-03-17T11:45:40.019Z"
   },
   {
    "duration": 3,
    "start_time": "2023-03-17T11:45:40.537Z"
   },
   {
    "duration": 403,
    "start_time": "2023-03-17T11:45:40.543Z"
   },
   {
    "duration": 194,
    "start_time": "2023-03-17T11:45:40.948Z"
   },
   {
    "duration": 407,
    "start_time": "2023-03-17T11:45:41.144Z"
   },
   {
    "duration": 469,
    "start_time": "2023-03-17T11:45:41.553Z"
   },
   {
    "duration": 307,
    "start_time": "2023-03-17T11:45:42.024Z"
   },
   {
    "duration": 490,
    "start_time": "2023-03-17T11:45:42.334Z"
   },
   {
    "duration": 518,
    "start_time": "2023-03-17T11:45:42.827Z"
   },
   {
    "duration": 86,
    "start_time": "2023-03-17T11:45:43.347Z"
   },
   {
    "duration": 281,
    "start_time": "2023-03-17T11:45:51.626Z"
   },
   {
    "duration": 212,
    "start_time": "2023-03-17T11:46:15.506Z"
   },
   {
    "duration": 61,
    "start_time": "2023-03-17T11:47:26.542Z"
   },
   {
    "duration": 21,
    "start_time": "2023-03-17T11:47:38.344Z"
   },
   {
    "duration": 152,
    "start_time": "2023-03-17T11:52:35.166Z"
   },
   {
    "duration": 183,
    "start_time": "2023-03-17T11:53:07.686Z"
   },
   {
    "duration": 213,
    "start_time": "2023-03-17T11:53:46.402Z"
   },
   {
    "duration": 238,
    "start_time": "2023-03-17T11:55:00.101Z"
   },
   {
    "duration": 236,
    "start_time": "2023-03-17T11:56:13.754Z"
   },
   {
    "duration": 298,
    "start_time": "2023-03-17T11:57:47.042Z"
   },
   {
    "duration": 332,
    "start_time": "2023-03-17T11:58:29.318Z"
   },
   {
    "duration": 253,
    "start_time": "2023-03-17T11:58:58.354Z"
   },
   {
    "duration": 266,
    "start_time": "2023-03-17T11:59:41.399Z"
   },
   {
    "duration": 260,
    "start_time": "2023-03-17T12:00:02.152Z"
   },
   {
    "duration": 65,
    "start_time": "2023-03-17T12:00:27.662Z"
   },
   {
    "duration": 170,
    "start_time": "2023-03-17T12:00:35.805Z"
   },
   {
    "duration": 343,
    "start_time": "2023-03-17T12:01:16.034Z"
   },
   {
    "duration": 231,
    "start_time": "2023-03-17T12:02:09.242Z"
   },
   {
    "duration": 288,
    "start_time": "2023-03-17T12:02:22.070Z"
   },
   {
    "duration": 373,
    "start_time": "2023-03-17T12:04:45.892Z"
   },
   {
    "duration": 259,
    "start_time": "2023-03-17T12:04:58.498Z"
   },
   {
    "duration": 1331,
    "start_time": "2023-03-17T12:05:08.196Z"
   },
   {
    "duration": 93,
    "start_time": "2023-03-17T12:05:09.529Z"
   },
   {
    "duration": 15,
    "start_time": "2023-03-17T12:05:09.624Z"
   },
   {
    "duration": 19,
    "start_time": "2023-03-17T12:05:09.640Z"
   },
   {
    "duration": 34,
    "start_time": "2023-03-17T12:05:09.661Z"
   },
   {
    "duration": 6,
    "start_time": "2023-03-17T12:05:09.697Z"
   },
   {
    "duration": 22,
    "start_time": "2023-03-17T12:05:09.705Z"
   },
   {
    "duration": 19,
    "start_time": "2023-03-17T12:05:09.729Z"
   },
   {
    "duration": 442,
    "start_time": "2023-03-17T12:05:09.750Z"
   },
   {
    "duration": 525,
    "start_time": "2023-03-17T12:05:10.194Z"
   },
   {
    "duration": 3,
    "start_time": "2023-03-17T12:05:10.722Z"
   },
   {
    "duration": 464,
    "start_time": "2023-03-17T12:05:10.727Z"
   },
   {
    "duration": 186,
    "start_time": "2023-03-17T12:05:11.193Z"
   },
   {
    "duration": 352,
    "start_time": "2023-03-17T12:05:11.382Z"
   },
   {
    "duration": 482,
    "start_time": "2023-03-17T12:05:11.736Z"
   },
   {
    "duration": 186,
    "start_time": "2023-03-17T12:05:12.220Z"
   },
   {
    "duration": 426,
    "start_time": "2023-03-17T12:05:12.407Z"
   },
   {
    "duration": 485,
    "start_time": "2023-03-17T12:05:12.835Z"
   },
   {
    "duration": 278,
    "start_time": "2023-03-17T12:05:13.323Z"
   },
   {
    "duration": 143,
    "start_time": "2023-03-17T12:16:00.678Z"
   },
   {
    "duration": 32,
    "start_time": "2023-03-17T12:16:17.223Z"
   },
   {
    "duration": 1388,
    "start_time": "2023-03-17T12:17:27.051Z"
   },
   {
    "duration": 91,
    "start_time": "2023-03-17T12:17:28.441Z"
   },
   {
    "duration": 15,
    "start_time": "2023-03-17T12:17:28.533Z"
   },
   {
    "duration": 15,
    "start_time": "2023-03-17T12:17:28.550Z"
   },
   {
    "duration": 11,
    "start_time": "2023-03-17T12:17:28.589Z"
   },
   {
    "duration": 9,
    "start_time": "2023-03-17T12:17:28.602Z"
   },
   {
    "duration": 39,
    "start_time": "2023-03-17T12:17:28.612Z"
   },
   {
    "duration": 20,
    "start_time": "2023-03-17T12:17:28.653Z"
   },
   {
    "duration": 407,
    "start_time": "2023-03-17T12:17:28.675Z"
   },
   {
    "duration": 547,
    "start_time": "2023-03-17T12:17:29.084Z"
   },
   {
    "duration": 3,
    "start_time": "2023-03-17T12:17:29.632Z"
   },
   {
    "duration": 517,
    "start_time": "2023-03-17T12:17:29.637Z"
   },
   {
    "duration": 198,
    "start_time": "2023-03-17T12:17:30.156Z"
   },
   {
    "duration": 371,
    "start_time": "2023-03-17T12:17:30.357Z"
   },
   {
    "duration": 393,
    "start_time": "2023-03-17T12:17:30.730Z"
   },
   {
    "duration": 289,
    "start_time": "2023-03-17T12:17:31.124Z"
   },
   {
    "duration": 483,
    "start_time": "2023-03-17T12:17:31.416Z"
   },
   {
    "duration": 521,
    "start_time": "2023-03-17T12:17:31.902Z"
   },
   {
    "duration": 314,
    "start_time": "2023-03-17T12:17:32.426Z"
   },
   {
    "duration": 156,
    "start_time": "2023-03-17T12:17:32.742Z"
   },
   {
    "duration": 25,
    "start_time": "2023-03-17T12:19:35.770Z"
   },
   {
    "duration": 22,
    "start_time": "2023-03-17T12:19:41.298Z"
   },
   {
    "duration": 1229,
    "start_time": "2023-03-17T12:20:03.519Z"
   },
   {
    "duration": 85,
    "start_time": "2023-03-17T12:20:04.750Z"
   },
   {
    "duration": 16,
    "start_time": "2023-03-17T12:20:04.837Z"
   },
   {
    "duration": 29,
    "start_time": "2023-03-17T12:20:04.855Z"
   },
   {
    "duration": 9,
    "start_time": "2023-03-17T12:20:04.886Z"
   },
   {
    "duration": 60,
    "start_time": "2023-03-17T12:20:04.897Z"
   },
   {
    "duration": 28,
    "start_time": "2023-03-17T12:20:04.959Z"
   },
   {
    "duration": 35,
    "start_time": "2023-03-17T12:20:04.988Z"
   },
   {
    "duration": 442,
    "start_time": "2023-03-17T12:20:05.025Z"
   },
   {
    "duration": 601,
    "start_time": "2023-03-17T12:20:05.470Z"
   },
   {
    "duration": 4,
    "start_time": "2023-03-17T12:20:06.073Z"
   },
   {
    "duration": 438,
    "start_time": "2023-03-17T12:20:06.079Z"
   },
   {
    "duration": 195,
    "start_time": "2023-03-17T12:20:06.519Z"
   },
   {
    "duration": 356,
    "start_time": "2023-03-17T12:20:06.716Z"
   },
   {
    "duration": 482,
    "start_time": "2023-03-17T12:20:07.073Z"
   },
   {
    "duration": 196,
    "start_time": "2023-03-17T12:20:07.557Z"
   },
   {
    "duration": 446,
    "start_time": "2023-03-17T12:20:07.755Z"
   },
   {
    "duration": 473,
    "start_time": "2023-03-17T12:20:08.203Z"
   },
   {
    "duration": 315,
    "start_time": "2023-03-17T12:20:08.680Z"
   },
   {
    "duration": 138,
    "start_time": "2023-03-17T12:20:08.998Z"
   },
   {
    "duration": 26,
    "start_time": "2023-03-17T12:22:07.431Z"
   },
   {
    "duration": 27,
    "start_time": "2023-03-17T12:22:31.601Z"
   },
   {
    "duration": 1403,
    "start_time": "2023-03-17T12:23:25.306Z"
   },
   {
    "duration": 119,
    "start_time": "2023-03-17T12:23:26.714Z"
   },
   {
    "duration": 15,
    "start_time": "2023-03-17T12:23:26.835Z"
   },
   {
    "duration": 43,
    "start_time": "2023-03-17T12:23:26.852Z"
   },
   {
    "duration": 17,
    "start_time": "2023-03-17T12:23:26.897Z"
   },
   {
    "duration": 7,
    "start_time": "2023-03-17T12:23:26.916Z"
   },
   {
    "duration": 26,
    "start_time": "2023-03-17T12:23:26.925Z"
   },
   {
    "duration": 44,
    "start_time": "2023-03-17T12:23:26.953Z"
   },
   {
    "duration": 441,
    "start_time": "2023-03-17T12:23:26.999Z"
   },
   {
    "duration": 536,
    "start_time": "2023-03-17T12:23:27.443Z"
   },
   {
    "duration": 3,
    "start_time": "2023-03-17T12:23:27.982Z"
   },
   {
    "duration": 457,
    "start_time": "2023-03-17T12:23:27.987Z"
   },
   {
    "duration": 195,
    "start_time": "2023-03-17T12:23:28.446Z"
   },
   {
    "duration": 368,
    "start_time": "2023-03-17T12:23:28.643Z"
   },
   {
    "duration": 373,
    "start_time": "2023-03-17T12:23:29.013Z"
   },
   {
    "duration": 313,
    "start_time": "2023-03-17T12:23:29.389Z"
   },
   {
    "duration": 457,
    "start_time": "2023-03-17T12:23:29.705Z"
   },
   {
    "duration": 556,
    "start_time": "2023-03-17T12:23:30.164Z"
   },
   {
    "duration": 349,
    "start_time": "2023-03-17T12:23:30.723Z"
   },
   {
    "duration": 139,
    "start_time": "2023-03-17T12:23:31.087Z"
   },
   {
    "duration": 24,
    "start_time": "2023-03-17T12:24:11.974Z"
   },
   {
    "duration": 33,
    "start_time": "2023-03-17T12:24:23.734Z"
   },
   {
    "duration": 24,
    "start_time": "2023-03-17T12:26:57.185Z"
   },
   {
    "duration": 37,
    "start_time": "2023-03-17T12:32:48.254Z"
   },
   {
    "duration": 21,
    "start_time": "2023-03-17T12:33:51.130Z"
   },
   {
    "duration": 13,
    "start_time": "2023-03-17T12:33:58.766Z"
   },
   {
    "duration": 15,
    "start_time": "2023-03-17T13:10:40.538Z"
   },
   {
    "duration": 18,
    "start_time": "2023-03-17T13:13:27.442Z"
   },
   {
    "duration": 17,
    "start_time": "2023-03-17T13:14:21.403Z"
   },
   {
    "duration": 827,
    "start_time": "2023-03-17T13:17:32.353Z"
   },
   {
    "duration": 19,
    "start_time": "2023-03-17T13:17:59.618Z"
   },
   {
    "duration": 26,
    "start_time": "2023-03-17T13:18:20.350Z"
   },
   {
    "duration": 15,
    "start_time": "2023-03-17T13:23:24.902Z"
   },
   {
    "duration": 28,
    "start_time": "2023-03-17T13:23:27.141Z"
   },
   {
    "duration": 19,
    "start_time": "2023-03-17T13:26:38.999Z"
   },
   {
    "duration": 32,
    "start_time": "2023-03-17T13:27:23.665Z"
   },
   {
    "duration": 550,
    "start_time": "2023-03-17T15:37:55.707Z"
   },
   {
    "duration": 529,
    "start_time": "2023-03-17T15:38:39.935Z"
   },
   {
    "duration": 498,
    "start_time": "2023-03-17T15:38:58.196Z"
   },
   {
    "duration": 324,
    "start_time": "2023-03-17T16:04:45.259Z"
   },
   {
    "duration": 1393,
    "start_time": "2023-03-17T16:05:33.182Z"
   },
   {
    "duration": 119,
    "start_time": "2023-03-17T16:05:34.577Z"
   },
   {
    "duration": 16,
    "start_time": "2023-03-17T16:05:34.702Z"
   },
   {
    "duration": 28,
    "start_time": "2023-03-17T16:05:34.722Z"
   },
   {
    "duration": 12,
    "start_time": "2023-03-17T16:05:34.751Z"
   },
   {
    "duration": 34,
    "start_time": "2023-03-17T16:05:34.764Z"
   },
   {
    "duration": 27,
    "start_time": "2023-03-17T16:05:34.800Z"
   },
   {
    "duration": 479,
    "start_time": "2023-03-17T16:05:34.829Z"
   },
   {
    "duration": 559,
    "start_time": "2023-03-17T16:05:35.312Z"
   },
   {
    "duration": 528,
    "start_time": "2023-03-17T16:05:35.874Z"
   },
   {
    "duration": 203,
    "start_time": "2023-03-17T16:05:36.403Z"
   },
   {
    "duration": 53,
    "start_time": "2023-03-17T16:05:36.608Z"
   },
   {
    "duration": 0,
    "start_time": "2023-03-17T16:05:36.663Z"
   },
   {
    "duration": 0,
    "start_time": "2023-03-17T16:05:36.664Z"
   },
   {
    "duration": 0,
    "start_time": "2023-03-17T16:05:36.665Z"
   },
   {
    "duration": 0,
    "start_time": "2023-03-17T16:05:36.666Z"
   },
   {
    "duration": 0,
    "start_time": "2023-03-17T16:05:36.667Z"
   },
   {
    "duration": 0,
    "start_time": "2023-03-17T16:05:36.668Z"
   },
   {
    "duration": 0,
    "start_time": "2023-03-17T16:05:36.669Z"
   },
   {
    "duration": 0,
    "start_time": "2023-03-17T16:05:36.670Z"
   },
   {
    "duration": 363,
    "start_time": "2023-03-17T16:19:13.106Z"
   },
   {
    "duration": 374,
    "start_time": "2023-03-17T16:19:24.506Z"
   },
   {
    "duration": 280,
    "start_time": "2023-03-17T16:36:49.242Z"
   },
   {
    "duration": 410,
    "start_time": "2023-03-17T16:50:58.358Z"
   },
   {
    "duration": 473,
    "start_time": "2023-03-17T17:03:06.076Z"
   },
   {
    "duration": 261,
    "start_time": "2023-03-17T17:09:08.567Z"
   },
   {
    "duration": 12,
    "start_time": "2023-03-17T17:28:43.052Z"
   },
   {
    "duration": 66,
    "start_time": "2023-03-17T17:41:08.572Z"
   },
   {
    "duration": 19,
    "start_time": "2023-03-17T17:43:36.344Z"
   },
   {
    "duration": 23,
    "start_time": "2023-03-17T17:44:10.863Z"
   },
   {
    "duration": 15,
    "start_time": "2023-03-17T17:44:23.301Z"
   },
   {
    "duration": 13,
    "start_time": "2023-03-17T17:45:36.479Z"
   },
   {
    "duration": 13,
    "start_time": "2023-03-17T17:45:41.543Z"
   },
   {
    "duration": 12,
    "start_time": "2023-03-17T17:45:47.055Z"
   },
   {
    "duration": 113,
    "start_time": "2023-03-17T17:45:52.036Z"
   },
   {
    "duration": 12,
    "start_time": "2023-03-17T17:46:05.604Z"
   },
   {
    "duration": 14,
    "start_time": "2023-03-17T17:46:11.960Z"
   },
   {
    "duration": 11,
    "start_time": "2023-03-17T17:46:20.468Z"
   },
   {
    "duration": 12,
    "start_time": "2023-03-17T17:46:41.260Z"
   },
   {
    "duration": 11,
    "start_time": "2023-03-17T17:46:47.599Z"
   },
   {
    "duration": 11,
    "start_time": "2023-03-17T17:46:53.936Z"
   },
   {
    "duration": 12,
    "start_time": "2023-03-17T17:46:58.028Z"
   },
   {
    "duration": 11,
    "start_time": "2023-03-17T17:47:04.308Z"
   },
   {
    "duration": 13,
    "start_time": "2023-03-17T17:47:10.312Z"
   },
   {
    "duration": 12,
    "start_time": "2023-03-17T17:47:19.091Z"
   },
   {
    "duration": 38,
    "start_time": "2023-03-17T18:10:50.111Z"
   },
   {
    "duration": 1194,
    "start_time": "2023-03-17T18:11:02.726Z"
   },
   {
    "duration": 92,
    "start_time": "2023-03-17T18:11:03.922Z"
   },
   {
    "duration": 12,
    "start_time": "2023-03-17T18:11:04.016Z"
   },
   {
    "duration": 12,
    "start_time": "2023-03-17T18:11:04.031Z"
   },
   {
    "duration": 11,
    "start_time": "2023-03-17T18:11:04.045Z"
   },
   {
    "duration": 50,
    "start_time": "2023-03-17T18:11:04.058Z"
   },
   {
    "duration": 16,
    "start_time": "2023-03-17T18:11:04.110Z"
   },
   {
    "duration": 401,
    "start_time": "2023-03-17T18:11:04.128Z"
   },
   {
    "duration": 517,
    "start_time": "2023-03-17T18:11:04.530Z"
   },
   {
    "duration": 473,
    "start_time": "2023-03-17T18:11:05.050Z"
   },
   {
    "duration": 199,
    "start_time": "2023-03-17T18:11:05.525Z"
   },
   {
    "duration": 427,
    "start_time": "2023-03-17T18:11:05.726Z"
   },
   {
    "duration": 432,
    "start_time": "2023-03-17T18:11:06.155Z"
   },
   {
    "duration": 300,
    "start_time": "2023-03-17T18:11:06.588Z"
   },
   {
    "duration": 460,
    "start_time": "2023-03-17T18:11:06.891Z"
   },
   {
    "duration": 513,
    "start_time": "2023-03-17T18:11:07.353Z"
   },
   {
    "duration": 357,
    "start_time": "2023-03-17T18:11:07.869Z"
   },
   {
    "duration": 41,
    "start_time": "2023-03-17T18:11:08.228Z"
   },
   {
    "duration": 0,
    "start_time": "2023-03-17T18:11:08.271Z"
   },
   {
    "duration": 0,
    "start_time": "2023-03-17T18:11:08.272Z"
   },
   {
    "duration": 1215,
    "start_time": "2023-03-17T18:29:00.978Z"
   },
   {
    "duration": 92,
    "start_time": "2023-03-17T18:29:02.199Z"
   },
   {
    "duration": 14,
    "start_time": "2023-03-17T18:29:02.293Z"
   },
   {
    "duration": 41,
    "start_time": "2023-03-17T18:29:02.309Z"
   },
   {
    "duration": 22,
    "start_time": "2023-03-17T18:29:02.352Z"
   },
   {
    "duration": 46,
    "start_time": "2023-03-17T18:29:02.376Z"
   },
   {
    "duration": 34,
    "start_time": "2023-03-17T18:29:02.424Z"
   },
   {
    "duration": 400,
    "start_time": "2023-03-17T18:29:02.460Z"
   },
   {
    "duration": 505,
    "start_time": "2023-03-17T18:29:02.862Z"
   },
   {
    "duration": 392,
    "start_time": "2023-03-17T18:29:03.370Z"
   },
   {
    "duration": 168,
    "start_time": "2023-03-17T18:29:03.764Z"
   },
   {
    "duration": 333,
    "start_time": "2023-03-17T18:29:03.934Z"
   },
   {
    "duration": 356,
    "start_time": "2023-03-17T18:29:04.268Z"
   },
   {
    "duration": 274,
    "start_time": "2023-03-17T18:29:04.626Z"
   },
   {
    "duration": 451,
    "start_time": "2023-03-17T18:29:04.902Z"
   },
   {
    "duration": 488,
    "start_time": "2023-03-17T18:29:05.355Z"
   },
   {
    "duration": 351,
    "start_time": "2023-03-17T18:29:05.846Z"
   },
   {
    "duration": 11,
    "start_time": "2023-03-17T18:29:06.199Z"
   },
   {
    "duration": 11,
    "start_time": "2023-03-17T18:29:06.212Z"
   },
   {
    "duration": 1058,
    "start_time": "2023-03-17T18:59:06.179Z"
   },
   {
    "duration": 75,
    "start_time": "2023-03-17T18:59:07.239Z"
   },
   {
    "duration": 12,
    "start_time": "2023-03-17T18:59:07.315Z"
   },
   {
    "duration": 12,
    "start_time": "2023-03-17T18:59:07.328Z"
   },
   {
    "duration": 9,
    "start_time": "2023-03-17T18:59:07.342Z"
   },
   {
    "duration": 16,
    "start_time": "2023-03-17T18:59:07.352Z"
   },
   {
    "duration": 14,
    "start_time": "2023-03-17T18:59:07.369Z"
   },
   {
    "duration": 362,
    "start_time": "2023-03-17T18:59:07.384Z"
   },
   {
    "duration": 376,
    "start_time": "2023-03-17T18:59:07.748Z"
   },
   {
    "duration": 323,
    "start_time": "2023-03-17T18:59:08.126Z"
   },
   {
    "duration": 141,
    "start_time": "2023-03-17T18:59:08.450Z"
   },
   {
    "duration": 281,
    "start_time": "2023-03-17T18:59:08.592Z"
   },
   {
    "duration": 286,
    "start_time": "2023-03-17T18:59:08.875Z"
   },
   {
    "duration": 199,
    "start_time": "2023-03-17T18:59:09.163Z"
   },
   {
    "duration": 318,
    "start_time": "2023-03-17T18:59:09.364Z"
   },
   {
    "duration": 365,
    "start_time": "2023-03-17T18:59:09.684Z"
   },
   {
    "duration": 224,
    "start_time": "2023-03-17T18:59:10.050Z"
   },
   {
    "duration": 9,
    "start_time": "2023-03-17T18:59:10.275Z"
   },
   {
    "duration": 9,
    "start_time": "2023-03-17T18:59:10.285Z"
   },
   {
    "duration": 90,
    "start_time": "2023-03-17T20:47:32.390Z"
   },
   {
    "duration": 8,
    "start_time": "2023-03-17T20:55:29.936Z"
   },
   {
    "duration": 10,
    "start_time": "2023-03-17T20:55:54.476Z"
   },
   {
    "duration": 7,
    "start_time": "2023-03-17T20:59:10.382Z"
   },
   {
    "duration": 4,
    "start_time": "2023-03-17T21:01:32.143Z"
   },
   {
    "duration": 32,
    "start_time": "2023-03-17T21:02:44.495Z"
   },
   {
    "duration": 5,
    "start_time": "2023-03-17T21:02:58.813Z"
   },
   {
    "duration": 55,
    "start_time": "2023-03-18T06:55:49.301Z"
   },
   {
    "duration": 1395,
    "start_time": "2023-03-18T06:55:56.828Z"
   },
   {
    "duration": 136,
    "start_time": "2023-03-18T06:55:58.226Z"
   },
   {
    "duration": 17,
    "start_time": "2023-03-18T06:55:58.364Z"
   },
   {
    "duration": 34,
    "start_time": "2023-03-18T06:55:58.384Z"
   },
   {
    "duration": 28,
    "start_time": "2023-03-18T06:55:58.420Z"
   },
   {
    "duration": 37,
    "start_time": "2023-03-18T06:55:58.450Z"
   },
   {
    "duration": 21,
    "start_time": "2023-03-18T06:55:58.489Z"
   },
   {
    "duration": 109,
    "start_time": "2023-03-18T06:55:58.513Z"
   },
   {
    "duration": 477,
    "start_time": "2023-03-18T06:55:58.624Z"
   },
   {
    "duration": 561,
    "start_time": "2023-03-18T06:55:59.106Z"
   },
   {
    "duration": 424,
    "start_time": "2023-03-18T06:55:59.669Z"
   },
   {
    "duration": 197,
    "start_time": "2023-03-18T06:56:00.095Z"
   },
   {
    "duration": 20,
    "start_time": "2023-03-18T06:56:00.295Z"
   },
   {
    "duration": 429,
    "start_time": "2023-03-18T06:56:00.318Z"
   },
   {
    "duration": 384,
    "start_time": "2023-03-18T06:56:00.750Z"
   },
   {
    "duration": 253,
    "start_time": "2023-03-18T06:56:01.136Z"
   },
   {
    "duration": 8,
    "start_time": "2023-03-18T06:56:01.391Z"
   },
   {
    "duration": 491,
    "start_time": "2023-03-18T06:56:01.401Z"
   },
   {
    "duration": 523,
    "start_time": "2023-03-18T06:56:01.894Z"
   },
   {
    "duration": 6,
    "start_time": "2023-03-18T06:56:02.419Z"
   },
   {
    "duration": 405,
    "start_time": "2023-03-18T06:56:02.427Z"
   },
   {
    "duration": 15,
    "start_time": "2023-03-18T06:56:02.835Z"
   },
   {
    "duration": 47,
    "start_time": "2023-03-18T06:56:02.852Z"
   },
   {
    "duration": 56,
    "start_time": "2023-03-18T07:01:09.450Z"
   },
   {
    "duration": 58,
    "start_time": "2023-03-18T10:03:12.624Z"
   },
   {
    "duration": 1596,
    "start_time": "2023-03-18T10:03:21.079Z"
   },
   {
    "duration": 274,
    "start_time": "2023-03-18T10:03:22.677Z"
   },
   {
    "duration": 16,
    "start_time": "2023-03-18T10:03:29.447Z"
   },
   {
    "duration": 12,
    "start_time": "2023-03-18T10:03:31.863Z"
   },
   {
    "duration": 13,
    "start_time": "2023-03-18T10:03:59.418Z"
   },
   {
    "duration": 14,
    "start_time": "2023-03-18T10:04:11.167Z"
   },
   {
    "duration": 30,
    "start_time": "2023-03-18T10:04:17.413Z"
   },
   {
    "duration": 31,
    "start_time": "2023-03-18T10:05:29.791Z"
   },
   {
    "duration": 3,
    "start_time": "2023-03-18T10:05:36.467Z"
   },
   {
    "duration": 82,
    "start_time": "2023-03-18T10:05:37.535Z"
   },
   {
    "duration": 14,
    "start_time": "2023-03-18T10:05:40.263Z"
   },
   {
    "duration": 75,
    "start_time": "2023-03-18T10:05:42.368Z"
   },
   {
    "duration": 6,
    "start_time": "2023-03-18T10:06:14.316Z"
   },
   {
    "duration": 74,
    "start_time": "2023-03-18T10:06:15.613Z"
   },
   {
    "duration": 13,
    "start_time": "2023-03-18T10:06:18.069Z"
   },
   {
    "duration": 19,
    "start_time": "2023-03-18T10:06:20.717Z"
   },
   {
    "duration": 13,
    "start_time": "2023-03-18T10:07:29.411Z"
   },
   {
    "duration": 12,
    "start_time": "2023-03-18T10:12:05.943Z"
   },
   {
    "duration": 10,
    "start_time": "2023-03-18T10:20:48.604Z"
   },
   {
    "duration": 27,
    "start_time": "2023-03-18T10:22:07.632Z"
   },
   {
    "duration": 20,
    "start_time": "2023-03-18T10:22:14.834Z"
   },
   {
    "duration": 10,
    "start_time": "2023-03-18T10:23:37.723Z"
   },
   {
    "duration": 81,
    "start_time": "2023-03-18T10:25:43.196Z"
   },
   {
    "duration": 20,
    "start_time": "2023-03-18T10:26:00.645Z"
   },
   {
    "duration": 15,
    "start_time": "2023-03-18T10:26:40.264Z"
   },
   {
    "duration": 70,
    "start_time": "2023-03-18T10:29:09.722Z"
   },
   {
    "duration": 95,
    "start_time": "2023-03-18T10:29:54.936Z"
   },
   {
    "duration": 17,
    "start_time": "2023-03-18T10:35:44.800Z"
   },
   {
    "duration": 454,
    "start_time": "2023-03-18T10:35:56.522Z"
   },
   {
    "duration": 512,
    "start_time": "2023-03-18T10:36:02.040Z"
   },
   {
    "duration": 441,
    "start_time": "2023-03-18T10:36:12.381Z"
   },
   {
    "duration": 322,
    "start_time": "2023-03-18T10:36:14.913Z"
   },
   {
    "duration": 479,
    "start_time": "2023-03-18T10:39:39.383Z"
   },
   {
    "duration": 304,
    "start_time": "2023-03-18T10:40:15.825Z"
   },
   {
    "duration": 25,
    "start_time": "2023-03-18T10:40:44.695Z"
   },
   {
    "duration": 21,
    "start_time": "2023-03-18T10:42:09.552Z"
   },
   {
    "duration": 18,
    "start_time": "2023-03-18T10:46:32.984Z"
   },
   {
    "duration": 9,
    "start_time": "2023-03-18T10:47:44.528Z"
   },
   {
    "duration": 6,
    "start_time": "2023-03-18T10:48:08.360Z"
   },
   {
    "duration": 17,
    "start_time": "2023-03-18T10:49:46.191Z"
   },
   {
    "duration": 8,
    "start_time": "2023-03-18T10:50:25.556Z"
   },
   {
    "duration": 16,
    "start_time": "2023-03-18T10:50:32.392Z"
   },
   {
    "duration": 10,
    "start_time": "2023-03-18T10:50:41.856Z"
   },
   {
    "duration": 14,
    "start_time": "2023-03-18T10:51:23.656Z"
   },
   {
    "duration": 4,
    "start_time": "2023-03-18T10:51:55.285Z"
   },
   {
    "duration": 12,
    "start_time": "2023-03-18T10:51:59.884Z"
   },
   {
    "duration": 9,
    "start_time": "2023-03-18T10:52:15.448Z"
   },
   {
    "duration": 6,
    "start_time": "2023-03-18T10:52:36.282Z"
   },
   {
    "duration": 9,
    "start_time": "2023-03-18T10:52:41.620Z"
   },
   {
    "duration": 264,
    "start_time": "2023-03-18T10:53:01.316Z"
   },
   {
    "duration": 243,
    "start_time": "2023-03-18T10:53:20.848Z"
   },
   {
    "duration": 12,
    "start_time": "2023-03-18T10:53:58.656Z"
   },
   {
    "duration": 19,
    "start_time": "2023-03-18T10:55:02.628Z"
   },
   {
    "duration": 23,
    "start_time": "2023-03-18T10:55:11.696Z"
   },
   {
    "duration": 23,
    "start_time": "2023-03-18T10:55:28.753Z"
   },
   {
    "duration": 360,
    "start_time": "2023-03-18T10:58:10.200Z"
   },
   {
    "duration": 44,
    "start_time": "2023-03-20T08:15:59.289Z"
   },
   {
    "duration": 1362,
    "start_time": "2023-03-20T08:16:09.017Z"
   },
   {
    "duration": 218,
    "start_time": "2023-03-20T08:16:10.381Z"
   },
   {
    "duration": 12,
    "start_time": "2023-03-20T08:16:10.601Z"
   },
   {
    "duration": 15,
    "start_time": "2023-03-20T08:16:10.615Z"
   },
   {
    "duration": 9,
    "start_time": "2023-03-20T08:16:10.631Z"
   },
   {
    "duration": 19,
    "start_time": "2023-03-20T08:16:10.642Z"
   },
   {
    "duration": 43,
    "start_time": "2023-03-20T08:16:10.663Z"
   },
   {
    "duration": 93,
    "start_time": "2023-03-20T08:16:10.708Z"
   },
   {
    "duration": 359,
    "start_time": "2023-03-20T08:16:10.803Z"
   },
   {
    "duration": 454,
    "start_time": "2023-03-20T08:16:11.164Z"
   },
   {
    "duration": 364,
    "start_time": "2023-03-20T08:16:11.620Z"
   },
   {
    "duration": 260,
    "start_time": "2023-03-20T08:16:11.989Z"
   },
   {
    "duration": 13,
    "start_time": "2023-03-20T08:16:12.251Z"
   },
   {
    "duration": 322,
    "start_time": "2023-03-20T08:16:12.266Z"
   },
   {
    "duration": 406,
    "start_time": "2023-03-20T08:16:12.590Z"
   },
   {
    "duration": 166,
    "start_time": "2023-03-20T08:16:12.997Z"
   },
   {
    "duration": 7,
    "start_time": "2023-03-20T08:16:13.165Z"
   },
   {
    "duration": 375,
    "start_time": "2023-03-20T08:16:13.189Z"
   },
   {
    "duration": 413,
    "start_time": "2023-03-20T08:16:13.566Z"
   },
   {
    "duration": 4,
    "start_time": "2023-03-20T08:16:13.988Z"
   },
   {
    "duration": 252,
    "start_time": "2023-03-20T08:16:13.993Z"
   },
   {
    "duration": 10,
    "start_time": "2023-03-20T08:16:14.247Z"
   },
   {
    "duration": 10,
    "start_time": "2023-03-20T08:16:14.259Z"
   },
   {
    "duration": 377,
    "start_time": "2023-03-20T08:19:26.561Z"
   },
   {
    "duration": 270,
    "start_time": "2023-03-20T08:19:58.682Z"
   },
   {
    "duration": 459,
    "start_time": "2023-03-20T08:34:02.338Z"
   },
   {
    "duration": 422,
    "start_time": "2023-03-20T08:34:19.826Z"
   },
   {
    "duration": 317,
    "start_time": "2023-03-20T08:34:39.839Z"
   },
   {
    "duration": 279,
    "start_time": "2023-03-20T08:41:21.810Z"
   },
   {
    "duration": 281,
    "start_time": "2023-03-20T08:41:46.322Z"
   },
   {
    "duration": 359,
    "start_time": "2023-03-20T08:42:43.174Z"
   },
   {
    "duration": 244,
    "start_time": "2023-03-20T08:43:53.360Z"
   },
   {
    "duration": 255,
    "start_time": "2023-03-20T08:44:03.346Z"
   },
   {
    "duration": 407,
    "start_time": "2023-03-20T08:44:24.806Z"
   },
   {
    "duration": 275,
    "start_time": "2023-03-20T08:44:38.222Z"
   },
   {
    "duration": 311,
    "start_time": "2023-03-20T08:46:03.621Z"
   },
   {
    "duration": 1168,
    "start_time": "2023-03-20T08:47:11.801Z"
   },
   {
    "duration": 86,
    "start_time": "2023-03-20T08:47:12.972Z"
   },
   {
    "duration": 13,
    "start_time": "2023-03-20T08:47:13.060Z"
   },
   {
    "duration": 17,
    "start_time": "2023-03-20T08:47:13.076Z"
   },
   {
    "duration": 11,
    "start_time": "2023-03-20T08:47:13.095Z"
   },
   {
    "duration": 20,
    "start_time": "2023-03-20T08:47:13.107Z"
   },
   {
    "duration": 18,
    "start_time": "2023-03-20T08:47:13.129Z"
   },
   {
    "duration": 158,
    "start_time": "2023-03-20T08:47:13.149Z"
   },
   {
    "duration": 368,
    "start_time": "2023-03-20T08:47:13.310Z"
   },
   {
    "duration": 556,
    "start_time": "2023-03-20T08:47:13.682Z"
   },
   {
    "duration": 415,
    "start_time": "2023-03-20T08:47:14.241Z"
   },
   {
    "duration": 361,
    "start_time": "2023-03-20T08:47:14.660Z"
   },
   {
    "duration": 18,
    "start_time": "2023-03-20T08:47:15.024Z"
   },
   {
    "duration": 429,
    "start_time": "2023-03-20T08:47:15.044Z"
   },
   {
    "duration": 437,
    "start_time": "2023-03-20T08:47:15.475Z"
   },
   {
    "duration": 155,
    "start_time": "2023-03-20T08:47:15.914Z"
   },
   {
    "duration": 18,
    "start_time": "2023-03-20T08:47:16.071Z"
   },
   {
    "duration": 389,
    "start_time": "2023-03-20T08:47:16.091Z"
   },
   {
    "duration": 459,
    "start_time": "2023-03-20T08:47:16.488Z"
   },
   {
    "duration": 4,
    "start_time": "2023-03-20T08:47:16.949Z"
   },
   {
    "duration": 251,
    "start_time": "2023-03-20T08:47:16.955Z"
   },
   {
    "duration": 13,
    "start_time": "2023-03-20T08:47:17.208Z"
   },
   {
    "duration": 12,
    "start_time": "2023-03-20T08:47:17.223Z"
   },
   {
    "duration": 426,
    "start_time": "2023-03-20T08:47:44.311Z"
   },
   {
    "duration": 361,
    "start_time": "2023-03-20T08:48:08.196Z"
   },
   {
    "duration": 492,
    "start_time": "2023-03-20T08:48:27.357Z"
   },
   {
    "duration": 1277,
    "start_time": "2023-03-20T08:48:49.322Z"
   },
   {
    "duration": 80,
    "start_time": "2023-03-20T08:48:50.603Z"
   },
   {
    "duration": 15,
    "start_time": "2023-03-20T08:48:50.684Z"
   },
   {
    "duration": 18,
    "start_time": "2023-03-20T08:48:50.703Z"
   },
   {
    "duration": 9,
    "start_time": "2023-03-20T08:48:50.723Z"
   },
   {
    "duration": 29,
    "start_time": "2023-03-20T08:48:50.734Z"
   },
   {
    "duration": 49,
    "start_time": "2023-03-20T08:48:50.765Z"
   },
   {
    "duration": 106,
    "start_time": "2023-03-20T08:48:50.815Z"
   },
   {
    "duration": 405,
    "start_time": "2023-03-20T08:48:50.923Z"
   },
   {
    "duration": 483,
    "start_time": "2023-03-20T08:48:51.331Z"
   },
   {
    "duration": 410,
    "start_time": "2023-03-20T08:48:51.816Z"
   },
   {
    "duration": 417,
    "start_time": "2023-03-20T08:48:52.228Z"
   },
   {
    "duration": 13,
    "start_time": "2023-03-20T08:48:52.647Z"
   },
   {
    "duration": 355,
    "start_time": "2023-03-20T08:48:52.662Z"
   },
   {
    "duration": 440,
    "start_time": "2023-03-20T08:48:53.018Z"
   },
   {
    "duration": 174,
    "start_time": "2023-03-20T08:48:53.460Z"
   },
   {
    "duration": 8,
    "start_time": "2023-03-20T08:48:53.636Z"
   },
   {
    "duration": 445,
    "start_time": "2023-03-20T08:48:53.646Z"
   },
   {
    "duration": 516,
    "start_time": "2023-03-20T08:48:54.093Z"
   },
   {
    "duration": 6,
    "start_time": "2023-03-20T08:48:54.612Z"
   },
   {
    "duration": 315,
    "start_time": "2023-03-20T08:48:54.620Z"
   },
   {
    "duration": 15,
    "start_time": "2023-03-20T08:48:54.937Z"
   },
   {
    "duration": 9,
    "start_time": "2023-03-20T08:48:54.954Z"
   },
   {
    "duration": 260,
    "start_time": "2023-03-20T08:53:21.609Z"
   },
   {
    "duration": 249,
    "start_time": "2023-03-20T08:53:58.226Z"
   },
   {
    "duration": 351,
    "start_time": "2023-03-20T08:54:14.306Z"
   },
   {
    "duration": 323,
    "start_time": "2023-03-20T08:54:33.313Z"
   },
   {
    "duration": 1214,
    "start_time": "2023-03-20T08:54:43.226Z"
   },
   {
    "duration": 87,
    "start_time": "2023-03-20T08:54:44.443Z"
   },
   {
    "duration": 12,
    "start_time": "2023-03-20T08:54:44.532Z"
   },
   {
    "duration": 12,
    "start_time": "2023-03-20T08:54:44.546Z"
   },
   {
    "duration": 30,
    "start_time": "2023-03-20T08:54:44.560Z"
   },
   {
    "duration": 26,
    "start_time": "2023-03-20T08:54:44.592Z"
   },
   {
    "duration": 18,
    "start_time": "2023-03-20T08:54:44.620Z"
   },
   {
    "duration": 140,
    "start_time": "2023-03-20T08:54:44.639Z"
   },
   {
    "duration": 402,
    "start_time": "2023-03-20T08:54:44.780Z"
   },
   {
    "duration": 533,
    "start_time": "2023-03-20T08:54:45.185Z"
   },
   {
    "duration": 433,
    "start_time": "2023-03-20T08:54:45.721Z"
   },
   {
    "duration": 293,
    "start_time": "2023-03-20T08:54:46.156Z"
   },
   {
    "duration": 408,
    "start_time": "2023-03-20T08:54:46.450Z"
   },
   {
    "duration": 13,
    "start_time": "2023-03-20T08:54:46.861Z"
   },
   {
    "duration": 361,
    "start_time": "2023-03-20T08:54:46.875Z"
   },
   {
    "duration": 378,
    "start_time": "2023-03-20T08:54:47.238Z"
   },
   {
    "duration": 192,
    "start_time": "2023-03-20T08:54:47.619Z"
   },
   {
    "duration": 8,
    "start_time": "2023-03-20T08:54:47.813Z"
   },
   {
    "duration": 447,
    "start_time": "2023-03-20T08:54:47.824Z"
   },
   {
    "duration": 505,
    "start_time": "2023-03-20T08:54:48.274Z"
   },
   {
    "duration": 5,
    "start_time": "2023-03-20T08:54:48.781Z"
   },
   {
    "duration": 275,
    "start_time": "2023-03-20T08:54:48.789Z"
   },
   {
    "duration": 11,
    "start_time": "2023-03-20T08:54:49.066Z"
   },
   {
    "duration": 16,
    "start_time": "2023-03-20T08:54:49.089Z"
   },
   {
    "duration": 261,
    "start_time": "2023-03-20T08:56:29.842Z"
   },
   {
    "duration": 377,
    "start_time": "2023-03-20T08:57:02.013Z"
   },
   {
    "duration": 223,
    "start_time": "2023-03-20T09:04:38.012Z"
   },
   {
    "duration": 129,
    "start_time": "2023-03-20T09:04:51.162Z"
   },
   {
    "duration": 1149,
    "start_time": "2023-03-20T09:05:18.726Z"
   },
   {
    "duration": 76,
    "start_time": "2023-03-20T09:05:19.877Z"
   },
   {
    "duration": 10,
    "start_time": "2023-03-20T09:05:19.954Z"
   },
   {
    "duration": 11,
    "start_time": "2023-03-20T09:05:19.966Z"
   },
   {
    "duration": 11,
    "start_time": "2023-03-20T09:05:19.979Z"
   },
   {
    "duration": 18,
    "start_time": "2023-03-20T09:05:19.991Z"
   },
   {
    "duration": 17,
    "start_time": "2023-03-20T09:05:20.011Z"
   },
   {
    "duration": 101,
    "start_time": "2023-03-20T09:05:20.030Z"
   },
   {
    "duration": 360,
    "start_time": "2023-03-20T09:05:20.133Z"
   },
   {
    "duration": 458,
    "start_time": "2023-03-20T09:05:20.496Z"
   },
   {
    "duration": 382,
    "start_time": "2023-03-20T09:05:20.955Z"
   },
   {
    "duration": 235,
    "start_time": "2023-03-20T09:05:21.339Z"
   },
   {
    "duration": 0,
    "start_time": "2023-03-20T09:05:21.576Z"
   },
   {
    "duration": 0,
    "start_time": "2023-03-20T09:05:21.577Z"
   },
   {
    "duration": 0,
    "start_time": "2023-03-20T09:05:21.579Z"
   },
   {
    "duration": 0,
    "start_time": "2023-03-20T09:05:21.580Z"
   },
   {
    "duration": 0,
    "start_time": "2023-03-20T09:05:21.588Z"
   },
   {
    "duration": 0,
    "start_time": "2023-03-20T09:05:21.590Z"
   },
   {
    "duration": 0,
    "start_time": "2023-03-20T09:05:21.591Z"
   },
   {
    "duration": 0,
    "start_time": "2023-03-20T09:05:21.592Z"
   },
   {
    "duration": 0,
    "start_time": "2023-03-20T09:05:21.594Z"
   },
   {
    "duration": 0,
    "start_time": "2023-03-20T09:05:21.595Z"
   },
   {
    "duration": 1,
    "start_time": "2023-03-20T09:05:21.596Z"
   },
   {
    "duration": 0,
    "start_time": "2023-03-20T09:05:21.598Z"
   },
   {
    "duration": 72,
    "start_time": "2023-03-20T09:06:32.012Z"
   },
   {
    "duration": 124,
    "start_time": "2023-03-20T09:06:42.034Z"
   },
   {
    "duration": 307,
    "start_time": "2023-03-20T09:06:49.177Z"
   },
   {
    "duration": 361,
    "start_time": "2023-03-20T09:07:19.620Z"
   },
   {
    "duration": 303,
    "start_time": "2023-03-20T09:07:32.809Z"
   },
   {
    "duration": 260,
    "start_time": "2023-03-20T09:09:09.034Z"
   },
   {
    "duration": 254,
    "start_time": "2023-03-20T09:09:38.506Z"
   },
   {
    "duration": 328,
    "start_time": "2023-03-20T09:10:57.374Z"
   },
   {
    "duration": 245,
    "start_time": "2023-03-20T09:11:14.110Z"
   },
   {
    "duration": 254,
    "start_time": "2023-03-20T09:12:12.209Z"
   },
   {
    "duration": 269,
    "start_time": "2023-03-20T09:14:07.158Z"
   },
   {
    "duration": 265,
    "start_time": "2023-03-20T09:14:20.070Z"
   },
   {
    "duration": 405,
    "start_time": "2023-03-20T09:17:34.036Z"
   },
   {
    "duration": 366,
    "start_time": "2023-03-20T09:18:13.318Z"
   },
   {
    "duration": 17,
    "start_time": "2023-03-20T10:32:59.629Z"
   },
   {
    "duration": 425,
    "start_time": "2023-03-20T10:33:05.902Z"
   },
   {
    "duration": 361,
    "start_time": "2023-03-20T10:35:39.383Z"
   },
   {
    "duration": 380,
    "start_time": "2023-03-20T10:47:19.308Z"
   },
   {
    "duration": 316,
    "start_time": "2023-03-20T10:50:29.248Z"
   },
   {
    "duration": 111,
    "start_time": "2023-03-20T11:02:41.703Z"
   },
   {
    "duration": 324,
    "start_time": "2023-03-20T11:02:52.154Z"
   },
   {
    "duration": 361,
    "start_time": "2023-03-20T11:05:10.679Z"
   },
   {
    "duration": 4055,
    "start_time": "2023-03-20T11:05:55.575Z"
   },
   {
    "duration": 1226,
    "start_time": "2023-03-20T11:07:31.297Z"
   },
   {
    "duration": 86,
    "start_time": "2023-03-20T11:07:32.525Z"
   },
   {
    "duration": 10,
    "start_time": "2023-03-20T11:07:32.613Z"
   },
   {
    "duration": 11,
    "start_time": "2023-03-20T11:07:32.625Z"
   },
   {
    "duration": 9,
    "start_time": "2023-03-20T11:07:32.638Z"
   },
   {
    "duration": 63,
    "start_time": "2023-03-20T11:07:32.648Z"
   },
   {
    "duration": 20,
    "start_time": "2023-03-20T11:07:32.713Z"
   },
   {
    "duration": 99,
    "start_time": "2023-03-20T11:07:32.735Z"
   },
   {
    "duration": 380,
    "start_time": "2023-03-20T11:07:32.835Z"
   },
   {
    "duration": 476,
    "start_time": "2023-03-20T11:07:33.219Z"
   },
   {
    "duration": 404,
    "start_time": "2023-03-20T11:07:33.702Z"
   },
   {
    "duration": 271,
    "start_time": "2023-03-20T11:07:34.108Z"
   },
   {
    "duration": 359,
    "start_time": "2023-03-20T11:07:34.380Z"
   },
   {
    "duration": 14,
    "start_time": "2023-03-20T11:07:34.740Z"
   },
   {
    "duration": 361,
    "start_time": "2023-03-20T11:07:34.756Z"
   },
   {
    "duration": 398,
    "start_time": "2023-03-20T11:07:35.119Z"
   },
   {
    "duration": 183,
    "start_time": "2023-03-20T11:07:35.519Z"
   },
   {
    "duration": 7,
    "start_time": "2023-03-20T11:07:35.707Z"
   },
   {
    "duration": 437,
    "start_time": "2023-03-20T11:07:35.716Z"
   },
   {
    "duration": 491,
    "start_time": "2023-03-20T11:07:36.155Z"
   },
   {
    "duration": 5,
    "start_time": "2023-03-20T11:07:36.649Z"
   },
   {
    "duration": 292,
    "start_time": "2023-03-20T11:07:36.655Z"
   },
   {
    "duration": 13,
    "start_time": "2023-03-20T11:07:36.949Z"
   },
   {
    "duration": 9,
    "start_time": "2023-03-20T11:07:36.963Z"
   },
   {
    "duration": 118,
    "start_time": "2023-03-20T11:10:11.035Z"
   },
   {
    "duration": 86,
    "start_time": "2023-03-20T11:11:10.344Z"
   },
   {
    "duration": 110,
    "start_time": "2023-03-20T11:11:27.196Z"
   },
   {
    "duration": 1243,
    "start_time": "2023-03-20T11:11:53.795Z"
   },
   {
    "duration": 364,
    "start_time": "2023-03-20T11:12:30.755Z"
   },
   {
    "duration": 102,
    "start_time": "2023-03-20T11:14:48.911Z"
   },
   {
    "duration": 159,
    "start_time": "2023-03-20T11:15:13.259Z"
   },
   {
    "duration": 183,
    "start_time": "2023-03-20T11:15:53.372Z"
   },
   {
    "duration": 1291,
    "start_time": "2023-03-20T11:20:47.001Z"
   },
   {
    "duration": 1311,
    "start_time": "2023-03-20T11:20:55.704Z"
   },
   {
    "duration": 1455,
    "start_time": "2023-03-20T11:22:30.780Z"
   },
   {
    "duration": 190,
    "start_time": "2023-03-20T11:26:18.575Z"
   },
   {
    "duration": 172,
    "start_time": "2023-03-20T11:27:28.473Z"
   },
   {
    "duration": 310,
    "start_time": "2023-03-20T11:27:57.287Z"
   },
   {
    "duration": 356,
    "start_time": "2023-03-20T11:28:23.539Z"
   },
   {
    "duration": 314,
    "start_time": "2023-03-20T11:29:06.792Z"
   },
   {
    "duration": 1244,
    "start_time": "2023-03-20T11:29:23.179Z"
   },
   {
    "duration": 82,
    "start_time": "2023-03-20T11:29:24.425Z"
   },
   {
    "duration": 12,
    "start_time": "2023-03-20T11:29:24.509Z"
   },
   {
    "duration": 14,
    "start_time": "2023-03-20T11:29:24.523Z"
   },
   {
    "duration": 10,
    "start_time": "2023-03-20T11:29:24.539Z"
   },
   {
    "duration": 51,
    "start_time": "2023-03-20T11:29:24.551Z"
   },
   {
    "duration": 19,
    "start_time": "2023-03-20T11:29:24.604Z"
   },
   {
    "duration": 101,
    "start_time": "2023-03-20T11:29:24.625Z"
   },
   {
    "duration": 377,
    "start_time": "2023-03-20T11:29:24.728Z"
   },
   {
    "duration": 487,
    "start_time": "2023-03-20T11:29:25.107Z"
   },
   {
    "duration": 412,
    "start_time": "2023-03-20T11:29:25.596Z"
   },
   {
    "duration": 272,
    "start_time": "2023-03-20T11:29:26.011Z"
   },
   {
    "duration": 339,
    "start_time": "2023-03-20T11:29:26.284Z"
   },
   {
    "duration": 13,
    "start_time": "2023-03-20T11:29:26.624Z"
   },
   {
    "duration": 342,
    "start_time": "2023-03-20T11:29:26.639Z"
   },
   {
    "duration": 392,
    "start_time": "2023-03-20T11:29:26.988Z"
   },
   {
    "duration": 0,
    "start_time": "2023-03-20T11:29:27.389Z"
   },
   {
    "duration": 0,
    "start_time": "2023-03-20T11:29:27.390Z"
   },
   {
    "duration": 0,
    "start_time": "2023-03-20T11:29:27.391Z"
   },
   {
    "duration": 0,
    "start_time": "2023-03-20T11:29:27.392Z"
   },
   {
    "duration": 0,
    "start_time": "2023-03-20T11:29:27.394Z"
   },
   {
    "duration": 0,
    "start_time": "2023-03-20T11:29:27.395Z"
   },
   {
    "duration": 0,
    "start_time": "2023-03-20T11:29:27.396Z"
   },
   {
    "duration": 0,
    "start_time": "2023-03-20T11:29:27.397Z"
   },
   {
    "duration": 378,
    "start_time": "2023-03-20T11:30:17.543Z"
   },
   {
    "duration": 348,
    "start_time": "2023-03-20T11:33:21.342Z"
   },
   {
    "duration": 402,
    "start_time": "2023-03-20T11:34:29.971Z"
   },
   {
    "duration": 361,
    "start_time": "2023-03-20T11:34:55.510Z"
   },
   {
    "duration": 14,
    "start_time": "2023-03-20T12:30:28.983Z"
   },
   {
    "duration": 4,
    "start_time": "2023-03-20T12:30:49.955Z"
   },
   {
    "duration": 28,
    "start_time": "2023-03-20T12:31:05.227Z"
   },
   {
    "duration": 3361,
    "start_time": "2023-03-20T12:33:04.755Z"
   },
   {
    "duration": 323,
    "start_time": "2023-03-20T12:34:20.896Z"
   },
   {
    "duration": 330,
    "start_time": "2023-03-20T12:34:47.419Z"
   },
   {
    "duration": 3365,
    "start_time": "2023-03-20T12:36:27.035Z"
   },
   {
    "duration": 27,
    "start_time": "2023-03-20T12:37:17.691Z"
   },
   {
    "duration": 1195,
    "start_time": "2023-03-20T12:39:24.411Z"
   },
   {
    "duration": 107,
    "start_time": "2023-03-20T12:39:25.608Z"
   },
   {
    "duration": 19,
    "start_time": "2023-03-20T12:39:25.717Z"
   },
   {
    "duration": 22,
    "start_time": "2023-03-20T12:39:25.738Z"
   },
   {
    "duration": 28,
    "start_time": "2023-03-20T12:39:25.762Z"
   },
   {
    "duration": 29,
    "start_time": "2023-03-20T12:39:25.792Z"
   },
   {
    "duration": 24,
    "start_time": "2023-03-20T12:39:25.823Z"
   },
   {
    "duration": 160,
    "start_time": "2023-03-20T12:39:25.849Z"
   },
   {
    "duration": 512,
    "start_time": "2023-03-20T12:39:26.011Z"
   },
   {
    "duration": 632,
    "start_time": "2023-03-20T12:39:26.526Z"
   },
   {
    "duration": 382,
    "start_time": "2023-03-20T12:39:27.161Z"
   },
   {
    "duration": 284,
    "start_time": "2023-03-20T12:39:27.545Z"
   },
   {
    "duration": 417,
    "start_time": "2023-03-20T12:39:27.831Z"
   },
   {
    "duration": 18,
    "start_time": "2023-03-20T12:39:28.251Z"
   },
   {
    "duration": 370,
    "start_time": "2023-03-20T12:39:28.272Z"
   },
   {
    "duration": 3429,
    "start_time": "2023-03-20T12:39:28.645Z"
   },
   {
    "duration": 35,
    "start_time": "2023-03-20T12:39:32.076Z"
   },
   {
    "duration": 294,
    "start_time": "2023-03-20T12:39:32.113Z"
   },
   {
    "duration": 7,
    "start_time": "2023-03-20T12:39:32.409Z"
   },
   {
    "duration": 397,
    "start_time": "2023-03-20T12:39:32.418Z"
   },
   {
    "duration": 414,
    "start_time": "2023-03-20T12:39:32.816Z"
   },
   {
    "duration": 4,
    "start_time": "2023-03-20T12:39:33.233Z"
   },
   {
    "duration": 284,
    "start_time": "2023-03-20T12:39:33.239Z"
   },
   {
    "duration": 13,
    "start_time": "2023-03-20T12:39:33.527Z"
   },
   {
    "duration": 12,
    "start_time": "2023-03-20T12:39:33.542Z"
   },
   {
    "duration": 21,
    "start_time": "2023-03-20T12:40:08.720Z"
   },
   {
    "duration": 3199,
    "start_time": "2023-03-20T12:40:25.539Z"
   },
   {
    "duration": 20,
    "start_time": "2023-03-20T12:40:33.355Z"
   },
   {
    "duration": 3358,
    "start_time": "2023-03-20T12:41:01.075Z"
   },
   {
    "duration": 1202,
    "start_time": "2023-03-20T12:41:46.667Z"
   },
   {
    "duration": 75,
    "start_time": "2023-03-20T12:41:47.871Z"
   },
   {
    "duration": 10,
    "start_time": "2023-03-20T12:41:47.947Z"
   },
   {
    "duration": 43,
    "start_time": "2023-03-20T12:41:47.959Z"
   },
   {
    "duration": 15,
    "start_time": "2023-03-20T12:41:48.004Z"
   },
   {
    "duration": 57,
    "start_time": "2023-03-20T12:41:48.021Z"
   },
   {
    "duration": 24,
    "start_time": "2023-03-20T12:41:48.080Z"
   },
   {
    "duration": 118,
    "start_time": "2023-03-20T12:41:48.106Z"
   },
   {
    "duration": 370,
    "start_time": "2023-03-20T12:41:48.226Z"
   },
   {
    "duration": 475,
    "start_time": "2023-03-20T12:41:48.599Z"
   },
   {
    "duration": 380,
    "start_time": "2023-03-20T12:41:49.076Z"
   },
   {
    "duration": 369,
    "start_time": "2023-03-20T12:41:49.457Z"
   },
   {
    "duration": 362,
    "start_time": "2023-03-20T12:41:49.829Z"
   },
   {
    "duration": 16,
    "start_time": "2023-03-20T12:41:50.193Z"
   },
   {
    "duration": 334,
    "start_time": "2023-03-20T12:41:50.211Z"
   },
   {
    "duration": 3354,
    "start_time": "2023-03-20T12:41:50.547Z"
   },
   {
    "duration": 7,
    "start_time": "2023-03-20T12:41:53.903Z"
   },
   {
    "duration": 331,
    "start_time": "2023-03-20T12:41:53.912Z"
   },
   {
    "duration": 11,
    "start_time": "2023-03-20T12:41:54.246Z"
   },
   {
    "duration": 476,
    "start_time": "2023-03-20T12:41:54.259Z"
   },
   {
    "duration": 522,
    "start_time": "2023-03-20T12:41:54.737Z"
   },
   {
    "duration": 6,
    "start_time": "2023-03-20T12:41:55.261Z"
   },
   {
    "duration": 372,
    "start_time": "2023-03-20T12:41:55.269Z"
   },
   {
    "duration": 13,
    "start_time": "2023-03-20T12:41:55.643Z"
   },
   {
    "duration": 33,
    "start_time": "2023-03-20T12:41:55.658Z"
   },
   {
    "duration": 2618,
    "start_time": "2023-03-20T12:43:39.815Z"
   },
   {
    "duration": 2549,
    "start_time": "2023-03-20T12:46:42.436Z"
   },
   {
    "duration": 1147,
    "start_time": "2023-03-20T12:46:54.638Z"
   },
   {
    "duration": 79,
    "start_time": "2023-03-20T12:46:55.788Z"
   },
   {
    "duration": 11,
    "start_time": "2023-03-20T12:46:55.869Z"
   },
   {
    "duration": 18,
    "start_time": "2023-03-20T12:46:55.882Z"
   },
   {
    "duration": 9,
    "start_time": "2023-03-20T12:46:55.901Z"
   },
   {
    "duration": 26,
    "start_time": "2023-03-20T12:46:55.912Z"
   },
   {
    "duration": 20,
    "start_time": "2023-03-20T12:46:55.940Z"
   },
   {
    "duration": 111,
    "start_time": "2023-03-20T12:46:55.962Z"
   },
   {
    "duration": 371,
    "start_time": "2023-03-20T12:46:56.089Z"
   },
   {
    "duration": 478,
    "start_time": "2023-03-20T12:46:56.464Z"
   },
   {
    "duration": 400,
    "start_time": "2023-03-20T12:46:56.944Z"
   },
   {
    "duration": 256,
    "start_time": "2023-03-20T12:46:57.345Z"
   },
   {
    "duration": 324,
    "start_time": "2023-03-20T12:46:57.603Z"
   },
   {
    "duration": 14,
    "start_time": "2023-03-20T12:46:57.929Z"
   },
   {
    "duration": 323,
    "start_time": "2023-03-20T12:46:57.945Z"
   },
   {
    "duration": 128,
    "start_time": "2023-03-20T12:46:58.270Z"
   },
   {
    "duration": 0,
    "start_time": "2023-03-20T12:46:58.400Z"
   },
   {
    "duration": 0,
    "start_time": "2023-03-20T12:46:58.401Z"
   },
   {
    "duration": 0,
    "start_time": "2023-03-20T12:46:58.402Z"
   },
   {
    "duration": 0,
    "start_time": "2023-03-20T12:46:58.404Z"
   },
   {
    "duration": 0,
    "start_time": "2023-03-20T12:46:58.405Z"
   },
   {
    "duration": 0,
    "start_time": "2023-03-20T12:46:58.406Z"
   },
   {
    "duration": 0,
    "start_time": "2023-03-20T12:46:58.408Z"
   },
   {
    "duration": 0,
    "start_time": "2023-03-20T12:46:58.409Z"
   },
   {
    "duration": 0,
    "start_time": "2023-03-20T12:46:58.410Z"
   },
   {
    "duration": 27,
    "start_time": "2023-03-20T12:49:30.059Z"
   },
   {
    "duration": 23,
    "start_time": "2023-03-20T12:49:40.632Z"
   },
   {
    "duration": 1526,
    "start_time": "2023-03-20T12:49:57.874Z"
   },
   {
    "duration": 1802,
    "start_time": "2023-03-20T12:50:09.507Z"
   },
   {
    "duration": 1614,
    "start_time": "2023-03-20T12:50:46.286Z"
   },
   {
    "duration": 1618,
    "start_time": "2023-03-20T12:51:07.786Z"
   },
   {
    "duration": 437,
    "start_time": "2023-03-20T12:51:43.723Z"
   },
   {
    "duration": 340,
    "start_time": "2023-03-20T12:52:10.578Z"
   },
   {
    "duration": 300,
    "start_time": "2023-03-20T12:52:49.523Z"
   },
   {
    "duration": 695,
    "start_time": "2023-03-20T12:55:09.607Z"
   },
   {
    "duration": 555,
    "start_time": "2023-03-20T12:56:53.723Z"
   },
   {
    "duration": 550,
    "start_time": "2023-03-20T12:57:11.298Z"
   },
   {
    "duration": 1132,
    "start_time": "2023-03-20T12:57:25.307Z"
   },
   {
    "duration": 81,
    "start_time": "2023-03-20T12:57:26.441Z"
   },
   {
    "duration": 15,
    "start_time": "2023-03-20T12:57:26.523Z"
   },
   {
    "duration": 12,
    "start_time": "2023-03-20T12:57:26.541Z"
   },
   {
    "duration": 9,
    "start_time": "2023-03-20T12:57:26.555Z"
   },
   {
    "duration": 25,
    "start_time": "2023-03-20T12:57:26.588Z"
   },
   {
    "duration": 18,
    "start_time": "2023-03-20T12:57:26.615Z"
   },
   {
    "duration": 126,
    "start_time": "2023-03-20T12:57:26.635Z"
   },
   {
    "duration": 434,
    "start_time": "2023-03-20T12:57:26.764Z"
   },
   {
    "duration": 475,
    "start_time": "2023-03-20T12:57:27.201Z"
   },
   {
    "duration": 378,
    "start_time": "2023-03-20T12:57:27.677Z"
   },
   {
    "duration": 267,
    "start_time": "2023-03-20T12:57:28.057Z"
   },
   {
    "duration": 336,
    "start_time": "2023-03-20T12:57:28.326Z"
   },
   {
    "duration": 12,
    "start_time": "2023-03-20T12:57:28.663Z"
   },
   {
    "duration": 327,
    "start_time": "2023-03-20T12:57:28.677Z"
   },
   {
    "duration": 664,
    "start_time": "2023-03-20T12:57:29.005Z"
   },
   {
    "duration": 0,
    "start_time": "2023-03-20T12:57:29.672Z"
   },
   {
    "duration": 0,
    "start_time": "2023-03-20T12:57:29.674Z"
   },
   {
    "duration": 0,
    "start_time": "2023-03-20T12:57:29.675Z"
   },
   {
    "duration": 0,
    "start_time": "2023-03-20T12:57:29.689Z"
   },
   {
    "duration": 0,
    "start_time": "2023-03-20T12:57:29.690Z"
   },
   {
    "duration": 0,
    "start_time": "2023-03-20T12:57:29.693Z"
   },
   {
    "duration": 0,
    "start_time": "2023-03-20T12:57:29.694Z"
   },
   {
    "duration": 0,
    "start_time": "2023-03-20T12:57:29.695Z"
   },
   {
    "duration": 0,
    "start_time": "2023-03-20T12:57:29.696Z"
   },
   {
    "duration": 610,
    "start_time": "2023-03-20T12:58:05.100Z"
   },
   {
    "duration": 1108,
    "start_time": "2023-03-20T13:00:47.287Z"
   },
   {
    "duration": 78,
    "start_time": "2023-03-20T13:00:48.397Z"
   },
   {
    "duration": 11,
    "start_time": "2023-03-20T13:00:48.477Z"
   },
   {
    "duration": 15,
    "start_time": "2023-03-20T13:00:48.490Z"
   },
   {
    "duration": 9,
    "start_time": "2023-03-20T13:00:48.507Z"
   },
   {
    "duration": 23,
    "start_time": "2023-03-20T13:00:48.518Z"
   },
   {
    "duration": 16,
    "start_time": "2023-03-20T13:00:48.543Z"
   },
   {
    "duration": 99,
    "start_time": "2023-03-20T13:00:48.561Z"
   },
   {
    "duration": 383,
    "start_time": "2023-03-20T13:00:48.662Z"
   },
   {
    "duration": 435,
    "start_time": "2023-03-20T13:00:49.047Z"
   },
   {
    "duration": 395,
    "start_time": "2023-03-20T13:00:49.484Z"
   },
   {
    "duration": 304,
    "start_time": "2023-03-20T13:00:49.887Z"
   },
   {
    "duration": 316,
    "start_time": "2023-03-20T13:00:50.193Z"
   },
   {
    "duration": 12,
    "start_time": "2023-03-20T13:00:50.512Z"
   },
   {
    "duration": 323,
    "start_time": "2023-03-20T13:00:50.525Z"
   },
   {
    "duration": 1557,
    "start_time": "2023-03-20T13:00:50.850Z"
   },
   {
    "duration": 295,
    "start_time": "2023-03-20T13:00:52.409Z"
   },
   {
    "duration": 179,
    "start_time": "2023-03-20T13:00:52.706Z"
   },
   {
    "duration": 7,
    "start_time": "2023-03-20T13:00:52.888Z"
   },
   {
    "duration": 374,
    "start_time": "2023-03-20T13:00:52.897Z"
   },
   {
    "duration": 542,
    "start_time": "2023-03-20T13:00:53.272Z"
   },
   {
    "duration": 4,
    "start_time": "2023-03-20T13:00:53.816Z"
   },
   {
    "duration": 253,
    "start_time": "2023-03-20T13:00:53.821Z"
   },
   {
    "duration": 22,
    "start_time": "2023-03-20T13:00:54.075Z"
   },
   {
    "duration": 13,
    "start_time": "2023-03-20T13:00:54.099Z"
   },
   {
    "duration": 1546,
    "start_time": "2023-03-20T13:01:20.575Z"
   },
   {
    "duration": 1246,
    "start_time": "2023-03-20T13:02:27.479Z"
   },
   {
    "duration": 85,
    "start_time": "2023-03-20T13:02:28.730Z"
   },
   {
    "duration": 13,
    "start_time": "2023-03-20T13:02:28.817Z"
   },
   {
    "duration": 21,
    "start_time": "2023-03-20T13:02:28.833Z"
   },
   {
    "duration": 35,
    "start_time": "2023-03-20T13:02:28.856Z"
   },
   {
    "duration": 21,
    "start_time": "2023-03-20T13:02:28.893Z"
   },
   {
    "duration": 39,
    "start_time": "2023-03-20T13:02:28.916Z"
   },
   {
    "duration": 102,
    "start_time": "2023-03-20T13:02:28.957Z"
   },
   {
    "duration": 397,
    "start_time": "2023-03-20T13:02:29.062Z"
   },
   {
    "duration": 564,
    "start_time": "2023-03-20T13:02:29.462Z"
   },
   {
    "duration": 430,
    "start_time": "2023-03-20T13:02:30.029Z"
   },
   {
    "duration": 289,
    "start_time": "2023-03-20T13:02:30.461Z"
   },
   {
    "duration": 375,
    "start_time": "2023-03-20T13:02:30.752Z"
   },
   {
    "duration": 15,
    "start_time": "2023-03-20T13:02:31.129Z"
   },
   {
    "duration": 363,
    "start_time": "2023-03-20T13:02:31.146Z"
   },
   {
    "duration": 0,
    "start_time": "2023-03-20T13:03:36.413Z"
   },
   {
    "duration": 0,
    "start_time": "2023-03-20T13:03:36.414Z"
   },
   {
    "duration": 0,
    "start_time": "2023-03-20T13:03:36.415Z"
   },
   {
    "duration": 0,
    "start_time": "2023-03-20T13:03:36.417Z"
   },
   {
    "duration": 0,
    "start_time": "2023-03-20T13:03:36.418Z"
   },
   {
    "duration": 0,
    "start_time": "2023-03-20T13:03:36.418Z"
   },
   {
    "duration": 0,
    "start_time": "2023-03-20T13:03:36.419Z"
   },
   {
    "duration": 0,
    "start_time": "2023-03-20T13:03:36.420Z"
   },
   {
    "duration": 1,
    "start_time": "2023-03-20T13:03:36.421Z"
   },
   {
    "duration": 0,
    "start_time": "2023-03-20T13:03:36.425Z"
   },
   {
    "duration": 1570,
    "start_time": "2023-03-20T13:03:56.143Z"
   },
   {
    "duration": 1570,
    "start_time": "2023-03-20T13:04:41.092Z"
   },
   {
    "duration": 1603,
    "start_time": "2023-03-20T13:04:53.260Z"
   },
   {
    "duration": 1631,
    "start_time": "2023-03-20T13:05:50.714Z"
   },
   {
    "duration": 73,
    "start_time": "2023-03-20T13:11:30.417Z"
   },
   {
    "duration": 616,
    "start_time": "2023-03-20T13:11:40.551Z"
   },
   {
    "duration": 1493,
    "start_time": "2023-03-20T13:11:54.696Z"
   },
   {
    "duration": 109,
    "start_time": "2023-03-20T13:11:56.192Z"
   },
   {
    "duration": 16,
    "start_time": "2023-03-20T13:11:56.303Z"
   },
   {
    "duration": 17,
    "start_time": "2023-03-20T13:11:56.323Z"
   },
   {
    "duration": 12,
    "start_time": "2023-03-20T13:11:56.343Z"
   },
   {
    "duration": 49,
    "start_time": "2023-03-20T13:11:56.357Z"
   },
   {
    "duration": 24,
    "start_time": "2023-03-20T13:11:56.409Z"
   },
   {
    "duration": 145,
    "start_time": "2023-03-20T13:11:56.435Z"
   },
   {
    "duration": 557,
    "start_time": "2023-03-20T13:11:56.589Z"
   },
   {
    "duration": 641,
    "start_time": "2023-03-20T13:11:57.149Z"
   },
   {
    "duration": 563,
    "start_time": "2023-03-20T13:11:57.791Z"
   },
   {
    "duration": 385,
    "start_time": "2023-03-20T13:11:58.357Z"
   },
   {
    "duration": 483,
    "start_time": "2023-03-20T13:11:58.745Z"
   },
   {
    "duration": 17,
    "start_time": "2023-03-20T13:11:59.230Z"
   },
   {
    "duration": 493,
    "start_time": "2023-03-20T13:11:59.249Z"
   },
   {
    "duration": 952,
    "start_time": "2023-03-20T13:11:59.746Z"
   },
   {
    "duration": 0,
    "start_time": "2023-03-20T13:12:00.700Z"
   },
   {
    "duration": 0,
    "start_time": "2023-03-20T13:12:00.702Z"
   },
   {
    "duration": 0,
    "start_time": "2023-03-20T13:12:00.704Z"
   },
   {
    "duration": 0,
    "start_time": "2023-03-20T13:12:00.707Z"
   },
   {
    "duration": 0,
    "start_time": "2023-03-20T13:12:00.715Z"
   },
   {
    "duration": 0,
    "start_time": "2023-03-20T13:12:00.716Z"
   },
   {
    "duration": 0,
    "start_time": "2023-03-20T13:12:00.717Z"
   },
   {
    "duration": 0,
    "start_time": "2023-03-20T13:12:00.718Z"
   },
   {
    "duration": 0,
    "start_time": "2023-03-20T13:12:00.720Z"
   },
   {
    "duration": 591,
    "start_time": "2023-03-20T13:12:45.701Z"
   },
   {
    "duration": 584,
    "start_time": "2023-03-20T13:13:57.631Z"
   },
   {
    "duration": 1495,
    "start_time": "2023-03-20T13:14:07.372Z"
   },
   {
    "duration": 595,
    "start_time": "2023-03-20T13:14:52.144Z"
   },
   {
    "duration": 1181,
    "start_time": "2023-03-20T13:15:11.626Z"
   },
   {
    "duration": 79,
    "start_time": "2023-03-20T13:15:12.810Z"
   },
   {
    "duration": 11,
    "start_time": "2023-03-20T13:15:12.890Z"
   },
   {
    "duration": 15,
    "start_time": "2023-03-20T13:15:12.904Z"
   },
   {
    "duration": 12,
    "start_time": "2023-03-20T13:15:12.920Z"
   },
   {
    "duration": 55,
    "start_time": "2023-03-20T13:15:12.934Z"
   },
   {
    "duration": 24,
    "start_time": "2023-03-20T13:15:12.991Z"
   },
   {
    "duration": 114,
    "start_time": "2023-03-20T13:15:13.016Z"
   },
   {
    "duration": 374,
    "start_time": "2023-03-20T13:15:13.132Z"
   },
   {
    "duration": 501,
    "start_time": "2023-03-20T13:15:13.509Z"
   },
   {
    "duration": 385,
    "start_time": "2023-03-20T13:15:14.012Z"
   },
   {
    "duration": 277,
    "start_time": "2023-03-20T13:15:14.399Z"
   },
   {
    "duration": 364,
    "start_time": "2023-03-20T13:15:14.679Z"
   },
   {
    "duration": 14,
    "start_time": "2023-03-20T13:15:15.045Z"
   },
   {
    "duration": 414,
    "start_time": "2023-03-20T13:15:15.061Z"
   },
   {
    "duration": 729,
    "start_time": "2023-03-20T13:15:15.477Z"
   },
   {
    "duration": 0,
    "start_time": "2023-03-20T13:15:16.208Z"
   },
   {
    "duration": 0,
    "start_time": "2023-03-20T13:15:16.209Z"
   },
   {
    "duration": 0,
    "start_time": "2023-03-20T13:15:16.210Z"
   },
   {
    "duration": 0,
    "start_time": "2023-03-20T13:15:16.212Z"
   },
   {
    "duration": 0,
    "start_time": "2023-03-20T13:15:16.213Z"
   },
   {
    "duration": 0,
    "start_time": "2023-03-20T13:15:16.214Z"
   },
   {
    "duration": 0,
    "start_time": "2023-03-20T13:15:16.215Z"
   },
   {
    "duration": 0,
    "start_time": "2023-03-20T13:15:16.217Z"
   },
   {
    "duration": 0,
    "start_time": "2023-03-20T13:15:16.218Z"
   },
   {
    "duration": 637,
    "start_time": "2023-03-20T13:25:42.668Z"
   },
   {
    "duration": 584,
    "start_time": "2023-03-20T13:29:02.833Z"
   },
   {
    "duration": 1660,
    "start_time": "2023-03-20T13:31:45.865Z"
   },
   {
    "duration": 12,
    "start_time": "2023-03-20T13:37:25.189Z"
   },
   {
    "duration": 209,
    "start_time": "2023-03-20T13:37:34.941Z"
   },
   {
    "duration": 9,
    "start_time": "2023-03-20T13:37:42.193Z"
   },
   {
    "duration": 1393,
    "start_time": "2023-03-20T13:41:06.714Z"
   },
   {
    "duration": 582,
    "start_time": "2023-03-20T13:43:11.981Z"
   },
   {
    "duration": 16,
    "start_time": "2023-03-20T13:44:26.318Z"
   },
   {
    "duration": 12,
    "start_time": "2023-03-20T13:44:54.244Z"
   },
   {
    "duration": 1142,
    "start_time": "2023-03-20T13:45:13.020Z"
   },
   {
    "duration": 83,
    "start_time": "2023-03-20T13:45:14.164Z"
   },
   {
    "duration": 11,
    "start_time": "2023-03-20T13:45:14.249Z"
   },
   {
    "duration": 28,
    "start_time": "2023-03-20T13:45:14.262Z"
   },
   {
    "duration": 10,
    "start_time": "2023-03-20T13:45:14.291Z"
   },
   {
    "duration": 24,
    "start_time": "2023-03-20T13:45:14.302Z"
   },
   {
    "duration": 24,
    "start_time": "2023-03-20T13:45:14.328Z"
   },
   {
    "duration": 151,
    "start_time": "2023-03-20T13:45:14.354Z"
   },
   {
    "duration": 411,
    "start_time": "2023-03-20T13:45:14.506Z"
   },
   {
    "duration": 463,
    "start_time": "2023-03-20T13:45:14.919Z"
   },
   {
    "duration": 392,
    "start_time": "2023-03-20T13:45:15.384Z"
   },
   {
    "duration": 264,
    "start_time": "2023-03-20T13:45:15.777Z"
   },
   {
    "duration": 337,
    "start_time": "2023-03-20T13:45:16.043Z"
   },
   {
    "duration": 16,
    "start_time": "2023-03-20T13:45:16.382Z"
   },
   {
    "duration": 332,
    "start_time": "2023-03-20T13:45:16.400Z"
   },
   {
    "duration": 113,
    "start_time": "2023-03-20T13:45:16.735Z"
   },
   {
    "duration": 0,
    "start_time": "2023-03-20T13:45:16.851Z"
   },
   {
    "duration": 0,
    "start_time": "2023-03-20T13:45:16.852Z"
   },
   {
    "duration": 0,
    "start_time": "2023-03-20T13:45:16.854Z"
   },
   {
    "duration": 0,
    "start_time": "2023-03-20T13:45:16.855Z"
   },
   {
    "duration": 0,
    "start_time": "2023-03-20T13:45:16.857Z"
   },
   {
    "duration": 0,
    "start_time": "2023-03-20T13:45:16.858Z"
   },
   {
    "duration": 0,
    "start_time": "2023-03-20T13:45:16.859Z"
   },
   {
    "duration": 0,
    "start_time": "2023-03-20T13:45:16.861Z"
   },
   {
    "duration": 0,
    "start_time": "2023-03-20T13:45:16.862Z"
   },
   {
    "duration": 1375,
    "start_time": "2023-03-20T13:47:20.113Z"
   },
   {
    "duration": 1214,
    "start_time": "2023-03-20T13:49:05.540Z"
   },
   {
    "duration": 579,
    "start_time": "2023-03-20T13:50:20.656Z"
   },
   {
    "duration": 551,
    "start_time": "2023-03-20T13:50:47.459Z"
   },
   {
    "duration": 879,
    "start_time": "2023-03-20T13:52:00.611Z"
   },
   {
    "duration": 1187,
    "start_time": "2023-03-20T13:52:21.204Z"
   },
   {
    "duration": 108,
    "start_time": "2023-03-20T13:52:22.394Z"
   },
   {
    "duration": 10,
    "start_time": "2023-03-20T13:52:22.504Z"
   },
   {
    "duration": 23,
    "start_time": "2023-03-20T13:52:22.516Z"
   },
   {
    "duration": 10,
    "start_time": "2023-03-20T13:52:22.540Z"
   },
   {
    "duration": 43,
    "start_time": "2023-03-20T13:52:22.553Z"
   },
   {
    "duration": 19,
    "start_time": "2023-03-20T13:52:22.598Z"
   },
   {
    "duration": 104,
    "start_time": "2023-03-20T13:52:22.619Z"
   },
   {
    "duration": 363,
    "start_time": "2023-03-20T13:52:22.725Z"
   },
   {
    "duration": 427,
    "start_time": "2023-03-20T13:52:23.091Z"
   },
   {
    "duration": 378,
    "start_time": "2023-03-20T13:52:23.521Z"
   },
   {
    "duration": 256,
    "start_time": "2023-03-20T13:52:23.901Z"
   },
   {
    "duration": 348,
    "start_time": "2023-03-20T13:52:24.159Z"
   },
   {
    "duration": 24,
    "start_time": "2023-03-20T13:52:24.508Z"
   },
   {
    "duration": 354,
    "start_time": "2023-03-20T13:52:24.535Z"
   },
   {
    "duration": 671,
    "start_time": "2023-03-20T13:52:24.891Z"
   },
   {
    "duration": 0,
    "start_time": "2023-03-20T13:52:25.564Z"
   },
   {
    "duration": 0,
    "start_time": "2023-03-20T13:52:25.565Z"
   },
   {
    "duration": 0,
    "start_time": "2023-03-20T13:52:25.566Z"
   },
   {
    "duration": 0,
    "start_time": "2023-03-20T13:52:25.568Z"
   },
   {
    "duration": 0,
    "start_time": "2023-03-20T13:52:25.569Z"
   },
   {
    "duration": 0,
    "start_time": "2023-03-20T13:52:25.570Z"
   },
   {
    "duration": 0,
    "start_time": "2023-03-20T13:52:25.588Z"
   },
   {
    "duration": 0,
    "start_time": "2023-03-20T13:52:25.590Z"
   },
   {
    "duration": 0,
    "start_time": "2023-03-20T13:52:25.591Z"
   },
   {
    "duration": 33,
    "start_time": "2023-03-20T13:54:51.493Z"
   },
   {
    "duration": 1142,
    "start_time": "2023-03-20T13:55:36.433Z"
   },
   {
    "duration": 92,
    "start_time": "2023-03-20T13:55:37.577Z"
   },
   {
    "duration": 12,
    "start_time": "2023-03-20T13:55:37.670Z"
   },
   {
    "duration": 17,
    "start_time": "2023-03-20T13:55:37.685Z"
   },
   {
    "duration": 9,
    "start_time": "2023-03-20T13:55:37.704Z"
   },
   {
    "duration": 20,
    "start_time": "2023-03-20T13:55:37.714Z"
   },
   {
    "duration": 20,
    "start_time": "2023-03-20T13:55:37.736Z"
   },
   {
    "duration": 95,
    "start_time": "2023-03-20T13:55:37.757Z"
   },
   {
    "duration": 395,
    "start_time": "2023-03-20T13:55:37.854Z"
   },
   {
    "duration": 491,
    "start_time": "2023-03-20T13:55:38.251Z"
   },
   {
    "duration": 457,
    "start_time": "2023-03-20T13:55:38.743Z"
   },
   {
    "duration": 309,
    "start_time": "2023-03-20T13:55:39.202Z"
   },
   {
    "duration": 401,
    "start_time": "2023-03-20T13:55:39.513Z"
   },
   {
    "duration": 13,
    "start_time": "2023-03-20T13:55:39.916Z"
   },
   {
    "duration": 368,
    "start_time": "2023-03-20T13:55:39.930Z"
   },
   {
    "duration": 147,
    "start_time": "2023-03-20T13:55:40.300Z"
   },
   {
    "duration": 0,
    "start_time": "2023-03-20T13:55:40.449Z"
   },
   {
    "duration": 0,
    "start_time": "2023-03-20T13:55:40.451Z"
   },
   {
    "duration": 0,
    "start_time": "2023-03-20T13:55:40.452Z"
   },
   {
    "duration": 0,
    "start_time": "2023-03-20T13:55:40.453Z"
   },
   {
    "duration": 0,
    "start_time": "2023-03-20T13:55:40.455Z"
   },
   {
    "duration": 0,
    "start_time": "2023-03-20T13:55:40.456Z"
   },
   {
    "duration": 0,
    "start_time": "2023-03-20T13:55:40.458Z"
   },
   {
    "duration": 0,
    "start_time": "2023-03-20T13:55:40.459Z"
   },
   {
    "duration": 34,
    "start_time": "2023-03-20T13:55:46.860Z"
   },
   {
    "duration": 650,
    "start_time": "2023-03-20T13:58:29.416Z"
   },
   {
    "duration": 599,
    "start_time": "2023-03-20T13:59:14.941Z"
   },
   {
    "duration": 653,
    "start_time": "2023-03-20T14:00:56.593Z"
   },
   {
    "duration": 681,
    "start_time": "2023-03-20T14:01:59.152Z"
   },
   {
    "duration": 674,
    "start_time": "2023-03-20T14:03:07.901Z"
   },
   {
    "duration": 648,
    "start_time": "2023-03-20T14:04:33.944Z"
   },
   {
    "duration": 12,
    "start_time": "2023-03-20T14:07:48.012Z"
   },
   {
    "duration": 142,
    "start_time": "2023-03-20T14:08:01.933Z"
   },
   {
    "duration": 7,
    "start_time": "2023-03-20T14:08:25.396Z"
   },
   {
    "duration": 145,
    "start_time": "2023-03-20T14:09:50.508Z"
   },
   {
    "duration": 213,
    "start_time": "2023-03-20T14:10:07.505Z"
   },
   {
    "duration": 10,
    "start_time": "2023-03-20T14:10:16.688Z"
   },
   {
    "duration": 167,
    "start_time": "2023-03-20T14:10:37.280Z"
   },
   {
    "duration": 9,
    "start_time": "2023-03-20T14:10:47.101Z"
   },
   {
    "duration": 159,
    "start_time": "2023-03-20T14:11:11.488Z"
   },
   {
    "duration": 9,
    "start_time": "2023-03-20T14:11:15.892Z"
   },
   {
    "duration": 211,
    "start_time": "2023-03-20T14:11:48.568Z"
   },
   {
    "duration": 9,
    "start_time": "2023-03-20T14:11:54.772Z"
   },
   {
    "duration": 587,
    "start_time": "2023-03-20T14:20:21.293Z"
   },
   {
    "duration": 385,
    "start_time": "2023-03-20T14:30:03.129Z"
   },
   {
    "duration": 303,
    "start_time": "2023-03-20T14:30:39.838Z"
   },
   {
    "duration": 281,
    "start_time": "2023-03-20T14:31:21.793Z"
   },
   {
    "duration": 266,
    "start_time": "2023-03-20T14:31:50.209Z"
   },
   {
    "duration": 269,
    "start_time": "2023-03-20T14:32:00.001Z"
   },
   {
    "duration": 1188,
    "start_time": "2023-03-20T14:32:24.053Z"
   },
   {
    "duration": 89,
    "start_time": "2023-03-20T14:32:25.244Z"
   },
   {
    "duration": 12,
    "start_time": "2023-03-20T14:32:25.334Z"
   },
   {
    "duration": 15,
    "start_time": "2023-03-20T14:32:25.348Z"
   },
   {
    "duration": 32,
    "start_time": "2023-03-20T14:32:25.365Z"
   },
   {
    "duration": 20,
    "start_time": "2023-03-20T14:32:25.399Z"
   },
   {
    "duration": 20,
    "start_time": "2023-03-20T14:32:25.420Z"
   },
   {
    "duration": 90,
    "start_time": "2023-03-20T14:32:25.442Z"
   },
   {
    "duration": 356,
    "start_time": "2023-03-20T14:32:25.534Z"
   },
   {
    "duration": 425,
    "start_time": "2023-03-20T14:32:25.893Z"
   },
   {
    "duration": 351,
    "start_time": "2023-03-20T14:32:26.320Z"
   },
   {
    "duration": 254,
    "start_time": "2023-03-20T14:32:26.672Z"
   },
   {
    "duration": 320,
    "start_time": "2023-03-20T14:32:26.927Z"
   },
   {
    "duration": 14,
    "start_time": "2023-03-20T14:32:27.249Z"
   },
   {
    "duration": 310,
    "start_time": "2023-03-20T14:32:27.264Z"
   },
   {
    "duration": 650,
    "start_time": "2023-03-20T14:32:27.576Z"
   },
   {
    "duration": 0,
    "start_time": "2023-03-20T14:32:28.229Z"
   },
   {
    "duration": 0,
    "start_time": "2023-03-20T14:32:28.230Z"
   },
   {
    "duration": 0,
    "start_time": "2023-03-20T14:32:28.231Z"
   },
   {
    "duration": 0,
    "start_time": "2023-03-20T14:32:28.232Z"
   },
   {
    "duration": 0,
    "start_time": "2023-03-20T14:32:28.233Z"
   },
   {
    "duration": 0,
    "start_time": "2023-03-20T14:32:28.234Z"
   },
   {
    "duration": 0,
    "start_time": "2023-03-20T14:32:28.235Z"
   },
   {
    "duration": 0,
    "start_time": "2023-03-20T14:32:28.236Z"
   },
   {
    "duration": 0,
    "start_time": "2023-03-20T14:32:28.237Z"
   },
   {
    "duration": 9,
    "start_time": "2023-03-20T14:32:41.521Z"
   },
   {
    "duration": 138,
    "start_time": "2023-03-20T14:33:16.033Z"
   },
   {
    "duration": 154,
    "start_time": "2023-03-20T14:33:24.273Z"
   },
   {
    "duration": 256,
    "start_time": "2023-03-20T14:33:25.673Z"
   },
   {
    "duration": 160,
    "start_time": "2023-03-20T14:34:16.477Z"
   },
   {
    "duration": 148,
    "start_time": "2023-03-20T14:34:48.425Z"
   },
   {
    "duration": 105,
    "start_time": "2023-03-20T14:35:24.326Z"
   },
   {
    "duration": 150,
    "start_time": "2023-03-20T14:35:33.949Z"
   },
   {
    "duration": 149,
    "start_time": "2023-03-20T14:36:08.381Z"
   },
   {
    "duration": 244,
    "start_time": "2023-03-20T14:37:02.606Z"
   },
   {
    "duration": 1496,
    "start_time": "2023-03-20T14:39:01.982Z"
   },
   {
    "duration": 1626,
    "start_time": "2023-03-20T14:40:14.097Z"
   },
   {
    "duration": 1586,
    "start_time": "2023-03-20T14:41:46.481Z"
   },
   {
    "duration": 1461,
    "start_time": "2023-03-20T14:42:22.273Z"
   },
   {
    "duration": 1510,
    "start_time": "2023-03-20T14:49:42.049Z"
   },
   {
    "duration": 211,
    "start_time": "2023-03-20T14:51:58.365Z"
   },
   {
    "duration": 270,
    "start_time": "2023-03-20T14:53:47.558Z"
   },
   {
    "duration": 169,
    "start_time": "2023-03-20T14:54:22.133Z"
   },
   {
    "duration": 278,
    "start_time": "2023-03-20T14:55:34.450Z"
   },
   {
    "duration": 158,
    "start_time": "2023-03-20T14:56:09.821Z"
   },
   {
    "duration": 274,
    "start_time": "2023-03-20T14:57:08.594Z"
   },
   {
    "duration": 181,
    "start_time": "2023-03-20T14:57:24.414Z"
   },
   {
    "duration": 158,
    "start_time": "2023-03-20T14:58:11.458Z"
   },
   {
    "duration": 154,
    "start_time": "2023-03-20T14:58:37.069Z"
   },
   {
    "duration": 1209,
    "start_time": "2023-03-20T14:58:44.685Z"
   },
   {
    "duration": 76,
    "start_time": "2023-03-20T14:58:45.896Z"
   },
   {
    "duration": 9,
    "start_time": "2023-03-20T14:58:45.974Z"
   },
   {
    "duration": 24,
    "start_time": "2023-03-20T14:58:45.985Z"
   },
   {
    "duration": 14,
    "start_time": "2023-03-20T14:58:46.010Z"
   },
   {
    "duration": 24,
    "start_time": "2023-03-20T14:58:46.026Z"
   },
   {
    "duration": 17,
    "start_time": "2023-03-20T14:58:46.052Z"
   },
   {
    "duration": 72,
    "start_time": "2023-03-20T14:58:46.071Z"
   },
   {
    "duration": 347,
    "start_time": "2023-03-20T14:58:46.145Z"
   },
   {
    "duration": 439,
    "start_time": "2023-03-20T14:58:46.495Z"
   },
   {
    "duration": 353,
    "start_time": "2023-03-20T14:58:46.935Z"
   },
   {
    "duration": 254,
    "start_time": "2023-03-20T14:58:47.290Z"
   },
   {
    "duration": 313,
    "start_time": "2023-03-20T14:58:47.546Z"
   },
   {
    "duration": 12,
    "start_time": "2023-03-20T14:58:47.860Z"
   },
   {
    "duration": 313,
    "start_time": "2023-03-20T14:58:47.874Z"
   },
   {
    "duration": 1412,
    "start_time": "2023-03-20T14:58:48.189Z"
   },
   {
    "duration": 215,
    "start_time": "2023-03-20T14:58:49.603Z"
   },
   {
    "duration": 291,
    "start_time": "2023-03-20T14:58:49.821Z"
   },
   {
    "duration": 7,
    "start_time": "2023-03-20T14:58:50.114Z"
   },
   {
    "duration": 484,
    "start_time": "2023-03-20T14:58:50.122Z"
   },
   {
    "duration": 414,
    "start_time": "2023-03-20T14:58:50.608Z"
   },
   {
    "duration": 4,
    "start_time": "2023-03-20T14:58:51.024Z"
   },
   {
    "duration": 245,
    "start_time": "2023-03-20T14:58:51.030Z"
   },
   {
    "duration": 16,
    "start_time": "2023-03-20T14:58:51.277Z"
   },
   {
    "duration": 21,
    "start_time": "2023-03-20T14:58:51.295Z"
   },
   {
    "duration": 155,
    "start_time": "2023-03-20T14:59:29.837Z"
   },
   {
    "duration": 17,
    "start_time": "2023-03-20T14:59:42.937Z"
   },
   {
    "duration": 16,
    "start_time": "2023-03-20T14:59:55.733Z"
   },
   {
    "duration": 35,
    "start_time": "2023-03-20T15:00:21.213Z"
   },
   {
    "duration": 30,
    "start_time": "2023-03-20T15:00:57.914Z"
   },
   {
    "duration": 31,
    "start_time": "2023-03-20T15:01:09.885Z"
   },
   {
    "duration": 24,
    "start_time": "2023-03-20T15:04:58.753Z"
   },
   {
    "duration": 320,
    "start_time": "2023-03-20T15:12:37.706Z"
   },
   {
    "duration": 296,
    "start_time": "2023-03-20T15:14:30.438Z"
   },
   {
    "duration": 353,
    "start_time": "2023-03-20T15:15:09.862Z"
   },
   {
    "duration": 1134,
    "start_time": "2023-03-20T15:15:31.162Z"
   },
   {
    "duration": 78,
    "start_time": "2023-03-20T15:15:32.298Z"
   },
   {
    "duration": 11,
    "start_time": "2023-03-20T15:15:32.377Z"
   },
   {
    "duration": 19,
    "start_time": "2023-03-20T15:15:32.389Z"
   },
   {
    "duration": 17,
    "start_time": "2023-03-20T15:15:32.410Z"
   },
   {
    "duration": 22,
    "start_time": "2023-03-20T15:15:32.429Z"
   },
   {
    "duration": 17,
    "start_time": "2023-03-20T15:15:32.596Z"
   },
   {
    "duration": 90,
    "start_time": "2023-03-20T15:15:32.615Z"
   },
   {
    "duration": 357,
    "start_time": "2023-03-20T15:15:32.707Z"
   },
   {
    "duration": 437,
    "start_time": "2023-03-20T15:15:33.065Z"
   },
   {
    "duration": 367,
    "start_time": "2023-03-20T15:15:33.504Z"
   },
   {
    "duration": 270,
    "start_time": "2023-03-20T15:15:33.872Z"
   },
   {
    "duration": 348,
    "start_time": "2023-03-20T15:15:34.143Z"
   },
   {
    "duration": 13,
    "start_time": "2023-03-20T15:15:34.493Z"
   },
   {
    "duration": 350,
    "start_time": "2023-03-20T15:15:34.508Z"
   },
   {
    "duration": 1555,
    "start_time": "2023-03-20T15:15:34.860Z"
   },
   {
    "duration": 305,
    "start_time": "2023-03-20T15:15:36.417Z"
   },
   {
    "duration": 380,
    "start_time": "2023-03-20T15:15:36.724Z"
   },
   {
    "duration": 0,
    "start_time": "2023-03-20T15:15:37.106Z"
   },
   {
    "duration": 0,
    "start_time": "2023-03-20T15:15:37.107Z"
   },
   {
    "duration": 0,
    "start_time": "2023-03-20T15:15:37.108Z"
   },
   {
    "duration": 0,
    "start_time": "2023-03-20T15:15:37.109Z"
   },
   {
    "duration": 0,
    "start_time": "2023-03-20T15:15:37.110Z"
   },
   {
    "duration": 0,
    "start_time": "2023-03-20T15:15:37.111Z"
   },
   {
    "duration": 0,
    "start_time": "2023-03-20T15:15:37.112Z"
   },
   {
    "duration": 370,
    "start_time": "2023-03-20T15:16:10.594Z"
   },
   {
    "duration": 277,
    "start_time": "2023-03-20T15:16:55.534Z"
   },
   {
    "duration": 281,
    "start_time": "2023-03-20T15:17:34.094Z"
   },
   {
    "duration": 279,
    "start_time": "2023-03-20T15:17:54.672Z"
   },
   {
    "duration": 298,
    "start_time": "2023-03-20T15:18:24.997Z"
   },
   {
    "duration": 36,
    "start_time": "2023-03-20T15:19:57.469Z"
   },
   {
    "duration": 379,
    "start_time": "2023-03-20T15:21:36.458Z"
   },
   {
    "duration": 189,
    "start_time": "2023-03-20T15:22:21.818Z"
   },
   {
    "duration": 379,
    "start_time": "2023-03-20T15:43:36.550Z"
   },
   {
    "duration": 401,
    "start_time": "2023-03-20T15:43:42.432Z"
   },
   {
    "duration": 244,
    "start_time": "2023-03-20T15:43:53.926Z"
   },
   {
    "duration": 395,
    "start_time": "2023-03-20T15:57:20.238Z"
   },
   {
    "duration": 21,
    "start_time": "2023-03-20T16:21:56.612Z"
   },
   {
    "duration": 513,
    "start_time": "2023-03-20T16:23:24.821Z"
   },
   {
    "duration": 27,
    "start_time": "2023-03-20T16:37:08.376Z"
   },
   {
    "duration": 755,
    "start_time": "2023-03-20T16:37:30.429Z"
   },
   {
    "duration": 27,
    "start_time": "2023-03-20T16:41:59.813Z"
   },
   {
    "duration": 487,
    "start_time": "2023-03-20T16:42:12.608Z"
   },
   {
    "duration": 499,
    "start_time": "2023-03-20T16:42:37.224Z"
   },
   {
    "duration": 90,
    "start_time": "2023-03-20T16:50:03.864Z"
   },
   {
    "duration": 428,
    "start_time": "2023-03-20T16:50:26.468Z"
   },
   {
    "duration": 83,
    "start_time": "2023-03-20T16:52:06.211Z"
   },
   {
    "duration": 522,
    "start_time": "2023-03-20T16:53:49.352Z"
   },
   {
    "duration": 112,
    "start_time": "2023-03-20T16:57:36.556Z"
   },
   {
    "duration": 69,
    "start_time": "2023-03-20T16:58:14.439Z"
   },
   {
    "duration": 6401,
    "start_time": "2023-03-20T16:58:32.622Z"
   },
   {
    "duration": 501,
    "start_time": "2023-03-20T17:01:19.740Z"
   },
   {
    "duration": 13,
    "start_time": "2023-03-20T17:06:08.239Z"
   },
   {
    "duration": 8,
    "start_time": "2023-03-20T17:06:38.192Z"
   },
   {
    "duration": 13,
    "start_time": "2023-03-20T17:06:53.205Z"
   },
   {
    "duration": 10,
    "start_time": "2023-03-20T17:07:18.344Z"
   },
   {
    "duration": 12,
    "start_time": "2023-03-20T17:08:35.812Z"
   },
   {
    "duration": 19,
    "start_time": "2023-03-20T17:08:54.432Z"
   },
   {
    "duration": 15,
    "start_time": "2023-03-20T17:09:02.541Z"
   },
   {
    "duration": 12,
    "start_time": "2023-03-20T17:09:17.224Z"
   },
   {
    "duration": 12,
    "start_time": "2023-03-20T17:10:02.520Z"
   },
   {
    "duration": 11,
    "start_time": "2023-03-20T17:10:13.812Z"
   },
   {
    "duration": 12,
    "start_time": "2023-03-20T17:10:18.773Z"
   },
   {
    "duration": 13,
    "start_time": "2023-03-20T17:10:25.800Z"
   },
   {
    "duration": 16,
    "start_time": "2023-03-20T17:11:02.456Z"
   },
   {
    "duration": 12,
    "start_time": "2023-03-20T17:11:11.348Z"
   },
   {
    "duration": 17,
    "start_time": "2023-03-20T17:12:41.445Z"
   },
   {
    "duration": 73,
    "start_time": "2023-03-20T17:13:35.500Z"
   },
   {
    "duration": 15,
    "start_time": "2023-03-20T17:13:41.888Z"
   },
   {
    "duration": 17,
    "start_time": "2023-03-20T17:14:01.344Z"
   },
   {
    "duration": 14,
    "start_time": "2023-03-20T17:16:57.912Z"
   },
   {
    "duration": 14,
    "start_time": "2023-03-20T17:23:45.453Z"
   },
   {
    "duration": 14,
    "start_time": "2023-03-20T17:26:40.857Z"
   },
   {
    "duration": 16,
    "start_time": "2023-03-20T17:27:00.085Z"
   },
   {
    "duration": 12,
    "start_time": "2023-03-20T17:29:11.913Z"
   },
   {
    "duration": 15,
    "start_time": "2023-03-20T17:36:58.325Z"
   },
   {
    "duration": 13,
    "start_time": "2023-03-20T17:37:41.337Z"
   },
   {
    "duration": 16,
    "start_time": "2023-03-20T17:38:08.049Z"
   },
   {
    "duration": 17,
    "start_time": "2023-03-20T17:38:19.758Z"
   },
   {
    "duration": 13,
    "start_time": "2023-03-20T17:39:00.084Z"
   },
   {
    "duration": 1123,
    "start_time": "2023-03-20T17:39:22.388Z"
   },
   {
    "duration": 77,
    "start_time": "2023-03-20T17:39:23.513Z"
   },
   {
    "duration": 10,
    "start_time": "2023-03-20T17:39:23.592Z"
   },
   {
    "duration": 24,
    "start_time": "2023-03-20T17:39:23.604Z"
   },
   {
    "duration": 18,
    "start_time": "2023-03-20T17:39:23.630Z"
   },
   {
    "duration": 20,
    "start_time": "2023-03-20T17:39:23.650Z"
   },
   {
    "duration": 28,
    "start_time": "2023-03-20T17:39:23.672Z"
   },
   {
    "duration": 92,
    "start_time": "2023-03-20T17:39:23.702Z"
   },
   {
    "duration": 361,
    "start_time": "2023-03-20T17:39:23.795Z"
   },
   {
    "duration": 453,
    "start_time": "2023-03-20T17:39:24.157Z"
   },
   {
    "duration": 367,
    "start_time": "2023-03-20T17:39:24.612Z"
   },
   {
    "duration": 266,
    "start_time": "2023-03-20T17:39:24.981Z"
   },
   {
    "duration": 326,
    "start_time": "2023-03-20T17:39:25.248Z"
   },
   {
    "duration": 19,
    "start_time": "2023-03-20T17:39:25.577Z"
   },
   {
    "duration": 307,
    "start_time": "2023-03-20T17:39:25.598Z"
   },
   {
    "duration": 1445,
    "start_time": "2023-03-20T17:39:25.907Z"
   },
   {
    "duration": 189,
    "start_time": "2023-03-20T17:39:27.353Z"
   },
   {
    "duration": 6,
    "start_time": "2023-03-20T17:39:27.544Z"
   },
   {
    "duration": 13,
    "start_time": "2023-03-20T17:39:27.552Z"
   },
   {
    "duration": 479,
    "start_time": "2023-03-20T17:39:27.566Z"
   },
   {
    "duration": 518,
    "start_time": "2023-03-20T17:39:28.047Z"
   },
   {
    "duration": 3,
    "start_time": "2023-03-20T17:39:28.567Z"
   },
   {
    "duration": 260,
    "start_time": "2023-03-20T17:39:28.572Z"
   },
   {
    "duration": 11,
    "start_time": "2023-03-20T17:39:28.834Z"
   },
   {
    "duration": 11,
    "start_time": "2023-03-20T17:39:28.847Z"
   },
   {
    "duration": 19,
    "start_time": "2023-03-20T17:39:55.910Z"
   },
   {
    "duration": 14,
    "start_time": "2023-03-20T17:41:36.186Z"
   },
   {
    "duration": 12,
    "start_time": "2023-03-20T17:42:44.309Z"
   },
   {
    "duration": 18,
    "start_time": "2023-03-20T17:43:08.424Z"
   },
   {
    "duration": 16,
    "start_time": "2023-03-20T17:44:52.357Z"
   },
   {
    "duration": 16,
    "start_time": "2023-03-20T17:45:02.745Z"
   },
   {
    "duration": 17,
    "start_time": "2023-03-20T17:45:13.033Z"
   },
   {
    "duration": 17,
    "start_time": "2023-03-20T17:46:13.837Z"
   },
   {
    "duration": 13,
    "start_time": "2023-03-20T17:47:13.852Z"
   },
   {
    "duration": 131,
    "start_time": "2023-03-20T17:57:05.321Z"
   },
   {
    "duration": 28,
    "start_time": "2023-03-20T17:57:15.440Z"
   },
   {
    "duration": 38,
    "start_time": "2023-03-20T17:57:47.469Z"
   },
   {
    "duration": 43,
    "start_time": "2023-03-20T17:58:17.641Z"
   },
   {
    "duration": 51,
    "start_time": "2023-03-20T17:58:40.429Z"
   },
   {
    "duration": 131,
    "start_time": "2023-03-20T18:01:21.889Z"
   },
   {
    "duration": 126,
    "start_time": "2023-03-20T18:02:04.933Z"
   },
   {
    "duration": 301,
    "start_time": "2023-03-20T18:03:39.617Z"
   },
   {
    "duration": 121,
    "start_time": "2023-03-20T18:06:39.402Z"
   },
   {
    "duration": 203,
    "start_time": "2023-03-20T18:07:17.385Z"
   },
   {
    "duration": 194,
    "start_time": "2023-03-20T18:07:53.497Z"
   },
   {
    "duration": 1158,
    "start_time": "2023-03-20T18:08:24.285Z"
   },
   {
    "duration": 78,
    "start_time": "2023-03-20T18:08:25.445Z"
   },
   {
    "duration": 10,
    "start_time": "2023-03-20T18:08:25.524Z"
   },
   {
    "duration": 11,
    "start_time": "2023-03-20T18:08:25.536Z"
   },
   {
    "duration": 9,
    "start_time": "2023-03-20T18:08:25.549Z"
   },
   {
    "duration": 44,
    "start_time": "2023-03-20T18:08:25.559Z"
   },
   {
    "duration": 17,
    "start_time": "2023-03-20T18:08:25.605Z"
   },
   {
    "duration": 89,
    "start_time": "2023-03-20T18:08:25.624Z"
   },
   {
    "duration": 363,
    "start_time": "2023-03-20T18:08:25.714Z"
   },
   {
    "duration": 458,
    "start_time": "2023-03-20T18:08:26.080Z"
   },
   {
    "duration": 375,
    "start_time": "2023-03-20T18:08:26.540Z"
   },
   {
    "duration": 267,
    "start_time": "2023-03-20T18:08:26.917Z"
   },
   {
    "duration": 323,
    "start_time": "2023-03-20T18:08:27.187Z"
   },
   {
    "duration": 12,
    "start_time": "2023-03-20T18:08:27.512Z"
   },
   {
    "duration": 328,
    "start_time": "2023-03-20T18:08:27.526Z"
   },
   {
    "duration": 1522,
    "start_time": "2023-03-20T18:08:27.855Z"
   },
   {
    "duration": 209,
    "start_time": "2023-03-20T18:08:29.379Z"
   },
   {
    "duration": 11,
    "start_time": "2023-03-20T18:08:29.591Z"
   },
   {
    "duration": 359,
    "start_time": "2023-03-20T18:08:29.604Z"
   },
   {
    "duration": 0,
    "start_time": "2023-03-20T18:08:29.964Z"
   },
   {
    "duration": 0,
    "start_time": "2023-03-20T18:08:29.965Z"
   },
   {
    "duration": 0,
    "start_time": "2023-03-20T18:08:29.967Z"
   },
   {
    "duration": 0,
    "start_time": "2023-03-20T18:08:29.967Z"
   },
   {
    "duration": 0,
    "start_time": "2023-03-20T18:08:29.969Z"
   },
   {
    "duration": 0,
    "start_time": "2023-03-20T18:08:29.970Z"
   },
   {
    "duration": 209,
    "start_time": "2023-03-20T18:09:06.237Z"
   },
   {
    "duration": 185,
    "start_time": "2023-03-20T18:10:59.417Z"
   },
   {
    "duration": 307,
    "start_time": "2023-03-20T18:12:09.206Z"
   },
   {
    "duration": 1232,
    "start_time": "2023-03-20T18:12:19.706Z"
   },
   {
    "duration": 78,
    "start_time": "2023-03-20T18:12:20.941Z"
   },
   {
    "duration": 10,
    "start_time": "2023-03-20T18:12:21.020Z"
   },
   {
    "duration": 24,
    "start_time": "2023-03-20T18:12:21.032Z"
   },
   {
    "duration": 8,
    "start_time": "2023-03-20T18:12:21.058Z"
   },
   {
    "duration": 24,
    "start_time": "2023-03-20T18:12:21.067Z"
   },
   {
    "duration": 21,
    "start_time": "2023-03-20T18:12:21.093Z"
   },
   {
    "duration": 90,
    "start_time": "2023-03-20T18:12:21.116Z"
   },
   {
    "duration": 352,
    "start_time": "2023-03-20T18:12:21.208Z"
   },
   {
    "duration": 447,
    "start_time": "2023-03-20T18:12:21.563Z"
   },
   {
    "duration": 362,
    "start_time": "2023-03-20T18:12:22.012Z"
   },
   {
    "duration": 248,
    "start_time": "2023-03-20T18:12:22.376Z"
   },
   {
    "duration": 345,
    "start_time": "2023-03-20T18:12:22.626Z"
   },
   {
    "duration": 19,
    "start_time": "2023-03-20T18:12:22.973Z"
   },
   {
    "duration": 321,
    "start_time": "2023-03-20T18:12:22.994Z"
   },
   {
    "duration": 1523,
    "start_time": "2023-03-20T18:12:23.317Z"
   },
   {
    "duration": 198,
    "start_time": "2023-03-20T18:12:24.842Z"
   },
   {
    "duration": 8,
    "start_time": "2023-03-20T18:12:25.041Z"
   },
   {
    "duration": 338,
    "start_time": "2023-03-20T18:12:25.050Z"
   },
   {
    "duration": 0,
    "start_time": "2023-03-20T18:12:25.390Z"
   },
   {
    "duration": 0,
    "start_time": "2023-03-20T18:12:25.391Z"
   },
   {
    "duration": 0,
    "start_time": "2023-03-20T18:12:25.392Z"
   },
   {
    "duration": 0,
    "start_time": "2023-03-20T18:12:25.393Z"
   },
   {
    "duration": 0,
    "start_time": "2023-03-20T18:12:25.394Z"
   },
   {
    "duration": 0,
    "start_time": "2023-03-20T18:12:25.395Z"
   },
   {
    "duration": 301,
    "start_time": "2023-03-20T18:20:39.862Z"
   },
   {
    "duration": 350,
    "start_time": "2023-03-20T18:22:07.254Z"
   },
   {
    "duration": 208,
    "start_time": "2023-03-20T18:22:21.866Z"
   },
   {
    "duration": 1180,
    "start_time": "2023-03-20T18:22:38.266Z"
   },
   {
    "duration": 77,
    "start_time": "2023-03-20T18:22:39.448Z"
   },
   {
    "duration": 10,
    "start_time": "2023-03-20T18:22:39.526Z"
   },
   {
    "duration": 13,
    "start_time": "2023-03-20T18:22:39.538Z"
   },
   {
    "duration": 9,
    "start_time": "2023-03-20T18:22:39.553Z"
   },
   {
    "duration": 40,
    "start_time": "2023-03-20T18:22:39.563Z"
   },
   {
    "duration": 17,
    "start_time": "2023-03-20T18:22:39.605Z"
   },
   {
    "duration": 115,
    "start_time": "2023-03-20T18:22:39.624Z"
   },
   {
    "duration": 410,
    "start_time": "2023-03-20T18:22:39.742Z"
   },
   {
    "duration": 444,
    "start_time": "2023-03-20T18:22:40.154Z"
   },
   {
    "duration": 362,
    "start_time": "2023-03-20T18:22:40.601Z"
   },
   {
    "duration": 256,
    "start_time": "2023-03-20T18:22:40.965Z"
   },
   {
    "duration": 321,
    "start_time": "2023-03-20T18:22:41.223Z"
   },
   {
    "duration": 12,
    "start_time": "2023-03-20T18:22:41.546Z"
   },
   {
    "duration": 312,
    "start_time": "2023-03-20T18:22:41.559Z"
   },
   {
    "duration": 1418,
    "start_time": "2023-03-20T18:22:41.873Z"
   },
   {
    "duration": 188,
    "start_time": "2023-03-20T18:22:43.293Z"
   },
   {
    "duration": 10,
    "start_time": "2023-03-20T18:22:43.482Z"
   },
   {
    "duration": 224,
    "start_time": "2023-03-20T18:22:43.494Z"
   },
   {
    "duration": 595,
    "start_time": "2023-03-20T18:22:43.720Z"
   },
   {
    "duration": 398,
    "start_time": "2023-03-20T18:22:44.317Z"
   },
   {
    "duration": 5,
    "start_time": "2023-03-20T18:22:44.717Z"
   },
   {
    "duration": 252,
    "start_time": "2023-03-20T18:22:44.724Z"
   },
   {
    "duration": 16,
    "start_time": "2023-03-20T18:22:44.978Z"
   },
   {
    "duration": 10,
    "start_time": "2023-03-20T18:22:44.995Z"
   },
   {
    "duration": 110,
    "start_time": "2023-03-20T18:23:58.197Z"
   },
   {
    "duration": 29,
    "start_time": "2023-03-20T18:24:13.273Z"
   },
   {
    "duration": 98,
    "start_time": "2023-03-20T18:24:49.998Z"
   },
   {
    "duration": 244,
    "start_time": "2023-03-20T18:29:37.077Z"
   },
   {
    "duration": 1192,
    "start_time": "2023-03-20T18:29:42.485Z"
   },
   {
    "duration": 106,
    "start_time": "2023-03-20T18:29:43.680Z"
   },
   {
    "duration": 10,
    "start_time": "2023-03-20T18:29:43.788Z"
   },
   {
    "duration": 11,
    "start_time": "2023-03-20T18:29:43.799Z"
   },
   {
    "duration": 8,
    "start_time": "2023-03-20T18:29:43.812Z"
   },
   {
    "duration": 18,
    "start_time": "2023-03-20T18:29:43.821Z"
   },
   {
    "duration": 54,
    "start_time": "2023-03-20T18:29:43.840Z"
   },
   {
    "duration": 76,
    "start_time": "2023-03-20T18:29:43.895Z"
   },
   {
    "duration": 391,
    "start_time": "2023-03-20T18:29:43.987Z"
   },
   {
    "duration": 455,
    "start_time": "2023-03-20T18:29:44.379Z"
   },
   {
    "duration": 405,
    "start_time": "2023-03-20T18:29:44.836Z"
   },
   {
    "duration": 255,
    "start_time": "2023-03-20T18:29:45.243Z"
   },
   {
    "duration": 340,
    "start_time": "2023-03-20T18:29:45.499Z"
   },
   {
    "duration": 13,
    "start_time": "2023-03-20T18:29:45.842Z"
   },
   {
    "duration": 315,
    "start_time": "2023-03-20T18:29:45.857Z"
   },
   {
    "duration": 1495,
    "start_time": "2023-03-20T18:29:46.175Z"
   },
   {
    "duration": 194,
    "start_time": "2023-03-20T18:29:47.672Z"
   },
   {
    "duration": 8,
    "start_time": "2023-03-20T18:29:47.867Z"
   },
   {
    "duration": 247,
    "start_time": "2023-03-20T18:29:47.889Z"
   },
   {
    "duration": 612,
    "start_time": "2023-03-20T18:29:48.138Z"
   },
   {
    "duration": 379,
    "start_time": "2023-03-20T18:29:48.752Z"
   },
   {
    "duration": 4,
    "start_time": "2023-03-20T18:29:49.133Z"
   },
   {
    "duration": 234,
    "start_time": "2023-03-20T18:29:49.138Z"
   },
   {
    "duration": 16,
    "start_time": "2023-03-20T18:29:49.374Z"
   },
   {
    "duration": 16,
    "start_time": "2023-03-20T18:29:49.392Z"
   },
   {
    "duration": 152,
    "start_time": "2023-03-20T18:31:57.918Z"
   },
   {
    "duration": 243,
    "start_time": "2023-03-20T18:32:56.772Z"
   },
   {
    "duration": 343,
    "start_time": "2023-03-20T18:34:08.439Z"
   },
   {
    "duration": 273,
    "start_time": "2023-03-20T18:34:51.911Z"
   },
   {
    "duration": 350,
    "start_time": "2023-03-20T18:34:58.490Z"
   },
   {
    "duration": 351,
    "start_time": "2023-03-20T18:35:09.643Z"
   },
   {
    "duration": 34,
    "start_time": "2023-03-20T18:36:08.558Z"
   },
   {
    "duration": 269,
    "start_time": "2023-03-20T18:37:44.198Z"
   },
   {
    "duration": 252,
    "start_time": "2023-03-20T18:41:57.242Z"
   },
   {
    "duration": 282,
    "start_time": "2023-03-20T18:42:41.521Z"
   },
   {
    "duration": 379,
    "start_time": "2023-03-20T18:43:03.781Z"
   },
   {
    "duration": 283,
    "start_time": "2023-03-20T18:43:41.932Z"
   },
   {
    "duration": 314,
    "start_time": "2023-03-20T18:44:15.958Z"
   },
   {
    "duration": 330,
    "start_time": "2023-03-20T18:47:13.035Z"
   },
   {
    "duration": 311,
    "start_time": "2023-03-20T18:47:29.206Z"
   },
   {
    "duration": 396,
    "start_time": "2023-03-20T18:47:35.096Z"
   },
   {
    "duration": 405,
    "start_time": "2023-03-20T18:47:50.522Z"
   },
   {
    "duration": 1337,
    "start_time": "2023-03-20T18:56:41.512Z"
   },
   {
    "duration": 297,
    "start_time": "2023-03-20T18:57:12.835Z"
   },
   {
    "duration": 4,
    "start_time": "2023-03-20T18:59:33.843Z"
   },
   {
    "duration": 284,
    "start_time": "2023-03-20T18:59:54.355Z"
   },
   {
    "duration": 1183,
    "start_time": "2023-03-20T19:00:34.823Z"
   },
   {
    "duration": 79,
    "start_time": "2023-03-20T19:00:36.008Z"
   },
   {
    "duration": 11,
    "start_time": "2023-03-20T19:00:36.089Z"
   },
   {
    "duration": 12,
    "start_time": "2023-03-20T19:00:36.103Z"
   },
   {
    "duration": 9,
    "start_time": "2023-03-20T19:00:36.117Z"
   },
   {
    "duration": 19,
    "start_time": "2023-03-20T19:00:36.127Z"
   },
   {
    "duration": 51,
    "start_time": "2023-03-20T19:00:36.147Z"
   },
   {
    "duration": 89,
    "start_time": "2023-03-20T19:00:36.200Z"
   },
   {
    "duration": 376,
    "start_time": "2023-03-20T19:00:36.291Z"
   },
   {
    "duration": 476,
    "start_time": "2023-03-20T19:00:36.670Z"
   },
   {
    "duration": 388,
    "start_time": "2023-03-20T19:00:37.148Z"
   },
   {
    "duration": 251,
    "start_time": "2023-03-20T19:00:37.538Z"
   },
   {
    "duration": 327,
    "start_time": "2023-03-20T19:00:37.791Z"
   },
   {
    "duration": 14,
    "start_time": "2023-03-20T19:00:38.119Z"
   },
   {
    "duration": 325,
    "start_time": "2023-03-20T19:00:38.134Z"
   },
   {
    "duration": 1566,
    "start_time": "2023-03-20T19:00:38.461Z"
   },
   {
    "duration": 205,
    "start_time": "2023-03-20T19:00:40.029Z"
   },
   {
    "duration": 7,
    "start_time": "2023-03-20T19:00:40.236Z"
   },
   {
    "duration": 302,
    "start_time": "2023-03-20T19:00:40.245Z"
   },
   {
    "duration": 427,
    "start_time": "2023-03-20T19:00:40.548Z"
   },
   {
    "duration": 14,
    "start_time": "2023-03-20T19:00:40.977Z"
   },
   {
    "duration": 233,
    "start_time": "2023-03-20T19:00:40.992Z"
   },
   {
    "duration": 9,
    "start_time": "2023-03-20T19:00:41.227Z"
   },
   {
    "duration": 24,
    "start_time": "2023-03-20T19:00:41.238Z"
   },
   {
    "duration": 5,
    "start_time": "2023-03-20T19:02:33.091Z"
   },
   {
    "duration": 278,
    "start_time": "2023-03-20T19:03:47.212Z"
   },
   {
    "duration": 273,
    "start_time": "2023-03-20T19:04:01.664Z"
   },
   {
    "duration": 283,
    "start_time": "2023-03-20T19:04:25.663Z"
   },
   {
    "duration": 4,
    "start_time": "2023-03-20T19:05:00.127Z"
   },
   {
    "duration": 244,
    "start_time": "2023-03-20T19:23:38.992Z"
   },
   {
    "duration": 1194,
    "start_time": "2023-03-20T19:24:19.120Z"
   },
   {
    "duration": 79,
    "start_time": "2023-03-20T19:24:20.316Z"
   },
   {
    "duration": 11,
    "start_time": "2023-03-20T19:24:20.396Z"
   },
   {
    "duration": 12,
    "start_time": "2023-03-20T19:24:20.409Z"
   },
   {
    "duration": 9,
    "start_time": "2023-03-20T19:24:20.423Z"
   },
   {
    "duration": 19,
    "start_time": "2023-03-20T19:24:20.434Z"
   },
   {
    "duration": 55,
    "start_time": "2023-03-20T19:24:20.455Z"
   },
   {
    "duration": 88,
    "start_time": "2023-03-20T19:24:20.511Z"
   },
   {
    "duration": 370,
    "start_time": "2023-03-20T19:24:20.601Z"
   },
   {
    "duration": 461,
    "start_time": "2023-03-20T19:24:20.973Z"
   },
   {
    "duration": 366,
    "start_time": "2023-03-20T19:24:21.435Z"
   },
   {
    "duration": 253,
    "start_time": "2023-03-20T19:24:21.803Z"
   },
   {
    "duration": 330,
    "start_time": "2023-03-20T19:24:22.058Z"
   },
   {
    "duration": 12,
    "start_time": "2023-03-20T19:24:22.391Z"
   },
   {
    "duration": 338,
    "start_time": "2023-03-20T19:24:22.405Z"
   },
   {
    "duration": 1507,
    "start_time": "2023-03-20T19:24:22.745Z"
   },
   {
    "duration": 201,
    "start_time": "2023-03-20T19:24:24.253Z"
   },
   {
    "duration": 7,
    "start_time": "2023-03-20T19:24:24.456Z"
   },
   {
    "duration": 324,
    "start_time": "2023-03-20T19:24:24.464Z"
   },
   {
    "duration": 415,
    "start_time": "2023-03-20T19:24:24.790Z"
   },
   {
    "duration": 6,
    "start_time": "2023-03-20T19:24:25.207Z"
   },
   {
    "duration": 230,
    "start_time": "2023-03-20T19:24:25.215Z"
   },
   {
    "duration": 8,
    "start_time": "2023-03-20T19:24:25.447Z"
   },
   {
    "duration": 11,
    "start_time": "2023-03-20T19:24:25.457Z"
   },
   {
    "duration": 206,
    "start_time": "2023-03-20T19:26:38.759Z"
   },
   {
    "duration": 248,
    "start_time": "2023-03-20T19:26:49.732Z"
   },
   {
    "duration": 191,
    "start_time": "2023-03-20T19:26:58.497Z"
   },
   {
    "duration": 203,
    "start_time": "2023-03-20T19:27:19.072Z"
   },
   {
    "duration": 200,
    "start_time": "2023-03-20T19:27:35.784Z"
   },
   {
    "duration": 7,
    "start_time": "2023-03-20T19:27:38.132Z"
   },
   {
    "duration": 291,
    "start_time": "2023-03-20T19:30:56.160Z"
   },
   {
    "duration": 330,
    "start_time": "2023-03-20T19:31:01.900Z"
   },
   {
    "duration": 4,
    "start_time": "2023-03-20T19:31:18.521Z"
   },
   {
    "duration": 328,
    "start_time": "2023-03-20T19:31:23.660Z"
   },
   {
    "duration": 10,
    "start_time": "2023-03-20T19:37:08.976Z"
   },
   {
    "duration": 115,
    "start_time": "2023-03-20T19:38:17.080Z"
   },
   {
    "duration": 120,
    "start_time": "2023-03-20T19:38:32.681Z"
   },
   {
    "duration": 9,
    "start_time": "2023-03-20T19:39:05.012Z"
   },
   {
    "duration": 9,
    "start_time": "2023-03-20T19:52:04.410Z"
   },
   {
    "duration": 835,
    "start_time": "2023-03-20T19:54:04.405Z"
   },
   {
    "duration": 11,
    "start_time": "2023-03-20T19:54:21.372Z"
   },
   {
    "duration": 10,
    "start_time": "2023-03-20T19:54:38.751Z"
   },
   {
    "duration": 12,
    "start_time": "2023-03-20T19:54:47.248Z"
   },
   {
    "duration": 13,
    "start_time": "2023-03-20T19:55:58.916Z"
   },
   {
    "duration": 12,
    "start_time": "2023-03-20T19:56:32.879Z"
   },
   {
    "duration": 14,
    "start_time": "2023-03-20T19:57:08.731Z"
   },
   {
    "duration": 94,
    "start_time": "2023-03-20T19:58:43.597Z"
   },
   {
    "duration": 10,
    "start_time": "2023-03-20T19:59:11.825Z"
   },
   {
    "duration": 79,
    "start_time": "2023-03-20T19:59:41.627Z"
   },
   {
    "duration": 68,
    "start_time": "2023-03-20T19:59:56.280Z"
   },
   {
    "duration": 71,
    "start_time": "2023-03-20T20:00:21.484Z"
   },
   {
    "duration": 74,
    "start_time": "2023-03-20T20:00:36.124Z"
   },
   {
    "duration": 76,
    "start_time": "2023-03-20T20:01:09.592Z"
   },
   {
    "duration": 95,
    "start_time": "2023-03-20T20:02:08.722Z"
   },
   {
    "duration": 81,
    "start_time": "2023-03-20T20:02:12.744Z"
   },
   {
    "duration": 93,
    "start_time": "2023-03-20T20:02:16.063Z"
   },
   {
    "duration": 70,
    "start_time": "2023-03-20T20:03:27.514Z"
   },
   {
    "duration": 14,
    "start_time": "2023-03-20T20:03:34.676Z"
   },
   {
    "duration": 12,
    "start_time": "2023-03-20T20:03:40.628Z"
   },
   {
    "duration": 10,
    "start_time": "2023-03-20T20:03:48.123Z"
   },
   {
    "duration": 11,
    "start_time": "2023-03-20T20:03:54.963Z"
   },
   {
    "duration": 11,
    "start_time": "2023-03-20T20:04:32.867Z"
   },
   {
    "duration": 15,
    "start_time": "2023-03-20T20:05:52.748Z"
   },
   {
    "duration": 319,
    "start_time": "2023-03-20T20:10:32.377Z"
   },
   {
    "duration": 324,
    "start_time": "2023-03-20T20:10:43.835Z"
   },
   {
    "duration": 344,
    "start_time": "2023-03-20T20:10:49.520Z"
   },
   {
    "duration": 1466,
    "start_time": "2023-03-20T20:13:35.056Z"
   },
   {
    "duration": 1447,
    "start_time": "2023-03-20T20:13:50.148Z"
   },
   {
    "duration": 1332,
    "start_time": "2023-03-20T20:14:16.287Z"
   },
   {
    "duration": 264,
    "start_time": "2023-03-20T20:29:27.575Z"
   },
   {
    "duration": 394,
    "start_time": "2023-03-20T20:29:51.017Z"
   },
   {
    "duration": 1444,
    "start_time": "2023-03-20T20:31:16.809Z"
   },
   {
    "duration": 1693,
    "start_time": "2023-03-20T20:36:25.404Z"
   },
   {
    "duration": 116,
    "start_time": "2023-03-21T07:16:21.711Z"
   },
   {
    "duration": 1333,
    "start_time": "2023-03-21T07:25:30.347Z"
   },
   {
    "duration": 133,
    "start_time": "2023-03-21T07:25:31.682Z"
   },
   {
    "duration": 11,
    "start_time": "2023-03-21T07:25:31.817Z"
   },
   {
    "duration": 18,
    "start_time": "2023-03-21T07:25:31.830Z"
   },
   {
    "duration": 13,
    "start_time": "2023-03-21T07:25:31.849Z"
   },
   {
    "duration": 22,
    "start_time": "2023-03-21T07:25:31.863Z"
   },
   {
    "duration": 17,
    "start_time": "2023-03-21T07:25:31.887Z"
   },
   {
    "duration": 91,
    "start_time": "2023-03-21T07:25:31.906Z"
   },
   {
    "duration": 389,
    "start_time": "2023-03-21T07:25:31.999Z"
   },
   {
    "duration": 461,
    "start_time": "2023-03-21T07:25:32.390Z"
   },
   {
    "duration": 391,
    "start_time": "2023-03-21T07:25:32.853Z"
   },
   {
    "duration": 261,
    "start_time": "2023-03-21T07:25:33.246Z"
   },
   {
    "duration": 353,
    "start_time": "2023-03-21T07:25:33.509Z"
   },
   {
    "duration": 12,
    "start_time": "2023-03-21T07:25:33.864Z"
   },
   {
    "duration": 331,
    "start_time": "2023-03-21T07:25:33.878Z"
   },
   {
    "duration": 1450,
    "start_time": "2023-03-21T07:25:34.210Z"
   },
   {
    "duration": 236,
    "start_time": "2023-03-21T07:25:35.661Z"
   },
   {
    "duration": 9,
    "start_time": "2023-03-21T07:25:35.899Z"
   },
   {
    "duration": 321,
    "start_time": "2023-03-21T07:25:35.910Z"
   },
   {
    "duration": 413,
    "start_time": "2023-03-21T07:25:36.233Z"
   },
   {
    "duration": 15,
    "start_time": "2023-03-21T07:25:36.648Z"
   },
   {
    "duration": 270,
    "start_time": "2023-03-21T07:25:36.667Z"
   },
   {
    "duration": 23,
    "start_time": "2023-03-21T07:25:36.939Z"
   },
   {
    "duration": 13,
    "start_time": "2023-03-21T07:25:36.964Z"
   },
   {
    "duration": 277,
    "start_time": "2023-03-21T07:34:43.581Z"
   },
   {
    "duration": 7,
    "start_time": "2023-03-21T07:34:48.396Z"
   },
   {
    "duration": 334,
    "start_time": "2023-03-21T07:34:56.859Z"
   },
   {
    "duration": 7,
    "start_time": "2023-03-21T07:35:01.779Z"
   },
   {
    "duration": 204,
    "start_time": "2023-03-21T07:35:09.555Z"
   },
   {
    "duration": 8,
    "start_time": "2023-03-21T07:35:15.710Z"
   },
   {
    "duration": 303,
    "start_time": "2023-03-21T07:35:31.243Z"
   },
   {
    "duration": 294,
    "start_time": "2023-03-21T07:35:48.645Z"
   },
   {
    "duration": 4,
    "start_time": "2023-03-21T07:36:03.477Z"
   },
   {
    "duration": 316,
    "start_time": "2023-03-21T07:36:13.851Z"
   },
   {
    "duration": 10,
    "start_time": "2023-03-21T07:38:30.195Z"
   },
   {
    "duration": 12,
    "start_time": "2023-03-21T07:38:43.831Z"
   },
   {
    "duration": 9,
    "start_time": "2023-03-21T08:01:20.596Z"
   },
   {
    "duration": 12,
    "start_time": "2023-03-21T08:01:27.435Z"
   },
   {
    "duration": 1223,
    "start_time": "2023-03-21T08:57:58.189Z"
   },
   {
    "duration": 99,
    "start_time": "2023-03-21T08:57:59.414Z"
   },
   {
    "duration": 12,
    "start_time": "2023-03-21T08:57:59.515Z"
   },
   {
    "duration": 15,
    "start_time": "2023-03-21T08:57:59.528Z"
   },
   {
    "duration": 31,
    "start_time": "2023-03-21T08:57:59.545Z"
   },
   {
    "duration": 44,
    "start_time": "2023-03-21T08:57:59.578Z"
   },
   {
    "duration": 18,
    "start_time": "2023-03-21T08:57:59.624Z"
   },
   {
    "duration": 107,
    "start_time": "2023-03-21T08:57:59.644Z"
   },
   {
    "duration": 447,
    "start_time": "2023-03-21T08:57:59.753Z"
   },
   {
    "duration": 583,
    "start_time": "2023-03-21T08:58:00.202Z"
   },
   {
    "duration": 470,
    "start_time": "2023-03-21T08:58:00.787Z"
   },
   {
    "duration": 337,
    "start_time": "2023-03-21T08:58:01.259Z"
   },
   {
    "duration": 517,
    "start_time": "2023-03-21T08:58:01.598Z"
   },
   {
    "duration": 20,
    "start_time": "2023-03-21T08:58:02.124Z"
   },
   {
    "duration": 424,
    "start_time": "2023-03-21T08:58:02.147Z"
   },
   {
    "duration": 1769,
    "start_time": "2023-03-21T08:58:02.577Z"
   },
   {
    "duration": 253,
    "start_time": "2023-03-21T08:58:04.347Z"
   },
   {
    "duration": 8,
    "start_time": "2023-03-21T08:58:04.602Z"
   },
   {
    "duration": 367,
    "start_time": "2023-03-21T08:58:04.611Z"
   },
   {
    "duration": 493,
    "start_time": "2023-03-21T08:58:04.980Z"
   },
   {
    "duration": 5,
    "start_time": "2023-03-21T08:58:05.484Z"
   },
   {
    "duration": 249,
    "start_time": "2023-03-21T08:58:05.490Z"
   },
   {
    "duration": 24,
    "start_time": "2023-03-21T08:58:05.741Z"
   },
   {
    "duration": 27,
    "start_time": "2023-03-21T08:58:05.776Z"
   },
   {
    "duration": 1174,
    "start_time": "2023-03-21T21:20:25.969Z"
   },
   {
    "duration": 77,
    "start_time": "2023-03-21T21:20:27.145Z"
   },
   {
    "duration": 13,
    "start_time": "2023-03-21T21:20:27.225Z"
   },
   {
    "duration": 16,
    "start_time": "2023-03-21T21:20:27.240Z"
   },
   {
    "duration": 12,
    "start_time": "2023-03-21T21:20:27.258Z"
   },
   {
    "duration": 18,
    "start_time": "2023-03-21T21:20:27.272Z"
   },
   {
    "duration": 54,
    "start_time": "2023-03-21T21:20:27.292Z"
   },
   {
    "duration": 91,
    "start_time": "2023-03-21T21:20:27.348Z"
   },
   {
    "duration": 416,
    "start_time": "2023-03-21T21:20:27.441Z"
   },
   {
    "duration": 622,
    "start_time": "2023-03-21T21:20:27.859Z"
   },
   {
    "duration": 457,
    "start_time": "2023-03-21T21:20:28.483Z"
   },
   {
    "duration": 315,
    "start_time": "2023-03-21T21:20:28.942Z"
   },
   {
    "duration": 423,
    "start_time": "2023-03-21T21:20:29.259Z"
   },
   {
    "duration": 17,
    "start_time": "2023-03-21T21:20:29.685Z"
   },
   {
    "duration": 392,
    "start_time": "2023-03-21T21:20:29.704Z"
   },
   {
    "duration": 1683,
    "start_time": "2023-03-21T21:20:30.097Z"
   },
   {
    "duration": 226,
    "start_time": "2023-03-21T21:20:31.782Z"
   },
   {
    "duration": 18,
    "start_time": "2023-03-21T21:20:32.009Z"
   },
   {
    "duration": 328,
    "start_time": "2023-03-21T21:20:32.029Z"
   },
   {
    "duration": 448,
    "start_time": "2023-03-21T21:20:32.359Z"
   },
   {
    "duration": 4,
    "start_time": "2023-03-21T21:20:32.809Z"
   },
   {
    "duration": 253,
    "start_time": "2023-03-21T21:20:32.815Z"
   },
   {
    "duration": 10,
    "start_time": "2023-03-21T21:20:33.070Z"
   },
   {
    "duration": 46,
    "start_time": "2023-03-21T21:20:33.082Z"
   },
   {
    "duration": 68,
    "start_time": "2023-03-22T12:20:32.330Z"
   },
   {
    "duration": 1371,
    "start_time": "2023-03-22T12:20:40.315Z"
   },
   {
    "duration": 524,
    "start_time": "2023-03-22T12:20:41.689Z"
   },
   {
    "duration": 12,
    "start_time": "2023-03-22T12:20:42.214Z"
   },
   {
    "duration": 17,
    "start_time": "2023-03-22T12:20:42.228Z"
   },
   {
    "duration": 10,
    "start_time": "2023-03-22T12:20:42.257Z"
   },
   {
    "duration": 17,
    "start_time": "2023-03-22T12:20:42.269Z"
   },
   {
    "duration": 17,
    "start_time": "2023-03-22T12:20:42.288Z"
   },
   {
    "duration": 97,
    "start_time": "2023-03-22T12:20:42.307Z"
   },
   {
    "duration": 450,
    "start_time": "2023-03-22T12:20:42.406Z"
   },
   {
    "duration": 472,
    "start_time": "2023-03-22T12:20:42.858Z"
   },
   {
    "duration": 391,
    "start_time": "2023-03-22T12:20:43.331Z"
   },
   {
    "duration": 294,
    "start_time": "2023-03-22T12:20:43.723Z"
   },
   {
    "duration": 380,
    "start_time": "2023-03-22T12:20:44.019Z"
   },
   {
    "duration": 13,
    "start_time": "2023-03-22T12:20:44.401Z"
   },
   {
    "duration": 375,
    "start_time": "2023-03-22T12:20:44.416Z"
   },
   {
    "duration": 1641,
    "start_time": "2023-03-22T12:20:44.793Z"
   },
   {
    "duration": 230,
    "start_time": "2023-03-22T12:20:46.435Z"
   },
   {
    "duration": 7,
    "start_time": "2023-03-22T12:20:46.667Z"
   },
   {
    "duration": 411,
    "start_time": "2023-03-22T12:20:46.675Z"
   },
   {
    "duration": 349,
    "start_time": "2023-03-22T12:20:47.088Z"
   },
   {
    "duration": 4,
    "start_time": "2023-03-22T12:20:47.443Z"
   },
   {
    "duration": 253,
    "start_time": "2023-03-22T12:20:47.449Z"
   },
   {
    "duration": 11,
    "start_time": "2023-03-22T12:20:47.704Z"
   },
   {
    "duration": 31,
    "start_time": "2023-03-22T12:20:47.717Z"
   },
   {
    "duration": 54,
    "start_time": "2023-04-22T10:11:23.057Z"
   },
   {
    "duration": 1293,
    "start_time": "2023-04-22T10:11:30.747Z"
   },
   {
    "duration": 138,
    "start_time": "2023-04-22T10:11:32.042Z"
   },
   {
    "duration": 12,
    "start_time": "2023-04-22T10:11:32.181Z"
   },
   {
    "duration": 58,
    "start_time": "2023-04-22T10:11:32.195Z"
   },
   {
    "duration": 55,
    "start_time": "2023-04-22T10:11:32.255Z"
   },
   {
    "duration": 32,
    "start_time": "2023-04-22T10:11:32.313Z"
   },
   {
    "duration": 38,
    "start_time": "2023-04-22T10:11:32.347Z"
   },
   {
    "duration": 130,
    "start_time": "2023-04-22T10:11:32.388Z"
   },
   {
    "duration": 544,
    "start_time": "2023-04-22T10:11:32.521Z"
   },
   {
    "duration": 500,
    "start_time": "2023-04-22T10:11:33.068Z"
   },
   {
    "duration": 430,
    "start_time": "2023-04-22T10:11:33.570Z"
   },
   {
    "duration": 299,
    "start_time": "2023-04-22T10:11:34.002Z"
   },
   {
    "duration": 394,
    "start_time": "2023-04-22T10:11:34.302Z"
   },
   {
    "duration": 32,
    "start_time": "2023-04-22T10:11:34.698Z"
   },
   {
    "duration": 364,
    "start_time": "2023-04-22T10:11:34.733Z"
   },
   {
    "duration": 1691,
    "start_time": "2023-04-22T10:11:35.099Z"
   },
   {
    "duration": 269,
    "start_time": "2023-04-22T10:11:36.792Z"
   },
   {
    "duration": 8,
    "start_time": "2023-04-22T10:11:37.063Z"
   },
   {
    "duration": 383,
    "start_time": "2023-04-22T10:11:37.073Z"
   },
   {
    "duration": 453,
    "start_time": "2023-04-22T10:11:37.458Z"
   },
   {
    "duration": 8,
    "start_time": "2023-04-22T10:11:37.912Z"
   },
   {
    "duration": 258,
    "start_time": "2023-04-22T10:11:37.922Z"
   },
   {
    "duration": 10,
    "start_time": "2023-04-22T10:11:38.182Z"
   },
   {
    "duration": 29,
    "start_time": "2023-04-22T10:11:38.194Z"
   },
   {
    "duration": 394,
    "start_time": "2023-04-22T10:11:59.799Z"
   },
   {
    "duration": 49,
    "start_time": "2023-09-13T09:05:22.442Z"
   },
   {
    "duration": 1156,
    "start_time": "2023-09-13T09:05:28.334Z"
   },
   {
    "duration": 126,
    "start_time": "2023-09-13T09:05:29.492Z"
   },
   {
    "duration": 26,
    "start_time": "2023-09-13T09:05:29.620Z"
   },
   {
    "duration": 12,
    "start_time": "2023-09-13T09:05:29.649Z"
   },
   {
    "duration": 27,
    "start_time": "2023-09-13T09:05:29.663Z"
   },
   {
    "duration": 21,
    "start_time": "2023-09-13T09:05:29.692Z"
   },
   {
    "duration": 21,
    "start_time": "2023-09-13T09:05:29.715Z"
   },
   {
    "duration": 18,
    "start_time": "2023-09-13T09:05:29.738Z"
   },
   {
    "duration": 103,
    "start_time": "2023-09-13T09:05:29.758Z"
   },
   {
    "duration": 369,
    "start_time": "2023-09-13T09:05:29.880Z"
   },
   {
    "duration": 447,
    "start_time": "2023-09-13T09:05:30.250Z"
   },
   {
    "duration": 397,
    "start_time": "2023-09-13T09:05:30.698Z"
   },
   {
    "duration": 277,
    "start_time": "2023-09-13T09:05:31.097Z"
   },
   {
    "duration": 351,
    "start_time": "2023-09-13T09:05:31.376Z"
   },
   {
    "duration": 12,
    "start_time": "2023-09-13T09:05:31.729Z"
   },
   {
    "duration": 397,
    "start_time": "2023-09-13T09:05:31.742Z"
   },
   {
    "duration": 1468,
    "start_time": "2023-09-13T09:05:32.141Z"
   },
   {
    "duration": 204,
    "start_time": "2023-09-13T09:05:33.610Z"
   },
   {
    "duration": 7,
    "start_time": "2023-09-13T09:05:33.816Z"
   },
   {
    "duration": 309,
    "start_time": "2023-09-13T09:05:33.825Z"
   },
   {
    "duration": 391,
    "start_time": "2023-09-13T09:05:34.136Z"
   },
   {
    "duration": 4,
    "start_time": "2023-09-13T09:05:34.529Z"
   },
   {
    "duration": 225,
    "start_time": "2023-09-13T09:05:34.534Z"
   },
   {
    "duration": 9,
    "start_time": "2023-09-13T09:05:34.761Z"
   },
   {
    "duration": 10,
    "start_time": "2023-09-13T09:05:34.780Z"
   },
   {
    "duration": 8,
    "start_time": "2023-09-13T09:07:08.771Z"
   },
   {
    "duration": 390,
    "start_time": "2023-09-13T09:19:18.476Z"
   },
   {
    "duration": 268,
    "start_time": "2023-09-13T09:20:03.383Z"
   },
   {
    "duration": 363,
    "start_time": "2023-09-13T09:20:24.068Z"
   },
   {
    "duration": 352,
    "start_time": "2023-09-13T09:20:34.407Z"
   },
   {
    "duration": 118,
    "start_time": "2023-09-13T09:24:26.228Z"
   },
   {
    "duration": 373,
    "start_time": "2023-09-13T09:24:34.540Z"
   },
   {
    "duration": 379,
    "start_time": "2023-09-13T09:24:58.555Z"
   },
   {
    "duration": 385,
    "start_time": "2023-09-13T09:29:12.764Z"
   },
   {
    "duration": 367,
    "start_time": "2023-09-13T09:30:25.324Z"
   },
   {
    "duration": 374,
    "start_time": "2023-09-13T09:30:50.212Z"
   },
   {
    "duration": 258,
    "start_time": "2023-09-13T09:31:00.440Z"
   },
   {
    "duration": 278,
    "start_time": "2023-09-13T09:33:29.348Z"
   }
  ],
  "kernelspec": {
   "display_name": "Python 3 (ipykernel)",
   "language": "python",
   "name": "python3"
  },
  "language_info": {
   "codemirror_mode": {
    "name": "ipython",
    "version": 3
   },
   "file_extension": ".py",
   "mimetype": "text/x-python",
   "name": "python",
   "nbconvert_exporter": "python",
   "pygments_lexer": "ipython3",
   "version": "3.9.5"
  },
  "toc": {
   "base_numbering": 1,
   "nav_menu": {},
   "number_sections": true,
   "sideBar": true,
   "skip_h1_title": true,
   "title_cell": "Table of Contents",
   "title_sidebar": "Contents",
   "toc_cell": false,
   "toc_position": {},
   "toc_section_display": true,
   "toc_window_display": false
  }
 },
 "nbformat": 4,
 "nbformat_minor": 2
}
