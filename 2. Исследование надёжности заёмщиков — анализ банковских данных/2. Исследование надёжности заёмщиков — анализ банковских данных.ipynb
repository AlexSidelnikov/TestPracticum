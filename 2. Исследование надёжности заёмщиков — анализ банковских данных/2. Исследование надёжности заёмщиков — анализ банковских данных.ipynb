{
 "cells": [
  {
   "cell_type": "markdown",
   "id": "386f2ae7",
   "metadata": {
    "deletable": false,
    "editable": false,
    "id": "386f2ae7"
   },
   "source": [
    "# Исследование надежности заемщиков\n"
   ]
  },
  {
   "cell_type": "markdown",
   "id": "ffe86f65",
   "metadata": {
    "deletable": false,
    "editable": false,
    "id": "ffe86f65"
   },
   "source": [
    "Заказчик — кредитный отдел банка. Нужно разобраться, влияет ли семейное положение и количество детей клиента на факт погашения кредита в срок. Входные данные от банка — статистика о платёжеспособности клиентов. Результаты исследования будут учтены при построении модели кредитного скоринга — специальной системы, которая оценивает способность потенциального заёмщика вернуть кредит банку.\n",
    "\n",
    "Основная цель проекта: определить как различные данные клиента банка такие как - количество детей, семейное положение, уровень дохода и разные цели кредита влияют на его возврат в срок. Эта информация понадобится в дальнейшем для определения основных критерий, по каторому будут выдаваться кредиты.\n",
    "\n",
    "Для начала исходную таблицу нужно привести в такой вид, чтобы с ней было комфортно работать. Для этого необходимо произвести предобоработку данных, чтобы затем перейти к анализу данных с целью обнаружения закономерностей, полностью отвечали на вопросы, поднятые в основной цели проекта.\n",
    "\n"
   ]
  },
  {
   "cell_type": "markdown",
   "id": "26613308",
   "metadata": {
    "deletable": false,
    "editable": false,
    "id": "26613308"
   },
   "source": [
    "## Откроем таблицу и изучим общую информацию о данных"
   ]
  },
  {
   "cell_type": "markdown",
   "id": "3c9f838e",
   "metadata": {
    "deletable": false,
    "editable": false,
    "id": "3c9f838e"
   },
   "source": [
    "**Импортируем библиотеку pandas. Считаем данные из csv-файла в датафрейм и сохраним в переменную `data`. Путь к файлу:**\n",
    "\n",
    "`/datasets/data.csv`"
   ]
  },
  {
   "cell_type": "code",
   "execution_count": 1,
   "id": "77a68a90",
   "metadata": {
    "deletable": false,
    "id": "77a68a90"
   },
   "outputs": [],
   "source": [
    "import pandas as pd\n",
    "\n",
    "data = pd.read_csv('/datasets/data.csv')"
   ]
  },
  {
   "cell_type": "markdown",
   "id": "45365635",
   "metadata": {
    "deletable": false,
    "editable": false,
    "id": "45365635"
   },
   "source": [
    "**Выведим первые 20 строчек датафрейма `data` на экран.**"
   ]
  },
  {
   "cell_type": "code",
   "execution_count": 2,
   "id": "b0451a9a",
   "metadata": {
    "deletable": false,
    "id": "b0451a9a",
    "outputId": "1a8f3ef2-d323-4ec2-ddf7-89670b5944c4"
   },
   "outputs": [
    {
     "data": {
      "text/html": [
       "<div>\n",
       "<style scoped>\n",
       "    .dataframe tbody tr th:only-of-type {\n",
       "        vertical-align: middle;\n",
       "    }\n",
       "\n",
       "    .dataframe tbody tr th {\n",
       "        vertical-align: top;\n",
       "    }\n",
       "\n",
       "    .dataframe thead th {\n",
       "        text-align: right;\n",
       "    }\n",
       "</style>\n",
       "<table border=\"1\" class=\"dataframe\">\n",
       "  <thead>\n",
       "    <tr style=\"text-align: right;\">\n",
       "      <th></th>\n",
       "      <th>children</th>\n",
       "      <th>days_employed</th>\n",
       "      <th>dob_years</th>\n",
       "      <th>education</th>\n",
       "      <th>education_id</th>\n",
       "      <th>family_status</th>\n",
       "      <th>family_status_id</th>\n",
       "      <th>gender</th>\n",
       "      <th>income_type</th>\n",
       "      <th>debt</th>\n",
       "      <th>total_income</th>\n",
       "      <th>purpose</th>\n",
       "    </tr>\n",
       "  </thead>\n",
       "  <tbody>\n",
       "    <tr>\n",
       "      <th>0</th>\n",
       "      <td>1</td>\n",
       "      <td>-8437.673028</td>\n",
       "      <td>42</td>\n",
       "      <td>высшее</td>\n",
       "      <td>0</td>\n",
       "      <td>женат / замужем</td>\n",
       "      <td>0</td>\n",
       "      <td>F</td>\n",
       "      <td>сотрудник</td>\n",
       "      <td>0</td>\n",
       "      <td>253875.639453</td>\n",
       "      <td>покупка жилья</td>\n",
       "    </tr>\n",
       "    <tr>\n",
       "      <th>1</th>\n",
       "      <td>1</td>\n",
       "      <td>-4024.803754</td>\n",
       "      <td>36</td>\n",
       "      <td>среднее</td>\n",
       "      <td>1</td>\n",
       "      <td>женат / замужем</td>\n",
       "      <td>0</td>\n",
       "      <td>F</td>\n",
       "      <td>сотрудник</td>\n",
       "      <td>0</td>\n",
       "      <td>112080.014102</td>\n",
       "      <td>приобретение автомобиля</td>\n",
       "    </tr>\n",
       "    <tr>\n",
       "      <th>2</th>\n",
       "      <td>0</td>\n",
       "      <td>-5623.422610</td>\n",
       "      <td>33</td>\n",
       "      <td>Среднее</td>\n",
       "      <td>1</td>\n",
       "      <td>женат / замужем</td>\n",
       "      <td>0</td>\n",
       "      <td>M</td>\n",
       "      <td>сотрудник</td>\n",
       "      <td>0</td>\n",
       "      <td>145885.952297</td>\n",
       "      <td>покупка жилья</td>\n",
       "    </tr>\n",
       "    <tr>\n",
       "      <th>3</th>\n",
       "      <td>3</td>\n",
       "      <td>-4124.747207</td>\n",
       "      <td>32</td>\n",
       "      <td>среднее</td>\n",
       "      <td>1</td>\n",
       "      <td>женат / замужем</td>\n",
       "      <td>0</td>\n",
       "      <td>M</td>\n",
       "      <td>сотрудник</td>\n",
       "      <td>0</td>\n",
       "      <td>267628.550329</td>\n",
       "      <td>дополнительное образование</td>\n",
       "    </tr>\n",
       "    <tr>\n",
       "      <th>4</th>\n",
       "      <td>0</td>\n",
       "      <td>340266.072047</td>\n",
       "      <td>53</td>\n",
       "      <td>среднее</td>\n",
       "      <td>1</td>\n",
       "      <td>гражданский брак</td>\n",
       "      <td>1</td>\n",
       "      <td>F</td>\n",
       "      <td>пенсионер</td>\n",
       "      <td>0</td>\n",
       "      <td>158616.077870</td>\n",
       "      <td>сыграть свадьбу</td>\n",
       "    </tr>\n",
       "    <tr>\n",
       "      <th>5</th>\n",
       "      <td>0</td>\n",
       "      <td>-926.185831</td>\n",
       "      <td>27</td>\n",
       "      <td>высшее</td>\n",
       "      <td>0</td>\n",
       "      <td>гражданский брак</td>\n",
       "      <td>1</td>\n",
       "      <td>M</td>\n",
       "      <td>компаньон</td>\n",
       "      <td>0</td>\n",
       "      <td>255763.565419</td>\n",
       "      <td>покупка жилья</td>\n",
       "    </tr>\n",
       "    <tr>\n",
       "      <th>6</th>\n",
       "      <td>0</td>\n",
       "      <td>-2879.202052</td>\n",
       "      <td>43</td>\n",
       "      <td>высшее</td>\n",
       "      <td>0</td>\n",
       "      <td>женат / замужем</td>\n",
       "      <td>0</td>\n",
       "      <td>F</td>\n",
       "      <td>компаньон</td>\n",
       "      <td>0</td>\n",
       "      <td>240525.971920</td>\n",
       "      <td>операции с жильем</td>\n",
       "    </tr>\n",
       "    <tr>\n",
       "      <th>7</th>\n",
       "      <td>0</td>\n",
       "      <td>-152.779569</td>\n",
       "      <td>50</td>\n",
       "      <td>СРЕДНЕЕ</td>\n",
       "      <td>1</td>\n",
       "      <td>женат / замужем</td>\n",
       "      <td>0</td>\n",
       "      <td>M</td>\n",
       "      <td>сотрудник</td>\n",
       "      <td>0</td>\n",
       "      <td>135823.934197</td>\n",
       "      <td>образование</td>\n",
       "    </tr>\n",
       "    <tr>\n",
       "      <th>8</th>\n",
       "      <td>2</td>\n",
       "      <td>-6929.865299</td>\n",
       "      <td>35</td>\n",
       "      <td>ВЫСШЕЕ</td>\n",
       "      <td>0</td>\n",
       "      <td>гражданский брак</td>\n",
       "      <td>1</td>\n",
       "      <td>F</td>\n",
       "      <td>сотрудник</td>\n",
       "      <td>0</td>\n",
       "      <td>95856.832424</td>\n",
       "      <td>на проведение свадьбы</td>\n",
       "    </tr>\n",
       "    <tr>\n",
       "      <th>9</th>\n",
       "      <td>0</td>\n",
       "      <td>-2188.756445</td>\n",
       "      <td>41</td>\n",
       "      <td>среднее</td>\n",
       "      <td>1</td>\n",
       "      <td>женат / замужем</td>\n",
       "      <td>0</td>\n",
       "      <td>M</td>\n",
       "      <td>сотрудник</td>\n",
       "      <td>0</td>\n",
       "      <td>144425.938277</td>\n",
       "      <td>покупка жилья для семьи</td>\n",
       "    </tr>\n",
       "    <tr>\n",
       "      <th>10</th>\n",
       "      <td>2</td>\n",
       "      <td>-4171.483647</td>\n",
       "      <td>36</td>\n",
       "      <td>высшее</td>\n",
       "      <td>0</td>\n",
       "      <td>женат / замужем</td>\n",
       "      <td>0</td>\n",
       "      <td>M</td>\n",
       "      <td>компаньон</td>\n",
       "      <td>0</td>\n",
       "      <td>113943.491460</td>\n",
       "      <td>покупка недвижимости</td>\n",
       "    </tr>\n",
       "    <tr>\n",
       "      <th>11</th>\n",
       "      <td>0</td>\n",
       "      <td>-792.701887</td>\n",
       "      <td>40</td>\n",
       "      <td>среднее</td>\n",
       "      <td>1</td>\n",
       "      <td>женат / замужем</td>\n",
       "      <td>0</td>\n",
       "      <td>F</td>\n",
       "      <td>сотрудник</td>\n",
       "      <td>0</td>\n",
       "      <td>77069.234271</td>\n",
       "      <td>покупка коммерческой недвижимости</td>\n",
       "    </tr>\n",
       "    <tr>\n",
       "      <th>12</th>\n",
       "      <td>0</td>\n",
       "      <td>NaN</td>\n",
       "      <td>65</td>\n",
       "      <td>среднее</td>\n",
       "      <td>1</td>\n",
       "      <td>гражданский брак</td>\n",
       "      <td>1</td>\n",
       "      <td>M</td>\n",
       "      <td>пенсионер</td>\n",
       "      <td>0</td>\n",
       "      <td>NaN</td>\n",
       "      <td>сыграть свадьбу</td>\n",
       "    </tr>\n",
       "    <tr>\n",
       "      <th>13</th>\n",
       "      <td>0</td>\n",
       "      <td>-1846.641941</td>\n",
       "      <td>54</td>\n",
       "      <td>неоконченное высшее</td>\n",
       "      <td>2</td>\n",
       "      <td>женат / замужем</td>\n",
       "      <td>0</td>\n",
       "      <td>F</td>\n",
       "      <td>сотрудник</td>\n",
       "      <td>0</td>\n",
       "      <td>130458.228857</td>\n",
       "      <td>приобретение автомобиля</td>\n",
       "    </tr>\n",
       "    <tr>\n",
       "      <th>14</th>\n",
       "      <td>0</td>\n",
       "      <td>-1844.956182</td>\n",
       "      <td>56</td>\n",
       "      <td>высшее</td>\n",
       "      <td>0</td>\n",
       "      <td>гражданский брак</td>\n",
       "      <td>1</td>\n",
       "      <td>F</td>\n",
       "      <td>компаньон</td>\n",
       "      <td>1</td>\n",
       "      <td>165127.911772</td>\n",
       "      <td>покупка жилой недвижимости</td>\n",
       "    </tr>\n",
       "    <tr>\n",
       "      <th>15</th>\n",
       "      <td>1</td>\n",
       "      <td>-972.364419</td>\n",
       "      <td>26</td>\n",
       "      <td>среднее</td>\n",
       "      <td>1</td>\n",
       "      <td>женат / замужем</td>\n",
       "      <td>0</td>\n",
       "      <td>F</td>\n",
       "      <td>сотрудник</td>\n",
       "      <td>0</td>\n",
       "      <td>116820.904450</td>\n",
       "      <td>строительство собственной недвижимости</td>\n",
       "    </tr>\n",
       "    <tr>\n",
       "      <th>16</th>\n",
       "      <td>0</td>\n",
       "      <td>-1719.934226</td>\n",
       "      <td>35</td>\n",
       "      <td>среднее</td>\n",
       "      <td>1</td>\n",
       "      <td>женат / замужем</td>\n",
       "      <td>0</td>\n",
       "      <td>F</td>\n",
       "      <td>сотрудник</td>\n",
       "      <td>0</td>\n",
       "      <td>289202.704229</td>\n",
       "      <td>недвижимость</td>\n",
       "    </tr>\n",
       "    <tr>\n",
       "      <th>17</th>\n",
       "      <td>0</td>\n",
       "      <td>-2369.999720</td>\n",
       "      <td>33</td>\n",
       "      <td>высшее</td>\n",
       "      <td>0</td>\n",
       "      <td>гражданский брак</td>\n",
       "      <td>1</td>\n",
       "      <td>M</td>\n",
       "      <td>сотрудник</td>\n",
       "      <td>0</td>\n",
       "      <td>90410.586745</td>\n",
       "      <td>строительство недвижимости</td>\n",
       "    </tr>\n",
       "    <tr>\n",
       "      <th>18</th>\n",
       "      <td>0</td>\n",
       "      <td>400281.136913</td>\n",
       "      <td>53</td>\n",
       "      <td>среднее</td>\n",
       "      <td>1</td>\n",
       "      <td>вдовец / вдова</td>\n",
       "      <td>2</td>\n",
       "      <td>F</td>\n",
       "      <td>пенсионер</td>\n",
       "      <td>0</td>\n",
       "      <td>56823.777243</td>\n",
       "      <td>на покупку подержанного автомобиля</td>\n",
       "    </tr>\n",
       "    <tr>\n",
       "      <th>19</th>\n",
       "      <td>0</td>\n",
       "      <td>-10038.818549</td>\n",
       "      <td>48</td>\n",
       "      <td>СРЕДНЕЕ</td>\n",
       "      <td>1</td>\n",
       "      <td>в разводе</td>\n",
       "      <td>3</td>\n",
       "      <td>F</td>\n",
       "      <td>сотрудник</td>\n",
       "      <td>0</td>\n",
       "      <td>242831.107982</td>\n",
       "      <td>на покупку своего автомобиля</td>\n",
       "    </tr>\n",
       "  </tbody>\n",
       "</table>\n",
       "</div>"
      ],
      "text/plain": [
       "    children  days_employed  dob_years            education  education_id  \\\n",
       "0          1   -8437.673028         42               высшее             0   \n",
       "1          1   -4024.803754         36              среднее             1   \n",
       "2          0   -5623.422610         33              Среднее             1   \n",
       "3          3   -4124.747207         32              среднее             1   \n",
       "4          0  340266.072047         53              среднее             1   \n",
       "5          0    -926.185831         27               высшее             0   \n",
       "6          0   -2879.202052         43               высшее             0   \n",
       "7          0    -152.779569         50              СРЕДНЕЕ             1   \n",
       "8          2   -6929.865299         35               ВЫСШЕЕ             0   \n",
       "9          0   -2188.756445         41              среднее             1   \n",
       "10         2   -4171.483647         36               высшее             0   \n",
       "11         0    -792.701887         40              среднее             1   \n",
       "12         0            NaN         65              среднее             1   \n",
       "13         0   -1846.641941         54  неоконченное высшее             2   \n",
       "14         0   -1844.956182         56               высшее             0   \n",
       "15         1    -972.364419         26              среднее             1   \n",
       "16         0   -1719.934226         35              среднее             1   \n",
       "17         0   -2369.999720         33               высшее             0   \n",
       "18         0  400281.136913         53              среднее             1   \n",
       "19         0  -10038.818549         48              СРЕДНЕЕ             1   \n",
       "\n",
       "       family_status  family_status_id gender income_type  debt  \\\n",
       "0    женат / замужем                 0      F   сотрудник     0   \n",
       "1    женат / замужем                 0      F   сотрудник     0   \n",
       "2    женат / замужем                 0      M   сотрудник     0   \n",
       "3    женат / замужем                 0      M   сотрудник     0   \n",
       "4   гражданский брак                 1      F   пенсионер     0   \n",
       "5   гражданский брак                 1      M   компаньон     0   \n",
       "6    женат / замужем                 0      F   компаньон     0   \n",
       "7    женат / замужем                 0      M   сотрудник     0   \n",
       "8   гражданский брак                 1      F   сотрудник     0   \n",
       "9    женат / замужем                 0      M   сотрудник     0   \n",
       "10   женат / замужем                 0      M   компаньон     0   \n",
       "11   женат / замужем                 0      F   сотрудник     0   \n",
       "12  гражданский брак                 1      M   пенсионер     0   \n",
       "13   женат / замужем                 0      F   сотрудник     0   \n",
       "14  гражданский брак                 1      F   компаньон     1   \n",
       "15   женат / замужем                 0      F   сотрудник     0   \n",
       "16   женат / замужем                 0      F   сотрудник     0   \n",
       "17  гражданский брак                 1      M   сотрудник     0   \n",
       "18    вдовец / вдова                 2      F   пенсионер     0   \n",
       "19         в разводе                 3      F   сотрудник     0   \n",
       "\n",
       "     total_income                                 purpose  \n",
       "0   253875.639453                           покупка жилья  \n",
       "1   112080.014102                 приобретение автомобиля  \n",
       "2   145885.952297                           покупка жилья  \n",
       "3   267628.550329              дополнительное образование  \n",
       "4   158616.077870                         сыграть свадьбу  \n",
       "5   255763.565419                           покупка жилья  \n",
       "6   240525.971920                       операции с жильем  \n",
       "7   135823.934197                             образование  \n",
       "8    95856.832424                   на проведение свадьбы  \n",
       "9   144425.938277                 покупка жилья для семьи  \n",
       "10  113943.491460                    покупка недвижимости  \n",
       "11   77069.234271       покупка коммерческой недвижимости  \n",
       "12            NaN                         сыграть свадьбу  \n",
       "13  130458.228857                 приобретение автомобиля  \n",
       "14  165127.911772              покупка жилой недвижимости  \n",
       "15  116820.904450  строительство собственной недвижимости  \n",
       "16  289202.704229                            недвижимость  \n",
       "17   90410.586745              строительство недвижимости  \n",
       "18   56823.777243      на покупку подержанного автомобиля  \n",
       "19  242831.107982            на покупку своего автомобиля  "
      ]
     },
     "execution_count": 2,
     "metadata": {},
     "output_type": "execute_result"
    }
   ],
   "source": [
    "data.head(20)"
   ]
  },
  {
   "cell_type": "markdown",
   "id": "0ed8f27f",
   "metadata": {
    "deletable": false,
    "editable": false,
    "id": "0ed8f27f"
   },
   "source": [
    "**Выведим основную информацию о датафрейме с помощью метода `info()`.**"
   ]
  },
  {
   "cell_type": "code",
   "execution_count": 3,
   "id": "ab3f863b",
   "metadata": {
    "deletable": false,
    "id": "ab3f863b",
    "outputId": "15376089-8dad-46c9-b520-c05248d43158"
   },
   "outputs": [
    {
     "name": "stdout",
     "output_type": "stream",
     "text": [
      "<class 'pandas.core.frame.DataFrame'>\n",
      "RangeIndex: 21525 entries, 0 to 21524\n",
      "Data columns (total 12 columns):\n",
      " #   Column            Non-Null Count  Dtype  \n",
      "---  ------            --------------  -----  \n",
      " 0   children          21525 non-null  int64  \n",
      " 1   days_employed     19351 non-null  float64\n",
      " 2   dob_years         21525 non-null  int64  \n",
      " 3   education         21525 non-null  object \n",
      " 4   education_id      21525 non-null  int64  \n",
      " 5   family_status     21525 non-null  object \n",
      " 6   family_status_id  21525 non-null  int64  \n",
      " 7   gender            21525 non-null  object \n",
      " 8   income_type       21525 non-null  object \n",
      " 9   debt              21525 non-null  int64  \n",
      " 10  total_income      19351 non-null  float64\n",
      " 11  purpose           21525 non-null  object \n",
      "dtypes: float64(2), int64(5), object(5)\n",
      "memory usage: 2.0+ MB\n"
     ]
    }
   ],
   "source": [
    "data.info()"
   ]
  },
  {
   "cell_type": "markdown",
   "id": "60e3e22d",
   "metadata": {
    "deletable": false,
    "editable": false,
    "id": "60e3e22d"
   },
   "source": [
    "## Предобработка данных"
   ]
  },
  {
   "cell_type": "markdown",
   "id": "03dc170c",
   "metadata": {
    "deletable": false,
    "editable": false,
    "id": "03dc170c"
   },
   "source": [
    "### Удаление пропусков"
   ]
  },
  {
   "cell_type": "markdown",
   "id": "a4f54eef",
   "metadata": {
    "deletable": false,
    "editable": false,
    "id": "a4f54eef"
   },
   "source": [
    "**Выведим количество пропущенных значений для каждого столбца. Используем комбинацию двух методов.**"
   ]
  },
  {
   "cell_type": "code",
   "execution_count": 4,
   "id": "2dc372b2",
   "metadata": {
    "deletable": false,
    "id": "2dc372b2",
    "outputId": "81f4d817-781c-465c-ed15-91ce4446810d"
   },
   "outputs": [
    {
     "data": {
      "text/plain": [
       "children               0\n",
       "days_employed       2174\n",
       "dob_years              0\n",
       "education              0\n",
       "education_id           0\n",
       "family_status          0\n",
       "family_status_id       0\n",
       "gender                 0\n",
       "income_type            0\n",
       "debt                   0\n",
       "total_income        2174\n",
       "purpose                0\n",
       "dtype: int64"
      ]
     },
     "execution_count": 4,
     "metadata": {},
     "output_type": "execute_result"
    }
   ],
   "source": [
    "data.isna().sum()"
   ]
  },
  {
   "cell_type": "markdown",
   "id": "14f011b1",
   "metadata": {
    "deletable": false,
    "editable": false,
    "id": "14f011b1"
   },
   "source": [
    "**В двух столбцах есть пропущенные значения. Один из них — `days_employed`. Пропуски в этом столбце обработаем на следующем этапе. Другой столбец с пропущенными значениями — `total_income` — хранит данные о доходах. На сумму дохода сильнее всего влияет тип занятости, поэтому заполним пропуски в этом столбце медианным значением по каждому типу из столбца `income_type`. Например, у человека с типом занятости `сотрудник` пропуск в столбце `total_income` должен быть заполнен медианным доходом среди всех записей с тем же типом.**"
   ]
  },
  {
   "cell_type": "code",
   "execution_count": 5,
   "id": "bdabfb6e",
   "metadata": {
    "deletable": false,
    "id": "bdabfb6e"
   },
   "outputs": [],
   "source": [
    "for t in data['income_type'].unique():\n",
    "    data.loc[(data['income_type'] == t) & (data['total_income'].isna()), 'total_income'] = \\\n",
    "    data.loc[(data['income_type'] == t), 'total_income'].median()"
   ]
  },
  {
   "cell_type": "markdown",
   "id": "5be34059",
   "metadata": {
    "deletable": false,
    "editable": false,
    "id": "5be34059"
   },
   "source": [
    "### Обработка аномальных значений"
   ]
  },
  {
   "cell_type": "markdown",
   "id": "a87606cb",
   "metadata": {
    "deletable": false,
    "editable": false,
    "id": "a87606cb"
   },
   "source": [
    "**В данных могут встречаться артефакты (аномалии) — значения, которые не отражают действительность и появились по какой-то ошибке. таким артефактом будет отрицательное количество дней трудового стажа в столбце `days_employed`. Обработаем значения в этом столбце: заменим все отрицательные значения положительными с помощью метода `abs()`.**"
   ]
  },
  {
   "cell_type": "code",
   "execution_count": 6,
   "id": "020c46cc",
   "metadata": {
    "deletable": false,
    "id": "020c46cc"
   },
   "outputs": [],
   "source": [
    "data['days_employed'] = data['days_employed'].abs()"
   ]
  },
  {
   "cell_type": "markdown",
   "id": "45538a3a",
   "metadata": {
    "deletable": false,
    "editable": false,
    "id": "45538a3a"
   },
   "source": [
    "**Для каждого типа занятости выведим медианное значение трудового стажа `days_employed` в днях.**"
   ]
  },
  {
   "cell_type": "code",
   "execution_count": 7,
   "id": "cd3e6328",
   "metadata": {
    "deletable": false,
    "id": "cd3e6328",
    "outputId": "801ef80e-522b-4668-f34e-565af7432bcf"
   },
   "outputs": [
    {
     "data": {
      "text/plain": [
       "income_type\n",
       "безработный        366413.652744\n",
       "в декрете            3296.759962\n",
       "госслужащий          2689.368353\n",
       "компаньон            1547.382223\n",
       "пенсионер          365213.306266\n",
       "предприниматель       520.848083\n",
       "сотрудник            1574.202821\n",
       "студент               578.751554\n",
       "Name: days_employed, dtype: float64"
      ]
     },
     "execution_count": 7,
     "metadata": {},
     "output_type": "execute_result"
    }
   ],
   "source": [
    "data.groupby('income_type')['days_employed'].agg('median')"
   ]
  },
  {
   "cell_type": "markdown",
   "id": "90c5f058",
   "metadata": {
    "deletable": false,
    "editable": false,
    "id": "90c5f058"
   },
   "source": [
    "У двух типов (безработные и пенсионеры) получатся аномально большие значения. Исправить такие значения сложно, поэтому оставим их как есть."
   ]
  },
  {
   "cell_type": "markdown",
   "id": "9652e50d",
   "metadata": {
    "deletable": false,
    "editable": false,
    "id": "9652e50d"
   },
   "source": [
    "**Выведим перечень уникальных значений столбца `children`.**"
   ]
  },
  {
   "cell_type": "code",
   "execution_count": 8,
   "id": "dbb37b8e",
   "metadata": {
    "deletable": false,
    "id": "dbb37b8e",
    "outputId": "6975b15c-7f95-4697-d16d-a0c79b657b03"
   },
   "outputs": [
    {
     "data": {
      "text/plain": [
       "array([ 1,  0,  3,  2, -1,  4, 20,  5])"
      ]
     },
     "execution_count": 8,
     "metadata": {},
     "output_type": "execute_result"
    }
   ],
   "source": [
    "data['children'].unique()"
   ]
  },
  {
   "cell_type": "markdown",
   "id": "2b8b0715",
   "metadata": {
    "deletable": false,
    "editable": false,
    "id": "2b8b0715"
   },
   "source": [
    "**В столбце `children` есть два аномальных значения. Удалим строки, в которых встречаются такие аномальные значения из датафрейма `data`.**"
   ]
  },
  {
   "cell_type": "code",
   "execution_count": 9,
   "id": "20009df8",
   "metadata": {
    "deletable": false,
    "id": "20009df8"
   },
   "outputs": [],
   "source": [
    "data = data[(data['children'] != -1) & (data['children'] != 20)]"
   ]
  },
  {
   "cell_type": "markdown",
   "id": "8c6ac9f1",
   "metadata": {
    "deletable": false,
    "editable": false,
    "id": "8c6ac9f1"
   },
   "source": [
    "**Ещё раз выведим перечень уникальных значений столбца `children`, чтобы убедиться, что артефакты удалены.**"
   ]
  },
  {
   "cell_type": "code",
   "execution_count": 10,
   "id": "07337b81",
   "metadata": {
    "deletable": false,
    "id": "07337b81",
    "outputId": "b2097101-d49d-44d9-901b-32a65c9463d1"
   },
   "outputs": [
    {
     "data": {
      "text/plain": [
       "array([1, 0, 3, 2, 4, 5])"
      ]
     },
     "execution_count": 10,
     "metadata": {},
     "output_type": "execute_result"
    }
   ],
   "source": [
    "data['children'].unique()"
   ]
  },
  {
   "cell_type": "markdown",
   "id": "ee3f52d4",
   "metadata": {
    "deletable": false,
    "editable": false,
    "id": "ee3f52d4"
   },
   "source": [
    "### Удаление пропусков (продолжение)"
   ]
  },
  {
   "cell_type": "markdown",
   "id": "a700b0e4",
   "metadata": {
    "deletable": false,
    "editable": false,
    "id": "a700b0e4"
   },
   "source": [
    "**Заполним пропуски в столбце `days_employed` медианными значениями по каждого типа занятости `income_type`.**"
   ]
  },
  {
   "cell_type": "code",
   "execution_count": 11,
   "id": "61946b83",
   "metadata": {
    "deletable": false,
    "id": "61946b83"
   },
   "outputs": [],
   "source": [
    "for t in data['income_type'].unique():\n",
    "    data.loc[(data['income_type'] == t) & (data['days_employed'].isna()), 'days_employed'] = \\\n",
    "    data.loc[(data['income_type'] == t), 'days_employed'].median()"
   ]
  },
  {
   "cell_type": "markdown",
   "id": "550dcd9b",
   "metadata": {
    "deletable": false,
    "editable": false,
    "id": "550dcd9b"
   },
   "source": [
    "**Убедимся, что все пропуски заполнены. Ещё раз выведим количество пропущенных значений для каждого столбца с помощью двух методов.**"
   ]
  },
  {
   "cell_type": "code",
   "execution_count": 12,
   "id": "937c7014",
   "metadata": {
    "deletable": false,
    "id": "937c7014",
    "outputId": "8da1e4e1-358e-4e87-98c9-f261bce0a7b2"
   },
   "outputs": [
    {
     "data": {
      "text/plain": [
       "children            0\n",
       "days_employed       0\n",
       "dob_years           0\n",
       "education           0\n",
       "education_id        0\n",
       "family_status       0\n",
       "family_status_id    0\n",
       "gender              0\n",
       "income_type         0\n",
       "debt                0\n",
       "total_income        0\n",
       "purpose             0\n",
       "dtype: int64"
      ]
     },
     "execution_count": 12,
     "metadata": {},
     "output_type": "execute_result"
    }
   ],
   "source": [
    "data.isna().sum()"
   ]
  },
  {
   "cell_type": "markdown",
   "id": "d522e295",
   "metadata": {
    "deletable": false,
    "editable": false,
    "id": "d522e295"
   },
   "source": [
    "### Изменение типов данных"
   ]
  },
  {
   "cell_type": "markdown",
   "id": "c229c581",
   "metadata": {
    "deletable": false,
    "editable": false,
    "id": "c229c581"
   },
   "source": [
    "**Замените вещественный тип данных в столбце `total_income` на целочисленный с помощью метода `astype()`.**"
   ]
  },
  {
   "cell_type": "code",
   "execution_count": 13,
   "id": "31036462",
   "metadata": {
    "deletable": false,
    "id": "31036462"
   },
   "outputs": [],
   "source": [
    "data['total_income'] = data['total_income'].astype(int)"
   ]
  },
  {
   "cell_type": "markdown",
   "id": "b8e3d1d9",
   "metadata": {
    "deletable": false,
    "editable": false,
    "id": "b8e3d1d9"
   },
   "source": [
    "### Обработка дубликатов"
   ]
  },
  {
   "cell_type": "markdown",
   "id": "9be53c49",
   "metadata": {
    "deletable": false,
    "editable": false,
    "id": "9be53c49"
   },
   "source": [
    "**Обработаем неявные дубликаты в столбце `education`. В этом столбце есть одни и те же значения, но записанные по-разному: с использованием заглавных и строчных букв. Приведём их к нижнему регистру.**"
   ]
  },
  {
   "cell_type": "code",
   "execution_count": 14,
   "id": "d89e73e1",
   "metadata": {
    "deletable": false,
    "id": "d89e73e1"
   },
   "outputs": [],
   "source": [
    "data['education'] = data['education'].str.lower()"
   ]
  },
  {
   "cell_type": "markdown",
   "id": "01d4500e",
   "metadata": {
    "deletable": false,
    "editable": false,
    "id": "01d4500e"
   },
   "source": [
    "**Задание 15. Выведим на экран количество строк-дубликатов в данных. Если такие строки присутствуют, удалим их.**"
   ]
  },
  {
   "cell_type": "code",
   "execution_count": 15,
   "id": "e10efb23",
   "metadata": {
    "deletable": false,
    "id": "e10efb23",
    "outputId": "9684deba-1934-42d1-99e1-cda61740f822"
   },
   "outputs": [
    {
     "data": {
      "text/plain": [
       "71"
      ]
     },
     "execution_count": 15,
     "metadata": {},
     "output_type": "execute_result"
    }
   ],
   "source": [
    "data.duplicated().sum()"
   ]
  },
  {
   "cell_type": "code",
   "execution_count": 16,
   "id": "df853f20",
   "metadata": {
    "deletable": false,
    "id": "df853f20"
   },
   "outputs": [],
   "source": [
    "data = data.drop_duplicates()"
   ]
  },
  {
   "cell_type": "markdown",
   "id": "627be38f",
   "metadata": {
    "deletable": false,
    "editable": false,
    "id": "627be38f"
   },
   "source": [
    "### Категоризация данных"
   ]
  },
  {
   "cell_type": "markdown",
   "id": "4684c3e0",
   "metadata": {
    "deletable": false,
    "editable": false,
    "id": "4684c3e0"
   },
   "source": [
    "**На основании диапазонов, указанных ниже, создадим в датафрейме `data` столбец `total_income_category` с категориями:**\n",
    "\n",
    "- 0–30000 — `'E'`;\n",
    "- 30001–50000 — `'D'`;\n",
    "- 50001–200000 — `'C'`;\n",
    "- 200001–1000000 — `'B'`;\n",
    "- 1000001 и выше — `'A'`.\n",
    "\n",
    "\n",
    "**Например, кредитополучателю с доходом 25000 нужно назначить категорию `'E'`, а клиенту, получающему 235000, — `'B'`. Используем собственную функцию с именем `categorize_income()` и метод `apply()`.**"
   ]
  },
  {
   "cell_type": "code",
   "execution_count": 17,
   "id": "78965238",
   "metadata": {
    "deletable": false,
    "id": "78965238"
   },
   "outputs": [],
   "source": [
    "def categorize_income(income):\n",
    "    try:\n",
    "        if 0 <= income <= 30000:\n",
    "            return 'E'\n",
    "        elif 30001 <= income <= 50000:\n",
    "            return 'D'\n",
    "        elif 50001 <= income <= 200000:\n",
    "            return 'C'\n",
    "        elif 200001 <= income <= 1000000:\n",
    "            return 'B'\n",
    "        elif income >= 1000001:\n",
    "            return 'A'\n",
    "    except:\n",
    "        pass"
   ]
  },
  {
   "cell_type": "code",
   "execution_count": 18,
   "id": "0980ada1",
   "metadata": {
    "deletable": false,
    "id": "0980ada1"
   },
   "outputs": [],
   "source": [
    "data['total_income_category'] = data['total_income'].apply(categorize_income)"
   ]
  },
  {
   "cell_type": "markdown",
   "id": "9917bba0",
   "metadata": {
    "deletable": false,
    "editable": false,
    "id": "9917bba0"
   },
   "source": [
    "**Выведим на экран перечень уникальных целей взятия кредита из столбца `purpose`.**"
   ]
  },
  {
   "cell_type": "code",
   "execution_count": 19,
   "id": "ee07b65e",
   "metadata": {
    "deletable": false,
    "id": "ee07b65e",
    "outputId": "673c12d9-7d7e-4ae0-9812-c622c89dd244"
   },
   "outputs": [
    {
     "data": {
      "text/plain": [
       "array(['покупка жилья', 'приобретение автомобиля',\n",
       "       'дополнительное образование', 'сыграть свадьбу',\n",
       "       'операции с жильем', 'образование', 'на проведение свадьбы',\n",
       "       'покупка жилья для семьи', 'покупка недвижимости',\n",
       "       'покупка коммерческой недвижимости', 'покупка жилой недвижимости',\n",
       "       'строительство собственной недвижимости', 'недвижимость',\n",
       "       'строительство недвижимости', 'на покупку подержанного автомобиля',\n",
       "       'на покупку своего автомобиля',\n",
       "       'операции с коммерческой недвижимостью',\n",
       "       'строительство жилой недвижимости', 'жилье',\n",
       "       'операции со своей недвижимостью', 'автомобили',\n",
       "       'заняться образованием', 'сделка с подержанным автомобилем',\n",
       "       'получение образования', 'автомобиль', 'свадьба',\n",
       "       'получение дополнительного образования', 'покупка своего жилья',\n",
       "       'операции с недвижимостью', 'получение высшего образования',\n",
       "       'свой автомобиль', 'сделка с автомобилем',\n",
       "       'профильное образование', 'высшее образование',\n",
       "       'покупка жилья для сдачи', 'на покупку автомобиля', 'ремонт жилью',\n",
       "       'заняться высшим образованием'], dtype=object)"
      ]
     },
     "execution_count": 19,
     "metadata": {},
     "output_type": "execute_result"
    }
   ],
   "source": [
    "data['purpose'].unique()"
   ]
  },
  {
   "cell_type": "markdown",
   "id": "52b79d56",
   "metadata": {
    "deletable": false,
    "editable": false,
    "id": "52b79d56"
   },
   "source": [
    "**Создадим функцию, которая на основании данных из столбца `purpose` сформирует новый столбец `purpose_category`, в который войдут следующие категории:**\n",
    "\n",
    "- `'операции с автомобилем'`,\n",
    "- `'операции с недвижимостью'`,\n",
    "- `'проведение свадьбы'`,\n",
    "- `'получение образования'`.\n",
    "\n",
    "**Например, если в столбце `purpose` находится подстрока `'на покупку автомобиля'`, то в столбце `purpose_category` должна появиться строка `'операции с автомобилем'`.**\n",
    "\n",
    "**Используем собственную функцию с именем `categorize_purpose()` и метод `apply()`. Изучим данные в столбце `purpose` и определим, какие подстроки помогут правильно определить категорию.**"
   ]
  },
  {
   "cell_type": "code",
   "execution_count": 20,
   "id": "be41da5d",
   "metadata": {
    "deletable": false,
    "id": "be41da5d"
   },
   "outputs": [],
   "source": [
    "def categorize_purpose(row):\n",
    "    try:\n",
    "        if 'автом' in row:\n",
    "            return 'операции с автомобилем'\n",
    "        elif 'жил' in row or 'недвиж' in row:\n",
    "            return 'операции с недвижимостью'\n",
    "        elif 'свад' in row:\n",
    "            return 'проведение свадьбы'\n",
    "        elif 'образов' in row:\n",
    "            return 'получение образования'\n",
    "    except:\n",
    "        return 'нет категории'"
   ]
  },
  {
   "cell_type": "code",
   "execution_count": 21,
   "id": "94c4a19a",
   "metadata": {
    "deletable": false,
    "id": "94c4a19a"
   },
   "outputs": [],
   "source": [
    "data['purpose_category'] = data['purpose'].apply(categorize_purpose)"
   ]
  },
  {
   "cell_type": "markdown",
   "id": "3d596c34",
   "metadata": {
    "deletable": false,
    "editable": false,
    "id": "3d596c34"
   },
   "source": [
    "### Шаг 3. Исследуем данные и ответим на вопросы"
   ]
  },
  {
   "cell_type": "markdown",
   "id": "648db036",
   "metadata": {
    "deletable": false,
    "editable": false,
    "id": "648db036"
   },
   "source": [
    "#### 3.1 Есть ли зависимость между количеством детей и возвратом кредита в срок?"
   ]
  },
  {
   "cell_type": "code",
   "execution_count": 22,
   "id": "7fcff25e",
   "metadata": {
    "deletable": false,
    "id": "7fcff25e"
   },
   "outputs": [
    {
     "data": {
      "text/html": [
       "<div>\n",
       "<style scoped>\n",
       "    .dataframe tbody tr th:only-of-type {\n",
       "        vertical-align: middle;\n",
       "    }\n",
       "\n",
       "    .dataframe tbody tr th {\n",
       "        vertical-align: top;\n",
       "    }\n",
       "\n",
       "    .dataframe thead th {\n",
       "        text-align: right;\n",
       "    }\n",
       "</style>\n",
       "<table border=\"1\" class=\"dataframe\">\n",
       "  <thead>\n",
       "    <tr style=\"text-align: right;\">\n",
       "      <th></th>\n",
       "      <th>count</th>\n",
       "      <th>sum</th>\n",
       "      <th>ratio</th>\n",
       "    </tr>\n",
       "    <tr>\n",
       "      <th>children</th>\n",
       "      <th></th>\n",
       "      <th></th>\n",
       "      <th></th>\n",
       "    </tr>\n",
       "  </thead>\n",
       "  <tbody>\n",
       "    <tr>\n",
       "      <th>0</th>\n",
       "      <td>14091</td>\n",
       "      <td>1063</td>\n",
       "      <td>7.543822</td>\n",
       "    </tr>\n",
       "    <tr>\n",
       "      <th>1</th>\n",
       "      <td>4808</td>\n",
       "      <td>444</td>\n",
       "      <td>9.234609</td>\n",
       "    </tr>\n",
       "    <tr>\n",
       "      <th>2</th>\n",
       "      <td>2052</td>\n",
       "      <td>194</td>\n",
       "      <td>9.454191</td>\n",
       "    </tr>\n",
       "    <tr>\n",
       "      <th>3</th>\n",
       "      <td>330</td>\n",
       "      <td>27</td>\n",
       "      <td>8.181818</td>\n",
       "    </tr>\n",
       "    <tr>\n",
       "      <th>4</th>\n",
       "      <td>41</td>\n",
       "      <td>4</td>\n",
       "      <td>9.756098</td>\n",
       "    </tr>\n",
       "    <tr>\n",
       "      <th>5</th>\n",
       "      <td>9</td>\n",
       "      <td>0</td>\n",
       "      <td>0.000000</td>\n",
       "    </tr>\n",
       "  </tbody>\n",
       "</table>\n",
       "</div>"
      ],
      "text/plain": [
       "          count   sum     ratio\n",
       "children                       \n",
       "0         14091  1063  7.543822\n",
       "1          4808   444  9.234609\n",
       "2          2052   194  9.454191\n",
       "3           330    27  8.181818\n",
       "4            41     4  9.756098\n",
       "5             9     0  0.000000"
      ]
     },
     "metadata": {},
     "output_type": "display_data"
    },
    {
     "data": {
      "text/plain": [
       "<AxesSubplot:xlabel='children', ylabel='ratio'>"
      ]
     },
     "metadata": {},
     "output_type": "display_data"
    },
    {
     "data": {
      "image/png": "[encoded data removed]",
      "text/plain": [
       "<Figure size 432x288 with 1 Axes>"
      ]
     },
     "metadata": {
      "needs_background": "light"
     },
     "output_type": "display_data"
    }
   ],
   "source": [
    "import seaborn\n",
    "data_pivot = data.pivot_table(index=['children'], values='debt', aggfunc={'count', 'sum'})\n",
    "data_pivot['ratio'] = data_pivot['sum']/data_pivot['count']*100\n",
    "display(data_pivot)\n",
    "data_pivot = data_pivot.sort_values(by ='ratio', ascending = False)\n",
    "display(seaborn.barplot(x=data_pivot.index, y=data_pivot['ratio']))\n",
    "# Ваш код будет здесь. Вы можете создавать новые ячейки."
   ]
  },
  {
   "cell_type": "markdown",
   "id": "2eb9088e",
   "metadata": {
    "deletable": false,
    "id": "2eb9088e"
   },
   "source": [
    "**Вывод:** Исследование показывает, что кредитные услуги в семьях с пятью детьми - достаточно редкое явление, но возврат кредита происходит всегда своевременно. Хуже всего возвращают кредит семьи, где один и двое детей. Наилучшим образом своевременный возврат кредита выглядит у семей, где детей нет. Возможно, это связано с меньшей финансовой нагрузкой, или большим свободным временем, потраченным на заработок."
   ]
  },
  {
   "cell_type": "markdown",
   "id": "74c9b3a7",
   "metadata": {
    "deletable": false,
    "editable": false,
    "id": "74c9b3a7"
   },
   "source": [
    "#### 3.2 Есть ли зависимость между семейным положением и возвратом кредита в срок?"
   ]
  },
  {
   "cell_type": "code",
   "execution_count": 23,
   "id": "8098ab3b",
   "metadata": {
    "deletable": false,
    "id": "8098ab3b"
   },
   "outputs": [
    {
     "data": {
      "text/html": [
       "<div>\n",
       "<style scoped>\n",
       "    .dataframe tbody tr th:only-of-type {\n",
       "        vertical-align: middle;\n",
       "    }\n",
       "\n",
       "    .dataframe tbody tr th {\n",
       "        vertical-align: top;\n",
       "    }\n",
       "\n",
       "    .dataframe thead th {\n",
       "        text-align: right;\n",
       "    }\n",
       "</style>\n",
       "<table border=\"1\" class=\"dataframe\">\n",
       "  <thead>\n",
       "    <tr style=\"text-align: right;\">\n",
       "      <th></th>\n",
       "      <th>count</th>\n",
       "      <th>sum</th>\n",
       "      <th>ratio</th>\n",
       "    </tr>\n",
       "    <tr>\n",
       "      <th>family_status</th>\n",
       "      <th></th>\n",
       "      <th></th>\n",
       "      <th></th>\n",
       "    </tr>\n",
       "  </thead>\n",
       "  <tbody>\n",
       "    <tr>\n",
       "      <th>Не женат / не замужем</th>\n",
       "      <td>2796</td>\n",
       "      <td>273</td>\n",
       "      <td>9.763948</td>\n",
       "    </tr>\n",
       "    <tr>\n",
       "      <th>в разводе</th>\n",
       "      <td>1189</td>\n",
       "      <td>84</td>\n",
       "      <td>7.064760</td>\n",
       "    </tr>\n",
       "    <tr>\n",
       "      <th>вдовец / вдова</th>\n",
       "      <td>951</td>\n",
       "      <td>63</td>\n",
       "      <td>6.624606</td>\n",
       "    </tr>\n",
       "    <tr>\n",
       "      <th>гражданский брак</th>\n",
       "      <td>4134</td>\n",
       "      <td>385</td>\n",
       "      <td>9.313014</td>\n",
       "    </tr>\n",
       "    <tr>\n",
       "      <th>женат / замужем</th>\n",
       "      <td>12261</td>\n",
       "      <td>927</td>\n",
       "      <td>7.560558</td>\n",
       "    </tr>\n",
       "  </tbody>\n",
       "</table>\n",
       "</div>"
      ],
      "text/plain": [
       "                       count  sum     ratio\n",
       "family_status                              \n",
       "Не женат / не замужем   2796  273  9.763948\n",
       "в разводе               1189   84  7.064760\n",
       "вдовец / вдова           951   63  6.624606\n",
       "гражданский брак        4134  385  9.313014\n",
       "женат / замужем        12261  927  7.560558"
      ]
     },
     "metadata": {},
     "output_type": "display_data"
    },
    {
     "data": {
      "text/plain": [
       "<AxesSubplot:xlabel='ratio', ylabel='family_status'>"
      ]
     },
     "metadata": {},
     "output_type": "display_data"
    },
    {
     "data": {
      "image/png": "[encoded data removed]",
      "text/plain": [
       "<Figure size 432x288 with 1 Axes>"
      ]
     },
     "metadata": {
      "needs_background": "light"
     },
     "output_type": "display_data"
    }
   ],
   "source": [
    "data_pivot = data.pivot_table(index=['family_status'], values='debt', aggfunc={'count', 'sum'})\n",
    "data_pivot['ratio'] = data_pivot['sum']/data_pivot['count']*100\n",
    "display(data_pivot)\n",
    "data_pivot = data_pivot.sort_values(by ='ratio', ascending = False)\n",
    "display(seaborn.barplot(x=data_pivot['ratio'], y=data_pivot.index))# Ваш код будет здесь. Вы можете создавать новые ячейки."
   ]
  },
  {
   "cell_type": "markdown",
   "id": "c389ca63",
   "metadata": {
    "deletable": false,
    "id": "c389ca63"
   },
   "source": [
    "**Вывод:** Можно отметить, что заёмщики, состоящие в браке или находящиеся в разводе, своевременно возвращают кредит чаще, чем те, кто не замужем/не женат, или в гражданском браке. Вероятно, это обусловленно большим уровнем ответственности. Вдовы/вдовцы чаще всех возвращают кредит в срок, но и кредитом пользуются значительно реже."
   ]
  },
  {
   "cell_type": "markdown",
   "id": "9529de68",
   "metadata": {
    "deletable": false,
    "editable": false,
    "id": "9529de68"
   },
   "source": [
    "#### 3.3 Есть ли зависимость между уровнем дохода и возвратом кредита в срок?"
   ]
  },
  {
   "cell_type": "code",
   "execution_count": 24,
   "id": "8787f44a",
   "metadata": {
    "deletable": false,
    "id": "8787f44a"
   },
   "outputs": [
    {
     "data": {
      "text/html": [
       "<div>\n",
       "<style scoped>\n",
       "    .dataframe tbody tr th:only-of-type {\n",
       "        vertical-align: middle;\n",
       "    }\n",
       "\n",
       "    .dataframe tbody tr th {\n",
       "        vertical-align: top;\n",
       "    }\n",
       "\n",
       "    .dataframe thead th {\n",
       "        text-align: right;\n",
       "    }\n",
       "</style>\n",
       "<table border=\"1\" class=\"dataframe\">\n",
       "  <thead>\n",
       "    <tr style=\"text-align: right;\">\n",
       "      <th></th>\n",
       "      <th>count</th>\n",
       "      <th>sum</th>\n",
       "      <th>ratio</th>\n",
       "      <th>income</th>\n",
       "    </tr>\n",
       "    <tr>\n",
       "      <th>total_income_category</th>\n",
       "      <th></th>\n",
       "      <th></th>\n",
       "      <th></th>\n",
       "      <th></th>\n",
       "    </tr>\n",
       "  </thead>\n",
       "  <tbody>\n",
       "    <tr>\n",
       "      <th>A</th>\n",
       "      <td>25</td>\n",
       "      <td>2</td>\n",
       "      <td>8.000000</td>\n",
       "      <td>&gt;1000001</td>\n",
       "    </tr>\n",
       "    <tr>\n",
       "      <th>B</th>\n",
       "      <td>5014</td>\n",
       "      <td>354</td>\n",
       "      <td>7.060231</td>\n",
       "      <td>200001–1000000</td>\n",
       "    </tr>\n",
       "    <tr>\n",
       "      <th>C</th>\n",
       "      <td>15921</td>\n",
       "      <td>1353</td>\n",
       "      <td>8.498210</td>\n",
       "      <td>50001–200000</td>\n",
       "    </tr>\n",
       "    <tr>\n",
       "      <th>D</th>\n",
       "      <td>349</td>\n",
       "      <td>21</td>\n",
       "      <td>6.017192</td>\n",
       "      <td>30001–50000</td>\n",
       "    </tr>\n",
       "    <tr>\n",
       "      <th>E</th>\n",
       "      <td>22</td>\n",
       "      <td>2</td>\n",
       "      <td>9.090909</td>\n",
       "      <td>0–30000</td>\n",
       "    </tr>\n",
       "  </tbody>\n",
       "</table>\n",
       "</div>"
      ],
      "text/plain": [
       "                       count   sum     ratio          income\n",
       "total_income_category                                       \n",
       "A                         25     2  8.000000        >1000001\n",
       "B                       5014   354  7.060231  200001–1000000\n",
       "C                      15921  1353  8.498210    50001–200000\n",
       "D                        349    21  6.017192     30001–50000\n",
       "E                         22     2  9.090909         0–30000"
      ]
     },
     "metadata": {},
     "output_type": "display_data"
    },
    {
     "data": {
      "text/plain": [
       "<AxesSubplot:xlabel='total_income_category', ylabel='ratio'>"
      ]
     },
     "metadata": {},
     "output_type": "display_data"
    },
    {
     "data": {
      "image/png": "[encoded data removed]",
      "text/plain": [
       "<Figure size 432x288 with 1 Axes>"
      ]
     },
     "metadata": {
      "needs_background": "light"
     },
     "output_type": "display_data"
    }
   ],
   "source": [
    "data_pivot = data.pivot_table(index=['total_income_category'], values='debt', aggfunc={'count', 'sum'})\n",
    "data_pivot['ratio'] = data_pivot['sum']/data_pivot['count']*100\n",
    "data_pivot['income'] = [\">1000001\", \"200001–1000000\", \"50001–200000\", \"30001–50000\", \"0–30000\"]\n",
    "display(data_pivot)\n",
    "data_pivot = data_pivot.sort_values(by ='ratio', ascending = False)\n",
    "display(seaborn.barplot(x=data_pivot.index, y=data_pivot['ratio']))\n",
    "# Ваш код будет здесь. Вы можете создавать новые ячейки."
   ]
  },
  {
   "cell_type": "markdown",
   "id": "6dd14b57",
   "metadata": {
    "deletable": false,
    "id": "6dd14b57"
   },
   "source": [
    "**Вывод:** Люди, которые имеют доход от 50001 до 200000, берут кредит чаще всего и возвращают своевременно тоже чаще, чем, например, те, чей доход ниже 30000. Лучше всего возвращают кредит люди с уровнем дохода от 30001 до 50000. Те, чей доход  составляет более 1000001 и менее 30000 - достаточно редко пользуются кредитом."
   ]
  },
  {
   "cell_type": "markdown",
   "id": "1dcc9b12",
   "metadata": {
    "deletable": false,
    "editable": false,
    "id": "1dcc9b12"
   },
   "source": [
    "#### 3.4 Как разные цели кредита влияют на его возврат в срок?"
   ]
  },
  {
   "cell_type": "code",
   "execution_count": 25,
   "id": "c602bc8b",
   "metadata": {
    "deletable": false,
    "id": "c602bc8b"
   },
   "outputs": [
    {
     "data": {
      "text/html": [
       "<div>\n",
       "<style scoped>\n",
       "    .dataframe tbody tr th:only-of-type {\n",
       "        vertical-align: middle;\n",
       "    }\n",
       "\n",
       "    .dataframe tbody tr th {\n",
       "        vertical-align: top;\n",
       "    }\n",
       "\n",
       "    .dataframe thead th {\n",
       "        text-align: right;\n",
       "    }\n",
       "</style>\n",
       "<table border=\"1\" class=\"dataframe\">\n",
       "  <thead>\n",
       "    <tr style=\"text-align: right;\">\n",
       "      <th></th>\n",
       "      <th>count</th>\n",
       "      <th>sum</th>\n",
       "      <th>ratio</th>\n",
       "    </tr>\n",
       "    <tr>\n",
       "      <th>purpose_category</th>\n",
       "      <th></th>\n",
       "      <th></th>\n",
       "      <th></th>\n",
       "    </tr>\n",
       "  </thead>\n",
       "  <tbody>\n",
       "    <tr>\n",
       "      <th>операции с автомобилем</th>\n",
       "      <td>4279</td>\n",
       "      <td>400</td>\n",
       "      <td>9.347978</td>\n",
       "    </tr>\n",
       "    <tr>\n",
       "      <th>операции с недвижимостью</th>\n",
       "      <td>10751</td>\n",
       "      <td>780</td>\n",
       "      <td>7.255139</td>\n",
       "    </tr>\n",
       "    <tr>\n",
       "      <th>получение образования</th>\n",
       "      <td>3988</td>\n",
       "      <td>369</td>\n",
       "      <td>9.252758</td>\n",
       "    </tr>\n",
       "    <tr>\n",
       "      <th>проведение свадьбы</th>\n",
       "      <td>2313</td>\n",
       "      <td>183</td>\n",
       "      <td>7.911803</td>\n",
       "    </tr>\n",
       "  </tbody>\n",
       "</table>\n",
       "</div>"
      ],
      "text/plain": [
       "                          count  sum     ratio\n",
       "purpose_category                              \n",
       "операции с автомобилем     4279  400  9.347978\n",
       "операции с недвижимостью  10751  780  7.255139\n",
       "получение образования      3988  369  9.252758\n",
       "проведение свадьбы         2313  183  7.911803"
      ]
     },
     "metadata": {},
     "output_type": "display_data"
    },
    {
     "data": {
      "text/plain": [
       "<AxesSubplot:xlabel='ratio', ylabel='purpose_category'>"
      ]
     },
     "metadata": {},
     "output_type": "display_data"
    },
    {
     "data": {
      "image/png": "[encoded data removed]",
      "text/plain": [
       "<Figure size 432x288 with 1 Axes>"
      ]
     },
     "metadata": {
      "needs_background": "light"
     },
     "output_type": "display_data"
    }
   ],
   "source": [
    "data_pivot = data.pivot_table(index=['purpose_category'], values='debt', aggfunc={'count', 'sum'})\n",
    "data_pivot['ratio'] = data_pivot['sum']/data_pivot['count']*100\n",
    "display(data_pivot)\n",
    "data_pivot = data_pivot.sort_values(by ='ratio', ascending = False)\n",
    "display(seaborn.barplot(x=data_pivot['ratio'], y=data_pivot.index))# Ваш код будет здесь. Вы можете создавать новые ячейки."
   ]
  },
  {
   "cell_type": "markdown",
   "id": "cf05ed63",
   "metadata": {
    "deletable": false,
    "id": "cf05ed63"
   },
   "source": [
    "**Вывод:**Операции с недвижимостью лидируют по числу своевременных возвратов. Скорее всего, это связано с тем, что люди берут кредит на жильё, в котором живут, и не хотят сталкиваться с трудностями в этом. Те кредиты, которые взяты с целью проведения свадьбы, близки по показателю возврата кредита для операций с недвижимостью. Тут может влиять дополнительная ответственность, обусловленная семейным положением. Кредиты, взятые на учёбу и операции с автомобилем, показывают больший показатель просроченного возврата: 9,3% и 9.4%. Кредитный автомобиль, как правило, находится в залоге у банка - это может влиять на чувство ответственности дебитора. Совмещение учёбы с работой может сказаться на финансовом положении заёмщика."
   ]
  },
  {
   "cell_type": "markdown",
   "id": "46c1f10b",
   "metadata": {
    "deletable": false,
    "editable": false,
    "id": "46c1f10b"
   },
   "source": [
    "#### 3.5 Приведём возможные причины появления пропусков в исходных данных."
   ]
  },
  {
   "cell_type": "markdown",
   "id": "3697d2a9",
   "metadata": {
    "deletable": false,
    "id": "3697d2a9"
   },
   "source": [
    "*Ответ:* Пропуски данных совпадают по колонкам \"days_employed\"(общий трудовой стаж в днях) и \"total_income\"(ежемесячный доход). Возможной причиной может быть, например, если дебитор не работает официально, или неработающий пенсионер, или госслужащий, который не указывает по какой-то причине свой доход. Встречаются пропуски в разных категориях типа занятости, поэтому можно предположить, что данные некорректно внесены или плохо выгружены."
   ]
  },
  {
   "cell_type": "markdown",
   "id": "3137d257",
   "metadata": {
    "deletable": false,
    "editable": false,
    "id": "3137d257"
   },
   "source": [
    "#### 3.6 Объясним, почему заполнить пропуски медианным значением — лучшее решение для количественных переменных."
   ]
  },
  {
   "cell_type": "markdown",
   "id": "cf40012a",
   "metadata": {
    "deletable": false,
    "id": "cf40012a"
   },
   "source": [
    "*Ответ:* Медианное значение имеет более объективную информацию и не изменит общую картину, потому что всегда находится в середине: все элементы до значения - меньше, а все элементы после значения - больше."
   ]
  },
  {
   "cell_type": "markdown",
   "id": "57bc304e",
   "metadata": {
    "deletable": false,
    "editable": false,
    "id": "57bc304e"
   },
   "source": [
    "### Шаг 4: общий вывод."
   ]
  },
  {
   "cell_type": "markdown",
   "id": "1ab75d1c",
   "metadata": {
    "deletable": false,
    "id": "1ab75d1c"
   },
   "source": [
    "Целью исследования было разобраться, как влияют разные факторы на погашение кредита в срок. Использовалась статистика о платежеспособности клиентов, предоставленная банком.\n",
    "В процессе исследования были рассмотрены следующие факторы: \n",
    "\n",
    "- Зависимость между наличием детей\n",
    "- Зависимость между семейным положением\n",
    "- Зависимость между уровнем дохода\n",
    "- Зависимость от цели кредита\n",
    "\n",
    "В результате исследования удалось выявить следующее:\n",
    "\n",
    "**Зависимость между наличием детей**\n",
    "\n",
    "\n",
    "7.6% доля просроченного возврата кредита у заёмщиков без детей\n",
    "\n",
    "9.2% доля просроченного возврата кредита у заёмщиков с одним ребёнком\n",
    "\n",
    "9.5% доля просроченного возврата кредита у заёмщиков с двумя детьми\n",
    "\n",
    "С увеличением количества детей в семьях заёмщиков доля просроченных кредитов становится больше, но для более точных выводов по заёмщикам с более чем двумя детьми нужно больше данных.\n",
    "\n",
    "**Зависимость между семейным положением**\n",
    "\n",
    "Более низкие показатели просрочки платежа по кредиту у заёмщиков, состоящих в браке (7.6%), находящиеся в разводе (7.1%) и вдов/вдовцов (6.6%).\n",
    "\n",
    "Заёмщики, не зарегистрированные официально (9.3%) и не женатые/не замужем (9.8%) с большей вероятностью не вернут кредит в срок.\n",
    "\n",
    "Нельзя сказать, что разница кардинальная, но 3% на больших числах могут оказать существенное влияние на кредитный портфель банка.\n",
    "\n",
    "**Зависимость между уровнем дохода**\n",
    "\n",
    "8.5% доля просроченного возврата кредита у заёмщиков с доходом от 50001 до 200000\n",
    "\n",
    "7.1% доля просроченного возврата кредита у заёмщиков с доходом от 200001 до 1000000\n",
    "\n",
    "Для более точных выводов по заёмщикам с доходом от 200001 и заёмщикам с доходом менее 50000 нужно больше данных\n",
    "\n",
    "**Зависимость от цели кредита**\n",
    "\n",
    "9.4% доля просроченного возврата кредита на операции с автомобилем\n",
    "\n",
    "9.3% доля просроченного возврата кредита на операции с образованием\n",
    "\n",
    "7.9% доля просроченного возврата кредита на проведение свадьбы\n",
    "\n",
    "7.3% доля просроченного возврата кредита на операции с недвижимостью\n",
    "\n",
    "Здесь тоже нельзя увидеть кардинальных отличий, но 2% на больших числах могут оказать существенное влияние на кредитный портфель банка.\n",
    "\n",
    "**Рекомендации банку**\n",
    "\n",
    "- специалистам, которые занимаются построением модели кредитного скоринга можно использовать зависимости от семейного положения и зависимость от цели кредита\n",
    "- уделить внимание правилам сбора информации так, чтобы исключить пропуски в данных по ежемесячному доходу\n",
    "- собирать более полную выборку для повторных проверок зависимости между наличием детей и зависимости от уровня дохода \n"
   ]
  }
 ],
 "metadata": {
  "ExecuteTimeLog": [
   {
    "duration": 45,
    "start_time": "2023-02-08T10:25:21.448Z"
   },
   {
    "duration": 533,
    "start_time": "2023-02-08T10:25:33.789Z"
   },
   {
    "duration": 28,
    "start_time": "2023-02-08T10:25:34.325Z"
   },
   {
    "duration": 28,
    "start_time": "2023-02-08T10:25:34.357Z"
   },
   {
    "duration": 23,
    "start_time": "2023-02-08T10:25:34.403Z"
   },
   {
    "duration": 46,
    "start_time": "2023-02-08T10:25:34.428Z"
   },
   {
    "duration": 4,
    "start_time": "2023-02-08T10:25:34.476Z"
   },
   {
    "duration": 14,
    "start_time": "2023-02-08T10:25:34.481Z"
   },
   {
    "duration": 13,
    "start_time": "2023-02-08T10:25:34.497Z"
   },
   {
    "duration": 21,
    "start_time": "2023-02-08T10:25:34.511Z"
   },
   {
    "duration": 4,
    "start_time": "2023-02-08T10:25:34.536Z"
   },
   {
    "duration": 42,
    "start_time": "2023-02-08T10:25:34.542Z"
   },
   {
    "duration": 22,
    "start_time": "2023-02-08T10:25:34.587Z"
   },
   {
    "duration": 19,
    "start_time": "2023-02-08T10:25:34.611Z"
   },
   {
    "duration": 14,
    "start_time": "2023-02-08T10:25:34.632Z"
   },
   {
    "duration": 23,
    "start_time": "2023-02-08T10:25:34.648Z"
   },
   {
    "duration": 19,
    "start_time": "2023-02-08T10:25:34.672Z"
   },
   {
    "duration": 19,
    "start_time": "2023-02-08T10:25:34.693Z"
   },
   {
    "duration": 28,
    "start_time": "2023-02-08T10:25:34.714Z"
   },
   {
    "duration": 10,
    "start_time": "2023-02-08T10:25:34.744Z"
   },
   {
    "duration": 8,
    "start_time": "2023-02-08T10:25:34.756Z"
   },
   {
    "duration": 13,
    "start_time": "2023-02-08T10:25:34.766Z"
   },
   {
    "duration": 7,
    "start_time": "2023-02-08T10:25:34.781Z"
   },
   {
    "duration": 4,
    "start_time": "2023-02-08T10:25:34.789Z"
   },
   {
    "duration": 5,
    "start_time": "2023-02-08T10:25:34.795Z"
   },
   {
    "duration": 21,
    "start_time": "2023-02-08T10:25:34.803Z"
   },
   {
    "duration": 33,
    "start_time": "2023-02-08T10:25:45.889Z"
   },
   {
    "duration": 22,
    "start_time": "2023-02-08T10:46:15.845Z"
   },
   {
    "duration": 41,
    "start_time": "2023-02-08T10:46:34.897Z"
   },
   {
    "duration": 53,
    "start_time": "2023-02-08T10:46:59.882Z"
   },
   {
    "duration": 41,
    "start_time": "2023-02-08T10:47:16.787Z"
   },
   {
    "duration": 40,
    "start_time": "2023-02-08T10:47:31.249Z"
   },
   {
    "duration": 69,
    "start_time": "2023-02-08T10:48:07.057Z"
   },
   {
    "duration": 16,
    "start_time": "2023-02-08T10:48:08.157Z"
   },
   {
    "duration": 26,
    "start_time": "2023-02-08T10:48:09.220Z"
   },
   {
    "duration": 16,
    "start_time": "2023-02-08T10:48:11.253Z"
   },
   {
    "duration": 37,
    "start_time": "2023-02-08T10:48:12.229Z"
   },
   {
    "duration": 3,
    "start_time": "2023-02-08T10:48:13.785Z"
   },
   {
    "duration": 10,
    "start_time": "2023-02-08T10:48:14.808Z"
   },
   {
    "duration": 5,
    "start_time": "2023-02-08T10:48:18.229Z"
   },
   {
    "duration": 6,
    "start_time": "2023-02-08T10:48:19.345Z"
   },
   {
    "duration": 5,
    "start_time": "2023-02-08T10:48:20.393Z"
   },
   {
    "duration": 41,
    "start_time": "2023-02-08T10:48:21.985Z"
   },
   {
    "duration": 14,
    "start_time": "2023-02-08T10:48:23.265Z"
   },
   {
    "duration": 4,
    "start_time": "2023-02-08T10:48:25.117Z"
   },
   {
    "duration": 11,
    "start_time": "2023-02-08T10:48:26.733Z"
   },
   {
    "duration": 26,
    "start_time": "2023-02-08T10:48:28.001Z"
   },
   {
    "duration": 20,
    "start_time": "2023-02-08T10:48:28.597Z"
   },
   {
    "duration": 4,
    "start_time": "2023-02-08T10:48:30.026Z"
   },
   {
    "duration": 13,
    "start_time": "2023-02-08T10:48:30.315Z"
   },
   {
    "duration": 5,
    "start_time": "2023-02-08T10:48:31.937Z"
   },
   {
    "duration": 4,
    "start_time": "2023-02-08T10:48:33.697Z"
   },
   {
    "duration": 21,
    "start_time": "2023-02-08T10:48:34.301Z"
   },
   {
    "duration": 43,
    "start_time": "2023-02-08T10:48:36.238Z"
   },
   {
    "duration": 27,
    "start_time": "2023-02-08T10:48:50.414Z"
   },
   {
    "duration": 33,
    "start_time": "2023-02-08T10:48:57.817Z"
   },
   {
    "duration": 14,
    "start_time": "2023-02-08T10:51:27.885Z"
   },
   {
    "duration": 13,
    "start_time": "2023-02-08T10:55:11.357Z"
   },
   {
    "duration": 14,
    "start_time": "2023-02-08T10:59:01.317Z"
   },
   {
    "duration": 14,
    "start_time": "2023-02-08T11:03:47.877Z"
   },
   {
    "duration": 37,
    "start_time": "2023-02-08T11:04:19.201Z"
   },
   {
    "duration": 16,
    "start_time": "2023-02-08T11:04:37.012Z"
   },
   {
    "duration": 13,
    "start_time": "2023-02-08T11:04:45.065Z"
   },
   {
    "duration": 78,
    "start_time": "2023-02-08T11:09:35.739Z"
   },
   {
    "duration": 1171,
    "start_time": "2023-02-08T11:09:59.620Z"
   },
   {
    "duration": 1308,
    "start_time": "2023-02-08T11:11:00.593Z"
   },
   {
    "duration": 1167,
    "start_time": "2023-02-08T11:11:29.144Z"
   },
   {
    "duration": 152,
    "start_time": "2023-02-08T11:17:04.493Z"
   },
   {
    "duration": 138,
    "start_time": "2023-02-08T11:18:11.416Z"
   },
   {
    "duration": 137,
    "start_time": "2023-02-08T11:18:58.648Z"
   },
   {
    "duration": 194,
    "start_time": "2023-02-08T11:19:44.065Z"
   },
   {
    "duration": 161,
    "start_time": "2023-02-08T11:20:16.203Z"
   },
   {
    "duration": 164,
    "start_time": "2023-02-08T11:20:29.356Z"
   },
   {
    "duration": 154,
    "start_time": "2023-02-08T11:20:48.784Z"
   },
   {
    "duration": 174,
    "start_time": "2023-02-08T11:21:08.600Z"
   },
   {
    "duration": 229,
    "start_time": "2023-02-08T11:21:30.912Z"
   },
   {
    "duration": 162,
    "start_time": "2023-02-08T11:26:13.643Z"
   },
   {
    "duration": 145,
    "start_time": "2023-02-08T11:30:54.608Z"
   },
   {
    "duration": 157,
    "start_time": "2023-02-08T11:31:14.635Z"
   },
   {
    "duration": 66,
    "start_time": "2023-02-08T11:31:42.468Z"
   },
   {
    "duration": 18,
    "start_time": "2023-02-08T11:31:43.539Z"
   },
   {
    "duration": 14,
    "start_time": "2023-02-08T11:31:44.544Z"
   },
   {
    "duration": 10,
    "start_time": "2023-02-08T11:31:46.571Z"
   },
   {
    "duration": 37,
    "start_time": "2023-02-08T11:31:47.748Z"
   },
   {
    "duration": 4,
    "start_time": "2023-02-08T11:31:49.555Z"
   },
   {
    "duration": 8,
    "start_time": "2023-02-08T11:31:50.583Z"
   },
   {
    "duration": 5,
    "start_time": "2023-02-08T11:31:52.207Z"
   },
   {
    "duration": 6,
    "start_time": "2023-02-08T11:31:53.367Z"
   },
   {
    "duration": 5,
    "start_time": "2023-02-08T11:31:53.944Z"
   },
   {
    "duration": 35,
    "start_time": "2023-02-08T11:31:54.468Z"
   },
   {
    "duration": 11,
    "start_time": "2023-02-08T11:31:54.799Z"
   },
   {
    "duration": 4,
    "start_time": "2023-02-08T11:31:56.139Z"
   },
   {
    "duration": 10,
    "start_time": "2023-02-08T11:31:56.912Z"
   },
   {
    "duration": 20,
    "start_time": "2023-02-08T11:31:57.803Z"
   },
   {
    "duration": 20,
    "start_time": "2023-02-08T11:31:58.355Z"
   },
   {
    "duration": 4,
    "start_time": "2023-02-08T11:32:02.971Z"
   },
   {
    "duration": 10,
    "start_time": "2023-02-08T11:32:03.679Z"
   },
   {
    "duration": 8,
    "start_time": "2023-02-08T11:32:05.375Z"
   },
   {
    "duration": 4,
    "start_time": "2023-02-08T11:32:10.715Z"
   },
   {
    "duration": 9,
    "start_time": "2023-02-08T11:32:12.035Z"
   },
   {
    "duration": 163,
    "start_time": "2023-02-08T11:32:16.795Z"
   },
   {
    "duration": 34,
    "start_time": "2023-02-08T11:37:54.287Z"
   },
   {
    "duration": 29,
    "start_time": "2023-02-08T11:38:15.687Z"
   },
   {
    "duration": 146,
    "start_time": "2023-02-08T11:38:51.287Z"
   },
   {
    "duration": 447,
    "start_time": "2023-02-08T11:39:29.834Z"
   },
   {
    "duration": 21,
    "start_time": "2023-02-08T11:39:30.283Z"
   },
   {
    "duration": 32,
    "start_time": "2023-02-08T11:39:30.305Z"
   },
   {
    "duration": 26,
    "start_time": "2023-02-08T11:39:30.339Z"
   },
   {
    "duration": 83,
    "start_time": "2023-02-08T11:39:30.367Z"
   },
   {
    "duration": 4,
    "start_time": "2023-02-08T11:39:30.452Z"
   },
   {
    "duration": 58,
    "start_time": "2023-02-08T11:39:30.457Z"
   },
   {
    "duration": 29,
    "start_time": "2023-02-08T11:39:30.517Z"
   },
   {
    "duration": 52,
    "start_time": "2023-02-08T11:39:30.548Z"
   },
   {
    "duration": 24,
    "start_time": "2023-02-08T11:39:30.602Z"
   },
   {
    "duration": 82,
    "start_time": "2023-02-08T11:39:30.627Z"
   },
   {
    "duration": 29,
    "start_time": "2023-02-08T11:39:30.711Z"
   },
   {
    "duration": 32,
    "start_time": "2023-02-08T11:39:30.742Z"
   },
   {
    "duration": 45,
    "start_time": "2023-02-08T11:39:30.776Z"
   },
   {
    "duration": 42,
    "start_time": "2023-02-08T11:39:30.823Z"
   },
   {
    "duration": 50,
    "start_time": "2023-02-08T11:39:30.867Z"
   },
   {
    "duration": 35,
    "start_time": "2023-02-08T11:39:30.919Z"
   },
   {
    "duration": 48,
    "start_time": "2023-02-08T11:39:30.956Z"
   },
   {
    "duration": 37,
    "start_time": "2023-02-08T11:39:31.006Z"
   },
   {
    "duration": 26,
    "start_time": "2023-02-08T11:39:31.045Z"
   },
   {
    "duration": 36,
    "start_time": "2023-02-08T11:39:31.073Z"
   },
   {
    "duration": 1004,
    "start_time": "2023-02-08T11:39:31.110Z"
   },
   {
    "duration": 0,
    "start_time": "2023-02-08T11:39:32.115Z"
   },
   {
    "duration": 0,
    "start_time": "2023-02-08T11:39:32.117Z"
   },
   {
    "duration": 0,
    "start_time": "2023-02-08T11:39:32.118Z"
   },
   {
    "duration": 161,
    "start_time": "2023-02-08T11:43:43.515Z"
   },
   {
    "duration": 189,
    "start_time": "2023-02-08T11:58:13.402Z"
   },
   {
    "duration": 228,
    "start_time": "2023-02-08T12:01:56.906Z"
   },
   {
    "duration": 190,
    "start_time": "2023-02-08T12:02:04.697Z"
   },
   {
    "duration": 75,
    "start_time": "2023-02-08T12:03:14.401Z"
   },
   {
    "duration": 18,
    "start_time": "2023-02-08T12:03:15.138Z"
   },
   {
    "duration": 22,
    "start_time": "2023-02-08T12:03:15.478Z"
   },
   {
    "duration": 15,
    "start_time": "2023-02-08T12:03:16.182Z"
   },
   {
    "duration": 50,
    "start_time": "2023-02-08T12:03:16.554Z"
   },
   {
    "duration": 5,
    "start_time": "2023-02-08T12:03:17.133Z"
   },
   {
    "duration": 12,
    "start_time": "2023-02-08T12:03:17.528Z"
   },
   {
    "duration": 6,
    "start_time": "2023-02-08T12:03:18.134Z"
   },
   {
    "duration": 6,
    "start_time": "2023-02-08T12:03:18.546Z"
   },
   {
    "duration": 6,
    "start_time": "2023-02-08T12:03:18.954Z"
   },
   {
    "duration": 46,
    "start_time": "2023-02-08T12:03:19.578Z"
   },
   {
    "duration": 14,
    "start_time": "2023-02-08T12:03:19.999Z"
   },
   {
    "duration": 4,
    "start_time": "2023-02-08T12:03:20.750Z"
   },
   {
    "duration": 12,
    "start_time": "2023-02-08T12:03:21.374Z"
   },
   {
    "duration": 31,
    "start_time": "2023-02-08T12:03:21.802Z"
   },
   {
    "duration": 29,
    "start_time": "2023-02-08T12:03:22.024Z"
   },
   {
    "duration": 5,
    "start_time": "2023-02-08T12:03:23.550Z"
   },
   {
    "duration": 21,
    "start_time": "2023-02-08T12:03:24.234Z"
   },
   {
    "duration": 7,
    "start_time": "2023-02-08T12:03:25.766Z"
   },
   {
    "duration": 5,
    "start_time": "2023-02-08T12:03:27.274Z"
   },
   {
    "duration": 16,
    "start_time": "2023-02-08T12:03:28.007Z"
   },
   {
    "duration": 170,
    "start_time": "2023-02-08T12:03:30.186Z"
   },
   {
    "duration": 168,
    "start_time": "2023-02-08T12:05:04.820Z"
   },
   {
    "duration": 156,
    "start_time": "2023-02-08T12:08:57.942Z"
   },
   {
    "duration": 163,
    "start_time": "2023-02-08T12:22:05.659Z"
   },
   {
    "duration": 176,
    "start_time": "2023-02-08T12:24:38.161Z"
   },
   {
    "duration": 252,
    "start_time": "2023-02-08T12:26:11.601Z"
   },
   {
    "duration": 138,
    "start_time": "2023-02-08T12:27:25.321Z"
   },
   {
    "duration": 163,
    "start_time": "2023-02-08T12:41:26.120Z"
   },
   {
    "duration": 163,
    "start_time": "2023-02-08T13:53:19.488Z"
   },
   {
    "duration": 160,
    "start_time": "2023-02-08T14:01:58.571Z"
   },
   {
    "duration": 155,
    "start_time": "2023-02-08T14:02:27.159Z"
   },
   {
    "duration": 24,
    "start_time": "2023-02-08T14:08:39.796Z"
   },
   {
    "duration": 24,
    "start_time": "2023-02-08T14:08:51.148Z"
   },
   {
    "duration": 151,
    "start_time": "2023-02-08T14:09:02.846Z"
   },
   {
    "duration": 1449,
    "start_time": "2023-02-09T10:26:09.399Z"
   },
   {
    "duration": 1081,
    "start_time": "2023-02-09T10:26:23.080Z"
   },
   {
    "duration": 31,
    "start_time": "2023-02-09T10:26:24.164Z"
   },
   {
    "duration": 16,
    "start_time": "2023-02-09T10:26:24.197Z"
   },
   {
    "duration": 23,
    "start_time": "2023-02-09T10:26:24.216Z"
   },
   {
    "duration": 64,
    "start_time": "2023-02-09T10:26:24.241Z"
   },
   {
    "duration": 4,
    "start_time": "2023-02-09T10:26:24.307Z"
   },
   {
    "duration": 57,
    "start_time": "2023-02-09T10:26:24.314Z"
   },
   {
    "duration": 15,
    "start_time": "2023-02-09T10:26:24.373Z"
   },
   {
    "duration": 16,
    "start_time": "2023-02-09T10:26:24.390Z"
   },
   {
    "duration": 8,
    "start_time": "2023-02-09T10:26:24.410Z"
   },
   {
    "duration": 48,
    "start_time": "2023-02-09T10:26:24.420Z"
   },
   {
    "duration": 13,
    "start_time": "2023-02-09T10:26:24.470Z"
   },
   {
    "duration": 13,
    "start_time": "2023-02-09T10:26:24.484Z"
   },
   {
    "duration": 39,
    "start_time": "2023-02-09T10:26:24.499Z"
   },
   {
    "duration": 35,
    "start_time": "2023-02-09T10:26:24.540Z"
   },
   {
    "duration": 27,
    "start_time": "2023-02-09T10:26:24.577Z"
   },
   {
    "duration": 5,
    "start_time": "2023-02-09T10:26:24.607Z"
   },
   {
    "duration": 30,
    "start_time": "2023-02-09T10:26:24.614Z"
   },
   {
    "duration": 15,
    "start_time": "2023-02-09T10:26:24.646Z"
   },
   {
    "duration": 16,
    "start_time": "2023-02-09T10:26:24.663Z"
   },
   {
    "duration": 33,
    "start_time": "2023-02-09T10:26:24.681Z"
   },
   {
    "duration": 963,
    "start_time": "2023-02-09T10:26:24.716Z"
   },
   {
    "duration": 3,
    "start_time": "2023-02-09T10:26:25.680Z"
   },
   {
    "duration": 19,
    "start_time": "2023-02-09T10:26:25.685Z"
   },
   {
    "duration": 7,
    "start_time": "2023-02-09T10:26:25.706Z"
   },
   {
    "duration": 182,
    "start_time": "2023-02-09T10:28:54.179Z"
   },
   {
    "duration": 154,
    "start_time": "2023-02-09T10:36:31.224Z"
   },
   {
    "duration": 147,
    "start_time": "2023-02-09T10:36:36.401Z"
   },
   {
    "duration": 411,
    "start_time": "2023-02-09T10:43:03.561Z"
   },
   {
    "duration": 145,
    "start_time": "2023-02-09T10:43:30.769Z"
   },
   {
    "duration": 174,
    "start_time": "2023-02-09T10:43:56.473Z"
   },
   {
    "duration": 159,
    "start_time": "2023-02-09T10:44:57.596Z"
   },
   {
    "duration": 242,
    "start_time": "2023-02-09T10:45:28.413Z"
   },
   {
    "duration": 136,
    "start_time": "2023-02-09T10:47:27.932Z"
   },
   {
    "duration": 143,
    "start_time": "2023-02-09T10:48:23.563Z"
   },
   {
    "duration": 232,
    "start_time": "2023-02-09T10:49:57.829Z"
   },
   {
    "duration": 154,
    "start_time": "2023-02-09T10:50:28.760Z"
   },
   {
    "duration": 196,
    "start_time": "2023-02-09T11:11:21.022Z"
   },
   {
    "duration": 145,
    "start_time": "2023-02-09T11:11:58.272Z"
   },
   {
    "duration": 184,
    "start_time": "2023-02-09T11:12:12.228Z"
   },
   {
    "duration": 152,
    "start_time": "2023-02-09T11:12:30.931Z"
   },
   {
    "duration": 136,
    "start_time": "2023-02-09T11:12:55.547Z"
   },
   {
    "duration": 152,
    "start_time": "2023-02-09T11:13:17.664Z"
   },
   {
    "duration": 187,
    "start_time": "2023-02-09T11:16:14.659Z"
   },
   {
    "duration": 55,
    "start_time": "2023-02-09T11:17:10.159Z"
   },
   {
    "duration": 200,
    "start_time": "2023-02-09T11:17:17.319Z"
   },
   {
    "duration": 152,
    "start_time": "2023-02-09T11:17:44.355Z"
   },
   {
    "duration": 156,
    "start_time": "2023-02-09T11:36:51.056Z"
   },
   {
    "duration": 152,
    "start_time": "2023-02-09T11:41:19.776Z"
   },
   {
    "duration": 139,
    "start_time": "2023-02-09T11:41:35.556Z"
   },
   {
    "duration": 183,
    "start_time": "2023-02-09T11:41:47.080Z"
   },
   {
    "duration": 142,
    "start_time": "2023-02-09T11:42:35.436Z"
   },
   {
    "duration": 204,
    "start_time": "2023-02-09T11:44:47.744Z"
   },
   {
    "duration": 144,
    "start_time": "2023-02-09T11:45:57.784Z"
   },
   {
    "duration": 176,
    "start_time": "2023-02-09T11:56:02.906Z"
   },
   {
    "duration": 172,
    "start_time": "2023-02-09T12:53:21.133Z"
   },
   {
    "duration": 133,
    "start_time": "2023-02-09T12:53:26.790Z"
   },
   {
    "duration": 166,
    "start_time": "2023-02-09T12:53:31.751Z"
   },
   {
    "duration": 182,
    "start_time": "2023-02-09T13:37:50.063Z"
   },
   {
    "duration": 461,
    "start_time": "2023-02-09T14:07:02.063Z"
   },
   {
    "duration": 25,
    "start_time": "2023-02-09T14:07:02.528Z"
   },
   {
    "duration": 16,
    "start_time": "2023-02-09T14:07:02.554Z"
   },
   {
    "duration": 9,
    "start_time": "2023-02-09T14:07:02.572Z"
   },
   {
    "duration": 74,
    "start_time": "2023-02-09T14:07:02.583Z"
   },
   {
    "duration": 3,
    "start_time": "2023-02-09T14:07:02.659Z"
   },
   {
    "duration": 11,
    "start_time": "2023-02-09T14:07:02.664Z"
   },
   {
    "duration": 4,
    "start_time": "2023-02-09T14:07:02.677Z"
   },
   {
    "duration": 23,
    "start_time": "2023-02-09T14:07:02.682Z"
   },
   {
    "duration": 8,
    "start_time": "2023-02-09T14:07:02.707Z"
   },
   {
    "duration": 52,
    "start_time": "2023-02-09T14:07:02.716Z"
   },
   {
    "duration": 10,
    "start_time": "2023-02-09T14:07:02.770Z"
   },
   {
    "duration": 5,
    "start_time": "2023-02-09T14:07:02.782Z"
   },
   {
    "duration": 29,
    "start_time": "2023-02-09T14:07:02.788Z"
   },
   {
    "duration": 21,
    "start_time": "2023-02-09T14:07:02.819Z"
   },
   {
    "duration": 21,
    "start_time": "2023-02-09T14:07:02.842Z"
   },
   {
    "duration": 3,
    "start_time": "2023-02-09T14:07:02.865Z"
   },
   {
    "duration": 35,
    "start_time": "2023-02-09T14:07:02.869Z"
   },
   {
    "duration": 7,
    "start_time": "2023-02-09T14:07:02.905Z"
   },
   {
    "duration": 7,
    "start_time": "2023-02-09T14:07:02.915Z"
   },
   {
    "duration": 15,
    "start_time": "2023-02-09T14:07:02.924Z"
   },
   {
    "duration": 966,
    "start_time": "2023-02-09T14:07:02.940Z"
   },
   {
    "duration": 169,
    "start_time": "2023-02-09T14:07:03.908Z"
   },
   {
    "duration": 150,
    "start_time": "2023-02-09T14:07:04.079Z"
   },
   {
    "duration": 161,
    "start_time": "2023-02-09T14:07:04.231Z"
   },
   {
    "duration": 515,
    "start_time": "2023-02-10T10:09:12.878Z"
   },
   {
    "duration": 26,
    "start_time": "2023-02-10T10:09:13.395Z"
   },
   {
    "duration": 17,
    "start_time": "2023-02-10T10:09:13.423Z"
   },
   {
    "duration": 12,
    "start_time": "2023-02-10T10:09:13.443Z"
   },
   {
    "duration": 67,
    "start_time": "2023-02-10T10:09:13.457Z"
   },
   {
    "duration": 5,
    "start_time": "2023-02-10T10:09:13.526Z"
   },
   {
    "duration": 16,
    "start_time": "2023-02-10T10:09:13.532Z"
   },
   {
    "duration": 5,
    "start_time": "2023-02-10T10:09:13.550Z"
   },
   {
    "duration": 13,
    "start_time": "2023-02-10T10:09:13.557Z"
   },
   {
    "duration": 7,
    "start_time": "2023-02-10T10:09:13.573Z"
   },
   {
    "duration": 65,
    "start_time": "2023-02-10T10:09:13.581Z"
   },
   {
    "duration": 10,
    "start_time": "2023-02-10T10:09:13.648Z"
   },
   {
    "duration": 4,
    "start_time": "2023-02-10T10:09:13.659Z"
   },
   {
    "duration": 13,
    "start_time": "2023-02-10T10:09:13.665Z"
   },
   {
    "duration": 36,
    "start_time": "2023-02-10T10:09:13.680Z"
   },
   {
    "duration": 17,
    "start_time": "2023-02-10T10:09:13.718Z"
   },
   {
    "duration": 4,
    "start_time": "2023-02-10T10:09:13.736Z"
   },
   {
    "duration": 35,
    "start_time": "2023-02-10T10:09:13.742Z"
   },
   {
    "duration": 5,
    "start_time": "2023-02-10T10:09:13.780Z"
   },
   {
    "duration": 4,
    "start_time": "2023-02-10T10:09:13.787Z"
   },
   {
    "duration": 27,
    "start_time": "2023-02-10T10:09:13.792Z"
   },
   {
    "duration": 961,
    "start_time": "2023-02-10T10:09:13.821Z"
   },
   {
    "duration": 163,
    "start_time": "2023-02-10T10:09:14.783Z"
   },
   {
    "duration": 156,
    "start_time": "2023-02-10T10:09:14.948Z"
   },
   {
    "duration": 156,
    "start_time": "2023-02-10T10:09:15.105Z"
   },
   {
    "duration": 75,
    "start_time": "2023-02-10T18:15:27.415Z"
   },
   {
    "duration": 72,
    "start_time": "2023-02-10T18:15:45.615Z"
   },
   {
    "duration": 88,
    "start_time": "2023-02-10T18:16:11.027Z"
   },
   {
    "duration": 71,
    "start_time": "2023-02-10T18:16:26.062Z"
   },
   {
    "duration": 64,
    "start_time": "2023-02-11T08:38:52.230Z"
   },
   {
    "duration": 79,
    "start_time": "2023-02-11T08:39:03.034Z"
   },
   {
    "duration": 50,
    "start_time": "2023-02-11T08:40:22.077Z"
   },
   {
    "duration": 40,
    "start_time": "2023-02-11T08:40:33.310Z"
   },
   {
    "duration": 47,
    "start_time": "2023-02-11T08:40:43.682Z"
   },
   {
    "duration": 45,
    "start_time": "2023-02-11T08:40:51.847Z"
   },
   {
    "duration": 54,
    "start_time": "2023-02-11T08:41:28.598Z"
   },
   {
    "duration": 53,
    "start_time": "2023-02-11T08:41:33.686Z"
   },
   {
    "duration": 88,
    "start_time": "2023-02-11T09:09:00.558Z"
   },
   {
    "duration": 43,
    "start_time": "2023-02-11T10:36:50.347Z"
   },
   {
    "duration": 516,
    "start_time": "2023-02-11T10:37:01.272Z"
   },
   {
    "duration": 21,
    "start_time": "2023-02-11T10:37:01.790Z"
   },
   {
    "duration": 39,
    "start_time": "2023-02-11T10:37:01.813Z"
   },
   {
    "duration": 27,
    "start_time": "2023-02-11T10:37:01.854Z"
   },
   {
    "duration": 62,
    "start_time": "2023-02-11T10:37:01.884Z"
   },
   {
    "duration": 11,
    "start_time": "2023-02-11T10:37:01.948Z"
   },
   {
    "duration": 31,
    "start_time": "2023-02-11T10:37:01.961Z"
   },
   {
    "duration": 14,
    "start_time": "2023-02-11T10:37:01.994Z"
   },
   {
    "duration": 15,
    "start_time": "2023-02-11T10:37:02.010Z"
   },
   {
    "duration": 6,
    "start_time": "2023-02-11T10:37:02.027Z"
   },
   {
    "duration": 35,
    "start_time": "2023-02-11T10:37:02.035Z"
   },
   {
    "duration": 20,
    "start_time": "2023-02-11T10:37:02.072Z"
   },
   {
    "duration": 28,
    "start_time": "2023-02-11T10:37:02.093Z"
   },
   {
    "duration": 19,
    "start_time": "2023-02-11T10:37:02.124Z"
   },
   {
    "duration": 19,
    "start_time": "2023-02-11T10:37:02.145Z"
   },
   {
    "duration": 16,
    "start_time": "2023-02-11T10:37:02.166Z"
   },
   {
    "duration": 3,
    "start_time": "2023-02-11T10:37:02.184Z"
   },
   {
    "duration": 23,
    "start_time": "2023-02-11T10:37:02.189Z"
   },
   {
    "duration": 20,
    "start_time": "2023-02-11T10:37:02.213Z"
   },
   {
    "duration": 7,
    "start_time": "2023-02-11T10:37:02.234Z"
   },
   {
    "duration": 10,
    "start_time": "2023-02-11T10:37:02.243Z"
   },
   {
    "duration": 1112,
    "start_time": "2023-02-11T10:37:02.254Z"
   },
   {
    "duration": 196,
    "start_time": "2023-02-11T10:37:03.367Z"
   },
   {
    "duration": 186,
    "start_time": "2023-02-11T10:37:03.564Z"
   },
   {
    "duration": 149,
    "start_time": "2023-02-11T10:37:03.752Z"
   },
   {
    "duration": 734,
    "start_time": "2023-10-05T09:01:13.835Z"
   },
   {
    "duration": 26,
    "start_time": "2023-10-05T09:01:14.571Z"
   },
   {
    "duration": 43,
    "start_time": "2023-10-05T09:01:14.599Z"
   },
   {
    "duration": 18,
    "start_time": "2023-10-05T09:01:14.644Z"
   },
   {
    "duration": 66,
    "start_time": "2023-10-05T09:01:14.664Z"
   },
   {
    "duration": 3,
    "start_time": "2023-10-05T09:01:14.732Z"
   },
   {
    "duration": 26,
    "start_time": "2023-10-05T09:01:14.736Z"
   },
   {
    "duration": 30,
    "start_time": "2023-10-05T09:01:14.764Z"
   },
   {
    "duration": 31,
    "start_time": "2023-10-05T09:01:14.796Z"
   },
   {
    "duration": 16,
    "start_time": "2023-10-05T09:01:14.829Z"
   },
   {
    "duration": 52,
    "start_time": "2023-10-05T09:01:14.846Z"
   },
   {
    "duration": 23,
    "start_time": "2023-10-05T09:01:14.899Z"
   },
   {
    "duration": 32,
    "start_time": "2023-10-05T09:01:14.923Z"
   },
   {
    "duration": 25,
    "start_time": "2023-10-05T09:01:14.957Z"
   },
   {
    "duration": 70,
    "start_time": "2023-10-05T09:01:14.983Z"
   },
   {
    "duration": 23,
    "start_time": "2023-10-05T09:01:15.055Z"
   },
   {
    "duration": 22,
    "start_time": "2023-10-05T09:01:15.079Z"
   },
   {
    "duration": 36,
    "start_time": "2023-10-05T09:01:15.103Z"
   },
   {
    "duration": 31,
    "start_time": "2023-10-05T09:01:15.141Z"
   },
   {
    "duration": 26,
    "start_time": "2023-10-05T09:01:15.174Z"
   },
   {
    "duration": 59,
    "start_time": "2023-10-05T09:01:15.203Z"
   },
   {
    "duration": 1355,
    "start_time": "2023-10-05T09:01:15.264Z"
   },
   {
    "duration": 180,
    "start_time": "2023-10-05T09:01:16.621Z"
   },
   {
    "duration": 157,
    "start_time": "2023-10-05T09:01:16.802Z"
   },
   {
    "duration": 159,
    "start_time": "2023-10-05T09:01:16.961Z"
   },
   {
    "duration": 533,
    "start_time": "2023-10-05T09:01:51.937Z"
   },
   {
    "duration": 26,
    "start_time": "2023-10-05T09:01:52.472Z"
   },
   {
    "duration": 55,
    "start_time": "2023-10-05T09:01:52.500Z"
   },
   {
    "duration": 24,
    "start_time": "2023-10-05T09:01:52.558Z"
   },
   {
    "duration": 53,
    "start_time": "2023-10-05T09:01:52.584Z"
   },
   {
    "duration": 4,
    "start_time": "2023-10-05T09:01:52.639Z"
   },
   {
    "duration": 43,
    "start_time": "2023-10-05T09:01:52.645Z"
   },
   {
    "duration": 27,
    "start_time": "2023-10-05T09:01:52.690Z"
   },
   {
    "duration": 44,
    "start_time": "2023-10-05T09:01:52.719Z"
   },
   {
    "duration": 19,
    "start_time": "2023-10-05T09:01:52.766Z"
   },
   {
    "duration": 59,
    "start_time": "2023-10-05T09:01:52.787Z"
   },
   {
    "duration": 15,
    "start_time": "2023-10-05T09:01:52.848Z"
   },
   {
    "duration": 26,
    "start_time": "2023-10-05T09:01:52.865Z"
   },
   {
    "duration": 33,
    "start_time": "2023-10-05T09:01:52.892Z"
   },
   {
    "duration": 77,
    "start_time": "2023-10-05T09:01:52.926Z"
   },
   {
    "duration": 29,
    "start_time": "2023-10-05T09:01:53.005Z"
   },
   {
    "duration": 12,
    "start_time": "2023-10-05T09:01:53.036Z"
   },
   {
    "duration": 69,
    "start_time": "2023-10-05T09:01:53.050Z"
   },
   {
    "duration": 17,
    "start_time": "2023-10-05T09:01:53.121Z"
   },
   {
    "duration": 20,
    "start_time": "2023-10-05T09:01:53.141Z"
   },
   {
    "duration": 25,
    "start_time": "2023-10-05T09:01:53.163Z"
   },
   {
    "duration": 1006,
    "start_time": "2023-10-05T09:01:53.190Z"
   },
   {
    "duration": 198,
    "start_time": "2023-10-05T09:01:54.197Z"
   },
   {
    "duration": 172,
    "start_time": "2023-10-05T09:01:54.398Z"
   },
   {
    "duration": 163,
    "start_time": "2023-10-05T09:01:54.572Z"
   }
  ],
  "colab": {
   "provenance": []
  },
  "kernelspec": {
   "display_name": "Python 3 (ipykernel)",
   "language": "python",
   "name": "python3"
  },
  "language_info": {
   "codemirror_mode": {
    "name": "ipython",
    "version": 3
   },
   "file_extension": ".py",
   "mimetype": "text/x-python",
   "name": "python",
   "nbconvert_exporter": "python",
   "pygments_lexer": "ipython3",
   "version": "3.9.5"
  },
  "toc": {
   "base_numbering": "1",
   "nav_menu": {},
   "number_sections": true,
   "sideBar": true,
   "skip_h1_title": true,
   "title_cell": "Table of Contents",
   "title_sidebar": "Contents",
   "toc_cell": false,
   "toc_position": {
    "height": "calc(100% - 180px)",
    "left": "10px",
    "top": "150px",
    "width": "273.188px"
   },
   "toc_section_display": true,
   "toc_window_display": true
  }
 },
 "nbformat": 4,
 "nbformat_minor": 5
}
